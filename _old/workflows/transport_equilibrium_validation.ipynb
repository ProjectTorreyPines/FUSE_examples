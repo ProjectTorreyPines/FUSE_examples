{
 "cells": [
  {
   "cell_type": "markdown",
   "id": "a94d2fc3-c5ad-41e8-8706-5bc53b9f984a",
   "metadata": {},
   "source": [
    "# Validation of the coupled transport-equilibrium workflow"
   ]
  },
  {
   "cell_type": "code",
   "execution_count": null,
   "id": "2c0ebbc2-53d3-4e91-8d33-e1babaa0f374",
   "metadata": {
    "tags": []
   },
   "outputs": [],
   "source": [
    "using FUSE\n",
    "using Plots"
   ]
  },
  {
   "cell_type": "markdown",
   "id": "240d42c6-7c71-4ab4-8699-7920ab625438",
   "metadata": {},
   "source": [
    "### Running one validation sample per tokamak in the HDB5 dataset"
   ]
  },
  {
   "cell_type": "code",
   "execution_count": null,
   "id": "2c2e2bf4-519d-4ab4-9cb3-38c8f461e8a3",
   "metadata": {},
   "outputs": [],
   "source": [
    "FUSE.workflow_HDB5_validation(n_samples_per_tokamak=1, show_dd_plots=true, plot_database=true, show_progress=false);"
   ]
  }
 ],
 "metadata": {
  "kernelspec": {
   "display_name": "Julia 1.8.0-rc3",
   "language": "julia",
   "name": "julia-1.8"
  },
  "language_info": {
   "file_extension": ".jl",
   "mimetype": "application/julia",
   "name": "julia",
   "version": "1.7.2"
  }
 },
 "nbformat": 4,
 "nbformat_minor": 5
}
