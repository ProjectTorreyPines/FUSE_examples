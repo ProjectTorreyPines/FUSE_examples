{
 "cells": [
  {
   "cell_type": "markdown",
   "id": "b3ed67e4-fd1c-42a9-99a3-91c7a2b9e056",
   "metadata": {},
   "source": [
    "# FPP parametric scan"
   ]
  },
  {
   "cell_type": "markdown",
   "id": "0a3df4a7-31ce-4ea0-b4dd-da2f9701b0cf",
   "metadata": {},
   "source": [
    "## Import packages"
   ]
  },
  {
   "cell_type": "code",
   "execution_count": null,
   "id": "8fbd53c2-52b6-4405-94ef-a3a9b6f4cb2d",
   "metadata": {
    "tags": []
   },
   "outputs": [],
   "source": [
    "using Revise\n",
    "using FUSE\n",
    "using Plots; gr();\n",
    "FUSE.logging(Logging.Info; actors=Logging.Error);"
   ]
  },
  {
   "cell_type": "markdown",
   "id": "bc59fd89-2daf-43eb-850b-4a547427ef58",
   "metadata": {
    "execution": {
     "iopub.execute_input": "2023-03-11T21:57:41.735000-08:00",
     "iopub.status.busy": "2023-03-11T21:57:41.190000-08:00",
     "iopub.status.idle": "2023-03-11T21:57:42.754000-08:00",
     "shell.execute_reply": "2023-03-11T21:57:42.752000-08:00"
    }
   },
   "source": [
    "### Setup distributed computing environment\n",
    "\n",
    "See more details here: https://fuse.help/parallel.html"
   ]
  },
  {
   "cell_type": "code",
   "execution_count": null,
   "id": "0b29afb5-d48e-45e6-b13e-7895b6676cfe",
   "metadata": {
    "tags": []
   },
   "outputs": [],
   "source": [
    "FUSE.parallel_environment(\"localhost\")\n",
    "using Distributed\n",
    "@everywhere using FUSE"
   ]
  },
  {
   "cell_type": "markdown",
   "id": "8c84cd28-78a7-43d7-8c7d-0d0cb864a54d",
   "metadata": {
    "execution": {
     "iopub.execute_input": "2023-03-12T00:55:07.825000-08:00",
     "iopub.status.busy": "2023-03-12T00:55:07.825000-08:00",
     "iopub.status.idle": "2023-03-12T00:55:07.839000-08:00",
     "shell.execute_reply": "2023-03-12T00:55:07.838000-08:00"
    }
   },
   "source": [
    "### Define workflow and extent of the scan\n",
    "\n",
    "In this workflow we scan the magnetic field (and current, keeping q roughly constant) and the spin polarized fusion fraction"
   ]
  },
  {
   "cell_type": "code",
   "execution_count": null,
   "id": "feec7547-9a5a-4341-a6ff-24bdcf996338",
   "metadata": {
    "tags": []
   },
   "outputs": [],
   "source": [
    "@everywhere function workflow(B0, spf)::IMAS.dd\n",
    "    dd = IMAS.dd()\n",
    "    ini, act = FUSE.case_parameters(:FPP; version=:v1_demount, init_from=:scalars);\n",
    "    ini.equilibrium.ip *= B0/ini.equilibrium.B0\n",
    "    ini.equilibrium.B0 = B0\n",
    "    ini.core_profiles.polarized_fuel_fraction = spf\n",
    "    try\n",
    "        FUSE.init(dd, ini, act);\n",
    "        FUSE.ActorWholeFacility(dd, act);\n",
    "        return dd\n",
    "    catch e\n",
    "        @warn e\n",
    "        return dd\n",
    "    end\n",
    "end\n",
    "\n",
    "ini, act = FUSE.case_parameters(:FPP; version=:v1_demount, init_from=:scalars);\n",
    "B0_ = LinRange(5,6.5,2) # change B0 range as neede\n",
    "spf_ = LinRange(0,1,3) # change spf range as neede\n",
    "cases = [[B0,spf] for B0 in B0_, spf in spf_]"
   ]
  },
  {
   "cell_type": "markdown",
   "id": "96436255-571c-4145-82cb-055324e9cd5c",
   "metadata": {
    "execution": {
     "iopub.execute_input": "2023-03-12T00:55:37.873000-08:00",
     "iopub.status.busy": "2023-03-12T00:55:37.871000-08:00",
     "iopub.status.idle": "2023-03-12T00:55:37.887000-08:00",
     "shell.execute_reply": "2023-03-12T00:55:37.887000-08:00"
    }
   },
   "source": [
    "### Run simulations"
   ]
  },
  {
   "cell_type": "code",
   "execution_count": null,
   "id": "a83ae923-17a1-4087-9945-a89b7ee79232",
   "metadata": {
    "tags": []
   },
   "outputs": [],
   "source": [
    "using ProgressMeter\n",
    "DD = @showprogress pmap(case -> workflow(case...), cases);"
   ]
  },
  {
   "cell_type": "markdown",
   "id": "3267832a-bb46-4835-845f-a36bd1b9937e",
   "metadata": {
    "execution": {
     "iopub.execute_input": "2023-03-12T00:56:17.393000-08:00",
     "iopub.status.busy": "2023-03-12T00:56:17.393000-08:00",
     "iopub.status.idle": "2023-03-12T00:56:17.406000-08:00",
     "shell.execute_reply": "2023-03-12T00:56:17.405000-08:00"
    }
   },
   "source": [
    "### Extract quantities of interest from series of `dd`'s"
   ]
  },
  {
   "cell_type": "code",
   "execution_count": null,
   "id": "682f91c9-3480-44f9-bf97-944ccdcef5ff",
   "metadata": {
    "tags": []
   },
   "outputs": [],
   "source": [
    "results=FUSE.extract(reshape(DD,length(DD)); filter_invalid=false)"
   ]
  },
  {
   "cell_type": "markdown",
   "id": "48bd86da-cea5-4541-9df2-34ea1fab240a",
   "metadata": {},
   "source": [
    "### Plot scan results"
   ]
  },
  {
   "cell_type": "code",
   "execution_count": null,
   "id": "71fe2df3-3b87-482f-84f5-79eea54c452d",
   "metadata": {
    "tags": []
   },
   "outputs": [],
   "source": [
    "results_ = reshape(results.Pfusion,(length(spf_),length(B0_)))\n",
    "scatter(spf_,B0_,results_,xlabel=\"SPF fraction\",ylabel=\"B0\",levels=10,grid=false)\n",
    "vline!(spf_,color=:gray,alpha=0.2,label=\"\")\n",
    "hline!(B0_,color=:gray,alpha=0.2,label=\"\")"
   ]
  },
  {
   "cell_type": "code",
   "execution_count": null,
   "id": "2a96b6ff-7b62-45c7-8135-97082b2b0dc9",
   "metadata": {
    "tags": []
   },
   "outputs": [],
   "source": [
    "p=plot(DD[1].equilibrium)\n",
    "for k in 6:10\n",
    "    plot!(DD[k].equilibrium)\n",
    "end\n",
    "p"
   ]
  },
  {
   "cell_type": "code",
   "execution_count": null,
   "id": "2b3d5f17-3764-4db3-ad93-a5ef44767751",
   "metadata": {},
   "outputs": [],
   "source": []
  }
 ],
 "metadata": {
  "@webio": {
   "lastCommId": "e30e4ebc-4274-4503-a587-e4cb4b068c40",
   "lastKernelId": "ea8fc238-7816-4afa-8b55-c6a2673b8716"
  },
  "kernelspec": {
   "display_name": "Julia 1.8.5",
   "language": "julia",
   "name": "julia-1.8"
  },
  "language_info": {
   "file_extension": ".jl",
   "mimetype": "application/julia",
   "name": "julia",
   "version": "1.8.5"
  }
 },
 "nbformat": 4,
 "nbformat_minor": 5
}
