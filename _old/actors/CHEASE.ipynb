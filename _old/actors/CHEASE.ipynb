{
 "cells": [
  {
   "cell_type": "markdown",
   "id": "4deaa32e-7305-4f56-b406-41659192f109",
   "metadata": {},
   "source": [
    "# CHEASE"
   ]
  },
  {
   "cell_type": "code",
   "execution_count": null,
   "id": "135a182b-acd4-429a-9c81-988e8eff77b5",
   "metadata": {},
   "outputs": [],
   "source": [
    "using Revise\n",
    "using FUSE\n",
    "using Plots;\n",
    "FUSE.logging(Logging.Info);"
   ]
  },
  {
   "cell_type": "markdown",
   "id": "e35e9394-d44d-4e1e-b970-08675f362833",
   "metadata": {},
   "source": [
    "### Initialize the ITER case from ODS\n",
    "[ITER case documentation](https://fuse.help/cases.html#ITER)"
   ]
  },
  {
   "cell_type": "code",
   "execution_count": null,
   "id": "0b1dc239-9c86-416f-96fc-924a6d7b989a",
   "metadata": {},
   "outputs": [],
   "source": [
    "dd, ini, act = FUSE.init(:ITER, init_from=:ods);"
   ]
  },
  {
   "cell_type": "markdown",
   "id": "576db5a4-bed9-41ed-8114-b50cc1f53fed",
   "metadata": {
    "tags": []
   },
   "source": [
    "#### Let's run the ActorCHEASE and compare with original equlibrium\n",
    "\n",
    "[CHEASE actor](https://fuse.help/actors.html#CHEASE) documentation\n",
    "\n",
    "NOTE: CHEASE is a fixed boundary equilibrium solver. Extension of the magnetic field calculation in the vacuum region (including X-points) can be triggered by setting `act.ActorCHEASE.free_boundary = true`. This is the default behavior in FUSE, since diverted plasma information is needed to proceed with build and divertor actors."
   ]
  },
  {
   "cell_type": "code",
   "execution_count": null,
   "id": "41c66b03-f315-4786-b14e-fa8ba9eaa2d7",
   "metadata": {},
   "outputs": [],
   "source": [
    "dd, ini, act = FUSE.init(:ITER, init_from=:ods);\n",
    "eq_plot = plot(dd.equilibrium, label=\"original eq\")\n",
    "act.ActorCHEASE.free_boundary = true\n",
    "actor = FUSE.ActorCHEASE(dd, act);\n",
    "display(plot!(eq_plot, dd.equilibrium, label=\"CHEASE w/ vacuum fields\"))"
   ]
  },
  {
   "cell_type": "code",
   "execution_count": null,
   "id": "27993f1e-7dca-42ad-a7d3-9d279da973ce",
   "metadata": {},
   "outputs": [],
   "source": [
    "ini, act = FUSE.case_parameters(:FPP; version=:v1_demount, init_from=:ods);\n",
    "dd = IMAS.dd()\n",
    "FUSE.init(dd, ini, act; do_plot=true);"
   ]
  },
  {
   "cell_type": "markdown",
   "id": "00ca81f9",
   "metadata": {},
   "source": [
    "### Runnning CHEASE on all configurations of the signs of Ip and Bt"
   ]
  },
  {
   "cell_type": "code",
   "execution_count": null,
   "id": "a05d1389",
   "metadata": {},
   "outputs": [],
   "source": [
    "sample_dir = abspath(joinpath(@__DIR__, \"../../sample\"))\n",
    "files = [joinpath(sample_dir, file) for file in readdir(sample_dir) if startswith(file, \"g\") && endswith(file, \".json\")]\n",
    "act = FUSE.ParametersAllActors()\n",
    "\n",
    "for file in files\n",
    "    dd = IMAS.json2imas(file)\n",
    "    plot(dd.equilibrium, label=\"$(split(split(file,\"/\")[end],\".\")[1]) EQ\")\n",
    "    FUSE.ActorCHEASE(dd, act)\n",
    "    label = \"CHEASE EQ Bt = $(round(@ddtime(dd.equilibrium.vacuum_toroidal_field.b0),digits=2)) [T], Ip = $(round(dd.equilibrium.time_slice[].global_quantities.ip/1e6,digits=2)) [MA]\"\n",
    "    display(plot!(dd.equilibrium, label=label))\n",
    "end"
   ]
  }
 ],
 "metadata": {
  "@webio": {
   "lastCommId": "c1f6d093-e19c-4684-9de3-5854e90059bd",
   "lastKernelId": "f7b57775-ff9f-4749-b525-b2fd289f28c8"
  },
  "kernelspec": {
   "display_name": "Julia 1.8.0-rc3",
   "language": "julia",
   "name": "julia-1.8"
  },
  "language_info": {
   "file_extension": ".jl",
   "mimetype": "application/julia",
   "name": "julia",
   "version": "1.8.1"
  }
 },
 "nbformat": 4,
 "nbformat_minor": 5
}
