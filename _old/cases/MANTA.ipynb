{
 "cells": [
  {
   "cell_type": "markdown",
   "id": "cad80a9f",
   "metadata": {},
   "source": [
    "# Use cases"
   ]
  },
  {
   "cell_type": "code",
   "execution_count": 1,
   "id": "25928791-9f99-45b2-97c6-344cf86a68c0",
   "metadata": {
    "tags": []
   },
   "outputs": [],
   "source": [
    "using FUSE\n",
    "using Plots"
   ]
  },
  {
   "cell_type": "markdown",
   "id": "2",
   "metadata": {},
   "source": [
    "## Get ini and act  and initialize dd"
   ]
  },
  {
   "cell_type": "code",
   "execution_count": null,
   "id": "501e4150-1642-42a3-90bb-75e4466050fb",
   "metadata": {
    "tags": []
   },
   "outputs": [],
   "source": [
    "ini, act = FUSE.case_parameters(:MANTA);\n",
    "dd = IMAS.dd()\n",
    "FUSE.init(dd, ini, act);"
   ]
  },
  {
   "cell_type": "markdown",
   "id": "5",
   "metadata": {},
   "source": [
    "# Whole Facility simulations for the MANTA case"
   ]
  },
  {
   "cell_type": "code",
   "execution_count": null,
   "id": "6",
   "metadata": {
    "tags": []
   },
   "outputs": [],
   "source": [
    "FUSE.ActorWholeFacility(dd,act)"
   ]
  },
  {
   "cell_type": "code",
   "execution_count": null,
   "id": "7",
   "metadata": {
    "tags": []
   },
   "outputs": [],
   "source": [
    "FUSE.digest(dd)"
   ]
  },
  {
   "cell_type": "markdown",
   "id": "8",
   "metadata": {},
   "source": [
    "### Plot FUSE build on top of MANTA drawing"
   ]
  },
  {
   "cell_type": "code",
   "execution_count": null,
   "id": "9",
   "metadata": {
    "tags": []
   },
   "outputs": [],
   "source": [
    "CAD = FUSE.TraceCAD(:MANTA)\n",
    "plot(CAD, size=(900,900))\n",
    "plot!(dd.equilibrium, cx=true, color=:red)\n",
    "plot!(dd.build, wireframe=true, linewidth=2, color=:black)"
   ]
  }
 ],
 "metadata": {
  "kernelspec": {
   "display_name": "Julia 1.10.4",
   "language": "julia",
   "name": "julia-1.10"
  },
  "language_info": {
   "file_extension": ".jl",
   "mimetype": "application/julia",
   "name": "julia",
   "version": "1.10.4"
  }
 },
 "nbformat": 4,
 "nbformat_minor": 5
}
