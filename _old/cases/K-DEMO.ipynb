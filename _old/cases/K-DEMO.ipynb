{
 "cells": [
  {
   "cell_type": "markdown",
   "id": "cad80a9f",
   "metadata": {},
   "source": [
    "# K-DEMO use case"
   ]
  },
  {
   "cell_type": "code",
   "execution_count": null,
   "id": "25928791-9f99-45b2-97c6-344cf86a68c0",
   "metadata": {
    "tags": []
   },
   "outputs": [],
   "source": [
    "using FUSE\n",
    "using Plots;\n",
    "FUSE.logging(Logging.Info; actors=Logging.Info);"
   ]
  },
  {
   "cell_type": "code",
   "execution_count": null,
   "id": "eaaf74cc-61ce-4580-a7da-e878a9a4de57",
   "metadata": {
    "tags": []
   },
   "outputs": [],
   "source": [
    "ini, act = FUSE.case_parameters(:KDEMO)\n",
    "display(ini.equilibrium)"
   ]
  },
  {
   "cell_type": "code",
   "execution_count": null,
   "id": "d4f1cb5b-c630-4151-8c9f-8b11af11755f",
   "metadata": {
    "tags": []
   },
   "outputs": [],
   "source": [
    "@show ini.oh.technology, ini.tf.technology, ini.pf_active.technology"
   ]
  },
  {
   "cell_type": "code",
   "execution_count": null,
   "id": "89e9650d-e208-4a96-abca-900d32141bea",
   "metadata": {
    "tags": []
   },
   "outputs": [],
   "source": [
    "dd_LTS = FUSE.init(ini, act);\n",
    "FUSE.digest(dd_LTS);"
   ]
  },
  {
   "cell_type": "code",
   "execution_count": null,
   "id": "5b7fb44e-7a56-4934-8f68-2f4d5379384e",
   "metadata": {
    "tags": []
   },
   "outputs": [],
   "source": [
    "dd = deepcopy(dd_LTS)\n",
    "\n",
    "act.ActorStabilityLimits.raise_on_breach = false\n",
    "act.ActorHFSsizing.error_on_technology = false\n",
    "\n",
    "FUSE.ActorWholeFacility(dd, act);"
   ]
  },
  {
   "cell_type": "code",
   "execution_count": null,
   "id": "10",
   "metadata": {},
   "outputs": [],
   "source": [
    "FUSE.digest(dd)"
   ]
  },
  {
   "cell_type": "markdown",
   "id": "11",
   "metadata": {},
   "source": [
    "# Make magnets 'nbti' and run whole facility"
   ]
  },
  {
   "cell_type": "code",
   "execution_count": null,
   "id": "12",
   "metadata": {
    "tags": []
   },
   "outputs": [],
   "source": [
    "\n",
    "ini.oh.technology = :nbti\n",
    "ini.tf.technology = :nbti\n",
    "ini.pf_active.technology = :nbti\n",
    "\n",
    "dd_HTS = FUSE.init(ini, act)\n",
    "act.ActorPFdesign.do_plot = true\n",
    "\n",
    "act.ActorHFSsizing.verbose = true\n",
    "\n",
    "FUSE.ActorWholeFacility(dd_HTS, act);"
   ]
  },
  {
   "cell_type": "markdown",
   "id": "13",
   "metadata": {},
   "source": [
    "# KDEMO using FUSE WholeFacility"
   ]
  },
  {
   "cell_type": "code",
   "execution_count": null,
   "id": "14",
   "metadata": {
    "tags": []
   },
   "outputs": [],
   "source": [
    "FUSE.digest(dd_HTS)"
   ]
  },
  {
   "cell_type": "markdown",
   "id": "15",
   "metadata": {},
   "source": [
    "# Core transport according to turbulent and neoclassical fluxes with EPED H-mode at the edge"
   ]
  },
  {
   "cell_type": "code",
   "execution_count": null,
   "id": "16",
   "metadata": {
    "tags": []
   },
   "outputs": [],
   "source": [
    "\n",
    "FUSE.ActorFluxMatcher(dd_HTS, act; evolve_pedestal=true, verbose=true, do_plot=true);"
   ]
  },
  {
   "cell_type": "code",
   "execution_count": null,
   "id": "17",
   "metadata": {},
   "outputs": [],
   "source": []
  }
 ],
 "metadata": {
  "kernelspec": {
   "display_name": "Julia (8 threads) 1.10.4",
   "language": "julia",
   "name": "julia-_8-threads_-1.10"
  },
  "language_info": {
   "file_extension": ".jl",
   "mimetype": "application/julia",
   "name": "julia",
   "version": "1.10.4"
  }
 },
 "nbformat": 4,
 "nbformat_minor": 5
}
