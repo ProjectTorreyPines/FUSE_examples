{
 "cells": [
  {
   "cell_type": "markdown",
   "id": "74f43e27",
   "metadata": {},
   "source": [
    "# GA's FPP use case"
   ]
  },
  {
   "cell_type": "code",
   "execution_count": null,
   "id": "038c65a1-369e-487b-a4ea-1d0fe33b3173",
   "metadata": {
    "tags": []
   },
   "outputs": [],
   "source": [
    "using Revise\n",
    "using FUSE\n",
    "using Plots; gr();\n",
    "FUSE.logging(Logging.Info);"
   ]
  },
  {
   "cell_type": "markdown",
   "id": "da0f26c9-5b95-446c-ba11-e3044ed62f7b",
   "metadata": {
    "tags": []
   },
   "source": [
    "### Get `ini` and `act` for FPP use case starting from scalars and taking the result from STEP in OMFIT (:ods)\n",
    "* [ini documentation](https://fuse.help/ini.html)\n",
    "* [act documentation](https://fuse.help/act.html)"
   ]
  },
  {
   "cell_type": "code",
   "execution_count": null,
   "id": "3",
   "metadata": {
    "tags": []
   },
   "outputs": [],
   "source": [
    "ini, act = FUSE.case_parameters(:FPP);"
   ]
  },
  {
   "cell_type": "markdown",
   "id": "4",
   "metadata": {},
   "source": [
    "### Initialize `dd` based on the `ini` and `act` parameters\n",
    "\n",
    "* [Data structure (dd) documentation](https://fuse.help/dd.html)"
   ]
  },
  {
   "cell_type": "code",
   "execution_count": null,
   "id": "151c4028-bca2-4fe4-80a6-e4543b7c0eec",
   "metadata": {
    "tags": []
   },
   "outputs": [],
   "source": [
    "dd = IMAS.dd()\n",
    "FUSE.init(dd, ini, act; do_plot=true);"
   ]
  },
  {
   "cell_type": "markdown",
   "id": "0b1009eb",
   "metadata": {},
   "source": [
    "### Run the coupled equilibrium-transport actor \n",
    "\n",
    "* [Equilibrium Transport actor documentation](https://fuse.help/actors.html#EquilibriumTransport)"
   ]
  },
  {
   "cell_type": "code",
   "execution_count": null,
   "id": "7",
   "metadata": {},
   "outputs": [],
   "source": [
    "# look at what parameters for example ActorTransport and ActorEquilibrium use\n",
    "display(act.ActorCoreTransport)\n",
    "display(act.ActorEquilibrium)\n",
    "\n",
    "# look at the details some of these parameters\n",
    "display(act.ActorCoreTransport.model)\n",
    "\n",
    "# modify parameters\n",
    "act.ActorCoreTransport.model =:FluxMatcher;"
   ]
  },
  {
   "cell_type": "code",
   "execution_count": null,
   "id": "8",
   "metadata": {},
   "outputs": [],
   "source": [
    "# run the actor\n",
    "FUSE.ActorCoreTransport(dd, act; do_plot=true);"
   ]
  },
  {
   "cell_type": "markdown",
   "id": "9",
   "metadata": {},
   "source": [
    "# Running whole facility without transport"
   ]
  },
  {
   "cell_type": "code",
   "execution_count": null,
   "id": "10",
   "metadata": {
    "tags": []
   },
   "outputs": [],
   "source": [
    "\n",
    "\n",
    "FUSE.ActorHFSsizing(dd,act)\n",
    "FUSE.ActorLFSsizing(dd,act)\n",
    "FUSE.ActorCXbuild(dd, act)\n",
    "FUSE.ActorNeutronics(dd,act)\n",
    "FUSE.ActorBlanket(dd,act)\n",
    "FUSE.ActorDivertors(dd,act)\n",
    "FUSE.ActorBalanceOfPlant(dd,act)\n",
    "plot(dd.build)\n",
    "display(plot!(dd.equilibrium,cx=true))\n",
    "plot(dd.core_profiles)\n",
    "println(\"Total net electricity out of this FPP case $(round(dd.balance_of_plant.power_electric_net[1]/1e6)) MWe\")"
   ]
  },
  {
   "cell_type": "code",
   "execution_count": null,
   "id": "11",
   "metadata": {},
   "outputs": [],
   "source": []
  }
 ],
 "metadata": {
  "@webio": {
   "lastCommId": "20953e41-6152-47ae-bbae-e74c5f38afa5",
   "lastKernelId": "553e8d43-e71f-4016-b614-fbf1b6be5364"
  },
  "kernelspec": {
   "display_name": "Julia 1.8.5",
   "language": "julia",
   "name": "julia-1.8"
  },
  "language_info": {
   "file_extension": ".jl",
   "mimetype": "application/julia",
   "name": "julia",
   "version": "1.8.5"
  }
 },
 "nbformat": 4,
 "nbformat_minor": 5
}
