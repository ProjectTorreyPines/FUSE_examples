{
 "cells": [
  {
   "cell_type": "markdown",
   "id": "b841be4f-688e-4d37-8da3-a5cbc487aee3",
   "metadata": {
    "tags": []
   },
   "source": [
    "# Notebook to interactively manipulate equilibrium boundary and getting corresponding MXH coefficients"
   ]
  },
  {
   "cell_type": "code",
   "execution_count": 1,
   "id": "4e55da2a-99cf-485c-a867-446a48a7dcfb",
   "metadata": {
    "execution": {
     "iopub.execute_input": "2024-08-20T21:23:47.250000-07:00",
     "iopub.status.busy": "2024-08-20T21:23:46.980000-07:00",
     "iopub.status.idle": "2024-08-20T21:23:50.217000-07:00",
     "shell.execute_reply": "2024-08-20T21:23:50.194000-07:00"
    },
    "tags": []
   },
   "outputs": [],
   "source": [
    "using Plots\n",
    "using IMAS"
   ]
  },
  {
   "cell_type": "code",
   "execution_count": 4,
   "id": "bc267a7d-ee8c-4593-b1bf-30bc3ce8573f",
   "metadata": {
    "execution": {
     "iopub.execute_input": "2024-08-20T21:26:51.812000-07:00",
     "iopub.status.busy": "2024-08-20T21:26:51.811000-07:00",
     "iopub.status.idle": "2024-08-20T21:26:51.948000-07:00",
     "shell.execute_reply": "2024-08-20T21:26:51.947000-07:00"
    },
    "tags": []
   },
   "outputs": [
    {
     "data": {
      "application/vnd.webio.node+json": {
       "children": [
        {
         "children": [
          {
           "children": [
            {
             "children": [
              {
               "children": [
                {
                 "children": [
                  "mhx_order"
                 ],
                 "instanceArgs": {
                  "namespace": "html",
                  "tag": "label"
                 },
                 "nodeType": "DOM",
                 "props": {
                  "className": "interact ",
                  "style": {
                   "padding": "5px 10px 0px 10px"
                  }
                 },
                 "type": "node"
                }
               ],
               "instanceArgs": {
                "namespace": "html",
                "tag": "div"
               },
               "nodeType": "DOM",
               "props": {
                "className": "interact-flex-row-left"
               },
               "type": "node"
              },
              {
               "children": [
                {
                 "children": [],
                 "instanceArgs": {
                  "namespace": "html",
                  "tag": "input"
                 },
                 "nodeType": "DOM",
                 "props": {
                  "attributes": {
                   "data-bind": "numericValue: index, valueUpdate: 'input', event: {change: function (){this.changes(this.changes()+1)}}",
                   "orient": "horizontal",
                   "type": "range"
                  },
                  "className": "slider slider is-fullwidth",
                  "max": 10,
                  "min": 0,
                  "step": 1,
                  "style": {}
                 },
                 "type": "node"
                }
               ],
               "instanceArgs": {
                "namespace": "html",
                "tag": "div"
               },
               "nodeType": "DOM",
               "props": {
                "className": "interact-flex-row-center"
               },
               "type": "node"
              },
              {
               "children": [
                {
                 "children": [],
                 "instanceArgs": {
                  "namespace": "html",
                  "tag": "p"
                 },
                 "nodeType": "DOM",
                 "props": {
                  "attributes": {
                   "data-bind": "text: formatted_val"
                  }
                 },
                 "type": "node"
                }
               ],
               "instanceArgs": {
                "namespace": "html",
                "tag": "div"
               },
               "nodeType": "DOM",
               "props": {
                "className": "interact-flex-row-right"
               },
               "type": "node"
              }
             ],
             "instanceArgs": {
              "namespace": "html",
              "tag": "div"
             },
             "nodeType": "DOM",
             "props": {
              "className": "interact-flex-row interact-widget"
             },
             "type": "node"
            }
           ],
           "instanceArgs": {
            "handlers": {
             "changes": [
              "(function (val){return (val!=this.model[\"changes\"]()) ? (this.valueFromJulia[\"changes\"]=true, this.model[\"changes\"](val)) : undefined})"
             ],
             "index": [
              "(function (val){return (val!=this.model[\"index\"]()) ? (this.valueFromJulia[\"index\"]=true, this.model[\"index\"](val)) : undefined})"
             ]
            },
            "id": "13492934637759783611",
            "imports": {
             "data": [
              {
               "name": "knockout",
               "type": "js",
               "url": "/assetserver/46fa30269326aba23141c18b17d8ce39cc329be8-knockout.js"
              },
              {
               "name": "knockout_punches",
               "type": "js",
               "url": "/assetserver/785cf23779dbf5e70842ccdb713d3ca9d688333f-knockout_punches.js"
              },
              {
               "name": null,
               "type": "js",
               "url": "/assetserver/1bc46607af5b174f8ca4d1bfd755db598dcef146-all.js"
              },
              {
               "name": null,
               "type": "css",
               "url": "/assetserver/9824d0edd7ec97f5c88ea78fe99914e216073c09-style.css"
              },
              {
               "name": null,
               "type": "css",
               "url": "/assetserver/1f713bda89a85e38ff51c8784de0dbc492fe903f-bulma_confined.min.css"
              }
             ],
             "type": "async_block"
            },
            "mount_callbacks": [
             "function () {\n    var handler = (function (ko, koPunches) {\n    ko.punches.enableAll();\n    ko.bindingHandlers.numericValue = {\n        init: function(element, valueAccessor, allBindings, data, context) {\n            var stringified = ko.observable(ko.unwrap(valueAccessor()));\n            stringified.subscribe(function(value) {\n                var val = parseFloat(value);\n                if (!isNaN(val)) {\n                    valueAccessor()(val);\n                }\n            });\n            valueAccessor().subscribe(function(value) {\n                var str = JSON.stringify(value);\n                if ((str == \"0\") && ([\"-0\", \"-0.\"].indexOf(stringified()) >= 0))\n                     return;\n                 if ([\"null\", \"\"].indexOf(str) >= 0)\n                     return;\n                stringified(str);\n            });\n            ko.applyBindingsToNode(\n                element,\n                {\n                    value: stringified,\n                    valueUpdate: allBindings.get('valueUpdate'),\n                },\n                context,\n            );\n        }\n    };\n    var json_data = {\"formatted_vals\":[\"0\",\"1\",\"2\",\"3\",\"4\",\"5\",\"6\",\"7\",\"8\",\"9\",\"10\"],\"changes\":WebIO.getval({\"name\":\"changes\",\"scope\":\"13492934637759783611\",\"id\":\"78\",\"type\":\"observable\"}),\"index\":WebIO.getval({\"name\":\"index\",\"scope\":\"13492934637759783611\",\"id\":\"77\",\"type\":\"observable\"})};\n    var self = this;\n    function AppViewModel() {\n        for (var key in json_data) {\n            var el = json_data[key];\n            this[key] = Array.isArray(el) ? ko.observableArray(el) : ko.observable(el);\n        }\n        \n        [this[\"formatted_val\"]=ko.computed(    function(){\n        return this.formatted_vals()[parseInt(this.index())-(0)];\n    }\n,this)]\n        [this[\"changes\"].subscribe((function (val){!(this.valueFromJulia[\"changes\"]) ? (WebIO.setval({\"name\":\"changes\",\"scope\":\"13492934637759783611\",\"id\":\"78\",\"type\":\"observable\"},val)) : undefined; return this.valueFromJulia[\"changes\"]=false}),self),this[\"index\"].subscribe((function (val){!(this.valueFromJulia[\"index\"]) ? (WebIO.setval({\"name\":\"index\",\"scope\":\"13492934637759783611\",\"id\":\"77\",\"type\":\"observable\"},val)) : undefined; return this.valueFromJulia[\"index\"]=false}),self)]\n        \n    }\n    self.model = new AppViewModel();\n    self.valueFromJulia = {};\n    for (var key in json_data) {\n        self.valueFromJulia[key] = false;\n    }\n    ko.applyBindings(self.model, self.dom);\n}\n);\n    (WebIO.importBlock({\"data\":[{\"name\":\"knockout\",\"type\":\"js\",\"url\":\"/assetserver/46fa30269326aba23141c18b17d8ce39cc329be8-knockout.js\"},{\"name\":\"knockout_punches\",\"type\":\"js\",\"url\":\"/assetserver/785cf23779dbf5e70842ccdb713d3ca9d688333f-knockout_punches.js\"}],\"type\":\"async_block\"})).then((imports) => handler.apply(this, imports));\n}\n"
            ],
            "observables": {
             "changes": {
              "id": "78",
              "sync": false,
              "value": 0
             },
             "index": {
              "id": "77",
              "sync": true,
              "value": 5
             }
            },
            "systemjs_options": null
           },
           "nodeType": "Scope",
           "props": {},
           "type": "node"
          }
         ],
         "instanceArgs": {
          "namespace": "html",
          "tag": "div"
         },
         "nodeType": "DOM",
         "props": {
          "className": "field interact-widget"
         },
         "type": "node"
        },
        {
         "children": [
          {
           "children": [
            {
             "children": [
              {
               "children": [
                {
                 "children": [
                  "a"
                 ],
                 "instanceArgs": {
                  "namespace": "html",
                  "tag": "label"
                 },
                 "nodeType": "DOM",
                 "props": {
                  "className": "interact ",
                  "style": {
                   "padding": "5px 10px 0px 10px"
                  }
                 },
                 "type": "node"
                }
               ],
               "instanceArgs": {
                "namespace": "html",
                "tag": "div"
               },
               "nodeType": "DOM",
               "props": {
                "className": "interact-flex-row-left"
               },
               "type": "node"
              },
              {
               "children": [
                {
                 "children": [],
                 "instanceArgs": {
                  "namespace": "html",
                  "tag": "input"
                 },
                 "nodeType": "DOM",
                 "props": {
                  "attributes": {
                   "data-bind": "numericValue: index, valueUpdate: 'input', event: {change: function (){this.changes(this.changes()+1)}}",
                   "orient": "horizontal",
                   "type": "range"
                  },
                  "className": "slider slider is-fullwidth",
                  "max": 101,
                  "min": 1,
                  "step": 1,
                  "style": {}
                 },
                 "type": "node"
                }
               ],
               "instanceArgs": {
                "namespace": "html",
                "tag": "div"
               },
               "nodeType": "DOM",
               "props": {
                "className": "interact-flex-row-center"
               },
               "type": "node"
              },
              {
               "children": [
                {
                 "children": [],
                 "instanceArgs": {
                  "namespace": "html",
                  "tag": "p"
                 },
                 "nodeType": "DOM",
                 "props": {
                  "attributes": {
                   "data-bind": "text: formatted_val"
                  }
                 },
                 "type": "node"
                }
               ],
               "instanceArgs": {
                "namespace": "html",
                "tag": "div"
               },
               "nodeType": "DOM",
               "props": {
                "className": "interact-flex-row-right"
               },
               "type": "node"
              }
             ],
             "instanceArgs": {
              "namespace": "html",
              "tag": "div"
             },
             "nodeType": "DOM",
             "props": {
              "className": "interact-flex-row interact-widget"
             },
             "type": "node"
            }
           ],
           "instanceArgs": {
            "handlers": {
             "changes": [
              "(function (val){return (val!=this.model[\"changes\"]()) ? (this.valueFromJulia[\"changes\"]=true, this.model[\"changes\"](val)) : undefined})"
             ],
             "index": [
              "(function (val){return (val!=this.model[\"index\"]()) ? (this.valueFromJulia[\"index\"]=true, this.model[\"index\"](val)) : undefined})"
             ]
            },
            "id": "8706665360527482571",
            "imports": {
             "data": [
              {
               "name": "knockout",
               "type": "js",
               "url": "/assetserver/46fa30269326aba23141c18b17d8ce39cc329be8-knockout.js"
              },
              {
               "name": "knockout_punches",
               "type": "js",
               "url": "/assetserver/785cf23779dbf5e70842ccdb713d3ca9d688333f-knockout_punches.js"
              },
              {
               "name": null,
               "type": "js",
               "url": "/assetserver/1bc46607af5b174f8ca4d1bfd755db598dcef146-all.js"
              },
              {
               "name": null,
               "type": "css",
               "url": "/assetserver/9824d0edd7ec97f5c88ea78fe99914e216073c09-style.css"
              },
              {
               "name": null,
               "type": "css",
               "url": "/assetserver/1f713bda89a85e38ff51c8784de0dbc492fe903f-bulma_confined.min.css"
              }
             ],
             "type": "async_block"
            },
            "mount_callbacks": [
             "function () {\n    var handler = (function (ko, koPunches) {\n    ko.punches.enableAll();\n    ko.bindingHandlers.numericValue = {\n        init: function(element, valueAccessor, allBindings, data, context) {\n            var stringified = ko.observable(ko.unwrap(valueAccessor()));\n            stringified.subscribe(function(value) {\n                var val = parseFloat(value);\n                if (!isNaN(val)) {\n                    valueAccessor()(val);\n                }\n            });\n            valueAccessor().subscribe(function(value) {\n                var str = JSON.stringify(value);\n                if ((str == \"0\") && ([\"-0\", \"-0.\"].indexOf(stringified()) >= 0))\n                     return;\n                 if ([\"null\", \"\"].indexOf(str) >= 0)\n                     return;\n                stringified(str);\n            });\n            ko.applyBindingsToNode(\n                element,\n                {\n                    value: stringified,\n                    valueUpdate: allBindings.get('valueUpdate'),\n                },\n                context,\n            );\n        }\n    };\n    var json_data = {\"formatted_vals\":[\"0.1\",\"0.199\",\"0.298\",\"0.397\",\"0.496\",\"0.595\",\"0.694\",\"0.793\",\"0.892\",\"0.991\",\"1.09\",\"1.189\",\"1.288\",\"1.387\",\"1.486\",\"1.585\",\"1.684\",\"1.783\",\"1.882\",\"1.981\",\"2.08\",\"2.179\",\"2.278\",\"2.377\",\"2.476\",\"2.575\",\"2.674\",\"2.773\",\"2.872\",\"2.971\",\"3.07\",\"3.169\",\"3.268\",\"3.367\",\"3.466\",\"3.565\",\"3.664\",\"3.763\",\"3.862\",\"3.961\",\"4.06\",\"4.159\",\"4.258\",\"4.357\",\"4.456\",\"4.555\",\"4.654\",\"4.753\",\"4.852\",\"4.951\",\"5.05\",\"5.149\",\"5.248\",\"5.347\",\"5.446\",\"5.545\",\"5.644\",\"5.743\",\"5.842\",\"5.941\",\"6.04\",\"6.139\",\"6.238\",\"6.337\",\"6.436\",\"6.535\",\"6.634\",\"6.733\",\"6.832\",\"6.931\",\"7.03\",\"7.129\",\"7.228\",\"7.327\",\"7.426\",\"7.525\",\"7.624\",\"7.723\",\"7.822\",\"7.921\",\"8.02\",\"8.119\",\"8.218\",\"8.317\",\"8.416\",\"8.515\",\"8.614\",\"8.713\",\"8.812\",\"8.911\",\"9.01\",\"9.109\",\"9.208\",\"9.307\",\"9.406\",\"9.505\",\"9.604\",\"9.703\",\"9.802\",\"9.901\",\"10.0\"],\"changes\":WebIO.getval({\"name\":\"changes\",\"scope\":\"8706665360527482571\",\"id\":\"81\",\"type\":\"observable\"}),\"index\":WebIO.getval({\"name\":\"index\",\"scope\":\"8706665360527482571\",\"id\":\"80\",\"type\":\"observable\"})};\n    var self = this;\n    function AppViewModel() {\n        for (var key in json_data) {\n            var el = json_data[key];\n            this[key] = Array.isArray(el) ? ko.observableArray(el) : ko.observable(el);\n        }\n        \n        [this[\"formatted_val\"]=ko.computed(    function(){\n        return this.formatted_vals()[parseInt(this.index())-(1)];\n    }\n,this)]\n        [this[\"changes\"].subscribe((function (val){!(this.valueFromJulia[\"changes\"]) ? (WebIO.setval({\"name\":\"changes\",\"scope\":\"8706665360527482571\",\"id\":\"81\",\"type\":\"observable\"},val)) : undefined; return this.valueFromJulia[\"changes\"]=false}),self),this[\"index\"].subscribe((function (val){!(this.valueFromJulia[\"index\"]) ? (WebIO.setval({\"name\":\"index\",\"scope\":\"8706665360527482571\",\"id\":\"80\",\"type\":\"observable\"},val)) : undefined; return this.valueFromJulia[\"index\"]=false}),self)]\n        \n    }\n    self.model = new AppViewModel();\n    self.valueFromJulia = {};\n    for (var key in json_data) {\n        self.valueFromJulia[key] = false;\n    }\n    ko.applyBindings(self.model, self.dom);\n}\n);\n    (WebIO.importBlock({\"data\":[{\"name\":\"knockout\",\"type\":\"js\",\"url\":\"/assetserver/46fa30269326aba23141c18b17d8ce39cc329be8-knockout.js\"},{\"name\":\"knockout_punches\",\"type\":\"js\",\"url\":\"/assetserver/785cf23779dbf5e70842ccdb713d3ca9d688333f-knockout_punches.js\"}],\"type\":\"async_block\"})).then((imports) => handler.apply(this, imports));\n}\n"
            ],
            "observables": {
             "changes": {
              "id": "81",
              "sync": false,
              "value": 0
             },
             "index": {
              "id": "80",
              "sync": true,
              "value": 51
             }
            },
            "systemjs_options": null
           },
           "nodeType": "Scope",
           "props": {},
           "type": "node"
          }
         ],
         "instanceArgs": {
          "namespace": "html",
          "tag": "div"
         },
         "nodeType": "DOM",
         "props": {
          "className": "field interact-widget"
         },
         "type": "node"
        },
        {
         "children": [
          {
           "children": [
            {
             "children": [
              {
               "children": [
                {
                 "children": [
                  "eps"
                 ],
                 "instanceArgs": {
                  "namespace": "html",
                  "tag": "label"
                 },
                 "nodeType": "DOM",
                 "props": {
                  "className": "interact ",
                  "style": {
                   "padding": "5px 10px 0px 10px"
                  }
                 },
                 "type": "node"
                }
               ],
               "instanceArgs": {
                "namespace": "html",
                "tag": "div"
               },
               "nodeType": "DOM",
               "props": {
                "className": "interact-flex-row-left"
               },
               "type": "node"
              },
              {
               "children": [
                {
                 "children": [],
                 "instanceArgs": {
                  "namespace": "html",
                  "tag": "input"
                 },
                 "nodeType": "DOM",
                 "props": {
                  "attributes": {
                   "data-bind": "numericValue: index, valueUpdate: 'input', event: {change: function (){this.changes(this.changes()+1)}}",
                   "orient": "horizontal",
                   "type": "range"
                  },
                  "className": "slider slider is-fullwidth",
                  "max": 101,
                  "min": 1,
                  "step": 1,
                  "style": {}
                 },
                 "type": "node"
                }
               ],
               "instanceArgs": {
                "namespace": "html",
                "tag": "div"
               },
               "nodeType": "DOM",
               "props": {
                "className": "interact-flex-row-center"
               },
               "type": "node"
              },
              {
               "children": [
                {
                 "children": [],
                 "instanceArgs": {
                  "namespace": "html",
                  "tag": "p"
                 },
                 "nodeType": "DOM",
                 "props": {
                  "attributes": {
                   "data-bind": "text: formatted_val"
                  }
                 },
                 "type": "node"
                }
               ],
               "instanceArgs": {
                "namespace": "html",
                "tag": "div"
               },
               "nodeType": "DOM",
               "props": {
                "className": "interact-flex-row-right"
               },
               "type": "node"
              }
             ],
             "instanceArgs": {
              "namespace": "html",
              "tag": "div"
             },
             "nodeType": "DOM",
             "props": {
              "className": "interact-flex-row interact-widget"
             },
             "type": "node"
            }
           ],
           "instanceArgs": {
            "handlers": {
             "changes": [
              "(function (val){return (val!=this.model[\"changes\"]()) ? (this.valueFromJulia[\"changes\"]=true, this.model[\"changes\"](val)) : undefined})"
             ],
             "index": [
              "(function (val){return (val!=this.model[\"index\"]()) ? (this.valueFromJulia[\"index\"]=true, this.model[\"index\"](val)) : undefined})"
             ]
            },
            "id": "7279357118624457334",
            "imports": {
             "data": [
              {
               "name": "knockout",
               "type": "js",
               "url": "/assetserver/46fa30269326aba23141c18b17d8ce39cc329be8-knockout.js"
              },
              {
               "name": "knockout_punches",
               "type": "js",
               "url": "/assetserver/785cf23779dbf5e70842ccdb713d3ca9d688333f-knockout_punches.js"
              },
              {
               "name": null,
               "type": "js",
               "url": "/assetserver/1bc46607af5b174f8ca4d1bfd755db598dcef146-all.js"
              },
              {
               "name": null,
               "type": "css",
               "url": "/assetserver/9824d0edd7ec97f5c88ea78fe99914e216073c09-style.css"
              },
              {
               "name": null,
               "type": "css",
               "url": "/assetserver/1f713bda89a85e38ff51c8784de0dbc492fe903f-bulma_confined.min.css"
              }
             ],
             "type": "async_block"
            },
            "mount_callbacks": [
             "function () {\n    var handler = (function (ko, koPunches) {\n    ko.punches.enableAll();\n    ko.bindingHandlers.numericValue = {\n        init: function(element, valueAccessor, allBindings, data, context) {\n            var stringified = ko.observable(ko.unwrap(valueAccessor()));\n            stringified.subscribe(function(value) {\n                var val = parseFloat(value);\n                if (!isNaN(val)) {\n                    valueAccessor()(val);\n                }\n            });\n            valueAccessor().subscribe(function(value) {\n                var str = JSON.stringify(value);\n                if ((str == \"0\") && ([\"-0\", \"-0.\"].indexOf(stringified()) >= 0))\n                     return;\n                 if ([\"null\", \"\"].indexOf(str) >= 0)\n                     return;\n                stringified(str);\n            });\n            ko.applyBindingsToNode(\n                element,\n                {\n                    value: stringified,\n                    valueUpdate: allBindings.get('valueUpdate'),\n                },\n                context,\n            );\n        }\n    };\n    var json_data = {\"formatted_vals\":[\"0.1\",\"0.109\",\"0.118\",\"0.127\",\"0.136\",\"0.145\",\"0.154\",\"0.163\",\"0.172\",\"0.181\",\"0.19\",\"0.199\",\"0.208\",\"0.217\",\"0.226\",\"0.235\",\"0.244\",\"0.253\",\"0.262\",\"0.271\",\"0.28\",\"0.289\",\"0.298\",\"0.307\",\"0.316\",\"0.325\",\"0.334\",\"0.343\",\"0.352\",\"0.361\",\"0.37\",\"0.379\",\"0.388\",\"0.397\",\"0.406\",\"0.415\",\"0.424\",\"0.433\",\"0.442\",\"0.451\",\"0.46\",\"0.469\",\"0.478\",\"0.487\",\"0.496\",\"0.505\",\"0.514\",\"0.523\",\"0.532\",\"0.541\",\"0.55\",\"0.559\",\"0.568\",\"0.577\",\"0.586\",\"0.595\",\"0.604\",\"0.613\",\"0.622\",\"0.631\",\"0.64\",\"0.649\",\"0.658\",\"0.667\",\"0.676\",\"0.685\",\"0.694\",\"0.703\",\"0.712\",\"0.721\",\"0.73\",\"0.739\",\"0.748\",\"0.757\",\"0.766\",\"0.775\",\"0.784\",\"0.793\",\"0.802\",\"0.811\",\"0.82\",\"0.829\",\"0.838\",\"0.847\",\"0.856\",\"0.865\",\"0.874\",\"0.883\",\"0.892\",\"0.901\",\"0.91\",\"0.919\",\"0.928\",\"0.937\",\"0.946\",\"0.955\",\"0.964\",\"0.973\",\"0.982\",\"0.991\",\"1.0\"],\"changes\":WebIO.getval({\"name\":\"changes\",\"scope\":\"7279357118624457334\",\"id\":\"84\",\"type\":\"observable\"}),\"index\":WebIO.getval({\"name\":\"index\",\"scope\":\"7279357118624457334\",\"id\":\"83\",\"type\":\"observable\"})};\n    var self = this;\n    function AppViewModel() {\n        for (var key in json_data) {\n            var el = json_data[key];\n            this[key] = Array.isArray(el) ? ko.observableArray(el) : ko.observable(el);\n        }\n        \n        [this[\"formatted_val\"]=ko.computed(    function(){\n        return this.formatted_vals()[parseInt(this.index())-(1)];\n    }\n,this)]\n        [this[\"changes\"].subscribe((function (val){!(this.valueFromJulia[\"changes\"]) ? (WebIO.setval({\"name\":\"changes\",\"scope\":\"7279357118624457334\",\"id\":\"84\",\"type\":\"observable\"},val)) : undefined; return this.valueFromJulia[\"changes\"]=false}),self),this[\"index\"].subscribe((function (val){!(this.valueFromJulia[\"index\"]) ? (WebIO.setval({\"name\":\"index\",\"scope\":\"7279357118624457334\",\"id\":\"83\",\"type\":\"observable\"},val)) : undefined; return this.valueFromJulia[\"index\"]=false}),self)]\n        \n    }\n    self.model = new AppViewModel();\n    self.valueFromJulia = {};\n    for (var key in json_data) {\n        self.valueFromJulia[key] = false;\n    }\n    ko.applyBindings(self.model, self.dom);\n}\n);\n    (WebIO.importBlock({\"data\":[{\"name\":\"knockout\",\"type\":\"js\",\"url\":\"/assetserver/46fa30269326aba23141c18b17d8ce39cc329be8-knockout.js\"},{\"name\":\"knockout_punches\",\"type\":\"js\",\"url\":\"/assetserver/785cf23779dbf5e70842ccdb713d3ca9d688333f-knockout_punches.js\"}],\"type\":\"async_block\"})).then((imports) => handler.apply(this, imports));\n}\n"
            ],
            "observables": {
             "changes": {
              "id": "84",
              "sync": false,
              "value": 0
             },
             "index": {
              "id": "83",
              "sync": true,
              "value": 51
             }
            },
            "systemjs_options": null
           },
           "nodeType": "Scope",
           "props": {},
           "type": "node"
          }
         ],
         "instanceArgs": {
          "namespace": "html",
          "tag": "div"
         },
         "nodeType": "DOM",
         "props": {
          "className": "field interact-widget"
         },
         "type": "node"
        },
        {
         "children": [
          {
           "children": [
            {
             "children": [
              {
               "children": [
                {
                 "children": [
                  "kapu"
                 ],
                 "instanceArgs": {
                  "namespace": "html",
                  "tag": "label"
                 },
                 "nodeType": "DOM",
                 "props": {
                  "className": "interact ",
                  "style": {
                   "padding": "5px 10px 0px 10px"
                  }
                 },
                 "type": "node"
                }
               ],
               "instanceArgs": {
                "namespace": "html",
                "tag": "div"
               },
               "nodeType": "DOM",
               "props": {
                "className": "interact-flex-row-left"
               },
               "type": "node"
              },
              {
               "children": [
                {
                 "children": [],
                 "instanceArgs": {
                  "namespace": "html",
                  "tag": "input"
                 },
                 "nodeType": "DOM",
                 "props": {
                  "attributes": {
                   "data-bind": "numericValue: index, valueUpdate: 'input', event: {change: function (){this.changes(this.changes()+1)}}",
                   "orient": "horizontal",
                   "type": "range"
                  },
                  "className": "slider slider is-fullwidth",
                  "max": 101,
                  "min": 1,
                  "step": 1,
                  "style": {}
                 },
                 "type": "node"
                }
               ],
               "instanceArgs": {
                "namespace": "html",
                "tag": "div"
               },
               "nodeType": "DOM",
               "props": {
                "className": "interact-flex-row-center"
               },
               "type": "node"
              },
              {
               "children": [
                {
                 "children": [],
                 "instanceArgs": {
                  "namespace": "html",
                  "tag": "p"
                 },
                 "nodeType": "DOM",
                 "props": {
                  "attributes": {
                   "data-bind": "text: formatted_val"
                  }
                 },
                 "type": "node"
                }
               ],
               "instanceArgs": {
                "namespace": "html",
                "tag": "div"
               },
               "nodeType": "DOM",
               "props": {
                "className": "interact-flex-row-right"
               },
               "type": "node"
              }
             ],
             "instanceArgs": {
              "namespace": "html",
              "tag": "div"
             },
             "nodeType": "DOM",
             "props": {
              "className": "interact-flex-row interact-widget"
             },
             "type": "node"
            }
           ],
           "instanceArgs": {
            "handlers": {
             "changes": [
              "(function (val){return (val!=this.model[\"changes\"]()) ? (this.valueFromJulia[\"changes\"]=true, this.model[\"changes\"](val)) : undefined})"
             ],
             "index": [
              "(function (val){return (val!=this.model[\"index\"]()) ? (this.valueFromJulia[\"index\"]=true, this.model[\"index\"](val)) : undefined})"
             ]
            },
            "id": "18191359397671757004",
            "imports": {
             "data": [
              {
               "name": "knockout",
               "type": "js",
               "url": "/assetserver/46fa30269326aba23141c18b17d8ce39cc329be8-knockout.js"
              },
              {
               "name": "knockout_punches",
               "type": "js",
               "url": "/assetserver/785cf23779dbf5e70842ccdb713d3ca9d688333f-knockout_punches.js"
              },
              {
               "name": null,
               "type": "js",
               "url": "/assetserver/1bc46607af5b174f8ca4d1bfd755db598dcef146-all.js"
              },
              {
               "name": null,
               "type": "css",
               "url": "/assetserver/9824d0edd7ec97f5c88ea78fe99914e216073c09-style.css"
              },
              {
               "name": null,
               "type": "css",
               "url": "/assetserver/1f713bda89a85e38ff51c8784de0dbc492fe903f-bulma_confined.min.css"
              }
             ],
             "type": "async_block"
            },
            "mount_callbacks": [
             "function () {\n    var handler = (function (ko, koPunches) {\n    ko.punches.enableAll();\n    ko.bindingHandlers.numericValue = {\n        init: function(element, valueAccessor, allBindings, data, context) {\n            var stringified = ko.observable(ko.unwrap(valueAccessor()));\n            stringified.subscribe(function(value) {\n                var val = parseFloat(value);\n                if (!isNaN(val)) {\n                    valueAccessor()(val);\n                }\n            });\n            valueAccessor().subscribe(function(value) {\n                var str = JSON.stringify(value);\n                if ((str == \"0\") && ([\"-0\", \"-0.\"].indexOf(stringified()) >= 0))\n                     return;\n                 if ([\"null\", \"\"].indexOf(str) >= 0)\n                     return;\n                stringified(str);\n            });\n            ko.applyBindingsToNode(\n                element,\n                {\n                    value: stringified,\n                    valueUpdate: allBindings.get('valueUpdate'),\n                },\n                context,\n            );\n        }\n    };\n    var json_data = {\"formatted_vals\":[\"1.0\",\"1.02\",\"1.04\",\"1.06\",\"1.08\",\"1.1\",\"1.12\",\"1.14\",\"1.16\",\"1.18\",\"1.2\",\"1.22\",\"1.24\",\"1.26\",\"1.28\",\"1.3\",\"1.32\",\"1.34\",\"1.36\",\"1.38\",\"1.4\",\"1.42\",\"1.44\",\"1.46\",\"1.48\",\"1.5\",\"1.52\",\"1.54\",\"1.56\",\"1.58\",\"1.6\",\"1.62\",\"1.64\",\"1.66\",\"1.68\",\"1.7\",\"1.72\",\"1.74\",\"1.76\",\"1.78\",\"1.8\",\"1.82\",\"1.84\",\"1.86\",\"1.88\",\"1.9\",\"1.92\",\"1.94\",\"1.96\",\"1.98\",\"2.0\",\"2.02\",\"2.04\",\"2.06\",\"2.08\",\"2.1\",\"2.12\",\"2.14\",\"2.16\",\"2.18\",\"2.2\",\"2.22\",\"2.24\",\"2.26\",\"2.28\",\"2.3\",\"2.32\",\"2.34\",\"2.36\",\"2.38\",\"2.4\",\"2.42\",\"2.44\",\"2.46\",\"2.48\",\"2.5\",\"2.52\",\"2.54\",\"2.56\",\"2.58\",\"2.6\",\"2.62\",\"2.64\",\"2.66\",\"2.68\",\"2.7\",\"2.72\",\"2.74\",\"2.76\",\"2.78\",\"2.8\",\"2.82\",\"2.84\",\"2.86\",\"2.88\",\"2.9\",\"2.92\",\"2.94\",\"2.96\",\"2.98\",\"3.0\"],\"changes\":WebIO.getval({\"name\":\"changes\",\"scope\":\"18191359397671757004\",\"id\":\"87\",\"type\":\"observable\"}),\"index\":WebIO.getval({\"name\":\"index\",\"scope\":\"18191359397671757004\",\"id\":\"86\",\"type\":\"observable\"})};\n    var self = this;\n    function AppViewModel() {\n        for (var key in json_data) {\n            var el = json_data[key];\n            this[key] = Array.isArray(el) ? ko.observableArray(el) : ko.observable(el);\n        }\n        \n        [this[\"formatted_val\"]=ko.computed(    function(){\n        return this.formatted_vals()[parseInt(this.index())-(1)];\n    }\n,this)]\n        [this[\"changes\"].subscribe((function (val){!(this.valueFromJulia[\"changes\"]) ? (WebIO.setval({\"name\":\"changes\",\"scope\":\"18191359397671757004\",\"id\":\"87\",\"type\":\"observable\"},val)) : undefined; return this.valueFromJulia[\"changes\"]=false}),self),this[\"index\"].subscribe((function (val){!(this.valueFromJulia[\"index\"]) ? (WebIO.setval({\"name\":\"index\",\"scope\":\"18191359397671757004\",\"id\":\"86\",\"type\":\"observable\"},val)) : undefined; return this.valueFromJulia[\"index\"]=false}),self)]\n        \n    }\n    self.model = new AppViewModel();\n    self.valueFromJulia = {};\n    for (var key in json_data) {\n        self.valueFromJulia[key] = false;\n    }\n    ko.applyBindings(self.model, self.dom);\n}\n);\n    (WebIO.importBlock({\"data\":[{\"name\":\"knockout\",\"type\":\"js\",\"url\":\"/assetserver/46fa30269326aba23141c18b17d8ce39cc329be8-knockout.js\"},{\"name\":\"knockout_punches\",\"type\":\"js\",\"url\":\"/assetserver/785cf23779dbf5e70842ccdb713d3ca9d688333f-knockout_punches.js\"}],\"type\":\"async_block\"})).then((imports) => handler.apply(this, imports));\n}\n"
            ],
            "observables": {
             "changes": {
              "id": "87",
              "sync": false,
              "value": 0
             },
             "index": {
              "id": "86",
              "sync": true,
              "value": 51
             }
            },
            "systemjs_options": null
           },
           "nodeType": "Scope",
           "props": {},
           "type": "node"
          }
         ],
         "instanceArgs": {
          "namespace": "html",
          "tag": "div"
         },
         "nodeType": "DOM",
         "props": {
          "className": "field interact-widget"
         },
         "type": "node"
        },
        {
         "children": [
          {
           "children": [
            {
             "children": [
              {
               "children": [
                {
                 "children": [
                  "kapl"
                 ],
                 "instanceArgs": {
                  "namespace": "html",
                  "tag": "label"
                 },
                 "nodeType": "DOM",
                 "props": {
                  "className": "interact ",
                  "style": {
                   "padding": "5px 10px 0px 10px"
                  }
                 },
                 "type": "node"
                }
               ],
               "instanceArgs": {
                "namespace": "html",
                "tag": "div"
               },
               "nodeType": "DOM",
               "props": {
                "className": "interact-flex-row-left"
               },
               "type": "node"
              },
              {
               "children": [
                {
                 "children": [],
                 "instanceArgs": {
                  "namespace": "html",
                  "tag": "input"
                 },
                 "nodeType": "DOM",
                 "props": {
                  "attributes": {
                   "data-bind": "numericValue: index, valueUpdate: 'input', event: {change: function (){this.changes(this.changes()+1)}}",
                   "orient": "horizontal",
                   "type": "range"
                  },
                  "className": "slider slider is-fullwidth",
                  "max": 101,
                  "min": 1,
                  "step": 1,
                  "style": {}
                 },
                 "type": "node"
                }
               ],
               "instanceArgs": {
                "namespace": "html",
                "tag": "div"
               },
               "nodeType": "DOM",
               "props": {
                "className": "interact-flex-row-center"
               },
               "type": "node"
              },
              {
               "children": [
                {
                 "children": [],
                 "instanceArgs": {
                  "namespace": "html",
                  "tag": "p"
                 },
                 "nodeType": "DOM",
                 "props": {
                  "attributes": {
                   "data-bind": "text: formatted_val"
                  }
                 },
                 "type": "node"
                }
               ],
               "instanceArgs": {
                "namespace": "html",
                "tag": "div"
               },
               "nodeType": "DOM",
               "props": {
                "className": "interact-flex-row-right"
               },
               "type": "node"
              }
             ],
             "instanceArgs": {
              "namespace": "html",
              "tag": "div"
             },
             "nodeType": "DOM",
             "props": {
              "className": "interact-flex-row interact-widget"
             },
             "type": "node"
            }
           ],
           "instanceArgs": {
            "handlers": {
             "changes": [
              "(function (val){return (val!=this.model[\"changes\"]()) ? (this.valueFromJulia[\"changes\"]=true, this.model[\"changes\"](val)) : undefined})"
             ],
             "index": [
              "(function (val){return (val!=this.model[\"index\"]()) ? (this.valueFromJulia[\"index\"]=true, this.model[\"index\"](val)) : undefined})"
             ]
            },
            "id": "17688043797905672074",
            "imports": {
             "data": [
              {
               "name": "knockout",
               "type": "js",
               "url": "/assetserver/46fa30269326aba23141c18b17d8ce39cc329be8-knockout.js"
              },
              {
               "name": "knockout_punches",
               "type": "js",
               "url": "/assetserver/785cf23779dbf5e70842ccdb713d3ca9d688333f-knockout_punches.js"
              },
              {
               "name": null,
               "type": "js",
               "url": "/assetserver/1bc46607af5b174f8ca4d1bfd755db598dcef146-all.js"
              },
              {
               "name": null,
               "type": "css",
               "url": "/assetserver/9824d0edd7ec97f5c88ea78fe99914e216073c09-style.css"
              },
              {
               "name": null,
               "type": "css",
               "url": "/assetserver/1f713bda89a85e38ff51c8784de0dbc492fe903f-bulma_confined.min.css"
              }
             ],
             "type": "async_block"
            },
            "mount_callbacks": [
             "function () {\n    var handler = (function (ko, koPunches) {\n    ko.punches.enableAll();\n    ko.bindingHandlers.numericValue = {\n        init: function(element, valueAccessor, allBindings, data, context) {\n            var stringified = ko.observable(ko.unwrap(valueAccessor()));\n            stringified.subscribe(function(value) {\n                var val = parseFloat(value);\n                if (!isNaN(val)) {\n                    valueAccessor()(val);\n                }\n            });\n            valueAccessor().subscribe(function(value) {\n                var str = JSON.stringify(value);\n                if ((str == \"0\") && ([\"-0\", \"-0.\"].indexOf(stringified()) >= 0))\n                     return;\n                 if ([\"null\", \"\"].indexOf(str) >= 0)\n                     return;\n                stringified(str);\n            });\n            ko.applyBindingsToNode(\n                element,\n                {\n                    value: stringified,\n                    valueUpdate: allBindings.get('valueUpdate'),\n                },\n                context,\n            );\n        }\n    };\n    var json_data = {\"formatted_vals\":[\"1.0\",\"1.02\",\"1.04\",\"1.06\",\"1.08\",\"1.1\",\"1.12\",\"1.14\",\"1.16\",\"1.18\",\"1.2\",\"1.22\",\"1.24\",\"1.26\",\"1.28\",\"1.3\",\"1.32\",\"1.34\",\"1.36\",\"1.38\",\"1.4\",\"1.42\",\"1.44\",\"1.46\",\"1.48\",\"1.5\",\"1.52\",\"1.54\",\"1.56\",\"1.58\",\"1.6\",\"1.62\",\"1.64\",\"1.66\",\"1.68\",\"1.7\",\"1.72\",\"1.74\",\"1.76\",\"1.78\",\"1.8\",\"1.82\",\"1.84\",\"1.86\",\"1.88\",\"1.9\",\"1.92\",\"1.94\",\"1.96\",\"1.98\",\"2.0\",\"2.02\",\"2.04\",\"2.06\",\"2.08\",\"2.1\",\"2.12\",\"2.14\",\"2.16\",\"2.18\",\"2.2\",\"2.22\",\"2.24\",\"2.26\",\"2.28\",\"2.3\",\"2.32\",\"2.34\",\"2.36\",\"2.38\",\"2.4\",\"2.42\",\"2.44\",\"2.46\",\"2.48\",\"2.5\",\"2.52\",\"2.54\",\"2.56\",\"2.58\",\"2.6\",\"2.62\",\"2.64\",\"2.66\",\"2.68\",\"2.7\",\"2.72\",\"2.74\",\"2.76\",\"2.78\",\"2.8\",\"2.82\",\"2.84\",\"2.86\",\"2.88\",\"2.9\",\"2.92\",\"2.94\",\"2.96\",\"2.98\",\"3.0\"],\"changes\":WebIO.getval({\"name\":\"changes\",\"scope\":\"17688043797905672074\",\"id\":\"90\",\"type\":\"observable\"}),\"index\":WebIO.getval({\"name\":\"index\",\"scope\":\"17688043797905672074\",\"id\":\"89\",\"type\":\"observable\"})};\n    var self = this;\n    function AppViewModel() {\n        for (var key in json_data) {\n            var el = json_data[key];\n            this[key] = Array.isArray(el) ? ko.observableArray(el) : ko.observable(el);\n        }\n        \n        [this[\"formatted_val\"]=ko.computed(    function(){\n        return this.formatted_vals()[parseInt(this.index())-(1)];\n    }\n,this)]\n        [this[\"changes\"].subscribe((function (val){!(this.valueFromJulia[\"changes\"]) ? (WebIO.setval({\"name\":\"changes\",\"scope\":\"17688043797905672074\",\"id\":\"90\",\"type\":\"observable\"},val)) : undefined; return this.valueFromJulia[\"changes\"]=false}),self),this[\"index\"].subscribe((function (val){!(this.valueFromJulia[\"index\"]) ? (WebIO.setval({\"name\":\"index\",\"scope\":\"17688043797905672074\",\"id\":\"89\",\"type\":\"observable\"},val)) : undefined; return this.valueFromJulia[\"index\"]=false}),self)]\n        \n    }\n    self.model = new AppViewModel();\n    self.valueFromJulia = {};\n    for (var key in json_data) {\n        self.valueFromJulia[key] = false;\n    }\n    ko.applyBindings(self.model, self.dom);\n}\n);\n    (WebIO.importBlock({\"data\":[{\"name\":\"knockout\",\"type\":\"js\",\"url\":\"/assetserver/46fa30269326aba23141c18b17d8ce39cc329be8-knockout.js\"},{\"name\":\"knockout_punches\",\"type\":\"js\",\"url\":\"/assetserver/785cf23779dbf5e70842ccdb713d3ca9d688333f-knockout_punches.js\"}],\"type\":\"async_block\"})).then((imports) => handler.apply(this, imports));\n}\n"
            ],
            "observables": {
             "changes": {
              "id": "90",
              "sync": false,
              "value": 0
             },
             "index": {
              "id": "89",
              "sync": true,
              "value": 51
             }
            },
            "systemjs_options": null
           },
           "nodeType": "Scope",
           "props": {},
           "type": "node"
          }
         ],
         "instanceArgs": {
          "namespace": "html",
          "tag": "div"
         },
         "nodeType": "DOM",
         "props": {
          "className": "field interact-widget"
         },
         "type": "node"
        },
        {
         "children": [
          {
           "children": [
            {
             "children": [
              {
               "children": [
                {
                 "children": [
                  "delu"
                 ],
                 "instanceArgs": {
                  "namespace": "html",
                  "tag": "label"
                 },
                 "nodeType": "DOM",
                 "props": {
                  "className": "interact ",
                  "style": {
                   "padding": "5px 10px 0px 10px"
                  }
                 },
                 "type": "node"
                }
               ],
               "instanceArgs": {
                "namespace": "html",
                "tag": "div"
               },
               "nodeType": "DOM",
               "props": {
                "className": "interact-flex-row-left"
               },
               "type": "node"
              },
              {
               "children": [
                {
                 "children": [],
                 "instanceArgs": {
                  "namespace": "html",
                  "tag": "input"
                 },
                 "nodeType": "DOM",
                 "props": {
                  "attributes": {
                   "data-bind": "numericValue: index, valueUpdate: 'input', event: {change: function (){this.changes(this.changes()+1)}}",
                   "orient": "horizontal",
                   "type": "range"
                  },
                  "className": "slider slider is-fullwidth",
                  "max": 99,
                  "min": 1,
                  "step": 1,
                  "style": {}
                 },
                 "type": "node"
                }
               ],
               "instanceArgs": {
                "namespace": "html",
                "tag": "div"
               },
               "nodeType": "DOM",
               "props": {
                "className": "interact-flex-row-center"
               },
               "type": "node"
              },
              {
               "children": [
                {
                 "children": [],
                 "instanceArgs": {
                  "namespace": "html",
                  "tag": "p"
                 },
                 "nodeType": "DOM",
                 "props": {
                  "attributes": {
                   "data-bind": "text: formatted_val"
                  }
                 },
                 "type": "node"
                }
               ],
               "instanceArgs": {
                "namespace": "html",
                "tag": "div"
               },
               "nodeType": "DOM",
               "props": {
                "className": "interact-flex-row-right"
               },
               "type": "node"
              }
             ],
             "instanceArgs": {
              "namespace": "html",
              "tag": "div"
             },
             "nodeType": "DOM",
             "props": {
              "className": "interact-flex-row interact-widget"
             },
             "type": "node"
            }
           ],
           "instanceArgs": {
            "handlers": {
             "changes": [
              "(function (val){return (val!=this.model[\"changes\"]()) ? (this.valueFromJulia[\"changes\"]=true, this.model[\"changes\"](val)) : undefined})"
             ],
             "index": [
              "(function (val){return (val!=this.model[\"index\"]()) ? (this.valueFromJulia[\"index\"]=true, this.model[\"index\"](val)) : undefined})"
             ]
            },
            "id": "9654812353287428768",
            "imports": {
             "data": [
              {
               "name": "knockout",
               "type": "js",
               "url": "/assetserver/46fa30269326aba23141c18b17d8ce39cc329be8-knockout.js"
              },
              {
               "name": "knockout_punches",
               "type": "js",
               "url": "/assetserver/785cf23779dbf5e70842ccdb713d3ca9d688333f-knockout_punches.js"
              },
              {
               "name": null,
               "type": "js",
               "url": "/assetserver/1bc46607af5b174f8ca4d1bfd755db598dcef146-all.js"
              },
              {
               "name": null,
               "type": "css",
               "url": "/assetserver/9824d0edd7ec97f5c88ea78fe99914e216073c09-style.css"
              },
              {
               "name": null,
               "type": "css",
               "url": "/assetserver/1f713bda89a85e38ff51c8784de0dbc492fe903f-bulma_confined.min.css"
              }
             ],
             "type": "async_block"
            },
            "mount_callbacks": [
             "function () {\n    var handler = (function (ko, koPunches) {\n    ko.punches.enableAll();\n    ko.bindingHandlers.numericValue = {\n        init: function(element, valueAccessor, allBindings, data, context) {\n            var stringified = ko.observable(ko.unwrap(valueAccessor()));\n            stringified.subscribe(function(value) {\n                var val = parseFloat(value);\n                if (!isNaN(val)) {\n                    valueAccessor()(val);\n                }\n            });\n            valueAccessor().subscribe(function(value) {\n                var str = JSON.stringify(value);\n                if ((str == \"0\") && ([\"-0\", \"-0.\"].indexOf(stringified()) >= 0))\n                     return;\n                 if ([\"null\", \"\"].indexOf(str) >= 0)\n                     return;\n                stringified(str);\n            });\n            ko.applyBindingsToNode(\n                element,\n                {\n                    value: stringified,\n                    valueUpdate: allBindings.get('valueUpdate'),\n                },\n                context,\n            );\n        }\n    };\n    var json_data = {\"formatted_vals\":[\"-0.98\",\"-0.96\",\"-0.94\",\"-0.92\",\"-0.9\",\"-0.88\",\"-0.86\",\"-0.84\",\"-0.82\",\"-0.8\",\"-0.78\",\"-0.76\",\"-0.74\",\"-0.72\",\"-0.7\",\"-0.68\",\"-0.66\",\"-0.64\",\"-0.62\",\"-0.6\",\"-0.58\",\"-0.56\",\"-0.54\",\"-0.52\",\"-0.5\",\"-0.48\",\"-0.46\",\"-0.44\",\"-0.42\",\"-0.4\",\"-0.38\",\"-0.36\",\"-0.34\",\"-0.32\",\"-0.3\",\"-0.28\",\"-0.26\",\"-0.24\",\"-0.22\",\"-0.2\",\"-0.18\",\"-0.16\",\"-0.14\",\"-0.12\",\"-0.1\",\"-0.08\",\"-0.06\",\"-0.04\",\"-0.02\",\"0.0\",\"0.02\",\"0.04\",\"0.06\",\"0.08\",\"0.1\",\"0.12\",\"0.14\",\"0.16\",\"0.18\",\"0.2\",\"0.22\",\"0.24\",\"0.26\",\"0.28\",\"0.3\",\"0.32\",\"0.34\",\"0.36\",\"0.38\",\"0.4\",\"0.42\",\"0.44\",\"0.46\",\"0.48\",\"0.5\",\"0.52\",\"0.54\",\"0.56\",\"0.58\",\"0.6\",\"0.62\",\"0.64\",\"0.66\",\"0.68\",\"0.7\",\"0.72\",\"0.74\",\"0.76\",\"0.78\",\"0.8\",\"0.82\",\"0.84\",\"0.86\",\"0.88\",\"0.9\",\"0.92\",\"0.94\",\"0.96\",\"0.98\"],\"changes\":WebIO.getval({\"name\":\"changes\",\"scope\":\"9654812353287428768\",\"id\":\"93\",\"type\":\"observable\"}),\"index\":WebIO.getval({\"name\":\"index\",\"scope\":\"9654812353287428768\",\"id\":\"92\",\"type\":\"observable\"})};\n    var self = this;\n    function AppViewModel() {\n        for (var key in json_data) {\n            var el = json_data[key];\n            this[key] = Array.isArray(el) ? ko.observableArray(el) : ko.observable(el);\n        }\n        \n        [this[\"formatted_val\"]=ko.computed(    function(){\n        return this.formatted_vals()[parseInt(this.index())-(1)];\n    }\n,this)]\n        [this[\"changes\"].subscribe((function (val){!(this.valueFromJulia[\"changes\"]) ? (WebIO.setval({\"name\":\"changes\",\"scope\":\"9654812353287428768\",\"id\":\"93\",\"type\":\"observable\"},val)) : undefined; return this.valueFromJulia[\"changes\"]=false}),self),this[\"index\"].subscribe((function (val){!(this.valueFromJulia[\"index\"]) ? (WebIO.setval({\"name\":\"index\",\"scope\":\"9654812353287428768\",\"id\":\"92\",\"type\":\"observable\"},val)) : undefined; return this.valueFromJulia[\"index\"]=false}),self)]\n        \n    }\n    self.model = new AppViewModel();\n    self.valueFromJulia = {};\n    for (var key in json_data) {\n        self.valueFromJulia[key] = false;\n    }\n    ko.applyBindings(self.model, self.dom);\n}\n);\n    (WebIO.importBlock({\"data\":[{\"name\":\"knockout\",\"type\":\"js\",\"url\":\"/assetserver/46fa30269326aba23141c18b17d8ce39cc329be8-knockout.js\"},{\"name\":\"knockout_punches\",\"type\":\"js\",\"url\":\"/assetserver/785cf23779dbf5e70842ccdb713d3ca9d688333f-knockout_punches.js\"}],\"type\":\"async_block\"})).then((imports) => handler.apply(this, imports));\n}\n"
            ],
            "observables": {
             "changes": {
              "id": "93",
              "sync": false,
              "value": 0
             },
             "index": {
              "id": "92",
              "sync": true,
              "value": 50
             }
            },
            "systemjs_options": null
           },
           "nodeType": "Scope",
           "props": {},
           "type": "node"
          }
         ],
         "instanceArgs": {
          "namespace": "html",
          "tag": "div"
         },
         "nodeType": "DOM",
         "props": {
          "className": "field interact-widget"
         },
         "type": "node"
        },
        {
         "children": [
          {
           "children": [
            {
             "children": [
              {
               "children": [
                {
                 "children": [
                  "dell"
                 ],
                 "instanceArgs": {
                  "namespace": "html",
                  "tag": "label"
                 },
                 "nodeType": "DOM",
                 "props": {
                  "className": "interact ",
                  "style": {
                   "padding": "5px 10px 0px 10px"
                  }
                 },
                 "type": "node"
                }
               ],
               "instanceArgs": {
                "namespace": "html",
                "tag": "div"
               },
               "nodeType": "DOM",
               "props": {
                "className": "interact-flex-row-left"
               },
               "type": "node"
              },
              {
               "children": [
                {
                 "children": [],
                 "instanceArgs": {
                  "namespace": "html",
                  "tag": "input"
                 },
                 "nodeType": "DOM",
                 "props": {
                  "attributes": {
                   "data-bind": "numericValue: index, valueUpdate: 'input', event: {change: function (){this.changes(this.changes()+1)}}",
                   "orient": "horizontal",
                   "type": "range"
                  },
                  "className": "slider slider is-fullwidth",
                  "max": 99,
                  "min": 1,
                  "step": 1,
                  "style": {}
                 },
                 "type": "node"
                }
               ],
               "instanceArgs": {
                "namespace": "html",
                "tag": "div"
               },
               "nodeType": "DOM",
               "props": {
                "className": "interact-flex-row-center"
               },
               "type": "node"
              },
              {
               "children": [
                {
                 "children": [],
                 "instanceArgs": {
                  "namespace": "html",
                  "tag": "p"
                 },
                 "nodeType": "DOM",
                 "props": {
                  "attributes": {
                   "data-bind": "text: formatted_val"
                  }
                 },
                 "type": "node"
                }
               ],
               "instanceArgs": {
                "namespace": "html",
                "tag": "div"
               },
               "nodeType": "DOM",
               "props": {
                "className": "interact-flex-row-right"
               },
               "type": "node"
              }
             ],
             "instanceArgs": {
              "namespace": "html",
              "tag": "div"
             },
             "nodeType": "DOM",
             "props": {
              "className": "interact-flex-row interact-widget"
             },
             "type": "node"
            }
           ],
           "instanceArgs": {
            "handlers": {
             "changes": [
              "(function (val){return (val!=this.model[\"changes\"]()) ? (this.valueFromJulia[\"changes\"]=true, this.model[\"changes\"](val)) : undefined})"
             ],
             "index": [
              "(function (val){return (val!=this.model[\"index\"]()) ? (this.valueFromJulia[\"index\"]=true, this.model[\"index\"](val)) : undefined})"
             ]
            },
            "id": "10941827464084699045",
            "imports": {
             "data": [
              {
               "name": "knockout",
               "type": "js",
               "url": "/assetserver/46fa30269326aba23141c18b17d8ce39cc329be8-knockout.js"
              },
              {
               "name": "knockout_punches",
               "type": "js",
               "url": "/assetserver/785cf23779dbf5e70842ccdb713d3ca9d688333f-knockout_punches.js"
              },
              {
               "name": null,
               "type": "js",
               "url": "/assetserver/1bc46607af5b174f8ca4d1bfd755db598dcef146-all.js"
              },
              {
               "name": null,
               "type": "css",
               "url": "/assetserver/9824d0edd7ec97f5c88ea78fe99914e216073c09-style.css"
              },
              {
               "name": null,
               "type": "css",
               "url": "/assetserver/1f713bda89a85e38ff51c8784de0dbc492fe903f-bulma_confined.min.css"
              }
             ],
             "type": "async_block"
            },
            "mount_callbacks": [
             "function () {\n    var handler = (function (ko, koPunches) {\n    ko.punches.enableAll();\n    ko.bindingHandlers.numericValue = {\n        init: function(element, valueAccessor, allBindings, data, context) {\n            var stringified = ko.observable(ko.unwrap(valueAccessor()));\n            stringified.subscribe(function(value) {\n                var val = parseFloat(value);\n                if (!isNaN(val)) {\n                    valueAccessor()(val);\n                }\n            });\n            valueAccessor().subscribe(function(value) {\n                var str = JSON.stringify(value);\n                if ((str == \"0\") && ([\"-0\", \"-0.\"].indexOf(stringified()) >= 0))\n                     return;\n                 if ([\"null\", \"\"].indexOf(str) >= 0)\n                     return;\n                stringified(str);\n            });\n            ko.applyBindingsToNode(\n                element,\n                {\n                    value: stringified,\n                    valueUpdate: allBindings.get('valueUpdate'),\n                },\n                context,\n            );\n        }\n    };\n    var json_data = {\"formatted_vals\":[\"-0.98\",\"-0.96\",\"-0.94\",\"-0.92\",\"-0.9\",\"-0.88\",\"-0.86\",\"-0.84\",\"-0.82\",\"-0.8\",\"-0.78\",\"-0.76\",\"-0.74\",\"-0.72\",\"-0.7\",\"-0.68\",\"-0.66\",\"-0.64\",\"-0.62\",\"-0.6\",\"-0.58\",\"-0.56\",\"-0.54\",\"-0.52\",\"-0.5\",\"-0.48\",\"-0.46\",\"-0.44\",\"-0.42\",\"-0.4\",\"-0.38\",\"-0.36\",\"-0.34\",\"-0.32\",\"-0.3\",\"-0.28\",\"-0.26\",\"-0.24\",\"-0.22\",\"-0.2\",\"-0.18\",\"-0.16\",\"-0.14\",\"-0.12\",\"-0.1\",\"-0.08\",\"-0.06\",\"-0.04\",\"-0.02\",\"0.0\",\"0.02\",\"0.04\",\"0.06\",\"0.08\",\"0.1\",\"0.12\",\"0.14\",\"0.16\",\"0.18\",\"0.2\",\"0.22\",\"0.24\",\"0.26\",\"0.28\",\"0.3\",\"0.32\",\"0.34\",\"0.36\",\"0.38\",\"0.4\",\"0.42\",\"0.44\",\"0.46\",\"0.48\",\"0.5\",\"0.52\",\"0.54\",\"0.56\",\"0.58\",\"0.6\",\"0.62\",\"0.64\",\"0.66\",\"0.68\",\"0.7\",\"0.72\",\"0.74\",\"0.76\",\"0.78\",\"0.8\",\"0.82\",\"0.84\",\"0.86\",\"0.88\",\"0.9\",\"0.92\",\"0.94\",\"0.96\",\"0.98\"],\"changes\":WebIO.getval({\"name\":\"changes\",\"scope\":\"10941827464084699045\",\"id\":\"96\",\"type\":\"observable\"}),\"index\":WebIO.getval({\"name\":\"index\",\"scope\":\"10941827464084699045\",\"id\":\"95\",\"type\":\"observable\"})};\n    var self = this;\n    function AppViewModel() {\n        for (var key in json_data) {\n            var el = json_data[key];\n            this[key] = Array.isArray(el) ? ko.observableArray(el) : ko.observable(el);\n        }\n        \n        [this[\"formatted_val\"]=ko.computed(    function(){\n        return this.formatted_vals()[parseInt(this.index())-(1)];\n    }\n,this)]\n        [this[\"changes\"].subscribe((function (val){!(this.valueFromJulia[\"changes\"]) ? (WebIO.setval({\"name\":\"changes\",\"scope\":\"10941827464084699045\",\"id\":\"96\",\"type\":\"observable\"},val)) : undefined; return this.valueFromJulia[\"changes\"]=false}),self),this[\"index\"].subscribe((function (val){!(this.valueFromJulia[\"index\"]) ? (WebIO.setval({\"name\":\"index\",\"scope\":\"10941827464084699045\",\"id\":\"95\",\"type\":\"observable\"},val)) : undefined; return this.valueFromJulia[\"index\"]=false}),self)]\n        \n    }\n    self.model = new AppViewModel();\n    self.valueFromJulia = {};\n    for (var key in json_data) {\n        self.valueFromJulia[key] = false;\n    }\n    ko.applyBindings(self.model, self.dom);\n}\n);\n    (WebIO.importBlock({\"data\":[{\"name\":\"knockout\",\"type\":\"js\",\"url\":\"/assetserver/46fa30269326aba23141c18b17d8ce39cc329be8-knockout.js\"},{\"name\":\"knockout_punches\",\"type\":\"js\",\"url\":\"/assetserver/785cf23779dbf5e70842ccdb713d3ca9d688333f-knockout_punches.js\"}],\"type\":\"async_block\"})).then((imports) => handler.apply(this, imports));\n}\n"
            ],
            "observables": {
             "changes": {
              "id": "96",
              "sync": false,
              "value": 0
             },
             "index": {
              "id": "95",
              "sync": true,
              "value": 50
             }
            },
            "systemjs_options": null
           },
           "nodeType": "Scope",
           "props": {},
           "type": "node"
          }
         ],
         "instanceArgs": {
          "namespace": "html",
          "tag": "div"
         },
         "nodeType": "DOM",
         "props": {
          "className": "field interact-widget"
         },
         "type": "node"
        },
        {
         "children": [
          {
           "children": [
            {
             "children": [
              {
               "children": [
                {
                 "children": [
                  "zetaou"
                 ],
                 "instanceArgs": {
                  "namespace": "html",
                  "tag": "label"
                 },
                 "nodeType": "DOM",
                 "props": {
                  "className": "interact ",
                  "style": {
                   "padding": "5px 10px 0px 10px"
                  }
                 },
                 "type": "node"
                }
               ],
               "instanceArgs": {
                "namespace": "html",
                "tag": "div"
               },
               "nodeType": "DOM",
               "props": {
                "className": "interact-flex-row-left"
               },
               "type": "node"
              },
              {
               "children": [
                {
                 "children": [],
                 "instanceArgs": {
                  "namespace": "html",
                  "tag": "input"
                 },
                 "nodeType": "DOM",
                 "props": {
                  "attributes": {
                   "data-bind": "numericValue: index, valueUpdate: 'input', event: {change: function (){this.changes(this.changes()+1)}}",
                   "orient": "horizontal",
                   "type": "range"
                  },
                  "className": "slider slider is-fullwidth",
                  "max": 101,
                  "min": 1,
                  "step": 1,
                  "style": {}
                 },
                 "type": "node"
                }
               ],
               "instanceArgs": {
                "namespace": "html",
                "tag": "div"
               },
               "nodeType": "DOM",
               "props": {
                "className": "interact-flex-row-center"
               },
               "type": "node"
              },
              {
               "children": [
                {
                 "children": [],
                 "instanceArgs": {
                  "namespace": "html",
                  "tag": "p"
                 },
                 "nodeType": "DOM",
                 "props": {
                  "attributes": {
                   "data-bind": "text: formatted_val"
                  }
                 },
                 "type": "node"
                }
               ],
               "instanceArgs": {
                "namespace": "html",
                "tag": "div"
               },
               "nodeType": "DOM",
               "props": {
                "className": "interact-flex-row-right"
               },
               "type": "node"
              }
             ],
             "instanceArgs": {
              "namespace": "html",
              "tag": "div"
             },
             "nodeType": "DOM",
             "props": {
              "className": "interact-flex-row interact-widget"
             },
             "type": "node"
            }
           ],
           "instanceArgs": {
            "handlers": {
             "changes": [
              "(function (val){return (val!=this.model[\"changes\"]()) ? (this.valueFromJulia[\"changes\"]=true, this.model[\"changes\"](val)) : undefined})"
             ],
             "index": [
              "(function (val){return (val!=this.model[\"index\"]()) ? (this.valueFromJulia[\"index\"]=true, this.model[\"index\"](val)) : undefined})"
             ]
            },
            "id": "8934279776708376573",
            "imports": {
             "data": [
              {
               "name": "knockout",
               "type": "js",
               "url": "/assetserver/46fa30269326aba23141c18b17d8ce39cc329be8-knockout.js"
              },
              {
               "name": "knockout_punches",
               "type": "js",
               "url": "/assetserver/785cf23779dbf5e70842ccdb713d3ca9d688333f-knockout_punches.js"
              },
              {
               "name": null,
               "type": "js",
               "url": "/assetserver/1bc46607af5b174f8ca4d1bfd755db598dcef146-all.js"
              },
              {
               "name": null,
               "type": "css",
               "url": "/assetserver/9824d0edd7ec97f5c88ea78fe99914e216073c09-style.css"
              },
              {
               "name": null,
               "type": "css",
               "url": "/assetserver/1f713bda89a85e38ff51c8784de0dbc492fe903f-bulma_confined.min.css"
              }
             ],
             "type": "async_block"
            },
            "mount_callbacks": [
             "function () {\n    var handler = (function (ko, koPunches) {\n    ko.punches.enableAll();\n    ko.bindingHandlers.numericValue = {\n        init: function(element, valueAccessor, allBindings, data, context) {\n            var stringified = ko.observable(ko.unwrap(valueAccessor()));\n            stringified.subscribe(function(value) {\n                var val = parseFloat(value);\n                if (!isNaN(val)) {\n                    valueAccessor()(val);\n                }\n            });\n            valueAccessor().subscribe(function(value) {\n                var str = JSON.stringify(value);\n                if ((str == \"0\") && ([\"-0\", \"-0.\"].indexOf(stringified()) >= 0))\n                     return;\n                 if ([\"null\", \"\"].indexOf(str) >= 0)\n                     return;\n                stringified(str);\n            });\n            ko.applyBindingsToNode(\n                element,\n                {\n                    value: stringified,\n                    valueUpdate: allBindings.get('valueUpdate'),\n                },\n                context,\n            );\n        }\n    };\n    var json_data = {\"formatted_vals\":[\"-0.707107\",\"-0.690036\",\"-0.672965\",\"-0.655894\",\"-0.638823\",\"-0.621751\",\"-0.60468\",\"-0.587609\",\"-0.570538\",\"-0.553467\",\"-0.536396\",\"-0.519325\",\"-0.502254\",\"-0.485183\",\"-0.468112\",\"-0.451041\",\"-0.43397\",\"-0.416899\",\"-0.399828\",\"-0.382756\",\"-0.365685\",\"-0.348614\",\"-0.331543\",\"-0.314472\",\"-0.297401\",\"-0.28033\",\"-0.263259\",\"-0.246188\",\"-0.229117\",\"-0.212046\",\"-0.194975\",\"-0.177904\",\"-0.160833\",\"-0.143762\",\"-0.12669\",\"-0.109619\",\"-0.0925483\",\"-0.0754773\",\"-0.0584062\",\"-0.0413351\",\"-0.0242641\",\"-0.007193\",\"0.00987807\",\"0.0269491\",\"0.0440202\",\"0.0610913\",\"0.0781623\",\"0.0952334\",\"0.112304\",\"0.129376\",\"0.146447\",\"0.163518\",\"0.180589\",\"0.19766\",\"0.214731\",\"0.231802\",\"0.248873\",\"0.265944\",\"0.283015\",\"0.300086\",\"0.317157\",\"0.334228\",\"0.351299\",\"0.36837\",\"0.385442\",\"0.402513\",\"0.419584\",\"0.436655\",\"0.453726\",\"0.470797\",\"0.487868\",\"0.504939\",\"0.52201\",\"0.539081\",\"0.556152\",\"0.573223\",\"0.590294\",\"0.607365\",\"0.624437\",\"0.641508\",\"0.658579\",\"0.67565\",\"0.692721\",\"0.709792\",\"0.726863\",\"0.743934\",\"0.761005\",\"0.778076\",\"0.795147\",\"0.812218\",\"0.829289\",\"0.84636\",\"0.863431\",\"0.880503\",\"0.897574\",\"0.914645\",\"0.931716\",\"0.948787\",\"0.965858\",\"0.982929\",\"1.0\"],\"changes\":WebIO.getval({\"name\":\"changes\",\"scope\":\"8934279776708376573\",\"id\":\"99\",\"type\":\"observable\"}),\"index\":WebIO.getval({\"name\":\"index\",\"scope\":\"8934279776708376573\",\"id\":\"98\",\"type\":\"observable\"})};\n    var self = this;\n    function AppViewModel() {\n        for (var key in json_data) {\n            var el = json_data[key];\n            this[key] = Array.isArray(el) ? ko.observableArray(el) : ko.observable(el);\n        }\n        \n        [this[\"formatted_val\"]=ko.computed(    function(){\n        return this.formatted_vals()[parseInt(this.index())-(1)];\n    }\n,this)]\n        [this[\"changes\"].subscribe((function (val){!(this.valueFromJulia[\"changes\"]) ? (WebIO.setval({\"name\":\"changes\",\"scope\":\"8934279776708376573\",\"id\":\"99\",\"type\":\"observable\"},val)) : undefined; return this.valueFromJulia[\"changes\"]=false}),self),this[\"index\"].subscribe((function (val){!(this.valueFromJulia[\"index\"]) ? (WebIO.setval({\"name\":\"index\",\"scope\":\"8934279776708376573\",\"id\":\"98\",\"type\":\"observable\"},val)) : undefined; return this.valueFromJulia[\"index\"]=false}),self)]\n        \n    }\n    self.model = new AppViewModel();\n    self.valueFromJulia = {};\n    for (var key in json_data) {\n        self.valueFromJulia[key] = false;\n    }\n    ko.applyBindings(self.model, self.dom);\n}\n);\n    (WebIO.importBlock({\"data\":[{\"name\":\"knockout\",\"type\":\"js\",\"url\":\"/assetserver/46fa30269326aba23141c18b17d8ce39cc329be8-knockout.js\"},{\"name\":\"knockout_punches\",\"type\":\"js\",\"url\":\"/assetserver/785cf23779dbf5e70842ccdb713d3ca9d688333f-knockout_punches.js\"}],\"type\":\"async_block\"})).then((imports) => handler.apply(this, imports));\n}\n"
            ],
            "observables": {
             "changes": {
              "id": "99",
              "sync": false,
              "value": 0
             },
             "index": {
              "id": "98",
              "sync": true,
              "value": 51
             }
            },
            "systemjs_options": null
           },
           "nodeType": "Scope",
           "props": {},
           "type": "node"
          }
         ],
         "instanceArgs": {
          "namespace": "html",
          "tag": "div"
         },
         "nodeType": "DOM",
         "props": {
          "className": "field interact-widget"
         },
         "type": "node"
        },
        {
         "children": [
          {
           "children": [
            {
             "children": [
              {
               "children": [
                {
                 "children": [
                  "zetaiu"
                 ],
                 "instanceArgs": {
                  "namespace": "html",
                  "tag": "label"
                 },
                 "nodeType": "DOM",
                 "props": {
                  "className": "interact ",
                  "style": {
                   "padding": "5px 10px 0px 10px"
                  }
                 },
                 "type": "node"
                }
               ],
               "instanceArgs": {
                "namespace": "html",
                "tag": "div"
               },
               "nodeType": "DOM",
               "props": {
                "className": "interact-flex-row-left"
               },
               "type": "node"
              },
              {
               "children": [
                {
                 "children": [],
                 "instanceArgs": {
                  "namespace": "html",
                  "tag": "input"
                 },
                 "nodeType": "DOM",
                 "props": {
                  "attributes": {
                   "data-bind": "numericValue: index, valueUpdate: 'input', event: {change: function (){this.changes(this.changes()+1)}}",
                   "orient": "horizontal",
                   "type": "range"
                  },
                  "className": "slider slider is-fullwidth",
                  "max": 101,
                  "min": 1,
                  "step": 1,
                  "style": {}
                 },
                 "type": "node"
                }
               ],
               "instanceArgs": {
                "namespace": "html",
                "tag": "div"
               },
               "nodeType": "DOM",
               "props": {
                "className": "interact-flex-row-center"
               },
               "type": "node"
              },
              {
               "children": [
                {
                 "children": [],
                 "instanceArgs": {
                  "namespace": "html",
                  "tag": "p"
                 },
                 "nodeType": "DOM",
                 "props": {
                  "attributes": {
                   "data-bind": "text: formatted_val"
                  }
                 },
                 "type": "node"
                }
               ],
               "instanceArgs": {
                "namespace": "html",
                "tag": "div"
               },
               "nodeType": "DOM",
               "props": {
                "className": "interact-flex-row-right"
               },
               "type": "node"
              }
             ],
             "instanceArgs": {
              "namespace": "html",
              "tag": "div"
             },
             "nodeType": "DOM",
             "props": {
              "className": "interact-flex-row interact-widget"
             },
             "type": "node"
            }
           ],
           "instanceArgs": {
            "handlers": {
             "changes": [
              "(function (val){return (val!=this.model[\"changes\"]()) ? (this.valueFromJulia[\"changes\"]=true, this.model[\"changes\"](val)) : undefined})"
             ],
             "index": [
              "(function (val){return (val!=this.model[\"index\"]()) ? (this.valueFromJulia[\"index\"]=true, this.model[\"index\"](val)) : undefined})"
             ]
            },
            "id": "18376781133146718276",
            "imports": {
             "data": [
              {
               "name": "knockout",
               "type": "js",
               "url": "/assetserver/46fa30269326aba23141c18b17d8ce39cc329be8-knockout.js"
              },
              {
               "name": "knockout_punches",
               "type": "js",
               "url": "/assetserver/785cf23779dbf5e70842ccdb713d3ca9d688333f-knockout_punches.js"
              },
              {
               "name": null,
               "type": "js",
               "url": "/assetserver/1bc46607af5b174f8ca4d1bfd755db598dcef146-all.js"
              },
              {
               "name": null,
               "type": "css",
               "url": "/assetserver/9824d0edd7ec97f5c88ea78fe99914e216073c09-style.css"
              },
              {
               "name": null,
               "type": "css",
               "url": "/assetserver/1f713bda89a85e38ff51c8784de0dbc492fe903f-bulma_confined.min.css"
              }
             ],
             "type": "async_block"
            },
            "mount_callbacks": [
             "function () {\n    var handler = (function (ko, koPunches) {\n    ko.punches.enableAll();\n    ko.bindingHandlers.numericValue = {\n        init: function(element, valueAccessor, allBindings, data, context) {\n            var stringified = ko.observable(ko.unwrap(valueAccessor()));\n            stringified.subscribe(function(value) {\n                var val = parseFloat(value);\n                if (!isNaN(val)) {\n                    valueAccessor()(val);\n                }\n            });\n            valueAccessor().subscribe(function(value) {\n                var str = JSON.stringify(value);\n                if ((str == \"0\") && ([\"-0\", \"-0.\"].indexOf(stringified()) >= 0))\n                     return;\n                 if ([\"null\", \"\"].indexOf(str) >= 0)\n                     return;\n                stringified(str);\n            });\n            ko.applyBindingsToNode(\n                element,\n                {\n                    value: stringified,\n                    valueUpdate: allBindings.get('valueUpdate'),\n                },\n                context,\n            );\n        }\n    };\n    var json_data = {\"formatted_vals\":[\"-0.707107\",\"-0.690036\",\"-0.672965\",\"-0.655894\",\"-0.638823\",\"-0.621751\",\"-0.60468\",\"-0.587609\",\"-0.570538\",\"-0.553467\",\"-0.536396\",\"-0.519325\",\"-0.502254\",\"-0.485183\",\"-0.468112\",\"-0.451041\",\"-0.43397\",\"-0.416899\",\"-0.399828\",\"-0.382756\",\"-0.365685\",\"-0.348614\",\"-0.331543\",\"-0.314472\",\"-0.297401\",\"-0.28033\",\"-0.263259\",\"-0.246188\",\"-0.229117\",\"-0.212046\",\"-0.194975\",\"-0.177904\",\"-0.160833\",\"-0.143762\",\"-0.12669\",\"-0.109619\",\"-0.0925483\",\"-0.0754773\",\"-0.0584062\",\"-0.0413351\",\"-0.0242641\",\"-0.007193\",\"0.00987807\",\"0.0269491\",\"0.0440202\",\"0.0610913\",\"0.0781623\",\"0.0952334\",\"0.112304\",\"0.129376\",\"0.146447\",\"0.163518\",\"0.180589\",\"0.19766\",\"0.214731\",\"0.231802\",\"0.248873\",\"0.265944\",\"0.283015\",\"0.300086\",\"0.317157\",\"0.334228\",\"0.351299\",\"0.36837\",\"0.385442\",\"0.402513\",\"0.419584\",\"0.436655\",\"0.453726\",\"0.470797\",\"0.487868\",\"0.504939\",\"0.52201\",\"0.539081\",\"0.556152\",\"0.573223\",\"0.590294\",\"0.607365\",\"0.624437\",\"0.641508\",\"0.658579\",\"0.67565\",\"0.692721\",\"0.709792\",\"0.726863\",\"0.743934\",\"0.761005\",\"0.778076\",\"0.795147\",\"0.812218\",\"0.829289\",\"0.84636\",\"0.863431\",\"0.880503\",\"0.897574\",\"0.914645\",\"0.931716\",\"0.948787\",\"0.965858\",\"0.982929\",\"1.0\"],\"changes\":WebIO.getval({\"name\":\"changes\",\"scope\":\"18376781133146718276\",\"id\":\"102\",\"type\":\"observable\"}),\"index\":WebIO.getval({\"name\":\"index\",\"scope\":\"18376781133146718276\",\"id\":\"101\",\"type\":\"observable\"})};\n    var self = this;\n    function AppViewModel() {\n        for (var key in json_data) {\n            var el = json_data[key];\n            this[key] = Array.isArray(el) ? ko.observableArray(el) : ko.observable(el);\n        }\n        \n        [this[\"formatted_val\"]=ko.computed(    function(){\n        return this.formatted_vals()[parseInt(this.index())-(1)];\n    }\n,this)]\n        [this[\"changes\"].subscribe((function (val){!(this.valueFromJulia[\"changes\"]) ? (WebIO.setval({\"name\":\"changes\",\"scope\":\"18376781133146718276\",\"id\":\"102\",\"type\":\"observable\"},val)) : undefined; return this.valueFromJulia[\"changes\"]=false}),self),this[\"index\"].subscribe((function (val){!(this.valueFromJulia[\"index\"]) ? (WebIO.setval({\"name\":\"index\",\"scope\":\"18376781133146718276\",\"id\":\"101\",\"type\":\"observable\"},val)) : undefined; return this.valueFromJulia[\"index\"]=false}),self)]\n        \n    }\n    self.model = new AppViewModel();\n    self.valueFromJulia = {};\n    for (var key in json_data) {\n        self.valueFromJulia[key] = false;\n    }\n    ko.applyBindings(self.model, self.dom);\n}\n);\n    (WebIO.importBlock({\"data\":[{\"name\":\"knockout\",\"type\":\"js\",\"url\":\"/assetserver/46fa30269326aba23141c18b17d8ce39cc329be8-knockout.js\"},{\"name\":\"knockout_punches\",\"type\":\"js\",\"url\":\"/assetserver/785cf23779dbf5e70842ccdb713d3ca9d688333f-knockout_punches.js\"}],\"type\":\"async_block\"})).then((imports) => handler.apply(this, imports));\n}\n"
            ],
            "observables": {
             "changes": {
              "id": "102",
              "sync": false,
              "value": 0
             },
             "index": {
              "id": "101",
              "sync": true,
              "value": 51
             }
            },
            "systemjs_options": null
           },
           "nodeType": "Scope",
           "props": {},
           "type": "node"
          }
         ],
         "instanceArgs": {
          "namespace": "html",
          "tag": "div"
         },
         "nodeType": "DOM",
         "props": {
          "className": "field interact-widget"
         },
         "type": "node"
        },
        {
         "children": [
          {
           "children": [
            {
             "children": [
              {
               "children": [
                {
                 "children": [
                  "zetaol"
                 ],
                 "instanceArgs": {
                  "namespace": "html",
                  "tag": "label"
                 },
                 "nodeType": "DOM",
                 "props": {
                  "className": "interact ",
                  "style": {
                   "padding": "5px 10px 0px 10px"
                  }
                 },
                 "type": "node"
                }
               ],
               "instanceArgs": {
                "namespace": "html",
                "tag": "div"
               },
               "nodeType": "DOM",
               "props": {
                "className": "interact-flex-row-left"
               },
               "type": "node"
              },
              {
               "children": [
                {
                 "children": [],
                 "instanceArgs": {
                  "namespace": "html",
                  "tag": "input"
                 },
                 "nodeType": "DOM",
                 "props": {
                  "attributes": {
                   "data-bind": "numericValue: index, valueUpdate: 'input', event: {change: function (){this.changes(this.changes()+1)}}",
                   "orient": "horizontal",
                   "type": "range"
                  },
                  "className": "slider slider is-fullwidth",
                  "max": 101,
                  "min": 1,
                  "step": 1,
                  "style": {}
                 },
                 "type": "node"
                }
               ],
               "instanceArgs": {
                "namespace": "html",
                "tag": "div"
               },
               "nodeType": "DOM",
               "props": {
                "className": "interact-flex-row-center"
               },
               "type": "node"
              },
              {
               "children": [
                {
                 "children": [],
                 "instanceArgs": {
                  "namespace": "html",
                  "tag": "p"
                 },
                 "nodeType": "DOM",
                 "props": {
                  "attributes": {
                   "data-bind": "text: formatted_val"
                  }
                 },
                 "type": "node"
                }
               ],
               "instanceArgs": {
                "namespace": "html",
                "tag": "div"
               },
               "nodeType": "DOM",
               "props": {
                "className": "interact-flex-row-right"
               },
               "type": "node"
              }
             ],
             "instanceArgs": {
              "namespace": "html",
              "tag": "div"
             },
             "nodeType": "DOM",
             "props": {
              "className": "interact-flex-row interact-widget"
             },
             "type": "node"
            }
           ],
           "instanceArgs": {
            "handlers": {
             "changes": [
              "(function (val){return (val!=this.model[\"changes\"]()) ? (this.valueFromJulia[\"changes\"]=true, this.model[\"changes\"](val)) : undefined})"
             ],
             "index": [
              "(function (val){return (val!=this.model[\"index\"]()) ? (this.valueFromJulia[\"index\"]=true, this.model[\"index\"](val)) : undefined})"
             ]
            },
            "id": "6581550070857795974",
            "imports": {
             "data": [
              {
               "name": "knockout",
               "type": "js",
               "url": "/assetserver/46fa30269326aba23141c18b17d8ce39cc329be8-knockout.js"
              },
              {
               "name": "knockout_punches",
               "type": "js",
               "url": "/assetserver/785cf23779dbf5e70842ccdb713d3ca9d688333f-knockout_punches.js"
              },
              {
               "name": null,
               "type": "js",
               "url": "/assetserver/1bc46607af5b174f8ca4d1bfd755db598dcef146-all.js"
              },
              {
               "name": null,
               "type": "css",
               "url": "/assetserver/9824d0edd7ec97f5c88ea78fe99914e216073c09-style.css"
              },
              {
               "name": null,
               "type": "css",
               "url": "/assetserver/1f713bda89a85e38ff51c8784de0dbc492fe903f-bulma_confined.min.css"
              }
             ],
             "type": "async_block"
            },
            "mount_callbacks": [
             "function () {\n    var handler = (function (ko, koPunches) {\n    ko.punches.enableAll();\n    ko.bindingHandlers.numericValue = {\n        init: function(element, valueAccessor, allBindings, data, context) {\n            var stringified = ko.observable(ko.unwrap(valueAccessor()));\n            stringified.subscribe(function(value) {\n                var val = parseFloat(value);\n                if (!isNaN(val)) {\n                    valueAccessor()(val);\n                }\n            });\n            valueAccessor().subscribe(function(value) {\n                var str = JSON.stringify(value);\n                if ((str == \"0\") && ([\"-0\", \"-0.\"].indexOf(stringified()) >= 0))\n                     return;\n                 if ([\"null\", \"\"].indexOf(str) >= 0)\n                     return;\n                stringified(str);\n            });\n            ko.applyBindingsToNode(\n                element,\n                {\n                    value: stringified,\n                    valueUpdate: allBindings.get('valueUpdate'),\n                },\n                context,\n            );\n        }\n    };\n    var json_data = {\"formatted_vals\":[\"-0.707107\",\"-0.690036\",\"-0.672965\",\"-0.655894\",\"-0.638823\",\"-0.621751\",\"-0.60468\",\"-0.587609\",\"-0.570538\",\"-0.553467\",\"-0.536396\",\"-0.519325\",\"-0.502254\",\"-0.485183\",\"-0.468112\",\"-0.451041\",\"-0.43397\",\"-0.416899\",\"-0.399828\",\"-0.382756\",\"-0.365685\",\"-0.348614\",\"-0.331543\",\"-0.314472\",\"-0.297401\",\"-0.28033\",\"-0.263259\",\"-0.246188\",\"-0.229117\",\"-0.212046\",\"-0.194975\",\"-0.177904\",\"-0.160833\",\"-0.143762\",\"-0.12669\",\"-0.109619\",\"-0.0925483\",\"-0.0754773\",\"-0.0584062\",\"-0.0413351\",\"-0.0242641\",\"-0.007193\",\"0.00987807\",\"0.0269491\",\"0.0440202\",\"0.0610913\",\"0.0781623\",\"0.0952334\",\"0.112304\",\"0.129376\",\"0.146447\",\"0.163518\",\"0.180589\",\"0.19766\",\"0.214731\",\"0.231802\",\"0.248873\",\"0.265944\",\"0.283015\",\"0.300086\",\"0.317157\",\"0.334228\",\"0.351299\",\"0.36837\",\"0.385442\",\"0.402513\",\"0.419584\",\"0.436655\",\"0.453726\",\"0.470797\",\"0.487868\",\"0.504939\",\"0.52201\",\"0.539081\",\"0.556152\",\"0.573223\",\"0.590294\",\"0.607365\",\"0.624437\",\"0.641508\",\"0.658579\",\"0.67565\",\"0.692721\",\"0.709792\",\"0.726863\",\"0.743934\",\"0.761005\",\"0.778076\",\"0.795147\",\"0.812218\",\"0.829289\",\"0.84636\",\"0.863431\",\"0.880503\",\"0.897574\",\"0.914645\",\"0.931716\",\"0.948787\",\"0.965858\",\"0.982929\",\"1.0\"],\"changes\":WebIO.getval({\"name\":\"changes\",\"scope\":\"6581550070857795974\",\"id\":\"105\",\"type\":\"observable\"}),\"index\":WebIO.getval({\"name\":\"index\",\"scope\":\"6581550070857795974\",\"id\":\"104\",\"type\":\"observable\"})};\n    var self = this;\n    function AppViewModel() {\n        for (var key in json_data) {\n            var el = json_data[key];\n            this[key] = Array.isArray(el) ? ko.observableArray(el) : ko.observable(el);\n        }\n        \n        [this[\"formatted_val\"]=ko.computed(    function(){\n        return this.formatted_vals()[parseInt(this.index())-(1)];\n    }\n,this)]\n        [this[\"changes\"].subscribe((function (val){!(this.valueFromJulia[\"changes\"]) ? (WebIO.setval({\"name\":\"changes\",\"scope\":\"6581550070857795974\",\"id\":\"105\",\"type\":\"observable\"},val)) : undefined; return this.valueFromJulia[\"changes\"]=false}),self),this[\"index\"].subscribe((function (val){!(this.valueFromJulia[\"index\"]) ? (WebIO.setval({\"name\":\"index\",\"scope\":\"6581550070857795974\",\"id\":\"104\",\"type\":\"observable\"},val)) : undefined; return this.valueFromJulia[\"index\"]=false}),self)]\n        \n    }\n    self.model = new AppViewModel();\n    self.valueFromJulia = {};\n    for (var key in json_data) {\n        self.valueFromJulia[key] = false;\n    }\n    ko.applyBindings(self.model, self.dom);\n}\n);\n    (WebIO.importBlock({\"data\":[{\"name\":\"knockout\",\"type\":\"js\",\"url\":\"/assetserver/46fa30269326aba23141c18b17d8ce39cc329be8-knockout.js\"},{\"name\":\"knockout_punches\",\"type\":\"js\",\"url\":\"/assetserver/785cf23779dbf5e70842ccdb713d3ca9d688333f-knockout_punches.js\"}],\"type\":\"async_block\"})).then((imports) => handler.apply(this, imports));\n}\n"
            ],
            "observables": {
             "changes": {
              "id": "105",
              "sync": false,
              "value": 0
             },
             "index": {
              "id": "104",
              "sync": true,
              "value": 51
             }
            },
            "systemjs_options": null
           },
           "nodeType": "Scope",
           "props": {},
           "type": "node"
          }
         ],
         "instanceArgs": {
          "namespace": "html",
          "tag": "div"
         },
         "nodeType": "DOM",
         "props": {
          "className": "field interact-widget"
         },
         "type": "node"
        },
        {
         "children": [
          {
           "children": [
            {
             "children": [
              {
               "children": [
                {
                 "children": [
                  "zetail"
                 ],
                 "instanceArgs": {
                  "namespace": "html",
                  "tag": "label"
                 },
                 "nodeType": "DOM",
                 "props": {
                  "className": "interact ",
                  "style": {
                   "padding": "5px 10px 0px 10px"
                  }
                 },
                 "type": "node"
                }
               ],
               "instanceArgs": {
                "namespace": "html",
                "tag": "div"
               },
               "nodeType": "DOM",
               "props": {
                "className": "interact-flex-row-left"
               },
               "type": "node"
              },
              {
               "children": [
                {
                 "children": [],
                 "instanceArgs": {
                  "namespace": "html",
                  "tag": "input"
                 },
                 "nodeType": "DOM",
                 "props": {
                  "attributes": {
                   "data-bind": "numericValue: index, valueUpdate: 'input', event: {change: function (){this.changes(this.changes()+1)}}",
                   "orient": "horizontal",
                   "type": "range"
                  },
                  "className": "slider slider is-fullwidth",
                  "max": 101,
                  "min": 1,
                  "step": 1,
                  "style": {}
                 },
                 "type": "node"
                }
               ],
               "instanceArgs": {
                "namespace": "html",
                "tag": "div"
               },
               "nodeType": "DOM",
               "props": {
                "className": "interact-flex-row-center"
               },
               "type": "node"
              },
              {
               "children": [
                {
                 "children": [],
                 "instanceArgs": {
                  "namespace": "html",
                  "tag": "p"
                 },
                 "nodeType": "DOM",
                 "props": {
                  "attributes": {
                   "data-bind": "text: formatted_val"
                  }
                 },
                 "type": "node"
                }
               ],
               "instanceArgs": {
                "namespace": "html",
                "tag": "div"
               },
               "nodeType": "DOM",
               "props": {
                "className": "interact-flex-row-right"
               },
               "type": "node"
              }
             ],
             "instanceArgs": {
              "namespace": "html",
              "tag": "div"
             },
             "nodeType": "DOM",
             "props": {
              "className": "interact-flex-row interact-widget"
             },
             "type": "node"
            }
           ],
           "instanceArgs": {
            "handlers": {
             "changes": [
              "(function (val){return (val!=this.model[\"changes\"]()) ? (this.valueFromJulia[\"changes\"]=true, this.model[\"changes\"](val)) : undefined})"
             ],
             "index": [
              "(function (val){return (val!=this.model[\"index\"]()) ? (this.valueFromJulia[\"index\"]=true, this.model[\"index\"](val)) : undefined})"
             ]
            },
            "id": "1444260074206144014",
            "imports": {
             "data": [
              {
               "name": "knockout",
               "type": "js",
               "url": "/assetserver/46fa30269326aba23141c18b17d8ce39cc329be8-knockout.js"
              },
              {
               "name": "knockout_punches",
               "type": "js",
               "url": "/assetserver/785cf23779dbf5e70842ccdb713d3ca9d688333f-knockout_punches.js"
              },
              {
               "name": null,
               "type": "js",
               "url": "/assetserver/1bc46607af5b174f8ca4d1bfd755db598dcef146-all.js"
              },
              {
               "name": null,
               "type": "css",
               "url": "/assetserver/9824d0edd7ec97f5c88ea78fe99914e216073c09-style.css"
              },
              {
               "name": null,
               "type": "css",
               "url": "/assetserver/1f713bda89a85e38ff51c8784de0dbc492fe903f-bulma_confined.min.css"
              }
             ],
             "type": "async_block"
            },
            "mount_callbacks": [
             "function () {\n    var handler = (function (ko, koPunches) {\n    ko.punches.enableAll();\n    ko.bindingHandlers.numericValue = {\n        init: function(element, valueAccessor, allBindings, data, context) {\n            var stringified = ko.observable(ko.unwrap(valueAccessor()));\n            stringified.subscribe(function(value) {\n                var val = parseFloat(value);\n                if (!isNaN(val)) {\n                    valueAccessor()(val);\n                }\n            });\n            valueAccessor().subscribe(function(value) {\n                var str = JSON.stringify(value);\n                if ((str == \"0\") && ([\"-0\", \"-0.\"].indexOf(stringified()) >= 0))\n                     return;\n                 if ([\"null\", \"\"].indexOf(str) >= 0)\n                     return;\n                stringified(str);\n            });\n            ko.applyBindingsToNode(\n                element,\n                {\n                    value: stringified,\n                    valueUpdate: allBindings.get('valueUpdate'),\n                },\n                context,\n            );\n        }\n    };\n    var json_data = {\"formatted_vals\":[\"-0.707107\",\"-0.690036\",\"-0.672965\",\"-0.655894\",\"-0.638823\",\"-0.621751\",\"-0.60468\",\"-0.587609\",\"-0.570538\",\"-0.553467\",\"-0.536396\",\"-0.519325\",\"-0.502254\",\"-0.485183\",\"-0.468112\",\"-0.451041\",\"-0.43397\",\"-0.416899\",\"-0.399828\",\"-0.382756\",\"-0.365685\",\"-0.348614\",\"-0.331543\",\"-0.314472\",\"-0.297401\",\"-0.28033\",\"-0.263259\",\"-0.246188\",\"-0.229117\",\"-0.212046\",\"-0.194975\",\"-0.177904\",\"-0.160833\",\"-0.143762\",\"-0.12669\",\"-0.109619\",\"-0.0925483\",\"-0.0754773\",\"-0.0584062\",\"-0.0413351\",\"-0.0242641\",\"-0.007193\",\"0.00987807\",\"0.0269491\",\"0.0440202\",\"0.0610913\",\"0.0781623\",\"0.0952334\",\"0.112304\",\"0.129376\",\"0.146447\",\"0.163518\",\"0.180589\",\"0.19766\",\"0.214731\",\"0.231802\",\"0.248873\",\"0.265944\",\"0.283015\",\"0.300086\",\"0.317157\",\"0.334228\",\"0.351299\",\"0.36837\",\"0.385442\",\"0.402513\",\"0.419584\",\"0.436655\",\"0.453726\",\"0.470797\",\"0.487868\",\"0.504939\",\"0.52201\",\"0.539081\",\"0.556152\",\"0.573223\",\"0.590294\",\"0.607365\",\"0.624437\",\"0.641508\",\"0.658579\",\"0.67565\",\"0.692721\",\"0.709792\",\"0.726863\",\"0.743934\",\"0.761005\",\"0.778076\",\"0.795147\",\"0.812218\",\"0.829289\",\"0.84636\",\"0.863431\",\"0.880503\",\"0.897574\",\"0.914645\",\"0.931716\",\"0.948787\",\"0.965858\",\"0.982929\",\"1.0\"],\"changes\":WebIO.getval({\"name\":\"changes\",\"scope\":\"1444260074206144014\",\"id\":\"108\",\"type\":\"observable\"}),\"index\":WebIO.getval({\"name\":\"index\",\"scope\":\"1444260074206144014\",\"id\":\"107\",\"type\":\"observable\"})};\n    var self = this;\n    function AppViewModel() {\n        for (var key in json_data) {\n            var el = json_data[key];\n            this[key] = Array.isArray(el) ? ko.observableArray(el) : ko.observable(el);\n        }\n        \n        [this[\"formatted_val\"]=ko.computed(    function(){\n        return this.formatted_vals()[parseInt(this.index())-(1)];\n    }\n,this)]\n        [this[\"changes\"].subscribe((function (val){!(this.valueFromJulia[\"changes\"]) ? (WebIO.setval({\"name\":\"changes\",\"scope\":\"1444260074206144014\",\"id\":\"108\",\"type\":\"observable\"},val)) : undefined; return this.valueFromJulia[\"changes\"]=false}),self),this[\"index\"].subscribe((function (val){!(this.valueFromJulia[\"index\"]) ? (WebIO.setval({\"name\":\"index\",\"scope\":\"1444260074206144014\",\"id\":\"107\",\"type\":\"observable\"},val)) : undefined; return this.valueFromJulia[\"index\"]=false}),self)]\n        \n    }\n    self.model = new AppViewModel();\n    self.valueFromJulia = {};\n    for (var key in json_data) {\n        self.valueFromJulia[key] = false;\n    }\n    ko.applyBindings(self.model, self.dom);\n}\n);\n    (WebIO.importBlock({\"data\":[{\"name\":\"knockout\",\"type\":\"js\",\"url\":\"/assetserver/46fa30269326aba23141c18b17d8ce39cc329be8-knockout.js\"},{\"name\":\"knockout_punches\",\"type\":\"js\",\"url\":\"/assetserver/785cf23779dbf5e70842ccdb713d3ca9d688333f-knockout_punches.js\"}],\"type\":\"async_block\"})).then((imports) => handler.apply(this, imports));\n}\n"
            ],
            "observables": {
             "changes": {
              "id": "108",
              "sync": false,
              "value": 0
             },
             "index": {
              "id": "107",
              "sync": true,
              "value": 51
             }
            },
            "systemjs_options": null
           },
           "nodeType": "Scope",
           "props": {},
           "type": "node"
          }
         ],
         "instanceArgs": {
          "namespace": "html",
          "tag": "div"
         },
         "nodeType": "DOM",
         "props": {
          "className": "field interact-widget"
         },
         "type": "node"
        },
        {
         "children": [
          {
           "children": [],
           "instanceArgs": {
            "id": "114",
            "name": "obs-node"
           },
           "nodeType": "ObservableNode",
           "props": {},
           "type": "node"
          }
         ],
         "instanceArgs": {
          "handlers": {},
          "id": "15523770608250624445",
          "imports": {
           "data": [],
           "type": "async_block"
          },
          "mount_callbacks": [],
          "observables": {
           "obs-node": {
            "id": "114",
            "sync": false,
            "value": {
             "children": [
              {
               "children": [],
               "instanceArgs": {
                "namespace": "html",
                "tag": "div"
               },
               "nodeType": "DOM",
               "props": {
                "setInnerHtml": "<?xml version=\"1.0\" encoding=\"utf-8\"?>\n<svg xmlns=\"http://www.w3.org/2000/svg\" xmlns:xlink=\"http://www.w3.org/1999/xlink\" width=\"600\" height=\"400\" viewBox=\"0 0 2400 1600\">\n<defs>\n  <clipPath id=\"clip210\">\n    <rect x=\"0\" y=\"0\" width=\"2400\" height=\"1600\"/>\n  </clipPath>\n</defs>\n<path clip-path=\"url(#clip210)\" d=\"M0 1600 L2400 1600 L2400 8.88178e-14 L0 8.88178e-14  Z\" fill=\"#ffffff\" fill-rule=\"evenodd\" fill-opacity=\"1\"/>\n<defs>\n  <clipPath id=\"clip211\">\n    <rect x=\"480\" y=\"0\" width=\"1681\" height=\"1600\"/>\n  </clipPath>\n</defs>\n<path clip-path=\"url(#clip210)\" d=\"M178.867 1486.45 L2352.76 1486.45 L2352.76 47.2441 L178.867 47.2441  Z\" fill=\"#ffffff\" fill-rule=\"evenodd\" fill-opacity=\"1\"/>\n<defs>\n  <clipPath id=\"clip212\">\n    <rect x=\"178\" y=\"47\" width=\"2175\" height=\"1440\"/>\n  </clipPath>\n</defs>\n<polyline clip-path=\"url(#clip212)\" style=\"stroke:#000000; stroke-linecap:round; stroke-linejoin:round; stroke-width:2; stroke-opacity:0.1; fill:none\" points=\"312.592,1486.45 312.592,47.2441 \"/>\n<polyline clip-path=\"url(#clip212)\" style=\"stroke:#000000; stroke-linecap:round; stroke-linejoin:round; stroke-width:2; stroke-opacity:0.1; fill:none\" points=\"648.666,1486.45 648.666,47.2441 \"/>\n<polyline clip-path=\"url(#clip212)\" style=\"stroke:#000000; stroke-linecap:round; stroke-linejoin:round; stroke-width:2; stroke-opacity:0.1; fill:none\" points=\"984.74,1486.45 984.74,47.2441 \"/>\n<polyline clip-path=\"url(#clip212)\" style=\"stroke:#000000; stroke-linecap:round; stroke-linejoin:round; stroke-width:2; stroke-opacity:0.1; fill:none\" points=\"1320.81,1486.45 1320.81,47.2441 \"/>\n<polyline clip-path=\"url(#clip212)\" style=\"stroke:#000000; stroke-linecap:round; stroke-linejoin:round; stroke-width:2; stroke-opacity:0.1; fill:none\" points=\"1656.89,1486.45 1656.89,47.2441 \"/>\n<polyline clip-path=\"url(#clip212)\" style=\"stroke:#000000; stroke-linecap:round; stroke-linejoin:round; stroke-width:2; stroke-opacity:0.1; fill:none\" points=\"1992.96,1486.45 1992.96,47.2441 \"/>\n<polyline clip-path=\"url(#clip212)\" style=\"stroke:#000000; stroke-linecap:round; stroke-linejoin:round; stroke-width:2; stroke-opacity:0.1; fill:none\" points=\"2329.04,1486.45 2329.04,47.2441 \"/>\n<polyline clip-path=\"url(#clip210)\" style=\"stroke:#000000; stroke-linecap:round; stroke-linejoin:round; stroke-width:4; stroke-opacity:1; fill:none\" points=\"178.867,1486.45 2352.76,1486.45 \"/>\n<polyline clip-path=\"url(#clip210)\" style=\"stroke:#000000; stroke-linecap:round; stroke-linejoin:round; stroke-width:4; stroke-opacity:1; fill:none\" points=\"312.592,1486.45 312.592,1467.55 \"/>\n<polyline clip-path=\"url(#clip210)\" style=\"stroke:#000000; stroke-linecap:round; stroke-linejoin:round; stroke-width:4; stroke-opacity:1; fill:none\" points=\"648.666,1486.45 648.666,1467.55 \"/>\n<polyline clip-path=\"url(#clip210)\" style=\"stroke:#000000; stroke-linecap:round; stroke-linejoin:round; stroke-width:4; stroke-opacity:1; fill:none\" points=\"984.74,1486.45 984.74,1467.55 \"/>\n<polyline clip-path=\"url(#clip210)\" style=\"stroke:#000000; stroke-linecap:round; stroke-linejoin:round; stroke-width:4; stroke-opacity:1; fill:none\" points=\"1320.81,1486.45 1320.81,1467.55 \"/>\n<polyline clip-path=\"url(#clip210)\" style=\"stroke:#000000; stroke-linecap:round; stroke-linejoin:round; stroke-width:4; stroke-opacity:1; fill:none\" points=\"1656.89,1486.45 1656.89,1467.55 \"/>\n<polyline clip-path=\"url(#clip210)\" style=\"stroke:#000000; stroke-linecap:round; stroke-linejoin:round; stroke-width:4; stroke-opacity:1; fill:none\" points=\"1992.96,1486.45 1992.96,1467.55 \"/>\n<polyline clip-path=\"url(#clip210)\" style=\"stroke:#000000; stroke-linecap:round; stroke-linejoin:round; stroke-width:4; stroke-opacity:1; fill:none\" points=\"2329.04,1486.45 2329.04,1467.55 \"/>\n<path clip-path=\"url(#clip210)\" d=\"M282.233 1532.02 L311.909 1532.02 L311.909 1535.95 L282.233 1535.95 L282.233 1532.02 Z\" fill=\"#000000\" fill-rule=\"nonzero\" fill-opacity=\"1\" /><path clip-path=\"url(#clip210)\" d=\"M322.048 1514.29 L340.404 1514.29 L340.404 1518.22 L326.33 1518.22 L326.33 1526.7 Q327.348 1526.35 328.367 1526.19 Q329.385 1526 330.404 1526 Q336.191 1526 339.571 1529.17 Q342.95 1532.34 342.95 1537.76 Q342.95 1543.34 339.478 1546.44 Q336.006 1549.52 329.686 1549.52 Q327.51 1549.52 325.242 1549.15 Q322.997 1548.78 320.589 1548.04 L320.589 1543.34 Q322.673 1544.47 324.895 1545.03 Q327.117 1545.58 329.594 1545.58 Q333.598 1545.58 335.936 1543.48 Q338.274 1541.37 338.274 1537.76 Q338.274 1534.15 335.936 1532.04 Q333.598 1529.94 329.594 1529.94 Q327.719 1529.94 325.844 1530.35 Q323.992 1530.77 322.048 1531.65 L322.048 1514.29 Z\" fill=\"#000000\" fill-rule=\"nonzero\" fill-opacity=\"1\" /><path clip-path=\"url(#clip210)\" d=\"M648.666 1517.37 Q645.054 1517.37 643.226 1520.93 Q641.42 1524.47 641.42 1531.6 Q641.42 1538.71 643.226 1542.27 Q645.054 1545.82 648.666 1545.82 Q652.3 1545.82 654.105 1542.27 Q655.934 1538.71 655.934 1531.6 Q655.934 1524.47 654.105 1520.93 Q652.3 1517.37 648.666 1517.37 M648.666 1513.66 Q654.476 1513.66 657.531 1518.27 Q660.61 1522.85 660.61 1531.6 Q660.61 1540.33 657.531 1544.94 Q654.476 1549.52 648.666 1549.52 Q642.855 1549.52 639.777 1544.94 Q636.721 1540.33 636.721 1531.6 Q636.721 1522.85 639.777 1518.27 Q642.855 1513.66 648.666 1513.66 Z\" fill=\"#000000\" fill-rule=\"nonzero\" fill-opacity=\"1\" /><path clip-path=\"url(#clip210)\" d=\"M975.017 1514.29 L993.374 1514.29 L993.374 1518.22 L979.3 1518.22 L979.3 1526.7 Q980.318 1526.35 981.337 1526.19 Q982.355 1526 983.374 1526 Q989.161 1526 992.54 1529.17 Q995.92 1532.34 995.92 1537.76 Q995.92 1543.34 992.448 1546.44 Q988.976 1549.52 982.656 1549.52 Q980.48 1549.52 978.212 1549.15 Q975.966 1548.78 973.559 1548.04 L973.559 1543.34 Q975.642 1544.47 977.865 1545.03 Q980.087 1545.58 982.564 1545.58 Q986.568 1545.58 988.906 1543.48 Q991.244 1541.37 991.244 1537.76 Q991.244 1534.15 988.906 1532.04 Q986.568 1529.94 982.564 1529.94 Q980.689 1529.94 978.814 1530.35 Q976.962 1530.77 975.017 1531.65 L975.017 1514.29 Z\" fill=\"#000000\" fill-rule=\"nonzero\" fill-opacity=\"1\" /><path clip-path=\"url(#clip210)\" d=\"M1295.5 1544.91 L1303.14 1544.91 L1303.14 1518.55 L1294.83 1520.21 L1294.83 1515.95 L1303.09 1514.29 L1307.77 1514.29 L1307.77 1544.91 L1315.41 1544.91 L1315.41 1548.85 L1295.5 1548.85 L1295.5 1544.91 Z\" fill=\"#000000\" fill-rule=\"nonzero\" fill-opacity=\"1\" /><path clip-path=\"url(#clip210)\" d=\"M1334.85 1517.37 Q1331.24 1517.37 1329.41 1520.93 Q1327.61 1524.47 1327.61 1531.6 Q1327.61 1538.71 1329.41 1542.27 Q1331.24 1545.82 1334.85 1545.82 Q1338.49 1545.82 1340.29 1542.27 Q1342.12 1538.71 1342.12 1531.6 Q1342.12 1524.47 1340.29 1520.93 Q1338.49 1517.37 1334.85 1517.37 M1334.85 1513.66 Q1340.66 1513.66 1343.72 1518.27 Q1346.8 1522.85 1346.8 1531.6 Q1346.8 1540.33 1343.72 1544.94 Q1340.66 1549.52 1334.85 1549.52 Q1329.04 1549.52 1325.96 1544.94 Q1322.91 1540.33 1322.91 1531.6 Q1322.91 1522.85 1325.96 1518.27 Q1329.04 1513.66 1334.85 1513.66 Z\" fill=\"#000000\" fill-rule=\"nonzero\" fill-opacity=\"1\" /><path clip-path=\"url(#clip210)\" d=\"M1632.07 1544.91 L1639.71 1544.91 L1639.71 1518.55 L1631.4 1520.21 L1631.4 1515.95 L1639.67 1514.29 L1644.34 1514.29 L1644.34 1544.91 L1651.98 1544.91 L1651.98 1548.85 L1632.07 1548.85 L1632.07 1544.91 Z\" fill=\"#000000\" fill-rule=\"nonzero\" fill-opacity=\"1\" /><path clip-path=\"url(#clip210)\" d=\"M1661.47 1514.29 L1679.83 1514.29 L1679.83 1518.22 L1665.75 1518.22 L1665.75 1526.7 Q1666.77 1526.35 1667.79 1526.19 Q1668.81 1526 1669.83 1526 Q1675.61 1526 1678.99 1529.17 Q1682.37 1532.34 1682.37 1537.76 Q1682.37 1543.34 1678.9 1546.44 Q1675.43 1549.52 1669.11 1549.52 Q1666.93 1549.52 1664.67 1549.15 Q1662.42 1548.78 1660.01 1548.04 L1660.01 1543.34 Q1662.1 1544.47 1664.32 1545.03 Q1666.54 1545.58 1669.02 1545.58 Q1673.02 1545.58 1675.36 1543.48 Q1677.7 1541.37 1677.7 1537.76 Q1677.7 1534.15 1675.36 1532.04 Q1673.02 1529.94 1669.02 1529.94 Q1667.14 1529.94 1665.27 1530.35 Q1663.42 1530.77 1661.47 1531.65 L1661.47 1514.29 Z\" fill=\"#000000\" fill-rule=\"nonzero\" fill-opacity=\"1\" /><path clip-path=\"url(#clip210)\" d=\"M1971.73 1544.91 L1988.05 1544.91 L1988.05 1548.85 L1966.11 1548.85 L1966.11 1544.91 Q1968.77 1542.16 1973.36 1537.53 Q1977.96 1532.88 1979.14 1531.53 Q1981.39 1529.01 1982.27 1527.27 Q1983.17 1525.51 1983.17 1523.82 Q1983.17 1521.07 1981.23 1519.33 Q1979.3 1517.6 1976.2 1517.6 Q1974 1517.6 1971.55 1518.36 Q1969.12 1519.13 1966.34 1520.68 L1966.34 1515.95 Q1969.17 1514.82 1971.62 1514.24 Q1974.07 1513.66 1976.11 1513.66 Q1981.48 1513.66 1984.67 1516.35 Q1987.87 1519.03 1987.87 1523.52 Q1987.87 1525.65 1987.06 1527.57 Q1986.27 1529.47 1984.17 1532.07 Q1983.59 1532.74 1980.48 1535.95 Q1977.38 1539.15 1971.73 1544.91 Z\" fill=\"#000000\" fill-rule=\"nonzero\" fill-opacity=\"1\" /><path clip-path=\"url(#clip210)\" d=\"M2007.87 1517.37 Q2004.26 1517.37 2002.43 1520.93 Q2000.62 1524.47 2000.62 1531.6 Q2000.62 1538.71 2002.43 1542.27 Q2004.26 1545.82 2007.87 1545.82 Q2011.5 1545.82 2013.31 1542.27 Q2015.14 1538.71 2015.14 1531.6 Q2015.14 1524.47 2013.31 1520.93 Q2011.5 1517.37 2007.87 1517.37 M2007.87 1513.66 Q2013.68 1513.66 2016.73 1518.27 Q2019.81 1522.85 2019.81 1531.6 Q2019.81 1540.33 2016.73 1544.94 Q2013.68 1549.52 2007.87 1549.52 Q2002.06 1549.52 1998.98 1544.94 Q1995.92 1540.33 1995.92 1531.6 Q1995.92 1522.85 1998.98 1518.27 Q2002.06 1513.66 2007.87 1513.66 Z\" fill=\"#000000\" fill-rule=\"nonzero\" fill-opacity=\"1\" /><path clip-path=\"url(#clip210)\" d=\"M2308.31 1544.91 L2324.63 1544.91 L2324.63 1548.85 L2302.68 1548.85 L2302.68 1544.91 Q2305.34 1542.16 2309.93 1537.53 Q2314.53 1532.88 2315.71 1531.53 Q2317.96 1529.01 2318.84 1527.27 Q2319.74 1525.51 2319.74 1523.82 Q2319.74 1521.07 2317.8 1519.33 Q2315.88 1517.6 2312.77 1517.6 Q2310.57 1517.6 2308.12 1518.36 Q2305.69 1519.13 2302.91 1520.68 L2302.91 1515.95 Q2305.74 1514.82 2308.19 1514.24 Q2310.64 1513.66 2312.68 1513.66 Q2318.05 1513.66 2321.25 1516.35 Q2324.44 1519.03 2324.44 1523.52 Q2324.44 1525.65 2323.63 1527.57 Q2322.84 1529.47 2320.74 1532.07 Q2320.16 1532.74 2317.06 1535.95 Q2313.95 1539.15 2308.31 1544.91 Z\" fill=\"#000000\" fill-rule=\"nonzero\" fill-opacity=\"1\" /><path clip-path=\"url(#clip210)\" d=\"M2334.49 1514.29 L2352.84 1514.29 L2352.84 1518.22 L2338.77 1518.22 L2338.77 1526.7 Q2339.79 1526.35 2340.81 1526.19 Q2341.82 1526 2342.84 1526 Q2348.63 1526 2352.01 1529.17 Q2355.39 1532.34 2355.39 1537.76 Q2355.39 1543.34 2351.92 1546.44 Q2348.45 1549.52 2342.13 1549.52 Q2339.95 1549.52 2337.68 1549.15 Q2335.44 1548.78 2333.03 1548.04 L2333.03 1543.34 Q2335.11 1544.47 2337.33 1545.03 Q2339.56 1545.58 2342.03 1545.58 Q2346.04 1545.58 2348.38 1543.48 Q2350.71 1541.37 2350.71 1537.76 Q2350.71 1534.15 2348.38 1532.04 Q2346.04 1529.94 2342.03 1529.94 Q2340.16 1529.94 2338.28 1530.35 Q2336.43 1530.77 2334.49 1531.65 L2334.49 1514.29 Z\" fill=\"#000000\" fill-rule=\"nonzero\" fill-opacity=\"1\" /><polyline clip-path=\"url(#clip212)\" style=\"stroke:#000000; stroke-linecap:round; stroke-linejoin:round; stroke-width:2; stroke-opacity:0.1; fill:none\" points=\"178.867,1438.99 2352.76,1438.99 \"/>\n<polyline clip-path=\"url(#clip212)\" style=\"stroke:#000000; stroke-linecap:round; stroke-linejoin:round; stroke-width:2; stroke-opacity:0.1; fill:none\" points=\"178.867,1102.92 2352.76,1102.92 \"/>\n<polyline clip-path=\"url(#clip212)\" style=\"stroke:#000000; stroke-linecap:round; stroke-linejoin:round; stroke-width:2; stroke-opacity:0.1; fill:none\" points=\"178.867,766.846 2352.76,766.846 \"/>\n<polyline clip-path=\"url(#clip212)\" style=\"stroke:#000000; stroke-linecap:round; stroke-linejoin:round; stroke-width:2; stroke-opacity:0.1; fill:none\" points=\"178.867,430.772 2352.76,430.772 \"/>\n<polyline clip-path=\"url(#clip212)\" style=\"stroke:#000000; stroke-linecap:round; stroke-linejoin:round; stroke-width:2; stroke-opacity:0.1; fill:none\" points=\"178.867,94.6978 2352.76,94.6978 \"/>\n<polyline clip-path=\"url(#clip210)\" style=\"stroke:#000000; stroke-linecap:round; stroke-linejoin:round; stroke-width:4; stroke-opacity:1; fill:none\" points=\"178.867,1486.45 178.867,47.2441 \"/>\n<polyline clip-path=\"url(#clip210)\" style=\"stroke:#000000; stroke-linecap:round; stroke-linejoin:round; stroke-width:4; stroke-opacity:1; fill:none\" points=\"178.867,1438.99 197.764,1438.99 \"/>\n<polyline clip-path=\"url(#clip210)\" style=\"stroke:#000000; stroke-linecap:round; stroke-linejoin:round; stroke-width:4; stroke-opacity:1; fill:none\" points=\"178.867,1102.92 197.764,1102.92 \"/>\n<polyline clip-path=\"url(#clip210)\" style=\"stroke:#000000; stroke-linecap:round; stroke-linejoin:round; stroke-width:4; stroke-opacity:1; fill:none\" points=\"178.867,766.846 197.764,766.846 \"/>\n<polyline clip-path=\"url(#clip210)\" style=\"stroke:#000000; stroke-linecap:round; stroke-linejoin:round; stroke-width:4; stroke-opacity:1; fill:none\" points=\"178.867,430.772 197.764,430.772 \"/>\n<polyline clip-path=\"url(#clip210)\" style=\"stroke:#000000; stroke-linecap:round; stroke-linejoin:round; stroke-width:4; stroke-opacity:1; fill:none\" points=\"178.867,94.6978 197.764,94.6978 \"/>\n<path clip-path=\"url(#clip210)\" d=\"M50.9921 1439.45 L80.6679 1439.45 L80.6679 1443.38 L50.9921 1443.38 L50.9921 1439.45 Z\" fill=\"#000000\" fill-rule=\"nonzero\" fill-opacity=\"1\" /><path clip-path=\"url(#clip210)\" d=\"M91.5706 1452.34 L99.2095 1452.34 L99.2095 1425.97 L90.8993 1427.64 L90.8993 1423.38 L99.1632 1421.71 L103.839 1421.71 L103.839 1452.34 L111.478 1452.34 L111.478 1456.27 L91.5706 1456.27 L91.5706 1452.34 Z\" fill=\"#000000\" fill-rule=\"nonzero\" fill-opacity=\"1\" /><path clip-path=\"url(#clip210)\" d=\"M130.922 1424.79 Q127.311 1424.79 125.482 1428.36 Q123.677 1431.9 123.677 1439.03 Q123.677 1446.13 125.482 1449.7 Q127.311 1453.24 130.922 1453.24 Q134.556 1453.24 136.362 1449.7 Q138.191 1446.13 138.191 1439.03 Q138.191 1431.9 136.362 1428.36 Q134.556 1424.79 130.922 1424.79 M130.922 1421.09 Q136.732 1421.09 139.788 1425.7 Q142.867 1430.28 142.867 1439.03 Q142.867 1447.76 139.788 1452.36 Q136.732 1456.94 130.922 1456.94 Q125.112 1456.94 122.033 1452.36 Q118.978 1447.76 118.978 1439.03 Q118.978 1430.28 122.033 1425.7 Q125.112 1421.09 130.922 1421.09 Z\" fill=\"#000000\" fill-rule=\"nonzero\" fill-opacity=\"1\" /><path clip-path=\"url(#clip210)\" d=\"M82.1494 1103.37 L111.825 1103.37 L111.825 1107.31 L82.1494 1107.31 L82.1494 1103.37 Z\" fill=\"#000000\" fill-rule=\"nonzero\" fill-opacity=\"1\" /><path clip-path=\"url(#clip210)\" d=\"M121.964 1085.64 L140.32 1085.64 L140.32 1089.57 L126.246 1089.57 L126.246 1098.05 Q127.265 1097.7 128.283 1097.54 Q129.302 1097.35 130.32 1097.35 Q136.107 1097.35 139.487 1100.52 Q142.867 1103.7 142.867 1109.11 Q142.867 1114.69 139.394 1117.79 Q135.922 1120.87 129.603 1120.87 Q127.427 1120.87 125.158 1120.5 Q122.913 1120.13 120.506 1119.39 L120.506 1114.69 Q122.589 1115.82 124.811 1116.38 Q127.033 1116.94 129.51 1116.94 Q133.515 1116.94 135.853 1114.83 Q138.191 1112.72 138.191 1109.11 Q138.191 1105.5 135.853 1103.39 Q133.515 1101.29 129.51 1101.29 Q127.635 1101.29 125.76 1101.7 Q123.908 1102.12 121.964 1103 L121.964 1085.64 Z\" fill=\"#000000\" fill-rule=\"nonzero\" fill-opacity=\"1\" /><path clip-path=\"url(#clip210)\" d=\"M130.922 752.644 Q127.311 752.644 125.482 756.209 Q123.677 759.751 123.677 766.88 Q123.677 773.987 125.482 777.552 Q127.311 781.093 130.922 781.093 Q134.556 781.093 136.362 777.552 Q138.191 773.987 138.191 766.88 Q138.191 759.751 136.362 756.209 Q134.556 752.644 130.922 752.644 M130.922 748.941 Q136.732 748.941 139.788 753.547 Q142.867 758.13 142.867 766.88 Q142.867 775.607 139.788 780.214 Q136.732 784.797 130.922 784.797 Q125.112 784.797 122.033 780.214 Q118.978 775.607 118.978 766.88 Q118.978 758.13 122.033 753.547 Q125.112 748.941 130.922 748.941 Z\" fill=\"#000000\" fill-rule=\"nonzero\" fill-opacity=\"1\" /><path clip-path=\"url(#clip210)\" d=\"M121.964 413.492 L140.32 413.492 L140.32 417.427 L126.246 417.427 L126.246 425.899 Q127.265 425.552 128.283 425.39 Q129.302 425.205 130.32 425.205 Q136.107 425.205 139.487 428.376 Q142.867 431.547 142.867 436.964 Q142.867 442.543 139.394 445.644 Q135.922 448.723 129.603 448.723 Q127.427 448.723 125.158 448.353 Q122.913 447.982 120.506 447.242 L120.506 442.543 Q122.589 443.677 124.811 444.232 Q127.033 444.788 129.51 444.788 Q133.515 444.788 135.853 442.681 Q138.191 440.575 138.191 436.964 Q138.191 433.353 135.853 431.246 Q133.515 429.14 129.51 429.14 Q127.635 429.14 125.76 429.556 Q123.908 429.973 121.964 430.853 L121.964 413.492 Z\" fill=\"#000000\" fill-rule=\"nonzero\" fill-opacity=\"1\" /><path clip-path=\"url(#clip210)\" d=\"M91.5706 108.043 L99.2095 108.043 L99.2095 81.677 L90.8993 83.3437 L90.8993 79.0844 L99.1632 77.4178 L103.839 77.4178 L103.839 108.043 L111.478 108.043 L111.478 111.978 L91.5706 111.978 L91.5706 108.043 Z\" fill=\"#000000\" fill-rule=\"nonzero\" fill-opacity=\"1\" /><path clip-path=\"url(#clip210)\" d=\"M130.922 80.4964 Q127.311 80.4964 125.482 84.0612 Q123.677 87.6029 123.677 94.7325 Q123.677 101.839 125.482 105.404 Q127.311 108.945 130.922 108.945 Q134.556 108.945 136.362 105.404 Q138.191 101.839 138.191 94.7325 Q138.191 87.6029 136.362 84.0612 Q134.556 80.4964 130.922 80.4964 M130.922 76.7928 Q136.732 76.7928 139.788 81.3992 Q142.867 85.9825 142.867 94.7325 Q142.867 103.459 139.788 108.066 Q136.732 112.649 130.922 112.649 Q125.112 112.649 122.033 108.066 Q118.978 103.459 118.978 94.7325 Q118.978 85.9825 122.033 81.3992 Q125.112 76.7928 130.922 76.7928 Z\" fill=\"#000000\" fill-rule=\"nonzero\" fill-opacity=\"1\" /><polyline clip-path=\"url(#clip212)\" style=\"stroke:#009af9; stroke-linecap:round; stroke-linejoin:round; stroke-width:8; stroke-opacity:1; fill:none\" points=\"1605.25,766.846 1605.21,790.418 1605.08,808.746 1604.87,825.499 1604.57,841.297 1604.18,856.414 1603.71,871 1603.15,885.153 1602.51,898.937 1601.78,912.399 1600.97,925.574 1600.07,938.49 1599.09,951.167 1598.02,963.621 1596.86,975.867 1595.63,987.915 1594.3,999.775 1592.9,1011.45 1591.41,1022.96 1589.83,1034.3 1588.17,1045.47 1586.43,1056.48 1584.61,1067.33 1582.7,1078.03 1580.71,1088.57 1578.64,1098.97 1576.48,1109.21 1574.25,1119.31 1571.93,1129.25 1569.53,1139.05 1567.05,1148.71 1564.49,1158.22 1561.85,1167.58 1559.13,1176.8 1556.33,1185.87 1553.45,1194.8 1550.5,1203.58 1547.46,1212.22 1544.35,1220.71 1541.16,1229.05 1537.89,1237.25 1534.54,1245.29 1531.12,1253.19 1527.62,1260.94 1524.05,1268.55 1520.4,1276 1516.67,1283.3 1512.87,1290.45 1508.99,1297.45 1505.04,1304.29 1501.02,1310.98 1496.92,1317.52 1492.75,1323.9 1488.51,1330.13 1484.19,1336.2 1479.8,1342.12 1475.33,1347.87 1470.8,1353.47 1466.19,1358.91 1461.51,1364.19 1456.75,1369.31 1451.92,1374.27 1447.02,1379.07 1442.05,1383.7 1437,1388.17 1431.88,1392.48 1426.68,1396.63 1421.41,1400.61 1416.06,1404.42 1410.64,1408.07 1405.13,1411.55 1399.54,1414.87 1393.88,1418.02 1388.12,1421 1382.28,1423.81 1376.35,1426.46 1370.33,1428.93 1364.21,1431.24 1357.98,1433.38 1351.64,1435.35 1345.18,1437.14 1338.6,1438.77 1331.87,1440.23 1324.97,1441.51 1317.9,1442.63 1310.6,1443.57 1303.05,1444.34 1295.15,1444.94 1286.77,1445.37 1265.82,1445.72 1254.03,1445.63 1244.87,1445.37 1236.49,1444.94 1228.59,1444.34 1221.04,1443.57 1213.74,1442.63 1206.67,1441.51 1199.77,1440.23 1193.04,1438.77 1186.46,1437.14 1180,1435.35 1173.66,1433.38 1167.43,1431.24 1161.31,1428.93 1155.28,1426.46 1149.35,1423.81 1143.52,1421 1137.76,1418.02 1132.09,1414.87 1126.51,1411.55 1121,1408.07 1115.58,1404.42 1110.23,1400.61 1104.96,1396.63 1099.76,1392.48 1094.64,1388.17 1089.59,1383.7 1084.62,1379.07 1079.72,1374.27 1074.89,1369.31 1070.13,1364.19 1065.45,1358.91 1060.84,1353.47 1056.31,1347.87 1051.84,1342.12 1047.45,1336.2 1043.13,1330.13 1038.89,1323.9 1034.72,1317.52 1030.62,1310.98 1026.6,1304.29 1022.65,1297.45 1018.77,1290.45 1014.97,1283.3 1011.24,1276 1007.59,1268.55 1004.02,1260.94 1000.52,1253.19 997.097,1245.29 993.751,1237.25 990.482,1229.05 987.291,1220.71 984.177,1212.22 981.141,1203.58 978.184,1194.8 975.306,1185.87 972.507,1176.8 969.787,1167.58 967.147,1158.22 964.587,1148.71 962.108,1139.05 959.709,1129.25 957.392,1119.31 955.156,1109.21 953.001,1098.97 950.929,1088.57 948.939,1078.03 947.032,1067.33 945.207,1056.48 943.466,1045.47 941.808,1034.3 940.233,1022.96 938.743,1011.45 937.336,999.775 936.014,987.915 934.776,975.867 933.622,963.621 932.553,951.167 931.57,938.49 930.671,925.574 929.857,912.399 929.129,898.937 928.486,885.153 927.929,871 927.457,856.414 927.071,841.297 926.771,825.499 926.557,808.746 926.428,743.274 926.557,724.945 926.771,708.192 927.071,692.394 927.457,677.278 927.929,662.691 928.486,648.539 929.129,634.755 929.857,621.293 930.671,608.117 931.57,595.201 932.553,582.525 933.622,570.07 934.776,557.824 936.014,545.776 937.336,533.916 938.743,522.237 940.233,510.732 941.808,499.396 943.466,488.224 945.207,477.214 947.032,466.361 948.939,455.664 950.929,445.119 953.001,434.726 955.156,424.482 957.392,414.386 959.709,404.438 962.108,394.637 964.587,384.982 967.147,375.472 969.787,366.109 972.507,356.89 975.306,347.817 978.184,338.89 981.141,330.108 984.177,321.473 987.291,312.983 990.482,304.641 993.751,296.445 997.097,288.397 1000.52,280.498 1004.02,272.747 1007.59,265.145 1011.24,257.694 1014.97,250.393 1018.77,243.243 1022.65,236.245 1026.6,229.4 1030.62,222.709 1034.72,216.171 1038.89,209.788 1043.13,203.561 1047.45,197.489 1051.84,191.575 1056.31,185.818 1060.84,180.22 1065.45,174.78 1070.13,169.5 1074.89,164.38 1079.72,159.422 1084.62,154.625 1089.59,149.99 1094.64,145.518 1099.76,141.209 1104.96,137.065 1110.23,133.085 1115.58,129.27 1121,125.621 1126.51,122.139 1132.09,118.822 1137.76,115.673 1143.52,112.692 1149.35,109.879 1155.28,107.234 1161.31,104.758 1167.43,102.451 1173.66,100.313 1180,98.3459 1186.46,96.5484 1193.04,94.9213 1199.77,93.4649 1206.67,92.1793 1213.74,91.0647 1221.04,90.1213 1228.59,89.3492 1236.49,88.7486 1244.87,88.3196 1254.03,88.0621 1265.82,87.9763 1277.61,88.0621 1286.77,88.3196 1295.15,88.7486 1303.05,89.3492 1310.6,90.1213 1317.9,91.0647 1324.97,92.1793 1331.87,93.4649 1338.6,94.9213 1345.18,96.5484 1351.64,98.3459 1357.98,100.313 1364.21,102.451 1370.33,104.758 1376.35,107.234 1382.28,109.879 1388.12,112.692 1393.88,115.673 1399.54,118.822 1405.13,122.139 1410.64,125.621 1416.06,129.27 1421.41,133.085 1426.68,137.065 1431.88,141.209 1437,145.518 1442.05,149.99 1447.02,154.625 1451.92,159.422 1456.75,164.38 1461.51,169.5 1466.19,174.78 1470.8,180.22 1475.33,185.818 1479.8,191.575 1484.19,197.489 1488.51,203.561 1492.75,209.788 1496.92,216.171 1501.02,222.709 1505.04,229.4 1508.99,236.245 1512.87,243.243 1516.67,250.393 1520.4,257.694 1524.05,265.145 1527.62,272.747 1531.12,280.498 1534.54,288.397 1537.89,296.445 1541.16,304.641 1544.35,312.983 1547.46,321.473 1550.5,330.108 1553.45,338.89 1556.33,347.817 1559.13,356.89 1561.85,366.109 1564.49,375.472 1567.05,384.982 1569.53,394.637 1571.93,404.438 1574.25,414.386 1576.48,424.482 1578.64,434.726 1580.71,445.119 1582.7,455.664 1584.61,466.361 1586.43,477.214 1588.17,488.224 1589.83,499.396 1591.41,510.732 1592.9,522.237 1594.3,533.916 1595.63,545.776 1596.86,557.824 1598.02,570.07 1599.09,582.525 1600.07,595.201 1600.97,608.117 1601.78,621.293 1602.51,634.755 1603.15,648.539 1603.71,662.691 1604.18,677.278 1604.57,692.394 1604.87,708.192 1605.08,724.945 1605.21,743.274 1605.25,766.846 \"/>\n<polyline clip-path=\"url(#clip212)\" style=\"stroke:#e26f46; stroke-linecap:round; stroke-linejoin:round; stroke-width:4; stroke-opacity:1; fill:none\" points=\"1605.25,766.846 1605.25,771.061 1605.24,775.276 1605.22,779.49 1605.19,783.704 1605.16,787.917 1605.12,792.129 1605.07,796.341 1605.01,800.551 1604.95,804.76 1604.88,808.968 1604.8,813.174 1604.72,817.378 1604.63,821.58 1604.53,825.78 1604.42,829.978 1604.3,834.173 1604.18,838.366 1604.05,842.556 1603.92,846.743 1603.77,850.927 1603.62,855.108 1603.46,859.285 1603.29,863.459 1603.12,867.629 1602.94,871.796 1602.75,875.958 1602.55,880.116 1602.35,884.269 1602.13,888.418 1601.91,892.563 1601.69,896.702 1601.45,900.837 1601.21,904.966 1600.96,909.09 1600.7,913.209 1600.43,917.322 1600.16,921.429 1599.88,925.53 1599.59,929.625 1599.29,933.714 1598.98,937.796 1598.67,941.872 1598.35,945.941 1598.02,950.003 1597.68,954.058 1597.33,958.106 1596.98,962.146 1596.61,966.179 1596.24,970.204 1595.86,974.222 1595.47,978.231 1595.08,982.232 1594.67,986.225 1594.26,990.21 1593.84,994.186 1593.41,998.153 1592.97,1002.11 1592.52,1006.06 1592.06,1010 1591.59,1013.93 1591.12,1017.85 1590.64,1021.76 1590.14,1025.66 1589.64,1029.56 1589.13,1033.44 1588.61,1037.31 1588.08,1041.17 1587.54,1045.02 1586.99,1048.86 1586.43,1052.69 1585.87,1056.5 1585.29,1060.31 1584.7,1064.11 1584.1,1067.89 1583.5,1071.66 1582.88,1075.42 1582.25,1079.17 1581.62,1082.91 1580.97,1086.63 1580.31,1090.34 1579.65,1094.04 1578.97,1097.73 1578.28,1101.4 1577.58,1105.06 1576.87,1108.71 1576.15,1112.35 1575.42,1115.97 1574.68,1119.58 1573.93,1123.17 1573.16,1126.75 1572.39,1130.32 1571.6,1133.87 1570.81,1137.41 1570,1140.93 1569.18,1144.44 1568.34,1147.94 1567.5,1151.42 1566.65,1154.89 1565.78,1158.34 1564.9,1161.77 1564.01,1165.19 1563.1,1168.6 1562.19,1171.99 1561.26,1175.36 1560.32,1178.72 1559.37,1182.06 1558.4,1185.39 1557.43,1188.7 1556.43,1191.99 1555.43,1195.27 1554.42,1198.53 1553.39,1201.78 1552.34,1205.01 1551.29,1208.22 1550.22,1211.41 1549.14,1214.59 1548.04,1217.75 1546.93,1220.89 1545.81,1224.01 1544.67,1227.12 1543.52,1230.21 1542.35,1233.28 1541.18,1236.34 1539.98,1239.37 1538.78,1242.39 1537.56,1245.39 1536.32,1248.37 1535.07,1251.33 1533.8,1254.27 1532.53,1257.2 1531.23,1260.1 1529.92,1262.99 1528.6,1265.86 1527.26,1268.7 1525.91,1271.53 1524.54,1274.34 1523.16,1277.13 1521.76,1279.9 1520.34,1282.65 1518.92,1285.38 1517.47,1288.09 1516.01,1290.78 1514.54,1293.45 1513.04,1296.1 1511.54,1298.73 1510.02,1301.34 1508.48,1303.93 1506.93,1306.5 1505.36,1309.04 1503.77,1311.57 1502.17,1314.07 1500.55,1316.56 1498.92,1319.02 1497.27,1321.46 1495.61,1323.88 1493.93,1326.28 1492.23,1328.66 1490.52,1331.01 1488.79,1333.35 1487.04,1335.66 1485.28,1337.95 1483.5,1340.22 1481.71,1342.46 1479.9,1344.68 1478.08,1346.89 1476.23,1349.06 1474.38,1351.22 1472.5,1353.35 1470.61,1355.47 1468.71,1357.55 1466.79,1359.62 1464.85,1361.66 1462.89,1363.68 1460.93,1365.68 1458.94,1367.65 1456.94,1369.6 1454.92,1371.53 1452.89,1373.44 1450.84,1375.32 1448.78,1377.17 1446.7,1379.01 1444.6,1380.82 1442.49,1382.6 1440.37,1384.37 1438.23,1386.11 1436.07,1387.82 1433.9,1389.51 1431.72,1391.18 1429.52,1392.82 1427.3,1394.44 1425.07,1396.04 1422.83,1397.61 1420.57,1399.15 1418.3,1400.68 1416.01,1402.17 1413.71,1403.65 1411.4,1405.09 1409.07,1406.52 1406.73,1407.92 1404.37,1409.29 1402,1410.64 1399.62,1411.97 1397.23,1413.27 1394.82,1414.54 1392.4,1415.79 1389.97,1417.02 1387.53,1418.22 1385.07,1419.39 1382.6,1420.54 1380.12,1421.67 1377.63,1422.77 1375.13,1423.84 1372.62,1424.89 1370.09,1425.91 1367.56,1426.91 1365.01,1427.88 1362.46,1428.83 1359.89,1429.75 1357.32,1430.65 1354.73,1431.52 1352.14,1432.36 1349.54,1433.18 1346.93,1433.97 1344.31,1434.74 1341.68,1435.48 1339.04,1436.2 1336.4,1436.89 1333.75,1437.55 1331.09,1438.19 1328.43,1438.81 1325.75,1439.39 1323.07,1439.95 1320.39,1440.49 1317.7,1441 1315,1441.48 1312.3,1441.94 1309.6,1442.37 1306.88,1442.77 1304.17,1443.15 1301.45,1443.51 1298.72,1443.83 1296,1444.13 1293.27,1444.41 1290.53,1444.66 1287.8,1444.88 1285.06,1445.07 1282.32,1445.24 1279.57,1445.39 1276.83,1445.51 1274.08,1445.6 1271.34,1445.66 1268.59,1445.7 1265.84,1445.72 1263.09,1445.7 1260.35,1445.66 1257.6,1445.6 1254.85,1445.51 1252.11,1445.39 1249.36,1445.24 1246.62,1445.07 1243.88,1444.88 1241.15,1444.66 1238.41,1444.41 1235.68,1444.13 1232.95,1443.83 1230.22,1443.51 1227.5,1443.15 1224.79,1442.77 1222.07,1442.37 1219.37,1441.94 1216.66,1441.48 1213.96,1441 1211.27,1440.49 1208.59,1439.95 1205.91,1439.39 1203.23,1438.81 1200.56,1438.19 1197.9,1437.55 1195.25,1436.89 1192.6,1436.2 1189.96,1435.48 1187.33,1434.74 1184.71,1433.97 1182.1,1433.18 1179.49,1432.36 1176.9,1431.52 1174.31,1430.65 1171.73,1429.75 1169.16,1428.83 1166.61,1427.88 1164.06,1426.91 1161.52,1425.91 1158.99,1424.89 1156.48,1423.84 1153.97,1422.77 1151.48,1421.67 1149,1420.54 1146.53,1419.39 1144.07,1418.22 1141.62,1417.02 1139.18,1415.79 1136.76,1414.54 1134.35,1413.27 1131.95,1411.97 1129.57,1410.64 1127.2,1409.29 1124.84,1407.92 1122.5,1406.52 1120.16,1405.09 1117.85,1403.65 1115.54,1402.17 1113.25,1400.68 1110.98,1399.15 1108.72,1397.61 1106.47,1396.04 1104.24,1394.44 1102.02,1392.82 1099.82,1391.18 1097.63,1389.51 1095.45,1387.82 1093.3,1386.11 1091.15,1384.37 1089.03,1382.6 1086.91,1380.82 1084.82,1379.01 1082.73,1377.17 1080.67,1375.32 1078.62,1373.44 1076.58,1371.53 1074.56,1369.6 1072.56,1367.65 1070.57,1365.68 1068.6,1363.68 1066.65,1361.66 1064.71,1359.62 1062.78,1357.55 1060.88,1355.47 1058.98,1353.35 1057.11,1351.22 1055.25,1349.06 1053.41,1346.89 1051.58,1344.68 1049.77,1342.46 1047.98,1340.22 1046.2,1337.95 1044.44,1335.66 1042.69,1333.35 1040.96,1331.01 1039.25,1328.66 1037.55,1326.28 1035.87,1323.88 1034.21,1321.46 1032.56,1319.02 1030.92,1316.56 1029.31,1314.07 1027.71,1311.57 1026.12,1309.04 1024.55,1306.5 1023,1303.93 1021.46,1301.34 1019.94,1298.73 1018.44,1296.1 1016.95,1293.45 1015.47,1290.78 1014.02,1288.09 1012.57,1285.38 1011.15,1282.65 1009.73,1279.9 1008.34,1277.13 1006.96,1274.34 1005.59,1271.53 1004.24,1268.7 1002.9,1265.86 1001.58,1262.99 1000.28,1260.1 998.984,1257.2 997.708,1254.27 996.446,1251.33 995.199,1248.37 993.966,1245.39 992.748,1242.39 991.544,1239.37 990.355,1236.34 989.18,1233.28 988.018,1230.21 986.871,1227.12 985.738,1224.01 984.618,1220.89 983.512,1217.75 982.42,1214.59 981.342,1211.41 980.277,1208.22 979.225,1205.01 978.186,1201.78 977.161,1198.53 976.149,1195.27 975.149,1191.99 974.163,1188.7 973.19,1185.39 972.229,1182.06 971.28,1178.72 970.345,1175.36 969.421,1171.99 968.51,1168.6 967.612,1165.19 966.725,1161.77 965.85,1158.34 964.988,1154.89 964.137,1151.42 963.298,1147.94 962.47,1144.44 961.654,1140.93 960.85,1137.41 960.057,1133.87 959.275,1130.32 958.505,1126.75 957.745,1123.17 956.997,1119.58 956.259,1115.97 955.533,1112.35 954.817,1108.71 954.112,1105.06 953.417,1101.4 952.733,1097.73 952.059,1094.04 951.396,1090.34 950.742,1086.63 950.099,1082.91 949.467,1079.17 948.844,1075.42 948.231,1071.66 947.627,1067.89 947.034,1064.11 946.45,1060.31 945.876,1056.5 945.311,1052.69 944.756,1048.86 944.211,1045.02 943.674,1041.17 943.147,1037.31 942.629,1033.44 942.12,1029.56 941.62,1025.66 941.13,1021.76 940.648,1017.85 940.175,1013.93 939.711,1010 939.255,1006.06 938.808,1002.11 938.37,998.153 937.941,994.186 937.519,990.21 937.107,986.225 936.703,982.232 936.307,978.231 935.919,974.222 935.54,970.204 935.169,966.179 934.806,962.146 934.451,958.106 934.104,954.058 933.765,950.003 933.435,945.941 933.112,941.872 932.797,937.796 932.49,933.714 932.191,929.625 931.899,925.53 931.616,921.429 931.34,917.322 931.071,913.209 930.811,909.09 930.558,904.966 930.313,900.837 930.075,896.702 929.845,892.563 929.622,888.418 929.407,884.269 929.199,880.116 928.999,875.958 928.806,871.796 928.621,867.629 928.443,863.459 928.273,859.285 928.11,855.108 927.954,850.927 927.805,846.743 927.664,842.556 927.53,838.366 927.404,834.173 927.285,829.978 927.173,825.78 927.068,821.58 926.971,817.378 926.881,813.174 926.798,808.968 926.723,804.76 926.655,800.551 926.594,796.341 926.54,792.129 926.494,787.917 926.455,783.704 926.423,779.49 926.398,775.276 926.381,771.061 926.371,766.846 926.368,762.631 926.373,758.416 926.385,754.202 926.404,749.988 926.431,745.775 926.464,741.563 926.506,737.351 926.554,733.141 926.61,728.932 926.674,724.724 926.745,720.518 926.823,716.314 926.909,712.112 927.002,707.912 927.102,703.714 927.211,699.519 927.326,695.326 927.45,691.136 927.58,686.949 927.719,682.765 927.865,678.584 928.018,674.407 928.18,670.233 928.349,666.063 928.525,661.896 928.71,657.734 928.902,653.576 929.102,649.423 929.31,645.274 929.526,641.129 929.749,636.99 929.981,632.855 930.22,628.726 930.468,624.602 930.723,620.483 930.987,616.37 931.259,612.263 931.538,608.162 931.826,604.067 932.123,599.978 932.427,595.896 932.74,591.82 933.061,587.751 933.39,583.689 933.728,579.634 934.074,575.586 934.429,571.546 934.793,567.513 935.165,563.488 935.545,559.47 935.935,555.461 936.333,551.46 936.739,547.467 937.155,543.482 937.579,539.506 938.013,535.539 938.455,531.581 938.907,527.632 939.367,523.692 939.837,519.761 940.316,515.84 940.804,511.929 941.301,508.028 941.808,504.136 942.324,500.255 942.85,496.384 943.385,492.523 943.93,488.673 944.484,484.833 945.048,481.005 945.622,477.187 946.206,473.381 946.8,469.586 947.403,465.802 948.017,462.03 948.641,458.27 949.275,454.522 949.919,450.785 950.573,447.061 951.238,443.35 951.913,439.65 952.599,435.964 953.295,432.29 954.002,428.629 954.72,424.981 955.448,421.346 956.188,417.724 956.938,414.116 957.699,410.522 958.472,406.941 959.255,403.374 960.05,399.821 960.856,396.283 961.673,392.758 962.502,389.248 963.342,385.753 964.194,382.272 965.058,378.806 965.934,375.355 966.821,371.919 967.72,368.499 968.632,365.093 969.555,361.704 970.491,358.329 971.438,354.971 972.398,351.628 973.371,348.302 974.356,344.991 975.354,341.697 976.364,338.419 977.387,335.158 978.423,331.914 979.472,328.686 980.534,325.475 981.609,322.281 982.697,319.104 983.798,315.945 984.913,312.802 986.041,309.678 987.182,306.571 988.337,303.481 989.506,300.41 990.688,297.356 991.884,294.321 993.095,291.304 994.319,288.305 995.557,285.325 996.809,282.363 998.075,279.42 999.356,276.495 1000.65,273.59 1001.96,270.704 1003.28,267.836 1004.62,264.988 1005.98,262.159 1007.34,259.35 1008.73,256.561 1010.12,253.79 1011.54,251.04 1012.96,248.31 1014.41,245.599 1015.86,242.909 1017.34,240.239 1018.82,237.589 1020.33,234.96 1021.84,232.351 1023.38,229.763 1024.93,227.195 1026.49,224.648 1028.07,222.122 1029.67,219.618 1031.28,217.134 1032.91,214.671 1034.55,212.23 1036.21,209.81 1037.88,207.411 1039.57,205.035 1041.27,202.679 1043,200.346 1044.73,198.034 1046.49,195.744 1048.26,193.477 1050.04,191.231 1051.84,189.008 1053.66,186.807 1055.49,184.628 1057.34,182.471 1059.2,180.338 1061.08,178.226 1062.98,176.138 1064.89,174.072 1066.82,172.029 1068.76,170.009 1070.72,168.012 1072.7,166.038 1074.69,164.088 1076.7,162.16 1078.72,160.256 1080.76,158.375 1082.81,156.518 1084.88,154.684 1086.96,152.874 1089.06,151.087 1091.18,149.324 1093.31,147.585 1095.45,145.87 1097.61,144.179 1099.79,142.512 1101.98,140.869 1104.19,139.25 1106.41,137.655 1108.64,136.084 1110.89,134.538 1113.15,133.016 1115.43,131.519 1117.73,130.046 1120.03,128.597 1122.35,127.174 1124.69,125.774 1127.03,124.4 1129.39,123.05 1131.77,121.726 1134.16,120.426 1136.56,119.15 1138.97,117.9 1141.4,116.675 1143.84,115.475 1146.29,114.3 1148.75,113.151 1151.23,112.026 1153.71,110.927 1156.21,109.853 1158.72,108.804 1161.24,107.781 1163.77,106.783 1166.32,105.81 1168.87,104.863 1171.43,103.942 1174.01,103.046 1176.59,102.175 1179.19,101.331 1181.79,100.512 1184.4,99.7183 1187.02,98.9506 1189.65,98.2087 1192.29,97.4925 1194.93,96.8022 1197.59,96.1376 1200.25,95.499 1202.92,94.8862 1205.59,94.2993 1208.27,93.7383 1210.96,93.2033 1213.66,92.6943 1216.36,92.2112 1219.07,91.7542 1221.78,91.3231 1224.5,90.9181 1227.22,90.5392 1229.94,90.1863 1232.67,89.8596 1235.41,89.5589 1238.15,89.2843 1240.89,89.0358 1243.63,88.8135 1246.38,88.6173 1249.13,88.4473 1251.88,88.3034 1254.63,88.1856 1257.39,88.094 1260.14,88.0286 1262.9,87.9894 1265.66,87.9763 1268.41,87.9894 1271.17,88.0286 1273.93,88.094 1276.68,88.1856 1279.44,88.3034 1282.19,88.4473 1284.94,88.6173 1287.69,88.8135 1290.44,89.0358 1293.18,89.2843 1295.92,89.5589 1298.66,89.8596 1301.4,90.1863 1304.13,90.5392 1306.86,90.9181 1309.58,91.3231 1312.29,91.7542 1315.01,92.2112 1317.71,92.6943 1320.42,93.2033 1323.11,93.7383 1325.8,94.2993 1328.48,94.8862 1331.16,95.499 1333.83,96.1376 1336.49,96.8022 1339.14,97.4925 1341.79,98.2087 1344.43,98.9506 1347.06,99.7183 1349.68,100.512 1352.29,101.331 1354.89,102.175 1357.48,103.046 1360.07,103.942 1362.64,104.863 1365.2,105.81 1367.75,106.783 1370.3,107.781 1372.83,108.804 1375.35,109.853 1377.86,110.927 1380.35,112.026 1382.84,113.151 1385.31,114.3 1387.77,115.475 1390.22,116.675 1392.66,117.9 1395.08,119.15 1397.49,120.426 1399.89,121.726 1402.28,123.05 1404.65,124.4 1407,125.774 1409.35,127.174 1411.68,128.597 1413.99,130.046 1416.3,131.519 1418.58,133.016 1420.86,134.538 1423.11,136.084 1425.36,137.655 1427.59,139.25 1429.8,140.869 1432,142.512 1434.18,144.179 1436.35,145.87 1438.51,147.585 1440.64,149.324 1442.77,151.087 1444.87,152.874 1446.97,154.684 1449.04,156.518 1451.1,158.375 1453.15,160.256 1455.17,162.16 1457.19,164.088 1459.18,166.038 1461.16,168.012 1463.13,170.009 1465.08,172.029 1467.01,174.072 1468.92,176.138 1470.82,178.226 1472.71,180.338 1474.57,182.471 1476.43,184.628 1478.26,186.807 1480.08,189.008 1481.88,191.231 1483.67,193.477 1485.44,195.744 1487.19,198.034 1488.93,200.346 1490.65,202.679 1492.36,205.035 1494.05,207.411 1495.72,209.81 1497.38,212.23 1499.02,214.671 1500.65,217.134 1502.25,219.618 1503.85,222.122 1505.43,224.648 1506.99,227.195 1508.53,229.763 1510.07,232.351 1511.58,234.96 1513.08,237.589 1514.56,240.239 1516.03,242.909 1517.49,245.599 1518.92,248.31 1520.35,251.04 1521.75,253.79 1523.14,256.561 1524.52,259.35 1525.88,262.159 1527.23,264.988 1528.56,267.836 1529.88,270.704 1531.18,273.59 1532.47,276.495 1533.75,279.42 1535.01,282.363 1536.25,285.325 1537.48,288.305 1538.7,291.304 1539.9,294.321 1541.09,297.356 1542.27,300.41 1543.43,303.481 1544.57,306.571 1545.71,309.678 1546.83,312.802 1547.93,315.945 1549.03,319.104 1550.11,322.281 1551.17,325.475 1552.23,328.686 1553.27,331.914 1554.3,335.158 1555.31,338.419 1556.31,341.697 1557.3,344.991 1558.28,348.302 1559.24,351.628 1560.2,354.971 1561.13,358.329 1562.06,361.704 1562.98,365.093 1563.88,368.499 1564.77,371.919 1565.65,375.355 1566.52,378.806 1567.38,382.272 1568.22,385.753 1569.05,389.248 1569.87,392.758 1570.68,396.283 1571.48,399.821 1572.27,403.374 1573.05,406.941 1573.81,410.522 1574.57,414.116 1575.31,417.724 1576.04,421.346 1576.77,424.981 1577.48,428.629 1578.18,432.29 1578.87,435.964 1579.55,439.65 1580.22,443.35 1580.88,447.061 1581.53,450.785 1582.17,454.522 1582.8,458.27 1583.42,462.03 1584.03,465.802 1584.63,469.586 1585.22,473.381 1585.8,477.187 1586.37,481.005 1586.93,484.833 1587.48,488.673 1588.02,492.523 1588.56,496.384 1589.08,500.255 1589.6,504.136 1590.1,508.028 1590.6,511.929 1591.08,515.84 1591.56,519.761 1592.03,523.692 1592.49,527.632 1592.94,531.581 1593.38,535.539 1593.82,539.506 1594.24,543.482 1594.66,547.467 1595.06,551.46 1595.46,555.461 1595.85,559.47 1596.24,563.488 1596.61,567.513 1596.97,571.546 1597.33,575.586 1597.68,579.634 1598.02,583.689 1598.35,587.751 1598.67,591.82 1598.99,595.896 1599.3,599.978 1599.6,604.067 1599.89,608.162 1600.17,612.263 1600.45,616.37 1600.71,620.483 1600.97,624.602 1601.23,628.726 1601.47,632.855 1601.71,636.99 1601.93,641.129 1602.15,645.274 1602.37,649.423 1602.57,653.576 1602.77,657.734 1602.96,661.896 1603.14,666.063 1603.31,670.233 1603.48,674.407 1603.64,678.584 1603.79,682.765 1603.93,686.949 1604.07,691.136 1604.2,695.326 1604.32,699.519 1604.43,703.714 1604.54,707.912 1604.64,712.112 1604.73,716.314 1604.82,720.518 1604.89,724.724 1604.96,728.932 1605.02,733.141 1605.08,737.351 1605.13,741.563 1605.17,745.775 1605.2,749.988 1605.22,754.202 1605.24,758.416 1605.25,762.631 1605.25,766.846 \"/>\n<path clip-path=\"url(#clip210)\" d=\"M1875.98 250.738 L2280.29 250.738 L2280.29 95.2176 L1875.98 95.2176  Z\" fill=\"#ffffff\" fill-rule=\"evenodd\" fill-opacity=\"1\"/>\n<polyline clip-path=\"url(#clip210)\" style=\"stroke:#000000; stroke-linecap:round; stroke-linejoin:round; stroke-width:4; stroke-opacity:1; fill:none\" points=\"1875.98,250.738 2280.29,250.738 2280.29,95.2176 1875.98,95.2176 1875.98,250.738 \"/>\n<polyline clip-path=\"url(#clip210)\" style=\"stroke:#009af9; stroke-linecap:round; stroke-linejoin:round; stroke-width:8; stroke-opacity:1; fill:none\" points=\"1900.14,147.058 2045.06,147.058 \"/>\n<path clip-path=\"url(#clip210)\" d=\"M2090.93 148.689 L2090.93 164.338 L2086.67 164.338 L2086.67 148.828 Q2086.67 145.148 2085.24 143.319 Q2083.8 141.49 2080.93 141.49 Q2077.48 141.49 2075.49 143.69 Q2073.5 145.889 2073.5 149.685 L2073.5 164.338 L2069.22 164.338 L2069.22 138.412 L2073.5 138.412 L2073.5 142.44 Q2075.03 140.102 2077.09 138.944 Q2079.17 137.787 2081.88 137.787 Q2086.35 137.787 2088.64 140.565 Q2090.93 143.319 2090.93 148.689 Z\" fill=\"#000000\" fill-rule=\"nonzero\" fill-opacity=\"1\" /><path clip-path=\"url(#clip210)\" d=\"M2098.99 154.106 L2098.99 138.412 L2103.25 138.412 L2103.25 153.944 Q2103.25 157.625 2104.68 159.476 Q2106.12 161.305 2108.99 161.305 Q2112.44 161.305 2114.43 159.106 Q2116.44 156.907 2116.44 153.111 L2116.44 138.412 L2120.7 138.412 L2120.7 164.338 L2116.44 164.338 L2116.44 160.356 Q2114.89 162.717 2112.83 163.875 Q2110.79 165.009 2108.08 165.009 Q2103.62 165.009 2101.3 162.231 Q2098.99 159.453 2098.99 154.106 M2109.7 137.787 L2109.7 137.787 Z\" fill=\"#000000\" fill-rule=\"nonzero\" fill-opacity=\"1\" /><path clip-path=\"url(#clip210)\" d=\"M2149.66 143.389 Q2151.25 140.518 2153.48 139.153 Q2155.7 137.787 2158.71 137.787 Q2162.76 137.787 2164.96 140.634 Q2167.16 143.458 2167.16 148.689 L2167.16 164.338 L2162.88 164.338 L2162.88 148.828 Q2162.88 145.102 2161.56 143.296 Q2160.24 141.49 2157.53 141.49 Q2154.22 141.49 2152.3 143.69 Q2150.38 145.889 2150.38 149.685 L2150.38 164.338 L2146.09 164.338 L2146.09 148.828 Q2146.09 145.078 2144.77 143.296 Q2143.45 141.49 2140.7 141.49 Q2137.44 141.49 2135.51 143.713 Q2133.59 145.912 2133.59 149.685 L2133.59 164.338 L2129.31 164.338 L2129.31 138.412 L2133.59 138.412 L2133.59 142.44 Q2135.05 140.055 2137.09 138.921 Q2139.13 137.787 2141.93 137.787 Q2144.75 137.787 2146.72 139.222 Q2148.71 140.657 2149.66 143.389 Z\" fill=\"#000000\" fill-rule=\"nonzero\" fill-opacity=\"1\" /><path clip-path=\"url(#clip210)\" d=\"M2197.83 150.31 L2197.83 152.393 L2178.25 152.393 Q2178.52 156.791 2180.88 159.106 Q2183.27 161.398 2187.5 161.398 Q2189.96 161.398 2192.25 160.796 Q2194.56 160.194 2196.83 158.99 L2196.83 163.018 Q2194.54 163.99 2192.13 164.5 Q2189.73 165.009 2187.25 165.009 Q2181.05 165.009 2177.41 161.398 Q2173.8 157.787 2173.8 151.629 Q2173.8 145.264 2177.23 141.537 Q2180.68 137.787 2186.51 137.787 Q2191.74 137.787 2194.77 141.166 Q2197.83 144.523 2197.83 150.31 M2193.57 149.06 Q2193.52 145.565 2191.6 143.481 Q2189.7 141.398 2186.56 141.398 Q2182.99 141.398 2180.84 143.412 Q2178.71 145.426 2178.38 149.083 L2193.57 149.06 Z\" fill=\"#000000\" fill-rule=\"nonzero\" fill-opacity=\"1\" /><path clip-path=\"url(#clip210)\" d=\"M2219.84 142.393 Q2219.12 141.977 2218.27 141.791 Q2217.44 141.583 2216.42 141.583 Q2212.81 141.583 2210.86 143.944 Q2208.94 146.282 2208.94 150.68 L2208.94 164.338 L2204.66 164.338 L2204.66 138.412 L2208.94 138.412 L2208.94 142.44 Q2210.28 140.078 2212.44 138.944 Q2214.59 137.787 2217.67 137.787 Q2218.11 137.787 2218.64 137.856 Q2219.17 137.903 2219.82 138.018 L2219.84 142.393 Z\" fill=\"#000000\" fill-rule=\"nonzero\" fill-opacity=\"1\" /><path clip-path=\"url(#clip210)\" d=\"M2224.31 138.412 L2228.57 138.412 L2228.57 164.338 L2224.31 164.338 L2224.31 138.412 M2224.31 128.319 L2228.57 128.319 L2228.57 133.713 L2224.31 133.713 L2224.31 128.319 Z\" fill=\"#000000\" fill-rule=\"nonzero\" fill-opacity=\"1\" /><path clip-path=\"url(#clip210)\" d=\"M2256.14 139.407 L2256.14 143.389 Q2254.33 142.393 2252.5 141.907 Q2250.7 141.398 2248.85 141.398 Q2244.7 141.398 2242.41 144.037 Q2240.12 146.652 2240.12 151.398 Q2240.12 156.143 2242.41 158.782 Q2244.7 161.398 2248.85 161.398 Q2250.7 161.398 2252.5 160.912 Q2254.33 160.402 2256.14 159.407 L2256.14 163.342 Q2254.36 164.176 2252.43 164.592 Q2250.54 165.009 2248.38 165.009 Q2242.53 165.009 2239.08 161.328 Q2235.63 157.648 2235.63 151.398 Q2235.63 145.055 2239.1 141.421 Q2242.6 137.787 2248.66 137.787 Q2250.63 137.787 2252.5 138.203 Q2254.38 138.597 2256.14 139.407 Z\" fill=\"#000000\" fill-rule=\"nonzero\" fill-opacity=\"1\" /><polyline clip-path=\"url(#clip210)\" style=\"stroke:#e26f46; stroke-linecap:round; stroke-linejoin:round; stroke-width:4; stroke-opacity:1; fill:none\" points=\"1900.14,198.898 2045.06,198.898 \"/>\n<path clip-path=\"url(#clip210)\" d=\"M2089.57 195.229 Q2091.16 192.358 2093.38 190.993 Q2095.61 189.627 2098.62 189.627 Q2102.67 189.627 2104.87 192.474 Q2107.07 195.298 2107.07 200.529 L2107.07 216.178 L2102.78 216.178 L2102.78 200.668 Q2102.78 196.942 2101.46 195.136 Q2100.14 193.33 2097.44 193.33 Q2094.13 193.33 2092.2 195.53 Q2090.28 197.729 2090.28 201.525 L2090.28 216.178 L2086 216.178 L2086 200.668 Q2086 196.918 2084.68 195.136 Q2083.36 193.33 2080.61 193.33 Q2077.34 193.33 2075.42 195.553 Q2073.5 197.752 2073.5 201.525 L2073.5 216.178 L2069.22 216.178 L2069.22 190.252 L2073.5 190.252 L2073.5 194.28 Q2074.96 191.895 2077 190.761 Q2079.03 189.627 2081.83 189.627 Q2084.66 189.627 2086.63 191.062 Q2088.62 192.497 2089.57 195.229 Z\" fill=\"#000000\" fill-rule=\"nonzero\" fill-opacity=\"1\" /><path clip-path=\"url(#clip210)\" d=\"M2137.11 190.252 L2127.74 202.867 L2137.6 216.178 L2132.57 216.178 L2125.03 205.992 L2117.48 216.178 L2112.46 216.178 L2122.53 202.613 L2113.32 190.252 L2118.34 190.252 L2125.21 199.488 L2132.09 190.252 L2137.11 190.252 Z\" fill=\"#000000\" fill-rule=\"nonzero\" fill-opacity=\"1\" /><path clip-path=\"url(#clip210)\" d=\"M2165.17 200.529 L2165.17 216.178 L2160.91 216.178 L2160.91 200.668 Q2160.91 196.988 2159.47 195.159 Q2158.04 193.33 2155.17 193.33 Q2151.72 193.33 2149.73 195.53 Q2147.74 197.729 2147.74 201.525 L2147.74 216.178 L2143.45 216.178 L2143.45 180.159 L2147.74 180.159 L2147.74 194.28 Q2149.26 191.942 2151.32 190.784 Q2153.41 189.627 2156.12 189.627 Q2160.58 189.627 2162.88 192.405 Q2165.17 195.159 2165.17 200.529 Z\" fill=\"#000000\" fill-rule=\"nonzero\" fill-opacity=\"1\" /></svg>\n"
               },
               "type": "node"
              }
             ],
             "instanceArgs": {
              "namespace": "html",
              "tag": "div"
             },
             "nodeType": "DOM",
             "props": {
              "className": "interact-flex-row interact-widget"
             },
             "type": "node"
            }
           }
          },
          "systemjs_options": null
         },
         "nodeType": "Scope",
         "props": {},
         "type": "node"
        }
       ],
       "instanceArgs": {
        "namespace": "html",
        "tag": "div"
       },
       "nodeType": "DOM",
       "props": {},
       "type": "node"
      },
      "text/html": [
       "<div\n",
       "    class=\"webio-mountpoint\"\n",
       "    data-webio-mountpoint=\"14953991493460068567\"\n",
       ">\n",
       "    <script>\n",
       "    (function(){\n",
       "    // Some integrations (namely, IJulia/Jupyter) use an alternate render pathway than\n",
       "    // just putting the html on the page. If WebIO isn't defined, then it's pretty likely\n",
       "    // that we're in one of those situations and the integration just isn't installed\n",
       "    // correctly.\n",
       "    if (typeof window.WebIO === \"undefined\") {\n",
       "        document\n",
       "            .querySelector('[data-webio-mountpoint=\"14953991493460068567\"]')\n",
       "            .innerHTML = (\n",
       "                '<div style=\"padding: 1em; background-color: #f8d6da; border: 1px solid #f5c6cb; font-weight: bold;\">' +\n",
       "                '<p><strong>WebIO not detected.</strong></p>' +\n",
       "                '<p>Please read ' +\n",
       "                '<a href=\"https://juliagizmos.github.io/WebIO.jl/latest/troubleshooting/not-detected/\" target=\"_blank\">the troubleshooting guide</a> ' +\n",
       "                'for more information on how to resolve this issue.</p>' +\n",
       "                '<p><a href=\"https://juliagizmos.github.io/WebIO.jl/latest/troubleshooting/not-detected/\" target=\"_blank\">https://juliagizmos.github.io/WebIO.jl/latest/troubleshooting/not-detected/</a></p>' +\n",
       "                '</div>'\n",
       "            );\n",
       "        return;\n",
       "    }\n",
       "    WebIO.mount(\n",
       "        document.querySelector('[data-webio-mountpoint=\"14953991493460068567\"]'),\n",
       "        {\"props\":{},\"nodeType\":\"DOM\",\"type\":\"node\",\"instanceArgs\":{\"namespace\":\"html\",\"tag\":\"div\"},\"children\":[{\"props\":{\"className\":\"field interact-widget\"},\"nodeType\":\"DOM\",\"type\":\"node\",\"instanceArgs\":{\"namespace\":\"html\",\"tag\":\"div\"},\"children\":[{\"props\":{},\"nodeType\":\"Scope\",\"type\":\"node\",\"instanceArgs\":{\"imports\":{\"data\":[{\"name\":\"knockout\",\"type\":\"js\",\"url\":\"\\/assetserver\\/46fa30269326aba23141c18b17d8ce39cc329be8-knockout.js\"},{\"name\":\"knockout_punches\",\"type\":\"js\",\"url\":\"\\/assetserver\\/785cf23779dbf5e70842ccdb713d3ca9d688333f-knockout_punches.js\"},{\"name\":null,\"type\":\"js\",\"url\":\"\\/assetserver\\/1bc46607af5b174f8ca4d1bfd755db598dcef146-all.js\"},{\"name\":null,\"type\":\"css\",\"url\":\"\\/assetserver\\/9824d0edd7ec97f5c88ea78fe99914e216073c09-style.css\"},{\"name\":null,\"type\":\"css\",\"url\":\"\\/assetserver\\/1f713bda89a85e38ff51c8784de0dbc492fe903f-bulma_confined.min.css\"}],\"type\":\"async_block\"},\"id\":\"13492934637759783611\",\"handlers\":{\"changes\":[\"(function (val){return (val!=this.model[\\\"changes\\\"]()) ? (this.valueFromJulia[\\\"changes\\\"]=true, this.model[\\\"changes\\\"](val)) : undefined})\"],\"index\":[\"(function (val){return (val!=this.model[\\\"index\\\"]()) ? (this.valueFromJulia[\\\"index\\\"]=true, this.model[\\\"index\\\"](val)) : undefined})\"]},\"systemjs_options\":null,\"mount_callbacks\":[\"function () {\\n    var handler = (function (ko, koPunches) {\\n    ko.punches.enableAll();\\n    ko.bindingHandlers.numericValue = {\\n        init: function(element, valueAccessor, allBindings, data, context) {\\n            var stringified = ko.observable(ko.unwrap(valueAccessor()));\\n            stringified.subscribe(function(value) {\\n                var val = parseFloat(value);\\n                if (!isNaN(val)) {\\n                    valueAccessor()(val);\\n                }\\n            });\\n            valueAccessor().subscribe(function(value) {\\n                var str = JSON.stringify(value);\\n                if ((str == \\\"0\\\") && ([\\\"-0\\\", \\\"-0.\\\"].indexOf(stringified()) >= 0))\\n                     return;\\n                 if ([\\\"null\\\", \\\"\\\"].indexOf(str) >= 0)\\n                     return;\\n                stringified(str);\\n            });\\n            ko.applyBindingsToNode(\\n                element,\\n                {\\n                    value: stringified,\\n                    valueUpdate: allBindings.get('valueUpdate'),\\n                },\\n                context,\\n            );\\n        }\\n    };\\n    var json_data = {\\\"formatted_vals\\\":[\\\"0\\\",\\\"1\\\",\\\"2\\\",\\\"3\\\",\\\"4\\\",\\\"5\\\",\\\"6\\\",\\\"7\\\",\\\"8\\\",\\\"9\\\",\\\"10\\\"],\\\"changes\\\":WebIO.getval({\\\"name\\\":\\\"changes\\\",\\\"scope\\\":\\\"13492934637759783611\\\",\\\"id\\\":\\\"78\\\",\\\"type\\\":\\\"observable\\\"}),\\\"index\\\":WebIO.getval({\\\"name\\\":\\\"index\\\",\\\"scope\\\":\\\"13492934637759783611\\\",\\\"id\\\":\\\"77\\\",\\\"type\\\":\\\"observable\\\"})};\\n    var self = this;\\n    function AppViewModel() {\\n        for (var key in json_data) {\\n            var el = json_data[key];\\n            this[key] = Array.isArray(el) ? ko.observableArray(el) : ko.observable(el);\\n        }\\n        \\n        [this[\\\"formatted_val\\\"]=ko.computed(    function(){\\n        return this.formatted_vals()[parseInt(this.index())-(0)];\\n    }\\n,this)]\\n        [this[\\\"changes\\\"].subscribe((function (val){!(this.valueFromJulia[\\\"changes\\\"]) ? (WebIO.setval({\\\"name\\\":\\\"changes\\\",\\\"scope\\\":\\\"13492934637759783611\\\",\\\"id\\\":\\\"78\\\",\\\"type\\\":\\\"observable\\\"},val)) : undefined; return this.valueFromJulia[\\\"changes\\\"]=false}),self),this[\\\"index\\\"].subscribe((function (val){!(this.valueFromJulia[\\\"index\\\"]) ? (WebIO.setval({\\\"name\\\":\\\"index\\\",\\\"scope\\\":\\\"13492934637759783611\\\",\\\"id\\\":\\\"77\\\",\\\"type\\\":\\\"observable\\\"},val)) : undefined; return this.valueFromJulia[\\\"index\\\"]=false}),self)]\\n        \\n    }\\n    self.model = new AppViewModel();\\n    self.valueFromJulia = {};\\n    for (var key in json_data) {\\n        self.valueFromJulia[key] = false;\\n    }\\n    ko.applyBindings(self.model, self.dom);\\n}\\n);\\n    (WebIO.importBlock({\\\"data\\\":[{\\\"name\\\":\\\"knockout\\\",\\\"type\\\":\\\"js\\\",\\\"url\\\":\\\"\\/assetserver\\/46fa30269326aba23141c18b17d8ce39cc329be8-knockout.js\\\"},{\\\"name\\\":\\\"knockout_punches\\\",\\\"type\\\":\\\"js\\\",\\\"url\\\":\\\"\\/assetserver\\/785cf23779dbf5e70842ccdb713d3ca9d688333f-knockout_punches.js\\\"}],\\\"type\\\":\\\"async_block\\\"})).then((imports) => handler.apply(this, imports));\\n}\\n\"],\"observables\":{\"changes\":{\"sync\":false,\"id\":\"78\",\"value\":0},\"index\":{\"sync\":true,\"id\":\"77\",\"value\":5}}},\"children\":[{\"props\":{\"className\":\"interact-flex-row interact-widget\"},\"nodeType\":\"DOM\",\"type\":\"node\",\"instanceArgs\":{\"namespace\":\"html\",\"tag\":\"div\"},\"children\":[{\"props\":{\"className\":\"interact-flex-row-left\"},\"nodeType\":\"DOM\",\"type\":\"node\",\"instanceArgs\":{\"namespace\":\"html\",\"tag\":\"div\"},\"children\":[{\"props\":{\"className\":\"interact \",\"style\":{\"padding\":\"5px 10px 0px 10px\"}},\"nodeType\":\"DOM\",\"type\":\"node\",\"instanceArgs\":{\"namespace\":\"html\",\"tag\":\"label\"},\"children\":[\"mhx_order\"]}]},{\"props\":{\"className\":\"interact-flex-row-center\"},\"nodeType\":\"DOM\",\"type\":\"node\",\"instanceArgs\":{\"namespace\":\"html\",\"tag\":\"div\"},\"children\":[{\"props\":{\"max\":10,\"min\":0,\"attributes\":{\"type\":\"range\",\"data-bind\":\"numericValue: index, valueUpdate: 'input', event: {change: function (){this.changes(this.changes()+1)}}\",\"orient\":\"horizontal\"},\"step\":1,\"className\":\"slider slider is-fullwidth\",\"style\":{}},\"nodeType\":\"DOM\",\"type\":\"node\",\"instanceArgs\":{\"namespace\":\"html\",\"tag\":\"input\"},\"children\":[]}]},{\"props\":{\"className\":\"interact-flex-row-right\"},\"nodeType\":\"DOM\",\"type\":\"node\",\"instanceArgs\":{\"namespace\":\"html\",\"tag\":\"div\"},\"children\":[{\"props\":{\"attributes\":{\"data-bind\":\"text: formatted_val\"}},\"nodeType\":\"DOM\",\"type\":\"node\",\"instanceArgs\":{\"namespace\":\"html\",\"tag\":\"p\"},\"children\":[]}]}]}]}]},{\"props\":{\"className\":\"field interact-widget\"},\"nodeType\":\"DOM\",\"type\":\"node\",\"instanceArgs\":{\"namespace\":\"html\",\"tag\":\"div\"},\"children\":[{\"props\":{},\"nodeType\":\"Scope\",\"type\":\"node\",\"instanceArgs\":{\"imports\":{\"data\":[{\"name\":\"knockout\",\"type\":\"js\",\"url\":\"\\/assetserver\\/46fa30269326aba23141c18b17d8ce39cc329be8-knockout.js\"},{\"name\":\"knockout_punches\",\"type\":\"js\",\"url\":\"\\/assetserver\\/785cf23779dbf5e70842ccdb713d3ca9d688333f-knockout_punches.js\"},{\"name\":null,\"type\":\"js\",\"url\":\"\\/assetserver\\/1bc46607af5b174f8ca4d1bfd755db598dcef146-all.js\"},{\"name\":null,\"type\":\"css\",\"url\":\"\\/assetserver\\/9824d0edd7ec97f5c88ea78fe99914e216073c09-style.css\"},{\"name\":null,\"type\":\"css\",\"url\":\"\\/assetserver\\/1f713bda89a85e38ff51c8784de0dbc492fe903f-bulma_confined.min.css\"}],\"type\":\"async_block\"},\"id\":\"8706665360527482571\",\"handlers\":{\"changes\":[\"(function (val){return (val!=this.model[\\\"changes\\\"]()) ? (this.valueFromJulia[\\\"changes\\\"]=true, this.model[\\\"changes\\\"](val)) : undefined})\"],\"index\":[\"(function (val){return (val!=this.model[\\\"index\\\"]()) ? (this.valueFromJulia[\\\"index\\\"]=true, this.model[\\\"index\\\"](val)) : undefined})\"]},\"systemjs_options\":null,\"mount_callbacks\":[\"function () {\\n    var handler = (function (ko, koPunches) {\\n    ko.punches.enableAll();\\n    ko.bindingHandlers.numericValue = {\\n        init: function(element, valueAccessor, allBindings, data, context) {\\n            var stringified = ko.observable(ko.unwrap(valueAccessor()));\\n            stringified.subscribe(function(value) {\\n                var val = parseFloat(value);\\n                if (!isNaN(val)) {\\n                    valueAccessor()(val);\\n                }\\n            });\\n            valueAccessor().subscribe(function(value) {\\n                var str = JSON.stringify(value);\\n                if ((str == \\\"0\\\") && ([\\\"-0\\\", \\\"-0.\\\"].indexOf(stringified()) >= 0))\\n                     return;\\n                 if ([\\\"null\\\", \\\"\\\"].indexOf(str) >= 0)\\n                     return;\\n                stringified(str);\\n            });\\n            ko.applyBindingsToNode(\\n                element,\\n                {\\n                    value: stringified,\\n                    valueUpdate: allBindings.get('valueUpdate'),\\n                },\\n                context,\\n            );\\n        }\\n    };\\n    var json_data = {\\\"formatted_vals\\\":[\\\"0.1\\\",\\\"0.199\\\",\\\"0.298\\\",\\\"0.397\\\",\\\"0.496\\\",\\\"0.595\\\",\\\"0.694\\\",\\\"0.793\\\",\\\"0.892\\\",\\\"0.991\\\",\\\"1.09\\\",\\\"1.189\\\",\\\"1.288\\\",\\\"1.387\\\",\\\"1.486\\\",\\\"1.585\\\",\\\"1.684\\\",\\\"1.783\\\",\\\"1.882\\\",\\\"1.981\\\",\\\"2.08\\\",\\\"2.179\\\",\\\"2.278\\\",\\\"2.377\\\",\\\"2.476\\\",\\\"2.575\\\",\\\"2.674\\\",\\\"2.773\\\",\\\"2.872\\\",\\\"2.971\\\",\\\"3.07\\\",\\\"3.169\\\",\\\"3.268\\\",\\\"3.367\\\",\\\"3.466\\\",\\\"3.565\\\",\\\"3.664\\\",\\\"3.763\\\",\\\"3.862\\\",\\\"3.961\\\",\\\"4.06\\\",\\\"4.159\\\",\\\"4.258\\\",\\\"4.357\\\",\\\"4.456\\\",\\\"4.555\\\",\\\"4.654\\\",\\\"4.753\\\",\\\"4.852\\\",\\\"4.951\\\",\\\"5.05\\\",\\\"5.149\\\",\\\"5.248\\\",\\\"5.347\\\",\\\"5.446\\\",\\\"5.545\\\",\\\"5.644\\\",\\\"5.743\\\",\\\"5.842\\\",\\\"5.941\\\",\\\"6.04\\\",\\\"6.139\\\",\\\"6.238\\\",\\\"6.337\\\",\\\"6.436\\\",\\\"6.535\\\",\\\"6.634\\\",\\\"6.733\\\",\\\"6.832\\\",\\\"6.931\\\",\\\"7.03\\\",\\\"7.129\\\",\\\"7.228\\\",\\\"7.327\\\",\\\"7.426\\\",\\\"7.525\\\",\\\"7.624\\\",\\\"7.723\\\",\\\"7.822\\\",\\\"7.921\\\",\\\"8.02\\\",\\\"8.119\\\",\\\"8.218\\\",\\\"8.317\\\",\\\"8.416\\\",\\\"8.515\\\",\\\"8.614\\\",\\\"8.713\\\",\\\"8.812\\\",\\\"8.911\\\",\\\"9.01\\\",\\\"9.109\\\",\\\"9.208\\\",\\\"9.307\\\",\\\"9.406\\\",\\\"9.505\\\",\\\"9.604\\\",\\\"9.703\\\",\\\"9.802\\\",\\\"9.901\\\",\\\"10.0\\\"],\\\"changes\\\":WebIO.getval({\\\"name\\\":\\\"changes\\\",\\\"scope\\\":\\\"8706665360527482571\\\",\\\"id\\\":\\\"81\\\",\\\"type\\\":\\\"observable\\\"}),\\\"index\\\":WebIO.getval({\\\"name\\\":\\\"index\\\",\\\"scope\\\":\\\"8706665360527482571\\\",\\\"id\\\":\\\"80\\\",\\\"type\\\":\\\"observable\\\"})};\\n    var self = this;\\n    function AppViewModel() {\\n        for (var key in json_data) {\\n            var el = json_data[key];\\n            this[key] = Array.isArray(el) ? ko.observableArray(el) : ko.observable(el);\\n        }\\n        \\n        [this[\\\"formatted_val\\\"]=ko.computed(    function(){\\n        return this.formatted_vals()[parseInt(this.index())-(1)];\\n    }\\n,this)]\\n        [this[\\\"changes\\\"].subscribe((function (val){!(this.valueFromJulia[\\\"changes\\\"]) ? (WebIO.setval({\\\"name\\\":\\\"changes\\\",\\\"scope\\\":\\\"8706665360527482571\\\",\\\"id\\\":\\\"81\\\",\\\"type\\\":\\\"observable\\\"},val)) : undefined; return this.valueFromJulia[\\\"changes\\\"]=false}),self),this[\\\"index\\\"].subscribe((function (val){!(this.valueFromJulia[\\\"index\\\"]) ? (WebIO.setval({\\\"name\\\":\\\"index\\\",\\\"scope\\\":\\\"8706665360527482571\\\",\\\"id\\\":\\\"80\\\",\\\"type\\\":\\\"observable\\\"},val)) : undefined; return this.valueFromJulia[\\\"index\\\"]=false}),self)]\\n        \\n    }\\n    self.model = new AppViewModel();\\n    self.valueFromJulia = {};\\n    for (var key in json_data) {\\n        self.valueFromJulia[key] = false;\\n    }\\n    ko.applyBindings(self.model, self.dom);\\n}\\n);\\n    (WebIO.importBlock({\\\"data\\\":[{\\\"name\\\":\\\"knockout\\\",\\\"type\\\":\\\"js\\\",\\\"url\\\":\\\"\\/assetserver\\/46fa30269326aba23141c18b17d8ce39cc329be8-knockout.js\\\"},{\\\"name\\\":\\\"knockout_punches\\\",\\\"type\\\":\\\"js\\\",\\\"url\\\":\\\"\\/assetserver\\/785cf23779dbf5e70842ccdb713d3ca9d688333f-knockout_punches.js\\\"}],\\\"type\\\":\\\"async_block\\\"})).then((imports) => handler.apply(this, imports));\\n}\\n\"],\"observables\":{\"changes\":{\"sync\":false,\"id\":\"81\",\"value\":0},\"index\":{\"sync\":true,\"id\":\"80\",\"value\":51}}},\"children\":[{\"props\":{\"className\":\"interact-flex-row interact-widget\"},\"nodeType\":\"DOM\",\"type\":\"node\",\"instanceArgs\":{\"namespace\":\"html\",\"tag\":\"div\"},\"children\":[{\"props\":{\"className\":\"interact-flex-row-left\"},\"nodeType\":\"DOM\",\"type\":\"node\",\"instanceArgs\":{\"namespace\":\"html\",\"tag\":\"div\"},\"children\":[{\"props\":{\"className\":\"interact \",\"style\":{\"padding\":\"5px 10px 0px 10px\"}},\"nodeType\":\"DOM\",\"type\":\"node\",\"instanceArgs\":{\"namespace\":\"html\",\"tag\":\"label\"},\"children\":[\"a\"]}]},{\"props\":{\"className\":\"interact-flex-row-center\"},\"nodeType\":\"DOM\",\"type\":\"node\",\"instanceArgs\":{\"namespace\":\"html\",\"tag\":\"div\"},\"children\":[{\"props\":{\"max\":101,\"min\":1,\"attributes\":{\"type\":\"range\",\"data-bind\":\"numericValue: index, valueUpdate: 'input', event: {change: function (){this.changes(this.changes()+1)}}\",\"orient\":\"horizontal\"},\"step\":1,\"className\":\"slider slider is-fullwidth\",\"style\":{}},\"nodeType\":\"DOM\",\"type\":\"node\",\"instanceArgs\":{\"namespace\":\"html\",\"tag\":\"input\"},\"children\":[]}]},{\"props\":{\"className\":\"interact-flex-row-right\"},\"nodeType\":\"DOM\",\"type\":\"node\",\"instanceArgs\":{\"namespace\":\"html\",\"tag\":\"div\"},\"children\":[{\"props\":{\"attributes\":{\"data-bind\":\"text: formatted_val\"}},\"nodeType\":\"DOM\",\"type\":\"node\",\"instanceArgs\":{\"namespace\":\"html\",\"tag\":\"p\"},\"children\":[]}]}]}]}]},{\"props\":{\"className\":\"field interact-widget\"},\"nodeType\":\"DOM\",\"type\":\"node\",\"instanceArgs\":{\"namespace\":\"html\",\"tag\":\"div\"},\"children\":[{\"props\":{},\"nodeType\":\"Scope\",\"type\":\"node\",\"instanceArgs\":{\"imports\":{\"data\":[{\"name\":\"knockout\",\"type\":\"js\",\"url\":\"\\/assetserver\\/46fa30269326aba23141c18b17d8ce39cc329be8-knockout.js\"},{\"name\":\"knockout_punches\",\"type\":\"js\",\"url\":\"\\/assetserver\\/785cf23779dbf5e70842ccdb713d3ca9d688333f-knockout_punches.js\"},{\"name\":null,\"type\":\"js\",\"url\":\"\\/assetserver\\/1bc46607af5b174f8ca4d1bfd755db598dcef146-all.js\"},{\"name\":null,\"type\":\"css\",\"url\":\"\\/assetserver\\/9824d0edd7ec97f5c88ea78fe99914e216073c09-style.css\"},{\"name\":null,\"type\":\"css\",\"url\":\"\\/assetserver\\/1f713bda89a85e38ff51c8784de0dbc492fe903f-bulma_confined.min.css\"}],\"type\":\"async_block\"},\"id\":\"7279357118624457334\",\"handlers\":{\"changes\":[\"(function (val){return (val!=this.model[\\\"changes\\\"]()) ? (this.valueFromJulia[\\\"changes\\\"]=true, this.model[\\\"changes\\\"](val)) : undefined})\"],\"index\":[\"(function (val){return (val!=this.model[\\\"index\\\"]()) ? (this.valueFromJulia[\\\"index\\\"]=true, this.model[\\\"index\\\"](val)) : undefined})\"]},\"systemjs_options\":null,\"mount_callbacks\":[\"function () {\\n    var handler = (function (ko, koPunches) {\\n    ko.punches.enableAll();\\n    ko.bindingHandlers.numericValue = {\\n        init: function(element, valueAccessor, allBindings, data, context) {\\n            var stringified = ko.observable(ko.unwrap(valueAccessor()));\\n            stringified.subscribe(function(value) {\\n                var val = parseFloat(value);\\n                if (!isNaN(val)) {\\n                    valueAccessor()(val);\\n                }\\n            });\\n            valueAccessor().subscribe(function(value) {\\n                var str = JSON.stringify(value);\\n                if ((str == \\\"0\\\") && ([\\\"-0\\\", \\\"-0.\\\"].indexOf(stringified()) >= 0))\\n                     return;\\n                 if ([\\\"null\\\", \\\"\\\"].indexOf(str) >= 0)\\n                     return;\\n                stringified(str);\\n            });\\n            ko.applyBindingsToNode(\\n                element,\\n                {\\n                    value: stringified,\\n                    valueUpdate: allBindings.get('valueUpdate'),\\n                },\\n                context,\\n            );\\n        }\\n    };\\n    var json_data = {\\\"formatted_vals\\\":[\\\"0.1\\\",\\\"0.109\\\",\\\"0.118\\\",\\\"0.127\\\",\\\"0.136\\\",\\\"0.145\\\",\\\"0.154\\\",\\\"0.163\\\",\\\"0.172\\\",\\\"0.181\\\",\\\"0.19\\\",\\\"0.199\\\",\\\"0.208\\\",\\\"0.217\\\",\\\"0.226\\\",\\\"0.235\\\",\\\"0.244\\\",\\\"0.253\\\",\\\"0.262\\\",\\\"0.271\\\",\\\"0.28\\\",\\\"0.289\\\",\\\"0.298\\\",\\\"0.307\\\",\\\"0.316\\\",\\\"0.325\\\",\\\"0.334\\\",\\\"0.343\\\",\\\"0.352\\\",\\\"0.361\\\",\\\"0.37\\\",\\\"0.379\\\",\\\"0.388\\\",\\\"0.397\\\",\\\"0.406\\\",\\\"0.415\\\",\\\"0.424\\\",\\\"0.433\\\",\\\"0.442\\\",\\\"0.451\\\",\\\"0.46\\\",\\\"0.469\\\",\\\"0.478\\\",\\\"0.487\\\",\\\"0.496\\\",\\\"0.505\\\",\\\"0.514\\\",\\\"0.523\\\",\\\"0.532\\\",\\\"0.541\\\",\\\"0.55\\\",\\\"0.559\\\",\\\"0.568\\\",\\\"0.577\\\",\\\"0.586\\\",\\\"0.595\\\",\\\"0.604\\\",\\\"0.613\\\",\\\"0.622\\\",\\\"0.631\\\",\\\"0.64\\\",\\\"0.649\\\",\\\"0.658\\\",\\\"0.667\\\",\\\"0.676\\\",\\\"0.685\\\",\\\"0.694\\\",\\\"0.703\\\",\\\"0.712\\\",\\\"0.721\\\",\\\"0.73\\\",\\\"0.739\\\",\\\"0.748\\\",\\\"0.757\\\",\\\"0.766\\\",\\\"0.775\\\",\\\"0.784\\\",\\\"0.793\\\",\\\"0.802\\\",\\\"0.811\\\",\\\"0.82\\\",\\\"0.829\\\",\\\"0.838\\\",\\\"0.847\\\",\\\"0.856\\\",\\\"0.865\\\",\\\"0.874\\\",\\\"0.883\\\",\\\"0.892\\\",\\\"0.901\\\",\\\"0.91\\\",\\\"0.919\\\",\\\"0.928\\\",\\\"0.937\\\",\\\"0.946\\\",\\\"0.955\\\",\\\"0.964\\\",\\\"0.973\\\",\\\"0.982\\\",\\\"0.991\\\",\\\"1.0\\\"],\\\"changes\\\":WebIO.getval({\\\"name\\\":\\\"changes\\\",\\\"scope\\\":\\\"7279357118624457334\\\",\\\"id\\\":\\\"84\\\",\\\"type\\\":\\\"observable\\\"}),\\\"index\\\":WebIO.getval({\\\"name\\\":\\\"index\\\",\\\"scope\\\":\\\"7279357118624457334\\\",\\\"id\\\":\\\"83\\\",\\\"type\\\":\\\"observable\\\"})};\\n    var self = this;\\n    function AppViewModel() {\\n        for (var key in json_data) {\\n            var el = json_data[key];\\n            this[key] = Array.isArray(el) ? ko.observableArray(el) : ko.observable(el);\\n        }\\n        \\n        [this[\\\"formatted_val\\\"]=ko.computed(    function(){\\n        return this.formatted_vals()[parseInt(this.index())-(1)];\\n    }\\n,this)]\\n        [this[\\\"changes\\\"].subscribe((function (val){!(this.valueFromJulia[\\\"changes\\\"]) ? (WebIO.setval({\\\"name\\\":\\\"changes\\\",\\\"scope\\\":\\\"7279357118624457334\\\",\\\"id\\\":\\\"84\\\",\\\"type\\\":\\\"observable\\\"},val)) : undefined; return this.valueFromJulia[\\\"changes\\\"]=false}),self),this[\\\"index\\\"].subscribe((function (val){!(this.valueFromJulia[\\\"index\\\"]) ? (WebIO.setval({\\\"name\\\":\\\"index\\\",\\\"scope\\\":\\\"7279357118624457334\\\",\\\"id\\\":\\\"83\\\",\\\"type\\\":\\\"observable\\\"},val)) : undefined; return this.valueFromJulia[\\\"index\\\"]=false}),self)]\\n        \\n    }\\n    self.model = new AppViewModel();\\n    self.valueFromJulia = {};\\n    for (var key in json_data) {\\n        self.valueFromJulia[key] = false;\\n    }\\n    ko.applyBindings(self.model, self.dom);\\n}\\n);\\n    (WebIO.importBlock({\\\"data\\\":[{\\\"name\\\":\\\"knockout\\\",\\\"type\\\":\\\"js\\\",\\\"url\\\":\\\"\\/assetserver\\/46fa30269326aba23141c18b17d8ce39cc329be8-knockout.js\\\"},{\\\"name\\\":\\\"knockout_punches\\\",\\\"type\\\":\\\"js\\\",\\\"url\\\":\\\"\\/assetserver\\/785cf23779dbf5e70842ccdb713d3ca9d688333f-knockout_punches.js\\\"}],\\\"type\\\":\\\"async_block\\\"})).then((imports) => handler.apply(this, imports));\\n}\\n\"],\"observables\":{\"changes\":{\"sync\":false,\"id\":\"84\",\"value\":0},\"index\":{\"sync\":true,\"id\":\"83\",\"value\":51}}},\"children\":[{\"props\":{\"className\":\"interact-flex-row interact-widget\"},\"nodeType\":\"DOM\",\"type\":\"node\",\"instanceArgs\":{\"namespace\":\"html\",\"tag\":\"div\"},\"children\":[{\"props\":{\"className\":\"interact-flex-row-left\"},\"nodeType\":\"DOM\",\"type\":\"node\",\"instanceArgs\":{\"namespace\":\"html\",\"tag\":\"div\"},\"children\":[{\"props\":{\"className\":\"interact \",\"style\":{\"padding\":\"5px 10px 0px 10px\"}},\"nodeType\":\"DOM\",\"type\":\"node\",\"instanceArgs\":{\"namespace\":\"html\",\"tag\":\"label\"},\"children\":[\"eps\"]}]},{\"props\":{\"className\":\"interact-flex-row-center\"},\"nodeType\":\"DOM\",\"type\":\"node\",\"instanceArgs\":{\"namespace\":\"html\",\"tag\":\"div\"},\"children\":[{\"props\":{\"max\":101,\"min\":1,\"attributes\":{\"type\":\"range\",\"data-bind\":\"numericValue: index, valueUpdate: 'input', event: {change: function (){this.changes(this.changes()+1)}}\",\"orient\":\"horizontal\"},\"step\":1,\"className\":\"slider slider is-fullwidth\",\"style\":{}},\"nodeType\":\"DOM\",\"type\":\"node\",\"instanceArgs\":{\"namespace\":\"html\",\"tag\":\"input\"},\"children\":[]}]},{\"props\":{\"className\":\"interact-flex-row-right\"},\"nodeType\":\"DOM\",\"type\":\"node\",\"instanceArgs\":{\"namespace\":\"html\",\"tag\":\"div\"},\"children\":[{\"props\":{\"attributes\":{\"data-bind\":\"text: formatted_val\"}},\"nodeType\":\"DOM\",\"type\":\"node\",\"instanceArgs\":{\"namespace\":\"html\",\"tag\":\"p\"},\"children\":[]}]}]}]}]},{\"props\":{\"className\":\"field interact-widget\"},\"nodeType\":\"DOM\",\"type\":\"node\",\"instanceArgs\":{\"namespace\":\"html\",\"tag\":\"div\"},\"children\":[{\"props\":{},\"nodeType\":\"Scope\",\"type\":\"node\",\"instanceArgs\":{\"imports\":{\"data\":[{\"name\":\"knockout\",\"type\":\"js\",\"url\":\"\\/assetserver\\/46fa30269326aba23141c18b17d8ce39cc329be8-knockout.js\"},{\"name\":\"knockout_punches\",\"type\":\"js\",\"url\":\"\\/assetserver\\/785cf23779dbf5e70842ccdb713d3ca9d688333f-knockout_punches.js\"},{\"name\":null,\"type\":\"js\",\"url\":\"\\/assetserver\\/1bc46607af5b174f8ca4d1bfd755db598dcef146-all.js\"},{\"name\":null,\"type\":\"css\",\"url\":\"\\/assetserver\\/9824d0edd7ec97f5c88ea78fe99914e216073c09-style.css\"},{\"name\":null,\"type\":\"css\",\"url\":\"\\/assetserver\\/1f713bda89a85e38ff51c8784de0dbc492fe903f-bulma_confined.min.css\"}],\"type\":\"async_block\"},\"id\":\"18191359397671757004\",\"handlers\":{\"changes\":[\"(function (val){return (val!=this.model[\\\"changes\\\"]()) ? (this.valueFromJulia[\\\"changes\\\"]=true, this.model[\\\"changes\\\"](val)) : undefined})\"],\"index\":[\"(function (val){return (val!=this.model[\\\"index\\\"]()) ? (this.valueFromJulia[\\\"index\\\"]=true, this.model[\\\"index\\\"](val)) : undefined})\"]},\"systemjs_options\":null,\"mount_callbacks\":[\"function () {\\n    var handler = (function (ko, koPunches) {\\n    ko.punches.enableAll();\\n    ko.bindingHandlers.numericValue = {\\n        init: function(element, valueAccessor, allBindings, data, context) {\\n            var stringified = ko.observable(ko.unwrap(valueAccessor()));\\n            stringified.subscribe(function(value) {\\n                var val = parseFloat(value);\\n                if (!isNaN(val)) {\\n                    valueAccessor()(val);\\n                }\\n            });\\n            valueAccessor().subscribe(function(value) {\\n                var str = JSON.stringify(value);\\n                if ((str == \\\"0\\\") && ([\\\"-0\\\", \\\"-0.\\\"].indexOf(stringified()) >= 0))\\n                     return;\\n                 if ([\\\"null\\\", \\\"\\\"].indexOf(str) >= 0)\\n                     return;\\n                stringified(str);\\n            });\\n            ko.applyBindingsToNode(\\n                element,\\n                {\\n                    value: stringified,\\n                    valueUpdate: allBindings.get('valueUpdate'),\\n                },\\n                context,\\n            );\\n        }\\n    };\\n    var json_data = {\\\"formatted_vals\\\":[\\\"1.0\\\",\\\"1.02\\\",\\\"1.04\\\",\\\"1.06\\\",\\\"1.08\\\",\\\"1.1\\\",\\\"1.12\\\",\\\"1.14\\\",\\\"1.16\\\",\\\"1.18\\\",\\\"1.2\\\",\\\"1.22\\\",\\\"1.24\\\",\\\"1.26\\\",\\\"1.28\\\",\\\"1.3\\\",\\\"1.32\\\",\\\"1.34\\\",\\\"1.36\\\",\\\"1.38\\\",\\\"1.4\\\",\\\"1.42\\\",\\\"1.44\\\",\\\"1.46\\\",\\\"1.48\\\",\\\"1.5\\\",\\\"1.52\\\",\\\"1.54\\\",\\\"1.56\\\",\\\"1.58\\\",\\\"1.6\\\",\\\"1.62\\\",\\\"1.64\\\",\\\"1.66\\\",\\\"1.68\\\",\\\"1.7\\\",\\\"1.72\\\",\\\"1.74\\\",\\\"1.76\\\",\\\"1.78\\\",\\\"1.8\\\",\\\"1.82\\\",\\\"1.84\\\",\\\"1.86\\\",\\\"1.88\\\",\\\"1.9\\\",\\\"1.92\\\",\\\"1.94\\\",\\\"1.96\\\",\\\"1.98\\\",\\\"2.0\\\",\\\"2.02\\\",\\\"2.04\\\",\\\"2.06\\\",\\\"2.08\\\",\\\"2.1\\\",\\\"2.12\\\",\\\"2.14\\\",\\\"2.16\\\",\\\"2.18\\\",\\\"2.2\\\",\\\"2.22\\\",\\\"2.24\\\",\\\"2.26\\\",\\\"2.28\\\",\\\"2.3\\\",\\\"2.32\\\",\\\"2.34\\\",\\\"2.36\\\",\\\"2.38\\\",\\\"2.4\\\",\\\"2.42\\\",\\\"2.44\\\",\\\"2.46\\\",\\\"2.48\\\",\\\"2.5\\\",\\\"2.52\\\",\\\"2.54\\\",\\\"2.56\\\",\\\"2.58\\\",\\\"2.6\\\",\\\"2.62\\\",\\\"2.64\\\",\\\"2.66\\\",\\\"2.68\\\",\\\"2.7\\\",\\\"2.72\\\",\\\"2.74\\\",\\\"2.76\\\",\\\"2.78\\\",\\\"2.8\\\",\\\"2.82\\\",\\\"2.84\\\",\\\"2.86\\\",\\\"2.88\\\",\\\"2.9\\\",\\\"2.92\\\",\\\"2.94\\\",\\\"2.96\\\",\\\"2.98\\\",\\\"3.0\\\"],\\\"changes\\\":WebIO.getval({\\\"name\\\":\\\"changes\\\",\\\"scope\\\":\\\"18191359397671757004\\\",\\\"id\\\":\\\"87\\\",\\\"type\\\":\\\"observable\\\"}),\\\"index\\\":WebIO.getval({\\\"name\\\":\\\"index\\\",\\\"scope\\\":\\\"18191359397671757004\\\",\\\"id\\\":\\\"86\\\",\\\"type\\\":\\\"observable\\\"})};\\n    var self = this;\\n    function AppViewModel() {\\n        for (var key in json_data) {\\n            var el = json_data[key];\\n            this[key] = Array.isArray(el) ? ko.observableArray(el) : ko.observable(el);\\n        }\\n        \\n        [this[\\\"formatted_val\\\"]=ko.computed(    function(){\\n        return this.formatted_vals()[parseInt(this.index())-(1)];\\n    }\\n,this)]\\n        [this[\\\"changes\\\"].subscribe((function (val){!(this.valueFromJulia[\\\"changes\\\"]) ? (WebIO.setval({\\\"name\\\":\\\"changes\\\",\\\"scope\\\":\\\"18191359397671757004\\\",\\\"id\\\":\\\"87\\\",\\\"type\\\":\\\"observable\\\"},val)) : undefined; return this.valueFromJulia[\\\"changes\\\"]=false}),self),this[\\\"index\\\"].subscribe((function (val){!(this.valueFromJulia[\\\"index\\\"]) ? (WebIO.setval({\\\"name\\\":\\\"index\\\",\\\"scope\\\":\\\"18191359397671757004\\\",\\\"id\\\":\\\"86\\\",\\\"type\\\":\\\"observable\\\"},val)) : undefined; return this.valueFromJulia[\\\"index\\\"]=false}),self)]\\n        \\n    }\\n    self.model = new AppViewModel();\\n    self.valueFromJulia = {};\\n    for (var key in json_data) {\\n        self.valueFromJulia[key] = false;\\n    }\\n    ko.applyBindings(self.model, self.dom);\\n}\\n);\\n    (WebIO.importBlock({\\\"data\\\":[{\\\"name\\\":\\\"knockout\\\",\\\"type\\\":\\\"js\\\",\\\"url\\\":\\\"\\/assetserver\\/46fa30269326aba23141c18b17d8ce39cc329be8-knockout.js\\\"},{\\\"name\\\":\\\"knockout_punches\\\",\\\"type\\\":\\\"js\\\",\\\"url\\\":\\\"\\/assetserver\\/785cf23779dbf5e70842ccdb713d3ca9d688333f-knockout_punches.js\\\"}],\\\"type\\\":\\\"async_block\\\"})).then((imports) => handler.apply(this, imports));\\n}\\n\"],\"observables\":{\"changes\":{\"sync\":false,\"id\":\"87\",\"value\":0},\"index\":{\"sync\":true,\"id\":\"86\",\"value\":51}}},\"children\":[{\"props\":{\"className\":\"interact-flex-row interact-widget\"},\"nodeType\":\"DOM\",\"type\":\"node\",\"instanceArgs\":{\"namespace\":\"html\",\"tag\":\"div\"},\"children\":[{\"props\":{\"className\":\"interact-flex-row-left\"},\"nodeType\":\"DOM\",\"type\":\"node\",\"instanceArgs\":{\"namespace\":\"html\",\"tag\":\"div\"},\"children\":[{\"props\":{\"className\":\"interact \",\"style\":{\"padding\":\"5px 10px 0px 10px\"}},\"nodeType\":\"DOM\",\"type\":\"node\",\"instanceArgs\":{\"namespace\":\"html\",\"tag\":\"label\"},\"children\":[\"kapu\"]}]},{\"props\":{\"className\":\"interact-flex-row-center\"},\"nodeType\":\"DOM\",\"type\":\"node\",\"instanceArgs\":{\"namespace\":\"html\",\"tag\":\"div\"},\"children\":[{\"props\":{\"max\":101,\"min\":1,\"attributes\":{\"type\":\"range\",\"data-bind\":\"numericValue: index, valueUpdate: 'input', event: {change: function (){this.changes(this.changes()+1)}}\",\"orient\":\"horizontal\"},\"step\":1,\"className\":\"slider slider is-fullwidth\",\"style\":{}},\"nodeType\":\"DOM\",\"type\":\"node\",\"instanceArgs\":{\"namespace\":\"html\",\"tag\":\"input\"},\"children\":[]}]},{\"props\":{\"className\":\"interact-flex-row-right\"},\"nodeType\":\"DOM\",\"type\":\"node\",\"instanceArgs\":{\"namespace\":\"html\",\"tag\":\"div\"},\"children\":[{\"props\":{\"attributes\":{\"data-bind\":\"text: formatted_val\"}},\"nodeType\":\"DOM\",\"type\":\"node\",\"instanceArgs\":{\"namespace\":\"html\",\"tag\":\"p\"},\"children\":[]}]}]}]}]},{\"props\":{\"className\":\"field interact-widget\"},\"nodeType\":\"DOM\",\"type\":\"node\",\"instanceArgs\":{\"namespace\":\"html\",\"tag\":\"div\"},\"children\":[{\"props\":{},\"nodeType\":\"Scope\",\"type\":\"node\",\"instanceArgs\":{\"imports\":{\"data\":[{\"name\":\"knockout\",\"type\":\"js\",\"url\":\"\\/assetserver\\/46fa30269326aba23141c18b17d8ce39cc329be8-knockout.js\"},{\"name\":\"knockout_punches\",\"type\":\"js\",\"url\":\"\\/assetserver\\/785cf23779dbf5e70842ccdb713d3ca9d688333f-knockout_punches.js\"},{\"name\":null,\"type\":\"js\",\"url\":\"\\/assetserver\\/1bc46607af5b174f8ca4d1bfd755db598dcef146-all.js\"},{\"name\":null,\"type\":\"css\",\"url\":\"\\/assetserver\\/9824d0edd7ec97f5c88ea78fe99914e216073c09-style.css\"},{\"name\":null,\"type\":\"css\",\"url\":\"\\/assetserver\\/1f713bda89a85e38ff51c8784de0dbc492fe903f-bulma_confined.min.css\"}],\"type\":\"async_block\"},\"id\":\"17688043797905672074\",\"handlers\":{\"changes\":[\"(function (val){return (val!=this.model[\\\"changes\\\"]()) ? (this.valueFromJulia[\\\"changes\\\"]=true, this.model[\\\"changes\\\"](val)) : undefined})\"],\"index\":[\"(function (val){return (val!=this.model[\\\"index\\\"]()) ? (this.valueFromJulia[\\\"index\\\"]=true, this.model[\\\"index\\\"](val)) : undefined})\"]},\"systemjs_options\":null,\"mount_callbacks\":[\"function () {\\n    var handler = (function (ko, koPunches) {\\n    ko.punches.enableAll();\\n    ko.bindingHandlers.numericValue = {\\n        init: function(element, valueAccessor, allBindings, data, context) {\\n            var stringified = ko.observable(ko.unwrap(valueAccessor()));\\n            stringified.subscribe(function(value) {\\n                var val = parseFloat(value);\\n                if (!isNaN(val)) {\\n                    valueAccessor()(val);\\n                }\\n            });\\n            valueAccessor().subscribe(function(value) {\\n                var str = JSON.stringify(value);\\n                if ((str == \\\"0\\\") && ([\\\"-0\\\", \\\"-0.\\\"].indexOf(stringified()) >= 0))\\n                     return;\\n                 if ([\\\"null\\\", \\\"\\\"].indexOf(str) >= 0)\\n                     return;\\n                stringified(str);\\n            });\\n            ko.applyBindingsToNode(\\n                element,\\n                {\\n                    value: stringified,\\n                    valueUpdate: allBindings.get('valueUpdate'),\\n                },\\n                context,\\n            );\\n        }\\n    };\\n    var json_data = {\\\"formatted_vals\\\":[\\\"1.0\\\",\\\"1.02\\\",\\\"1.04\\\",\\\"1.06\\\",\\\"1.08\\\",\\\"1.1\\\",\\\"1.12\\\",\\\"1.14\\\",\\\"1.16\\\",\\\"1.18\\\",\\\"1.2\\\",\\\"1.22\\\",\\\"1.24\\\",\\\"1.26\\\",\\\"1.28\\\",\\\"1.3\\\",\\\"1.32\\\",\\\"1.34\\\",\\\"1.36\\\",\\\"1.38\\\",\\\"1.4\\\",\\\"1.42\\\",\\\"1.44\\\",\\\"1.46\\\",\\\"1.48\\\",\\\"1.5\\\",\\\"1.52\\\",\\\"1.54\\\",\\\"1.56\\\",\\\"1.58\\\",\\\"1.6\\\",\\\"1.62\\\",\\\"1.64\\\",\\\"1.66\\\",\\\"1.68\\\",\\\"1.7\\\",\\\"1.72\\\",\\\"1.74\\\",\\\"1.76\\\",\\\"1.78\\\",\\\"1.8\\\",\\\"1.82\\\",\\\"1.84\\\",\\\"1.86\\\",\\\"1.88\\\",\\\"1.9\\\",\\\"1.92\\\",\\\"1.94\\\",\\\"1.96\\\",\\\"1.98\\\",\\\"2.0\\\",\\\"2.02\\\",\\\"2.04\\\",\\\"2.06\\\",\\\"2.08\\\",\\\"2.1\\\",\\\"2.12\\\",\\\"2.14\\\",\\\"2.16\\\",\\\"2.18\\\",\\\"2.2\\\",\\\"2.22\\\",\\\"2.24\\\",\\\"2.26\\\",\\\"2.28\\\",\\\"2.3\\\",\\\"2.32\\\",\\\"2.34\\\",\\\"2.36\\\",\\\"2.38\\\",\\\"2.4\\\",\\\"2.42\\\",\\\"2.44\\\",\\\"2.46\\\",\\\"2.48\\\",\\\"2.5\\\",\\\"2.52\\\",\\\"2.54\\\",\\\"2.56\\\",\\\"2.58\\\",\\\"2.6\\\",\\\"2.62\\\",\\\"2.64\\\",\\\"2.66\\\",\\\"2.68\\\",\\\"2.7\\\",\\\"2.72\\\",\\\"2.74\\\",\\\"2.76\\\",\\\"2.78\\\",\\\"2.8\\\",\\\"2.82\\\",\\\"2.84\\\",\\\"2.86\\\",\\\"2.88\\\",\\\"2.9\\\",\\\"2.92\\\",\\\"2.94\\\",\\\"2.96\\\",\\\"2.98\\\",\\\"3.0\\\"],\\\"changes\\\":WebIO.getval({\\\"name\\\":\\\"changes\\\",\\\"scope\\\":\\\"17688043797905672074\\\",\\\"id\\\":\\\"90\\\",\\\"type\\\":\\\"observable\\\"}),\\\"index\\\":WebIO.getval({\\\"name\\\":\\\"index\\\",\\\"scope\\\":\\\"17688043797905672074\\\",\\\"id\\\":\\\"89\\\",\\\"type\\\":\\\"observable\\\"})};\\n    var self = this;\\n    function AppViewModel() {\\n        for (var key in json_data) {\\n            var el = json_data[key];\\n            this[key] = Array.isArray(el) ? ko.observableArray(el) : ko.observable(el);\\n        }\\n        \\n        [this[\\\"formatted_val\\\"]=ko.computed(    function(){\\n        return this.formatted_vals()[parseInt(this.index())-(1)];\\n    }\\n,this)]\\n        [this[\\\"changes\\\"].subscribe((function (val){!(this.valueFromJulia[\\\"changes\\\"]) ? (WebIO.setval({\\\"name\\\":\\\"changes\\\",\\\"scope\\\":\\\"17688043797905672074\\\",\\\"id\\\":\\\"90\\\",\\\"type\\\":\\\"observable\\\"},val)) : undefined; return this.valueFromJulia[\\\"changes\\\"]=false}),self),this[\\\"index\\\"].subscribe((function (val){!(this.valueFromJulia[\\\"index\\\"]) ? (WebIO.setval({\\\"name\\\":\\\"index\\\",\\\"scope\\\":\\\"17688043797905672074\\\",\\\"id\\\":\\\"89\\\",\\\"type\\\":\\\"observable\\\"},val)) : undefined; return this.valueFromJulia[\\\"index\\\"]=false}),self)]\\n        \\n    }\\n    self.model = new AppViewModel();\\n    self.valueFromJulia = {};\\n    for (var key in json_data) {\\n        self.valueFromJulia[key] = false;\\n    }\\n    ko.applyBindings(self.model, self.dom);\\n}\\n);\\n    (WebIO.importBlock({\\\"data\\\":[{\\\"name\\\":\\\"knockout\\\",\\\"type\\\":\\\"js\\\",\\\"url\\\":\\\"\\/assetserver\\/46fa30269326aba23141c18b17d8ce39cc329be8-knockout.js\\\"},{\\\"name\\\":\\\"knockout_punches\\\",\\\"type\\\":\\\"js\\\",\\\"url\\\":\\\"\\/assetserver\\/785cf23779dbf5e70842ccdb713d3ca9d688333f-knockout_punches.js\\\"}],\\\"type\\\":\\\"async_block\\\"})).then((imports) => handler.apply(this, imports));\\n}\\n\"],\"observables\":{\"changes\":{\"sync\":false,\"id\":\"90\",\"value\":0},\"index\":{\"sync\":true,\"id\":\"89\",\"value\":51}}},\"children\":[{\"props\":{\"className\":\"interact-flex-row interact-widget\"},\"nodeType\":\"DOM\",\"type\":\"node\",\"instanceArgs\":{\"namespace\":\"html\",\"tag\":\"div\"},\"children\":[{\"props\":{\"className\":\"interact-flex-row-left\"},\"nodeType\":\"DOM\",\"type\":\"node\",\"instanceArgs\":{\"namespace\":\"html\",\"tag\":\"div\"},\"children\":[{\"props\":{\"className\":\"interact \",\"style\":{\"padding\":\"5px 10px 0px 10px\"}},\"nodeType\":\"DOM\",\"type\":\"node\",\"instanceArgs\":{\"namespace\":\"html\",\"tag\":\"label\"},\"children\":[\"kapl\"]}]},{\"props\":{\"className\":\"interact-flex-row-center\"},\"nodeType\":\"DOM\",\"type\":\"node\",\"instanceArgs\":{\"namespace\":\"html\",\"tag\":\"div\"},\"children\":[{\"props\":{\"max\":101,\"min\":1,\"attributes\":{\"type\":\"range\",\"data-bind\":\"numericValue: index, valueUpdate: 'input', event: {change: function (){this.changes(this.changes()+1)}}\",\"orient\":\"horizontal\"},\"step\":1,\"className\":\"slider slider is-fullwidth\",\"style\":{}},\"nodeType\":\"DOM\",\"type\":\"node\",\"instanceArgs\":{\"namespace\":\"html\",\"tag\":\"input\"},\"children\":[]}]},{\"props\":{\"className\":\"interact-flex-row-right\"},\"nodeType\":\"DOM\",\"type\":\"node\",\"instanceArgs\":{\"namespace\":\"html\",\"tag\":\"div\"},\"children\":[{\"props\":{\"attributes\":{\"data-bind\":\"text: formatted_val\"}},\"nodeType\":\"DOM\",\"type\":\"node\",\"instanceArgs\":{\"namespace\":\"html\",\"tag\":\"p\"},\"children\":[]}]}]}]}]},{\"props\":{\"className\":\"field interact-widget\"},\"nodeType\":\"DOM\",\"type\":\"node\",\"instanceArgs\":{\"namespace\":\"html\",\"tag\":\"div\"},\"children\":[{\"props\":{},\"nodeType\":\"Scope\",\"type\":\"node\",\"instanceArgs\":{\"imports\":{\"data\":[{\"name\":\"knockout\",\"type\":\"js\",\"url\":\"\\/assetserver\\/46fa30269326aba23141c18b17d8ce39cc329be8-knockout.js\"},{\"name\":\"knockout_punches\",\"type\":\"js\",\"url\":\"\\/assetserver\\/785cf23779dbf5e70842ccdb713d3ca9d688333f-knockout_punches.js\"},{\"name\":null,\"type\":\"js\",\"url\":\"\\/assetserver\\/1bc46607af5b174f8ca4d1bfd755db598dcef146-all.js\"},{\"name\":null,\"type\":\"css\",\"url\":\"\\/assetserver\\/9824d0edd7ec97f5c88ea78fe99914e216073c09-style.css\"},{\"name\":null,\"type\":\"css\",\"url\":\"\\/assetserver\\/1f713bda89a85e38ff51c8784de0dbc492fe903f-bulma_confined.min.css\"}],\"type\":\"async_block\"},\"id\":\"9654812353287428768\",\"handlers\":{\"changes\":[\"(function (val){return (val!=this.model[\\\"changes\\\"]()) ? (this.valueFromJulia[\\\"changes\\\"]=true, this.model[\\\"changes\\\"](val)) : undefined})\"],\"index\":[\"(function (val){return (val!=this.model[\\\"index\\\"]()) ? (this.valueFromJulia[\\\"index\\\"]=true, this.model[\\\"index\\\"](val)) : undefined})\"]},\"systemjs_options\":null,\"mount_callbacks\":[\"function () {\\n    var handler = (function (ko, koPunches) {\\n    ko.punches.enableAll();\\n    ko.bindingHandlers.numericValue = {\\n        init: function(element, valueAccessor, allBindings, data, context) {\\n            var stringified = ko.observable(ko.unwrap(valueAccessor()));\\n            stringified.subscribe(function(value) {\\n                var val = parseFloat(value);\\n                if (!isNaN(val)) {\\n                    valueAccessor()(val);\\n                }\\n            });\\n            valueAccessor().subscribe(function(value) {\\n                var str = JSON.stringify(value);\\n                if ((str == \\\"0\\\") && ([\\\"-0\\\", \\\"-0.\\\"].indexOf(stringified()) >= 0))\\n                     return;\\n                 if ([\\\"null\\\", \\\"\\\"].indexOf(str) >= 0)\\n                     return;\\n                stringified(str);\\n            });\\n            ko.applyBindingsToNode(\\n                element,\\n                {\\n                    value: stringified,\\n                    valueUpdate: allBindings.get('valueUpdate'),\\n                },\\n                context,\\n            );\\n        }\\n    };\\n    var json_data = {\\\"formatted_vals\\\":[\\\"-0.98\\\",\\\"-0.96\\\",\\\"-0.94\\\",\\\"-0.92\\\",\\\"-0.9\\\",\\\"-0.88\\\",\\\"-0.86\\\",\\\"-0.84\\\",\\\"-0.82\\\",\\\"-0.8\\\",\\\"-0.78\\\",\\\"-0.76\\\",\\\"-0.74\\\",\\\"-0.72\\\",\\\"-0.7\\\",\\\"-0.68\\\",\\\"-0.66\\\",\\\"-0.64\\\",\\\"-0.62\\\",\\\"-0.6\\\",\\\"-0.58\\\",\\\"-0.56\\\",\\\"-0.54\\\",\\\"-0.52\\\",\\\"-0.5\\\",\\\"-0.48\\\",\\\"-0.46\\\",\\\"-0.44\\\",\\\"-0.42\\\",\\\"-0.4\\\",\\\"-0.38\\\",\\\"-0.36\\\",\\\"-0.34\\\",\\\"-0.32\\\",\\\"-0.3\\\",\\\"-0.28\\\",\\\"-0.26\\\",\\\"-0.24\\\",\\\"-0.22\\\",\\\"-0.2\\\",\\\"-0.18\\\",\\\"-0.16\\\",\\\"-0.14\\\",\\\"-0.12\\\",\\\"-0.1\\\",\\\"-0.08\\\",\\\"-0.06\\\",\\\"-0.04\\\",\\\"-0.02\\\",\\\"0.0\\\",\\\"0.02\\\",\\\"0.04\\\",\\\"0.06\\\",\\\"0.08\\\",\\\"0.1\\\",\\\"0.12\\\",\\\"0.14\\\",\\\"0.16\\\",\\\"0.18\\\",\\\"0.2\\\",\\\"0.22\\\",\\\"0.24\\\",\\\"0.26\\\",\\\"0.28\\\",\\\"0.3\\\",\\\"0.32\\\",\\\"0.34\\\",\\\"0.36\\\",\\\"0.38\\\",\\\"0.4\\\",\\\"0.42\\\",\\\"0.44\\\",\\\"0.46\\\",\\\"0.48\\\",\\\"0.5\\\",\\\"0.52\\\",\\\"0.54\\\",\\\"0.56\\\",\\\"0.58\\\",\\\"0.6\\\",\\\"0.62\\\",\\\"0.64\\\",\\\"0.66\\\",\\\"0.68\\\",\\\"0.7\\\",\\\"0.72\\\",\\\"0.74\\\",\\\"0.76\\\",\\\"0.78\\\",\\\"0.8\\\",\\\"0.82\\\",\\\"0.84\\\",\\\"0.86\\\",\\\"0.88\\\",\\\"0.9\\\",\\\"0.92\\\",\\\"0.94\\\",\\\"0.96\\\",\\\"0.98\\\"],\\\"changes\\\":WebIO.getval({\\\"name\\\":\\\"changes\\\",\\\"scope\\\":\\\"9654812353287428768\\\",\\\"id\\\":\\\"93\\\",\\\"type\\\":\\\"observable\\\"}),\\\"index\\\":WebIO.getval({\\\"name\\\":\\\"index\\\",\\\"scope\\\":\\\"9654812353287428768\\\",\\\"id\\\":\\\"92\\\",\\\"type\\\":\\\"observable\\\"})};\\n    var self = this;\\n    function AppViewModel() {\\n        for (var key in json_data) {\\n            var el = json_data[key];\\n            this[key] = Array.isArray(el) ? ko.observableArray(el) : ko.observable(el);\\n        }\\n        \\n        [this[\\\"formatted_val\\\"]=ko.computed(    function(){\\n        return this.formatted_vals()[parseInt(this.index())-(1)];\\n    }\\n,this)]\\n        [this[\\\"changes\\\"].subscribe((function (val){!(this.valueFromJulia[\\\"changes\\\"]) ? (WebIO.setval({\\\"name\\\":\\\"changes\\\",\\\"scope\\\":\\\"9654812353287428768\\\",\\\"id\\\":\\\"93\\\",\\\"type\\\":\\\"observable\\\"},val)) : undefined; return this.valueFromJulia[\\\"changes\\\"]=false}),self),this[\\\"index\\\"].subscribe((function (val){!(this.valueFromJulia[\\\"index\\\"]) ? (WebIO.setval({\\\"name\\\":\\\"index\\\",\\\"scope\\\":\\\"9654812353287428768\\\",\\\"id\\\":\\\"92\\\",\\\"type\\\":\\\"observable\\\"},val)) : undefined; return this.valueFromJulia[\\\"index\\\"]=false}),self)]\\n        \\n    }\\n    self.model = new AppViewModel();\\n    self.valueFromJulia = {};\\n    for (var key in json_data) {\\n        self.valueFromJulia[key] = false;\\n    }\\n    ko.applyBindings(self.model, self.dom);\\n}\\n);\\n    (WebIO.importBlock({\\\"data\\\":[{\\\"name\\\":\\\"knockout\\\",\\\"type\\\":\\\"js\\\",\\\"url\\\":\\\"\\/assetserver\\/46fa30269326aba23141c18b17d8ce39cc329be8-knockout.js\\\"},{\\\"name\\\":\\\"knockout_punches\\\",\\\"type\\\":\\\"js\\\",\\\"url\\\":\\\"\\/assetserver\\/785cf23779dbf5e70842ccdb713d3ca9d688333f-knockout_punches.js\\\"}],\\\"type\\\":\\\"async_block\\\"})).then((imports) => handler.apply(this, imports));\\n}\\n\"],\"observables\":{\"changes\":{\"sync\":false,\"id\":\"93\",\"value\":0},\"index\":{\"sync\":true,\"id\":\"92\",\"value\":50}}},\"children\":[{\"props\":{\"className\":\"interact-flex-row interact-widget\"},\"nodeType\":\"DOM\",\"type\":\"node\",\"instanceArgs\":{\"namespace\":\"html\",\"tag\":\"div\"},\"children\":[{\"props\":{\"className\":\"interact-flex-row-left\"},\"nodeType\":\"DOM\",\"type\":\"node\",\"instanceArgs\":{\"namespace\":\"html\",\"tag\":\"div\"},\"children\":[{\"props\":{\"className\":\"interact \",\"style\":{\"padding\":\"5px 10px 0px 10px\"}},\"nodeType\":\"DOM\",\"type\":\"node\",\"instanceArgs\":{\"namespace\":\"html\",\"tag\":\"label\"},\"children\":[\"delu\"]}]},{\"props\":{\"className\":\"interact-flex-row-center\"},\"nodeType\":\"DOM\",\"type\":\"node\",\"instanceArgs\":{\"namespace\":\"html\",\"tag\":\"div\"},\"children\":[{\"props\":{\"max\":99,\"min\":1,\"attributes\":{\"type\":\"range\",\"data-bind\":\"numericValue: index, valueUpdate: 'input', event: {change: function (){this.changes(this.changes()+1)}}\",\"orient\":\"horizontal\"},\"step\":1,\"className\":\"slider slider is-fullwidth\",\"style\":{}},\"nodeType\":\"DOM\",\"type\":\"node\",\"instanceArgs\":{\"namespace\":\"html\",\"tag\":\"input\"},\"children\":[]}]},{\"props\":{\"className\":\"interact-flex-row-right\"},\"nodeType\":\"DOM\",\"type\":\"node\",\"instanceArgs\":{\"namespace\":\"html\",\"tag\":\"div\"},\"children\":[{\"props\":{\"attributes\":{\"data-bind\":\"text: formatted_val\"}},\"nodeType\":\"DOM\",\"type\":\"node\",\"instanceArgs\":{\"namespace\":\"html\",\"tag\":\"p\"},\"children\":[]}]}]}]}]},{\"props\":{\"className\":\"field interact-widget\"},\"nodeType\":\"DOM\",\"type\":\"node\",\"instanceArgs\":{\"namespace\":\"html\",\"tag\":\"div\"},\"children\":[{\"props\":{},\"nodeType\":\"Scope\",\"type\":\"node\",\"instanceArgs\":{\"imports\":{\"data\":[{\"name\":\"knockout\",\"type\":\"js\",\"url\":\"\\/assetserver\\/46fa30269326aba23141c18b17d8ce39cc329be8-knockout.js\"},{\"name\":\"knockout_punches\",\"type\":\"js\",\"url\":\"\\/assetserver\\/785cf23779dbf5e70842ccdb713d3ca9d688333f-knockout_punches.js\"},{\"name\":null,\"type\":\"js\",\"url\":\"\\/assetserver\\/1bc46607af5b174f8ca4d1bfd755db598dcef146-all.js\"},{\"name\":null,\"type\":\"css\",\"url\":\"\\/assetserver\\/9824d0edd7ec97f5c88ea78fe99914e216073c09-style.css\"},{\"name\":null,\"type\":\"css\",\"url\":\"\\/assetserver\\/1f713bda89a85e38ff51c8784de0dbc492fe903f-bulma_confined.min.css\"}],\"type\":\"async_block\"},\"id\":\"10941827464084699045\",\"handlers\":{\"changes\":[\"(function (val){return (val!=this.model[\\\"changes\\\"]()) ? (this.valueFromJulia[\\\"changes\\\"]=true, this.model[\\\"changes\\\"](val)) : undefined})\"],\"index\":[\"(function (val){return (val!=this.model[\\\"index\\\"]()) ? (this.valueFromJulia[\\\"index\\\"]=true, this.model[\\\"index\\\"](val)) : undefined})\"]},\"systemjs_options\":null,\"mount_callbacks\":[\"function () {\\n    var handler = (function (ko, koPunches) {\\n    ko.punches.enableAll();\\n    ko.bindingHandlers.numericValue = {\\n        init: function(element, valueAccessor, allBindings, data, context) {\\n            var stringified = ko.observable(ko.unwrap(valueAccessor()));\\n            stringified.subscribe(function(value) {\\n                var val = parseFloat(value);\\n                if (!isNaN(val)) {\\n                    valueAccessor()(val);\\n                }\\n            });\\n            valueAccessor().subscribe(function(value) {\\n                var str = JSON.stringify(value);\\n                if ((str == \\\"0\\\") && ([\\\"-0\\\", \\\"-0.\\\"].indexOf(stringified()) >= 0))\\n                     return;\\n                 if ([\\\"null\\\", \\\"\\\"].indexOf(str) >= 0)\\n                     return;\\n                stringified(str);\\n            });\\n            ko.applyBindingsToNode(\\n                element,\\n                {\\n                    value: stringified,\\n                    valueUpdate: allBindings.get('valueUpdate'),\\n                },\\n                context,\\n            );\\n        }\\n    };\\n    var json_data = {\\\"formatted_vals\\\":[\\\"-0.98\\\",\\\"-0.96\\\",\\\"-0.94\\\",\\\"-0.92\\\",\\\"-0.9\\\",\\\"-0.88\\\",\\\"-0.86\\\",\\\"-0.84\\\",\\\"-0.82\\\",\\\"-0.8\\\",\\\"-0.78\\\",\\\"-0.76\\\",\\\"-0.74\\\",\\\"-0.72\\\",\\\"-0.7\\\",\\\"-0.68\\\",\\\"-0.66\\\",\\\"-0.64\\\",\\\"-0.62\\\",\\\"-0.6\\\",\\\"-0.58\\\",\\\"-0.56\\\",\\\"-0.54\\\",\\\"-0.52\\\",\\\"-0.5\\\",\\\"-0.48\\\",\\\"-0.46\\\",\\\"-0.44\\\",\\\"-0.42\\\",\\\"-0.4\\\",\\\"-0.38\\\",\\\"-0.36\\\",\\\"-0.34\\\",\\\"-0.32\\\",\\\"-0.3\\\",\\\"-0.28\\\",\\\"-0.26\\\",\\\"-0.24\\\",\\\"-0.22\\\",\\\"-0.2\\\",\\\"-0.18\\\",\\\"-0.16\\\",\\\"-0.14\\\",\\\"-0.12\\\",\\\"-0.1\\\",\\\"-0.08\\\",\\\"-0.06\\\",\\\"-0.04\\\",\\\"-0.02\\\",\\\"0.0\\\",\\\"0.02\\\",\\\"0.04\\\",\\\"0.06\\\",\\\"0.08\\\",\\\"0.1\\\",\\\"0.12\\\",\\\"0.14\\\",\\\"0.16\\\",\\\"0.18\\\",\\\"0.2\\\",\\\"0.22\\\",\\\"0.24\\\",\\\"0.26\\\",\\\"0.28\\\",\\\"0.3\\\",\\\"0.32\\\",\\\"0.34\\\",\\\"0.36\\\",\\\"0.38\\\",\\\"0.4\\\",\\\"0.42\\\",\\\"0.44\\\",\\\"0.46\\\",\\\"0.48\\\",\\\"0.5\\\",\\\"0.52\\\",\\\"0.54\\\",\\\"0.56\\\",\\\"0.58\\\",\\\"0.6\\\",\\\"0.62\\\",\\\"0.64\\\",\\\"0.66\\\",\\\"0.68\\\",\\\"0.7\\\",\\\"0.72\\\",\\\"0.74\\\",\\\"0.76\\\",\\\"0.78\\\",\\\"0.8\\\",\\\"0.82\\\",\\\"0.84\\\",\\\"0.86\\\",\\\"0.88\\\",\\\"0.9\\\",\\\"0.92\\\",\\\"0.94\\\",\\\"0.96\\\",\\\"0.98\\\"],\\\"changes\\\":WebIO.getval({\\\"name\\\":\\\"changes\\\",\\\"scope\\\":\\\"10941827464084699045\\\",\\\"id\\\":\\\"96\\\",\\\"type\\\":\\\"observable\\\"}),\\\"index\\\":WebIO.getval({\\\"name\\\":\\\"index\\\",\\\"scope\\\":\\\"10941827464084699045\\\",\\\"id\\\":\\\"95\\\",\\\"type\\\":\\\"observable\\\"})};\\n    var self = this;\\n    function AppViewModel() {\\n        for (var key in json_data) {\\n            var el = json_data[key];\\n            this[key] = Array.isArray(el) ? ko.observableArray(el) : ko.observable(el);\\n        }\\n        \\n        [this[\\\"formatted_val\\\"]=ko.computed(    function(){\\n        return this.formatted_vals()[parseInt(this.index())-(1)];\\n    }\\n,this)]\\n        [this[\\\"changes\\\"].subscribe((function (val){!(this.valueFromJulia[\\\"changes\\\"]) ? (WebIO.setval({\\\"name\\\":\\\"changes\\\",\\\"scope\\\":\\\"10941827464084699045\\\",\\\"id\\\":\\\"96\\\",\\\"type\\\":\\\"observable\\\"},val)) : undefined; return this.valueFromJulia[\\\"changes\\\"]=false}),self),this[\\\"index\\\"].subscribe((function (val){!(this.valueFromJulia[\\\"index\\\"]) ? (WebIO.setval({\\\"name\\\":\\\"index\\\",\\\"scope\\\":\\\"10941827464084699045\\\",\\\"id\\\":\\\"95\\\",\\\"type\\\":\\\"observable\\\"},val)) : undefined; return this.valueFromJulia[\\\"index\\\"]=false}),self)]\\n        \\n    }\\n    self.model = new AppViewModel();\\n    self.valueFromJulia = {};\\n    for (var key in json_data) {\\n        self.valueFromJulia[key] = false;\\n    }\\n    ko.applyBindings(self.model, self.dom);\\n}\\n);\\n    (WebIO.importBlock({\\\"data\\\":[{\\\"name\\\":\\\"knockout\\\",\\\"type\\\":\\\"js\\\",\\\"url\\\":\\\"\\/assetserver\\/46fa30269326aba23141c18b17d8ce39cc329be8-knockout.js\\\"},{\\\"name\\\":\\\"knockout_punches\\\",\\\"type\\\":\\\"js\\\",\\\"url\\\":\\\"\\/assetserver\\/785cf23779dbf5e70842ccdb713d3ca9d688333f-knockout_punches.js\\\"}],\\\"type\\\":\\\"async_block\\\"})).then((imports) => handler.apply(this, imports));\\n}\\n\"],\"observables\":{\"changes\":{\"sync\":false,\"id\":\"96\",\"value\":0},\"index\":{\"sync\":true,\"id\":\"95\",\"value\":50}}},\"children\":[{\"props\":{\"className\":\"interact-flex-row interact-widget\"},\"nodeType\":\"DOM\",\"type\":\"node\",\"instanceArgs\":{\"namespace\":\"html\",\"tag\":\"div\"},\"children\":[{\"props\":{\"className\":\"interact-flex-row-left\"},\"nodeType\":\"DOM\",\"type\":\"node\",\"instanceArgs\":{\"namespace\":\"html\",\"tag\":\"div\"},\"children\":[{\"props\":{\"className\":\"interact \",\"style\":{\"padding\":\"5px 10px 0px 10px\"}},\"nodeType\":\"DOM\",\"type\":\"node\",\"instanceArgs\":{\"namespace\":\"html\",\"tag\":\"label\"},\"children\":[\"dell\"]}]},{\"props\":{\"className\":\"interact-flex-row-center\"},\"nodeType\":\"DOM\",\"type\":\"node\",\"instanceArgs\":{\"namespace\":\"html\",\"tag\":\"div\"},\"children\":[{\"props\":{\"max\":99,\"min\":1,\"attributes\":{\"type\":\"range\",\"data-bind\":\"numericValue: index, valueUpdate: 'input', event: {change: function (){this.changes(this.changes()+1)}}\",\"orient\":\"horizontal\"},\"step\":1,\"className\":\"slider slider is-fullwidth\",\"style\":{}},\"nodeType\":\"DOM\",\"type\":\"node\",\"instanceArgs\":{\"namespace\":\"html\",\"tag\":\"input\"},\"children\":[]}]},{\"props\":{\"className\":\"interact-flex-row-right\"},\"nodeType\":\"DOM\",\"type\":\"node\",\"instanceArgs\":{\"namespace\":\"html\",\"tag\":\"div\"},\"children\":[{\"props\":{\"attributes\":{\"data-bind\":\"text: formatted_val\"}},\"nodeType\":\"DOM\",\"type\":\"node\",\"instanceArgs\":{\"namespace\":\"html\",\"tag\":\"p\"},\"children\":[]}]}]}]}]},{\"props\":{\"className\":\"field interact-widget\"},\"nodeType\":\"DOM\",\"type\":\"node\",\"instanceArgs\":{\"namespace\":\"html\",\"tag\":\"div\"},\"children\":[{\"props\":{},\"nodeType\":\"Scope\",\"type\":\"node\",\"instanceArgs\":{\"imports\":{\"data\":[{\"name\":\"knockout\",\"type\":\"js\",\"url\":\"\\/assetserver\\/46fa30269326aba23141c18b17d8ce39cc329be8-knockout.js\"},{\"name\":\"knockout_punches\",\"type\":\"js\",\"url\":\"\\/assetserver\\/785cf23779dbf5e70842ccdb713d3ca9d688333f-knockout_punches.js\"},{\"name\":null,\"type\":\"js\",\"url\":\"\\/assetserver\\/1bc46607af5b174f8ca4d1bfd755db598dcef146-all.js\"},{\"name\":null,\"type\":\"css\",\"url\":\"\\/assetserver\\/9824d0edd7ec97f5c88ea78fe99914e216073c09-style.css\"},{\"name\":null,\"type\":\"css\",\"url\":\"\\/assetserver\\/1f713bda89a85e38ff51c8784de0dbc492fe903f-bulma_confined.min.css\"}],\"type\":\"async_block\"},\"id\":\"8934279776708376573\",\"handlers\":{\"changes\":[\"(function (val){return (val!=this.model[\\\"changes\\\"]()) ? (this.valueFromJulia[\\\"changes\\\"]=true, this.model[\\\"changes\\\"](val)) : undefined})\"],\"index\":[\"(function (val){return (val!=this.model[\\\"index\\\"]()) ? (this.valueFromJulia[\\\"index\\\"]=true, this.model[\\\"index\\\"](val)) : undefined})\"]},\"systemjs_options\":null,\"mount_callbacks\":[\"function () {\\n    var handler = (function (ko, koPunches) {\\n    ko.punches.enableAll();\\n    ko.bindingHandlers.numericValue = {\\n        init: function(element, valueAccessor, allBindings, data, context) {\\n            var stringified = ko.observable(ko.unwrap(valueAccessor()));\\n            stringified.subscribe(function(value) {\\n                var val = parseFloat(value);\\n                if (!isNaN(val)) {\\n                    valueAccessor()(val);\\n                }\\n            });\\n            valueAccessor().subscribe(function(value) {\\n                var str = JSON.stringify(value);\\n                if ((str == \\\"0\\\") && ([\\\"-0\\\", \\\"-0.\\\"].indexOf(stringified()) >= 0))\\n                     return;\\n                 if ([\\\"null\\\", \\\"\\\"].indexOf(str) >= 0)\\n                     return;\\n                stringified(str);\\n            });\\n            ko.applyBindingsToNode(\\n                element,\\n                {\\n                    value: stringified,\\n                    valueUpdate: allBindings.get('valueUpdate'),\\n                },\\n                context,\\n            );\\n        }\\n    };\\n    var json_data = {\\\"formatted_vals\\\":[\\\"-0.707107\\\",\\\"-0.690036\\\",\\\"-0.672965\\\",\\\"-0.655894\\\",\\\"-0.638823\\\",\\\"-0.621751\\\",\\\"-0.60468\\\",\\\"-0.587609\\\",\\\"-0.570538\\\",\\\"-0.553467\\\",\\\"-0.536396\\\",\\\"-0.519325\\\",\\\"-0.502254\\\",\\\"-0.485183\\\",\\\"-0.468112\\\",\\\"-0.451041\\\",\\\"-0.43397\\\",\\\"-0.416899\\\",\\\"-0.399828\\\",\\\"-0.382756\\\",\\\"-0.365685\\\",\\\"-0.348614\\\",\\\"-0.331543\\\",\\\"-0.314472\\\",\\\"-0.297401\\\",\\\"-0.28033\\\",\\\"-0.263259\\\",\\\"-0.246188\\\",\\\"-0.229117\\\",\\\"-0.212046\\\",\\\"-0.194975\\\",\\\"-0.177904\\\",\\\"-0.160833\\\",\\\"-0.143762\\\",\\\"-0.12669\\\",\\\"-0.109619\\\",\\\"-0.0925483\\\",\\\"-0.0754773\\\",\\\"-0.0584062\\\",\\\"-0.0413351\\\",\\\"-0.0242641\\\",\\\"-0.007193\\\",\\\"0.00987807\\\",\\\"0.0269491\\\",\\\"0.0440202\\\",\\\"0.0610913\\\",\\\"0.0781623\\\",\\\"0.0952334\\\",\\\"0.112304\\\",\\\"0.129376\\\",\\\"0.146447\\\",\\\"0.163518\\\",\\\"0.180589\\\",\\\"0.19766\\\",\\\"0.214731\\\",\\\"0.231802\\\",\\\"0.248873\\\",\\\"0.265944\\\",\\\"0.283015\\\",\\\"0.300086\\\",\\\"0.317157\\\",\\\"0.334228\\\",\\\"0.351299\\\",\\\"0.36837\\\",\\\"0.385442\\\",\\\"0.402513\\\",\\\"0.419584\\\",\\\"0.436655\\\",\\\"0.453726\\\",\\\"0.470797\\\",\\\"0.487868\\\",\\\"0.504939\\\",\\\"0.52201\\\",\\\"0.539081\\\",\\\"0.556152\\\",\\\"0.573223\\\",\\\"0.590294\\\",\\\"0.607365\\\",\\\"0.624437\\\",\\\"0.641508\\\",\\\"0.658579\\\",\\\"0.67565\\\",\\\"0.692721\\\",\\\"0.709792\\\",\\\"0.726863\\\",\\\"0.743934\\\",\\\"0.761005\\\",\\\"0.778076\\\",\\\"0.795147\\\",\\\"0.812218\\\",\\\"0.829289\\\",\\\"0.84636\\\",\\\"0.863431\\\",\\\"0.880503\\\",\\\"0.897574\\\",\\\"0.914645\\\",\\\"0.931716\\\",\\\"0.948787\\\",\\\"0.965858\\\",\\\"0.982929\\\",\\\"1.0\\\"],\\\"changes\\\":WebIO.getval({\\\"name\\\":\\\"changes\\\",\\\"scope\\\":\\\"8934279776708376573\\\",\\\"id\\\":\\\"99\\\",\\\"type\\\":\\\"observable\\\"}),\\\"index\\\":WebIO.getval({\\\"name\\\":\\\"index\\\",\\\"scope\\\":\\\"8934279776708376573\\\",\\\"id\\\":\\\"98\\\",\\\"type\\\":\\\"observable\\\"})};\\n    var self = this;\\n    function AppViewModel() {\\n        for (var key in json_data) {\\n            var el = json_data[key];\\n            this[key] = Array.isArray(el) ? ko.observableArray(el) : ko.observable(el);\\n        }\\n        \\n        [this[\\\"formatted_val\\\"]=ko.computed(    function(){\\n        return this.formatted_vals()[parseInt(this.index())-(1)];\\n    }\\n,this)]\\n        [this[\\\"changes\\\"].subscribe((function (val){!(this.valueFromJulia[\\\"changes\\\"]) ? (WebIO.setval({\\\"name\\\":\\\"changes\\\",\\\"scope\\\":\\\"8934279776708376573\\\",\\\"id\\\":\\\"99\\\",\\\"type\\\":\\\"observable\\\"},val)) : undefined; return this.valueFromJulia[\\\"changes\\\"]=false}),self),this[\\\"index\\\"].subscribe((function (val){!(this.valueFromJulia[\\\"index\\\"]) ? (WebIO.setval({\\\"name\\\":\\\"index\\\",\\\"scope\\\":\\\"8934279776708376573\\\",\\\"id\\\":\\\"98\\\",\\\"type\\\":\\\"observable\\\"},val)) : undefined; return this.valueFromJulia[\\\"index\\\"]=false}),self)]\\n        \\n    }\\n    self.model = new AppViewModel();\\n    self.valueFromJulia = {};\\n    for (var key in json_data) {\\n        self.valueFromJulia[key] = false;\\n    }\\n    ko.applyBindings(self.model, self.dom);\\n}\\n);\\n    (WebIO.importBlock({\\\"data\\\":[{\\\"name\\\":\\\"knockout\\\",\\\"type\\\":\\\"js\\\",\\\"url\\\":\\\"\\/assetserver\\/46fa30269326aba23141c18b17d8ce39cc329be8-knockout.js\\\"},{\\\"name\\\":\\\"knockout_punches\\\",\\\"type\\\":\\\"js\\\",\\\"url\\\":\\\"\\/assetserver\\/785cf23779dbf5e70842ccdb713d3ca9d688333f-knockout_punches.js\\\"}],\\\"type\\\":\\\"async_block\\\"})).then((imports) => handler.apply(this, imports));\\n}\\n\"],\"observables\":{\"changes\":{\"sync\":false,\"id\":\"99\",\"value\":0},\"index\":{\"sync\":true,\"id\":\"98\",\"value\":51}}},\"children\":[{\"props\":{\"className\":\"interact-flex-row interact-widget\"},\"nodeType\":\"DOM\",\"type\":\"node\",\"instanceArgs\":{\"namespace\":\"html\",\"tag\":\"div\"},\"children\":[{\"props\":{\"className\":\"interact-flex-row-left\"},\"nodeType\":\"DOM\",\"type\":\"node\",\"instanceArgs\":{\"namespace\":\"html\",\"tag\":\"div\"},\"children\":[{\"props\":{\"className\":\"interact \",\"style\":{\"padding\":\"5px 10px 0px 10px\"}},\"nodeType\":\"DOM\",\"type\":\"node\",\"instanceArgs\":{\"namespace\":\"html\",\"tag\":\"label\"},\"children\":[\"zetaou\"]}]},{\"props\":{\"className\":\"interact-flex-row-center\"},\"nodeType\":\"DOM\",\"type\":\"node\",\"instanceArgs\":{\"namespace\":\"html\",\"tag\":\"div\"},\"children\":[{\"props\":{\"max\":101,\"min\":1,\"attributes\":{\"type\":\"range\",\"data-bind\":\"numericValue: index, valueUpdate: 'input', event: {change: function (){this.changes(this.changes()+1)}}\",\"orient\":\"horizontal\"},\"step\":1,\"className\":\"slider slider is-fullwidth\",\"style\":{}},\"nodeType\":\"DOM\",\"type\":\"node\",\"instanceArgs\":{\"namespace\":\"html\",\"tag\":\"input\"},\"children\":[]}]},{\"props\":{\"className\":\"interact-flex-row-right\"},\"nodeType\":\"DOM\",\"type\":\"node\",\"instanceArgs\":{\"namespace\":\"html\",\"tag\":\"div\"},\"children\":[{\"props\":{\"attributes\":{\"data-bind\":\"text: formatted_val\"}},\"nodeType\":\"DOM\",\"type\":\"node\",\"instanceArgs\":{\"namespace\":\"html\",\"tag\":\"p\"},\"children\":[]}]}]}]}]},{\"props\":{\"className\":\"field interact-widget\"},\"nodeType\":\"DOM\",\"type\":\"node\",\"instanceArgs\":{\"namespace\":\"html\",\"tag\":\"div\"},\"children\":[{\"props\":{},\"nodeType\":\"Scope\",\"type\":\"node\",\"instanceArgs\":{\"imports\":{\"data\":[{\"name\":\"knockout\",\"type\":\"js\",\"url\":\"\\/assetserver\\/46fa30269326aba23141c18b17d8ce39cc329be8-knockout.js\"},{\"name\":\"knockout_punches\",\"type\":\"js\",\"url\":\"\\/assetserver\\/785cf23779dbf5e70842ccdb713d3ca9d688333f-knockout_punches.js\"},{\"name\":null,\"type\":\"js\",\"url\":\"\\/assetserver\\/1bc46607af5b174f8ca4d1bfd755db598dcef146-all.js\"},{\"name\":null,\"type\":\"css\",\"url\":\"\\/assetserver\\/9824d0edd7ec97f5c88ea78fe99914e216073c09-style.css\"},{\"name\":null,\"type\":\"css\",\"url\":\"\\/assetserver\\/1f713bda89a85e38ff51c8784de0dbc492fe903f-bulma_confined.min.css\"}],\"type\":\"async_block\"},\"id\":\"18376781133146718276\",\"handlers\":{\"changes\":[\"(function (val){return (val!=this.model[\\\"changes\\\"]()) ? (this.valueFromJulia[\\\"changes\\\"]=true, this.model[\\\"changes\\\"](val)) : undefined})\"],\"index\":[\"(function (val){return (val!=this.model[\\\"index\\\"]()) ? (this.valueFromJulia[\\\"index\\\"]=true, this.model[\\\"index\\\"](val)) : undefined})\"]},\"systemjs_options\":null,\"mount_callbacks\":[\"function () {\\n    var handler = (function (ko, koPunches) {\\n    ko.punches.enableAll();\\n    ko.bindingHandlers.numericValue = {\\n        init: function(element, valueAccessor, allBindings, data, context) {\\n            var stringified = ko.observable(ko.unwrap(valueAccessor()));\\n            stringified.subscribe(function(value) {\\n                var val = parseFloat(value);\\n                if (!isNaN(val)) {\\n                    valueAccessor()(val);\\n                }\\n            });\\n            valueAccessor().subscribe(function(value) {\\n                var str = JSON.stringify(value);\\n                if ((str == \\\"0\\\") && ([\\\"-0\\\", \\\"-0.\\\"].indexOf(stringified()) >= 0))\\n                     return;\\n                 if ([\\\"null\\\", \\\"\\\"].indexOf(str) >= 0)\\n                     return;\\n                stringified(str);\\n            });\\n            ko.applyBindingsToNode(\\n                element,\\n                {\\n                    value: stringified,\\n                    valueUpdate: allBindings.get('valueUpdate'),\\n                },\\n                context,\\n            );\\n        }\\n    };\\n    var json_data = {\\\"formatted_vals\\\":[\\\"-0.707107\\\",\\\"-0.690036\\\",\\\"-0.672965\\\",\\\"-0.655894\\\",\\\"-0.638823\\\",\\\"-0.621751\\\",\\\"-0.60468\\\",\\\"-0.587609\\\",\\\"-0.570538\\\",\\\"-0.553467\\\",\\\"-0.536396\\\",\\\"-0.519325\\\",\\\"-0.502254\\\",\\\"-0.485183\\\",\\\"-0.468112\\\",\\\"-0.451041\\\",\\\"-0.43397\\\",\\\"-0.416899\\\",\\\"-0.399828\\\",\\\"-0.382756\\\",\\\"-0.365685\\\",\\\"-0.348614\\\",\\\"-0.331543\\\",\\\"-0.314472\\\",\\\"-0.297401\\\",\\\"-0.28033\\\",\\\"-0.263259\\\",\\\"-0.246188\\\",\\\"-0.229117\\\",\\\"-0.212046\\\",\\\"-0.194975\\\",\\\"-0.177904\\\",\\\"-0.160833\\\",\\\"-0.143762\\\",\\\"-0.12669\\\",\\\"-0.109619\\\",\\\"-0.0925483\\\",\\\"-0.0754773\\\",\\\"-0.0584062\\\",\\\"-0.0413351\\\",\\\"-0.0242641\\\",\\\"-0.007193\\\",\\\"0.00987807\\\",\\\"0.0269491\\\",\\\"0.0440202\\\",\\\"0.0610913\\\",\\\"0.0781623\\\",\\\"0.0952334\\\",\\\"0.112304\\\",\\\"0.129376\\\",\\\"0.146447\\\",\\\"0.163518\\\",\\\"0.180589\\\",\\\"0.19766\\\",\\\"0.214731\\\",\\\"0.231802\\\",\\\"0.248873\\\",\\\"0.265944\\\",\\\"0.283015\\\",\\\"0.300086\\\",\\\"0.317157\\\",\\\"0.334228\\\",\\\"0.351299\\\",\\\"0.36837\\\",\\\"0.385442\\\",\\\"0.402513\\\",\\\"0.419584\\\",\\\"0.436655\\\",\\\"0.453726\\\",\\\"0.470797\\\",\\\"0.487868\\\",\\\"0.504939\\\",\\\"0.52201\\\",\\\"0.539081\\\",\\\"0.556152\\\",\\\"0.573223\\\",\\\"0.590294\\\",\\\"0.607365\\\",\\\"0.624437\\\",\\\"0.641508\\\",\\\"0.658579\\\",\\\"0.67565\\\",\\\"0.692721\\\",\\\"0.709792\\\",\\\"0.726863\\\",\\\"0.743934\\\",\\\"0.761005\\\",\\\"0.778076\\\",\\\"0.795147\\\",\\\"0.812218\\\",\\\"0.829289\\\",\\\"0.84636\\\",\\\"0.863431\\\",\\\"0.880503\\\",\\\"0.897574\\\",\\\"0.914645\\\",\\\"0.931716\\\",\\\"0.948787\\\",\\\"0.965858\\\",\\\"0.982929\\\",\\\"1.0\\\"],\\\"changes\\\":WebIO.getval({\\\"name\\\":\\\"changes\\\",\\\"scope\\\":\\\"18376781133146718276\\\",\\\"id\\\":\\\"102\\\",\\\"type\\\":\\\"observable\\\"}),\\\"index\\\":WebIO.getval({\\\"name\\\":\\\"index\\\",\\\"scope\\\":\\\"18376781133146718276\\\",\\\"id\\\":\\\"101\\\",\\\"type\\\":\\\"observable\\\"})};\\n    var self = this;\\n    function AppViewModel() {\\n        for (var key in json_data) {\\n            var el = json_data[key];\\n            this[key] = Array.isArray(el) ? ko.observableArray(el) : ko.observable(el);\\n        }\\n        \\n        [this[\\\"formatted_val\\\"]=ko.computed(    function(){\\n        return this.formatted_vals()[parseInt(this.index())-(1)];\\n    }\\n,this)]\\n        [this[\\\"changes\\\"].subscribe((function (val){!(this.valueFromJulia[\\\"changes\\\"]) ? (WebIO.setval({\\\"name\\\":\\\"changes\\\",\\\"scope\\\":\\\"18376781133146718276\\\",\\\"id\\\":\\\"102\\\",\\\"type\\\":\\\"observable\\\"},val)) : undefined; return this.valueFromJulia[\\\"changes\\\"]=false}),self),this[\\\"index\\\"].subscribe((function (val){!(this.valueFromJulia[\\\"index\\\"]) ? (WebIO.setval({\\\"name\\\":\\\"index\\\",\\\"scope\\\":\\\"18376781133146718276\\\",\\\"id\\\":\\\"101\\\",\\\"type\\\":\\\"observable\\\"},val)) : undefined; return this.valueFromJulia[\\\"index\\\"]=false}),self)]\\n        \\n    }\\n    self.model = new AppViewModel();\\n    self.valueFromJulia = {};\\n    for (var key in json_data) {\\n        self.valueFromJulia[key] = false;\\n    }\\n    ko.applyBindings(self.model, self.dom);\\n}\\n);\\n    (WebIO.importBlock({\\\"data\\\":[{\\\"name\\\":\\\"knockout\\\",\\\"type\\\":\\\"js\\\",\\\"url\\\":\\\"\\/assetserver\\/46fa30269326aba23141c18b17d8ce39cc329be8-knockout.js\\\"},{\\\"name\\\":\\\"knockout_punches\\\",\\\"type\\\":\\\"js\\\",\\\"url\\\":\\\"\\/assetserver\\/785cf23779dbf5e70842ccdb713d3ca9d688333f-knockout_punches.js\\\"}],\\\"type\\\":\\\"async_block\\\"})).then((imports) => handler.apply(this, imports));\\n}\\n\"],\"observables\":{\"changes\":{\"sync\":false,\"id\":\"102\",\"value\":0},\"index\":{\"sync\":true,\"id\":\"101\",\"value\":51}}},\"children\":[{\"props\":{\"className\":\"interact-flex-row interact-widget\"},\"nodeType\":\"DOM\",\"type\":\"node\",\"instanceArgs\":{\"namespace\":\"html\",\"tag\":\"div\"},\"children\":[{\"props\":{\"className\":\"interact-flex-row-left\"},\"nodeType\":\"DOM\",\"type\":\"node\",\"instanceArgs\":{\"namespace\":\"html\",\"tag\":\"div\"},\"children\":[{\"props\":{\"className\":\"interact \",\"style\":{\"padding\":\"5px 10px 0px 10px\"}},\"nodeType\":\"DOM\",\"type\":\"node\",\"instanceArgs\":{\"namespace\":\"html\",\"tag\":\"label\"},\"children\":[\"zetaiu\"]}]},{\"props\":{\"className\":\"interact-flex-row-center\"},\"nodeType\":\"DOM\",\"type\":\"node\",\"instanceArgs\":{\"namespace\":\"html\",\"tag\":\"div\"},\"children\":[{\"props\":{\"max\":101,\"min\":1,\"attributes\":{\"type\":\"range\",\"data-bind\":\"numericValue: index, valueUpdate: 'input', event: {change: function (){this.changes(this.changes()+1)}}\",\"orient\":\"horizontal\"},\"step\":1,\"className\":\"slider slider is-fullwidth\",\"style\":{}},\"nodeType\":\"DOM\",\"type\":\"node\",\"instanceArgs\":{\"namespace\":\"html\",\"tag\":\"input\"},\"children\":[]}]},{\"props\":{\"className\":\"interact-flex-row-right\"},\"nodeType\":\"DOM\",\"type\":\"node\",\"instanceArgs\":{\"namespace\":\"html\",\"tag\":\"div\"},\"children\":[{\"props\":{\"attributes\":{\"data-bind\":\"text: formatted_val\"}},\"nodeType\":\"DOM\",\"type\":\"node\",\"instanceArgs\":{\"namespace\":\"html\",\"tag\":\"p\"},\"children\":[]}]}]}]}]},{\"props\":{\"className\":\"field interact-widget\"},\"nodeType\":\"DOM\",\"type\":\"node\",\"instanceArgs\":{\"namespace\":\"html\",\"tag\":\"div\"},\"children\":[{\"props\":{},\"nodeType\":\"Scope\",\"type\":\"node\",\"instanceArgs\":{\"imports\":{\"data\":[{\"name\":\"knockout\",\"type\":\"js\",\"url\":\"\\/assetserver\\/46fa30269326aba23141c18b17d8ce39cc329be8-knockout.js\"},{\"name\":\"knockout_punches\",\"type\":\"js\",\"url\":\"\\/assetserver\\/785cf23779dbf5e70842ccdb713d3ca9d688333f-knockout_punches.js\"},{\"name\":null,\"type\":\"js\",\"url\":\"\\/assetserver\\/1bc46607af5b174f8ca4d1bfd755db598dcef146-all.js\"},{\"name\":null,\"type\":\"css\",\"url\":\"\\/assetserver\\/9824d0edd7ec97f5c88ea78fe99914e216073c09-style.css\"},{\"name\":null,\"type\":\"css\",\"url\":\"\\/assetserver\\/1f713bda89a85e38ff51c8784de0dbc492fe903f-bulma_confined.min.css\"}],\"type\":\"async_block\"},\"id\":\"6581550070857795974\",\"handlers\":{\"changes\":[\"(function (val){return (val!=this.model[\\\"changes\\\"]()) ? (this.valueFromJulia[\\\"changes\\\"]=true, this.model[\\\"changes\\\"](val)) : undefined})\"],\"index\":[\"(function (val){return (val!=this.model[\\\"index\\\"]()) ? (this.valueFromJulia[\\\"index\\\"]=true, this.model[\\\"index\\\"](val)) : undefined})\"]},\"systemjs_options\":null,\"mount_callbacks\":[\"function () {\\n    var handler = (function (ko, koPunches) {\\n    ko.punches.enableAll();\\n    ko.bindingHandlers.numericValue = {\\n        init: function(element, valueAccessor, allBindings, data, context) {\\n            var stringified = ko.observable(ko.unwrap(valueAccessor()));\\n            stringified.subscribe(function(value) {\\n                var val = parseFloat(value);\\n                if (!isNaN(val)) {\\n                    valueAccessor()(val);\\n                }\\n            });\\n            valueAccessor().subscribe(function(value) {\\n                var str = JSON.stringify(value);\\n                if ((str == \\\"0\\\") && ([\\\"-0\\\", \\\"-0.\\\"].indexOf(stringified()) >= 0))\\n                     return;\\n                 if ([\\\"null\\\", \\\"\\\"].indexOf(str) >= 0)\\n                     return;\\n                stringified(str);\\n            });\\n            ko.applyBindingsToNode(\\n                element,\\n                {\\n                    value: stringified,\\n                    valueUpdate: allBindings.get('valueUpdate'),\\n                },\\n                context,\\n            );\\n        }\\n    };\\n    var json_data = {\\\"formatted_vals\\\":[\\\"-0.707107\\\",\\\"-0.690036\\\",\\\"-0.672965\\\",\\\"-0.655894\\\",\\\"-0.638823\\\",\\\"-0.621751\\\",\\\"-0.60468\\\",\\\"-0.587609\\\",\\\"-0.570538\\\",\\\"-0.553467\\\",\\\"-0.536396\\\",\\\"-0.519325\\\",\\\"-0.502254\\\",\\\"-0.485183\\\",\\\"-0.468112\\\",\\\"-0.451041\\\",\\\"-0.43397\\\",\\\"-0.416899\\\",\\\"-0.399828\\\",\\\"-0.382756\\\",\\\"-0.365685\\\",\\\"-0.348614\\\",\\\"-0.331543\\\",\\\"-0.314472\\\",\\\"-0.297401\\\",\\\"-0.28033\\\",\\\"-0.263259\\\",\\\"-0.246188\\\",\\\"-0.229117\\\",\\\"-0.212046\\\",\\\"-0.194975\\\",\\\"-0.177904\\\",\\\"-0.160833\\\",\\\"-0.143762\\\",\\\"-0.12669\\\",\\\"-0.109619\\\",\\\"-0.0925483\\\",\\\"-0.0754773\\\",\\\"-0.0584062\\\",\\\"-0.0413351\\\",\\\"-0.0242641\\\",\\\"-0.007193\\\",\\\"0.00987807\\\",\\\"0.0269491\\\",\\\"0.0440202\\\",\\\"0.0610913\\\",\\\"0.0781623\\\",\\\"0.0952334\\\",\\\"0.112304\\\",\\\"0.129376\\\",\\\"0.146447\\\",\\\"0.163518\\\",\\\"0.180589\\\",\\\"0.19766\\\",\\\"0.214731\\\",\\\"0.231802\\\",\\\"0.248873\\\",\\\"0.265944\\\",\\\"0.283015\\\",\\\"0.300086\\\",\\\"0.317157\\\",\\\"0.334228\\\",\\\"0.351299\\\",\\\"0.36837\\\",\\\"0.385442\\\",\\\"0.402513\\\",\\\"0.419584\\\",\\\"0.436655\\\",\\\"0.453726\\\",\\\"0.470797\\\",\\\"0.487868\\\",\\\"0.504939\\\",\\\"0.52201\\\",\\\"0.539081\\\",\\\"0.556152\\\",\\\"0.573223\\\",\\\"0.590294\\\",\\\"0.607365\\\",\\\"0.624437\\\",\\\"0.641508\\\",\\\"0.658579\\\",\\\"0.67565\\\",\\\"0.692721\\\",\\\"0.709792\\\",\\\"0.726863\\\",\\\"0.743934\\\",\\\"0.761005\\\",\\\"0.778076\\\",\\\"0.795147\\\",\\\"0.812218\\\",\\\"0.829289\\\",\\\"0.84636\\\",\\\"0.863431\\\",\\\"0.880503\\\",\\\"0.897574\\\",\\\"0.914645\\\",\\\"0.931716\\\",\\\"0.948787\\\",\\\"0.965858\\\",\\\"0.982929\\\",\\\"1.0\\\"],\\\"changes\\\":WebIO.getval({\\\"name\\\":\\\"changes\\\",\\\"scope\\\":\\\"6581550070857795974\\\",\\\"id\\\":\\\"105\\\",\\\"type\\\":\\\"observable\\\"}),\\\"index\\\":WebIO.getval({\\\"name\\\":\\\"index\\\",\\\"scope\\\":\\\"6581550070857795974\\\",\\\"id\\\":\\\"104\\\",\\\"type\\\":\\\"observable\\\"})};\\n    var self = this;\\n    function AppViewModel() {\\n        for (var key in json_data) {\\n            var el = json_data[key];\\n            this[key] = Array.isArray(el) ? ko.observableArray(el) : ko.observable(el);\\n        }\\n        \\n        [this[\\\"formatted_val\\\"]=ko.computed(    function(){\\n        return this.formatted_vals()[parseInt(this.index())-(1)];\\n    }\\n,this)]\\n        [this[\\\"changes\\\"].subscribe((function (val){!(this.valueFromJulia[\\\"changes\\\"]) ? (WebIO.setval({\\\"name\\\":\\\"changes\\\",\\\"scope\\\":\\\"6581550070857795974\\\",\\\"id\\\":\\\"105\\\",\\\"type\\\":\\\"observable\\\"},val)) : undefined; return this.valueFromJulia[\\\"changes\\\"]=false}),self),this[\\\"index\\\"].subscribe((function (val){!(this.valueFromJulia[\\\"index\\\"]) ? (WebIO.setval({\\\"name\\\":\\\"index\\\",\\\"scope\\\":\\\"6581550070857795974\\\",\\\"id\\\":\\\"104\\\",\\\"type\\\":\\\"observable\\\"},val)) : undefined; return this.valueFromJulia[\\\"index\\\"]=false}),self)]\\n        \\n    }\\n    self.model = new AppViewModel();\\n    self.valueFromJulia = {};\\n    for (var key in json_data) {\\n        self.valueFromJulia[key] = false;\\n    }\\n    ko.applyBindings(self.model, self.dom);\\n}\\n);\\n    (WebIO.importBlock({\\\"data\\\":[{\\\"name\\\":\\\"knockout\\\",\\\"type\\\":\\\"js\\\",\\\"url\\\":\\\"\\/assetserver\\/46fa30269326aba23141c18b17d8ce39cc329be8-knockout.js\\\"},{\\\"name\\\":\\\"knockout_punches\\\",\\\"type\\\":\\\"js\\\",\\\"url\\\":\\\"\\/assetserver\\/785cf23779dbf5e70842ccdb713d3ca9d688333f-knockout_punches.js\\\"}],\\\"type\\\":\\\"async_block\\\"})).then((imports) => handler.apply(this, imports));\\n}\\n\"],\"observables\":{\"changes\":{\"sync\":false,\"id\":\"105\",\"value\":0},\"index\":{\"sync\":true,\"id\":\"104\",\"value\":51}}},\"children\":[{\"props\":{\"className\":\"interact-flex-row interact-widget\"},\"nodeType\":\"DOM\",\"type\":\"node\",\"instanceArgs\":{\"namespace\":\"html\",\"tag\":\"div\"},\"children\":[{\"props\":{\"className\":\"interact-flex-row-left\"},\"nodeType\":\"DOM\",\"type\":\"node\",\"instanceArgs\":{\"namespace\":\"html\",\"tag\":\"div\"},\"children\":[{\"props\":{\"className\":\"interact \",\"style\":{\"padding\":\"5px 10px 0px 10px\"}},\"nodeType\":\"DOM\",\"type\":\"node\",\"instanceArgs\":{\"namespace\":\"html\",\"tag\":\"label\"},\"children\":[\"zetaol\"]}]},{\"props\":{\"className\":\"interact-flex-row-center\"},\"nodeType\":\"DOM\",\"type\":\"node\",\"instanceArgs\":{\"namespace\":\"html\",\"tag\":\"div\"},\"children\":[{\"props\":{\"max\":101,\"min\":1,\"attributes\":{\"type\":\"range\",\"data-bind\":\"numericValue: index, valueUpdate: 'input', event: {change: function (){this.changes(this.changes()+1)}}\",\"orient\":\"horizontal\"},\"step\":1,\"className\":\"slider slider is-fullwidth\",\"style\":{}},\"nodeType\":\"DOM\",\"type\":\"node\",\"instanceArgs\":{\"namespace\":\"html\",\"tag\":\"input\"},\"children\":[]}]},{\"props\":{\"className\":\"interact-flex-row-right\"},\"nodeType\":\"DOM\",\"type\":\"node\",\"instanceArgs\":{\"namespace\":\"html\",\"tag\":\"div\"},\"children\":[{\"props\":{\"attributes\":{\"data-bind\":\"text: formatted_val\"}},\"nodeType\":\"DOM\",\"type\":\"node\",\"instanceArgs\":{\"namespace\":\"html\",\"tag\":\"p\"},\"children\":[]}]}]}]}]},{\"props\":{\"className\":\"field interact-widget\"},\"nodeType\":\"DOM\",\"type\":\"node\",\"instanceArgs\":{\"namespace\":\"html\",\"tag\":\"div\"},\"children\":[{\"props\":{},\"nodeType\":\"Scope\",\"type\":\"node\",\"instanceArgs\":{\"imports\":{\"data\":[{\"name\":\"knockout\",\"type\":\"js\",\"url\":\"\\/assetserver\\/46fa30269326aba23141c18b17d8ce39cc329be8-knockout.js\"},{\"name\":\"knockout_punches\",\"type\":\"js\",\"url\":\"\\/assetserver\\/785cf23779dbf5e70842ccdb713d3ca9d688333f-knockout_punches.js\"},{\"name\":null,\"type\":\"js\",\"url\":\"\\/assetserver\\/1bc46607af5b174f8ca4d1bfd755db598dcef146-all.js\"},{\"name\":null,\"type\":\"css\",\"url\":\"\\/assetserver\\/9824d0edd7ec97f5c88ea78fe99914e216073c09-style.css\"},{\"name\":null,\"type\":\"css\",\"url\":\"\\/assetserver\\/1f713bda89a85e38ff51c8784de0dbc492fe903f-bulma_confined.min.css\"}],\"type\":\"async_block\"},\"id\":\"1444260074206144014\",\"handlers\":{\"changes\":[\"(function (val){return (val!=this.model[\\\"changes\\\"]()) ? (this.valueFromJulia[\\\"changes\\\"]=true, this.model[\\\"changes\\\"](val)) : undefined})\"],\"index\":[\"(function (val){return (val!=this.model[\\\"index\\\"]()) ? (this.valueFromJulia[\\\"index\\\"]=true, this.model[\\\"index\\\"](val)) : undefined})\"]},\"systemjs_options\":null,\"mount_callbacks\":[\"function () {\\n    var handler = (function (ko, koPunches) {\\n    ko.punches.enableAll();\\n    ko.bindingHandlers.numericValue = {\\n        init: function(element, valueAccessor, allBindings, data, context) {\\n            var stringified = ko.observable(ko.unwrap(valueAccessor()));\\n            stringified.subscribe(function(value) {\\n                var val = parseFloat(value);\\n                if (!isNaN(val)) {\\n                    valueAccessor()(val);\\n                }\\n            });\\n            valueAccessor().subscribe(function(value) {\\n                var str = JSON.stringify(value);\\n                if ((str == \\\"0\\\") && ([\\\"-0\\\", \\\"-0.\\\"].indexOf(stringified()) >= 0))\\n                     return;\\n                 if ([\\\"null\\\", \\\"\\\"].indexOf(str) >= 0)\\n                     return;\\n                stringified(str);\\n            });\\n            ko.applyBindingsToNode(\\n                element,\\n                {\\n                    value: stringified,\\n                    valueUpdate: allBindings.get('valueUpdate'),\\n                },\\n                context,\\n            );\\n        }\\n    };\\n    var json_data = {\\\"formatted_vals\\\":[\\\"-0.707107\\\",\\\"-0.690036\\\",\\\"-0.672965\\\",\\\"-0.655894\\\",\\\"-0.638823\\\",\\\"-0.621751\\\",\\\"-0.60468\\\",\\\"-0.587609\\\",\\\"-0.570538\\\",\\\"-0.553467\\\",\\\"-0.536396\\\",\\\"-0.519325\\\",\\\"-0.502254\\\",\\\"-0.485183\\\",\\\"-0.468112\\\",\\\"-0.451041\\\",\\\"-0.43397\\\",\\\"-0.416899\\\",\\\"-0.399828\\\",\\\"-0.382756\\\",\\\"-0.365685\\\",\\\"-0.348614\\\",\\\"-0.331543\\\",\\\"-0.314472\\\",\\\"-0.297401\\\",\\\"-0.28033\\\",\\\"-0.263259\\\",\\\"-0.246188\\\",\\\"-0.229117\\\",\\\"-0.212046\\\",\\\"-0.194975\\\",\\\"-0.177904\\\",\\\"-0.160833\\\",\\\"-0.143762\\\",\\\"-0.12669\\\",\\\"-0.109619\\\",\\\"-0.0925483\\\",\\\"-0.0754773\\\",\\\"-0.0584062\\\",\\\"-0.0413351\\\",\\\"-0.0242641\\\",\\\"-0.007193\\\",\\\"0.00987807\\\",\\\"0.0269491\\\",\\\"0.0440202\\\",\\\"0.0610913\\\",\\\"0.0781623\\\",\\\"0.0952334\\\",\\\"0.112304\\\",\\\"0.129376\\\",\\\"0.146447\\\",\\\"0.163518\\\",\\\"0.180589\\\",\\\"0.19766\\\",\\\"0.214731\\\",\\\"0.231802\\\",\\\"0.248873\\\",\\\"0.265944\\\",\\\"0.283015\\\",\\\"0.300086\\\",\\\"0.317157\\\",\\\"0.334228\\\",\\\"0.351299\\\",\\\"0.36837\\\",\\\"0.385442\\\",\\\"0.402513\\\",\\\"0.419584\\\",\\\"0.436655\\\",\\\"0.453726\\\",\\\"0.470797\\\",\\\"0.487868\\\",\\\"0.504939\\\",\\\"0.52201\\\",\\\"0.539081\\\",\\\"0.556152\\\",\\\"0.573223\\\",\\\"0.590294\\\",\\\"0.607365\\\",\\\"0.624437\\\",\\\"0.641508\\\",\\\"0.658579\\\",\\\"0.67565\\\",\\\"0.692721\\\",\\\"0.709792\\\",\\\"0.726863\\\",\\\"0.743934\\\",\\\"0.761005\\\",\\\"0.778076\\\",\\\"0.795147\\\",\\\"0.812218\\\",\\\"0.829289\\\",\\\"0.84636\\\",\\\"0.863431\\\",\\\"0.880503\\\",\\\"0.897574\\\",\\\"0.914645\\\",\\\"0.931716\\\",\\\"0.948787\\\",\\\"0.965858\\\",\\\"0.982929\\\",\\\"1.0\\\"],\\\"changes\\\":WebIO.getval({\\\"name\\\":\\\"changes\\\",\\\"scope\\\":\\\"1444260074206144014\\\",\\\"id\\\":\\\"108\\\",\\\"type\\\":\\\"observable\\\"}),\\\"index\\\":WebIO.getval({\\\"name\\\":\\\"index\\\",\\\"scope\\\":\\\"1444260074206144014\\\",\\\"id\\\":\\\"107\\\",\\\"type\\\":\\\"observable\\\"})};\\n    var self = this;\\n    function AppViewModel() {\\n        for (var key in json_data) {\\n            var el = json_data[key];\\n            this[key] = Array.isArray(el) ? ko.observableArray(el) : ko.observable(el);\\n        }\\n        \\n        [this[\\\"formatted_val\\\"]=ko.computed(    function(){\\n        return this.formatted_vals()[parseInt(this.index())-(1)];\\n    }\\n,this)]\\n        [this[\\\"changes\\\"].subscribe((function (val){!(this.valueFromJulia[\\\"changes\\\"]) ? (WebIO.setval({\\\"name\\\":\\\"changes\\\",\\\"scope\\\":\\\"1444260074206144014\\\",\\\"id\\\":\\\"108\\\",\\\"type\\\":\\\"observable\\\"},val)) : undefined; return this.valueFromJulia[\\\"changes\\\"]=false}),self),this[\\\"index\\\"].subscribe((function (val){!(this.valueFromJulia[\\\"index\\\"]) ? (WebIO.setval({\\\"name\\\":\\\"index\\\",\\\"scope\\\":\\\"1444260074206144014\\\",\\\"id\\\":\\\"107\\\",\\\"type\\\":\\\"observable\\\"},val)) : undefined; return this.valueFromJulia[\\\"index\\\"]=false}),self)]\\n        \\n    }\\n    self.model = new AppViewModel();\\n    self.valueFromJulia = {};\\n    for (var key in json_data) {\\n        self.valueFromJulia[key] = false;\\n    }\\n    ko.applyBindings(self.model, self.dom);\\n}\\n);\\n    (WebIO.importBlock({\\\"data\\\":[{\\\"name\\\":\\\"knockout\\\",\\\"type\\\":\\\"js\\\",\\\"url\\\":\\\"\\/assetserver\\/46fa30269326aba23141c18b17d8ce39cc329be8-knockout.js\\\"},{\\\"name\\\":\\\"knockout_punches\\\",\\\"type\\\":\\\"js\\\",\\\"url\\\":\\\"\\/assetserver\\/785cf23779dbf5e70842ccdb713d3ca9d688333f-knockout_punches.js\\\"}],\\\"type\\\":\\\"async_block\\\"})).then((imports) => handler.apply(this, imports));\\n}\\n\"],\"observables\":{\"changes\":{\"sync\":false,\"id\":\"108\",\"value\":0},\"index\":{\"sync\":true,\"id\":\"107\",\"value\":51}}},\"children\":[{\"props\":{\"className\":\"interact-flex-row interact-widget\"},\"nodeType\":\"DOM\",\"type\":\"node\",\"instanceArgs\":{\"namespace\":\"html\",\"tag\":\"div\"},\"children\":[{\"props\":{\"className\":\"interact-flex-row-left\"},\"nodeType\":\"DOM\",\"type\":\"node\",\"instanceArgs\":{\"namespace\":\"html\",\"tag\":\"div\"},\"children\":[{\"props\":{\"className\":\"interact \",\"style\":{\"padding\":\"5px 10px 0px 10px\"}},\"nodeType\":\"DOM\",\"type\":\"node\",\"instanceArgs\":{\"namespace\":\"html\",\"tag\":\"label\"},\"children\":[\"zetail\"]}]},{\"props\":{\"className\":\"interact-flex-row-center\"},\"nodeType\":\"DOM\",\"type\":\"node\",\"instanceArgs\":{\"namespace\":\"html\",\"tag\":\"div\"},\"children\":[{\"props\":{\"max\":101,\"min\":1,\"attributes\":{\"type\":\"range\",\"data-bind\":\"numericValue: index, valueUpdate: 'input', event: {change: function (){this.changes(this.changes()+1)}}\",\"orient\":\"horizontal\"},\"step\":1,\"className\":\"slider slider is-fullwidth\",\"style\":{}},\"nodeType\":\"DOM\",\"type\":\"node\",\"instanceArgs\":{\"namespace\":\"html\",\"tag\":\"input\"},\"children\":[]}]},{\"props\":{\"className\":\"interact-flex-row-right\"},\"nodeType\":\"DOM\",\"type\":\"node\",\"instanceArgs\":{\"namespace\":\"html\",\"tag\":\"div\"},\"children\":[{\"props\":{\"attributes\":{\"data-bind\":\"text: formatted_val\"}},\"nodeType\":\"DOM\",\"type\":\"node\",\"instanceArgs\":{\"namespace\":\"html\",\"tag\":\"p\"},\"children\":[]}]}]}]}]},{\"props\":{},\"nodeType\":\"Scope\",\"type\":\"node\",\"instanceArgs\":{\"imports\":{\"data\":[],\"type\":\"async_block\"},\"id\":\"13670668374340200878\",\"handlers\":{},\"systemjs_options\":null,\"mount_callbacks\":[],\"observables\":{\"obs-node\":{\"sync\":false,\"id\":\"112\",\"value\":{\"props\":{\"className\":\"interact-flex-row interact-widget\"},\"nodeType\":\"DOM\",\"type\":\"node\",\"instanceArgs\":{\"namespace\":\"html\",\"tag\":\"div\"},\"children\":[{\"props\":{\"setInnerHtml\":\"<?xml version=\\\"1.0\\\" encoding=\\\"utf-8\\\"?>\\n<svg xmlns=\\\"http:\\/\\/www.w3.org\\/2000\\/svg\\\" xmlns:xlink=\\\"http:\\/\\/www.w3.org\\/1999\\/xlink\\\" width=\\\"600\\\" height=\\\"400\\\" viewBox=\\\"0 0 2400 1600\\\">\\n<defs>\\n  <clipPath id=\\\"clip170\\\">\\n    <rect x=\\\"0\\\" y=\\\"0\\\" width=\\\"2400\\\" height=\\\"1600\\\"\\/>\\n  <\\/clipPath>\\n<\\/defs>\\n<path clip-path=\\\"url(#clip170)\\\" d=\\\"M0 1600 L2400 1600 L2400 8.88178e-14 L0 8.88178e-14  Z\\\" fill=\\\"#ffffff\\\" fill-rule=\\\"evenodd\\\" fill-opacity=\\\"1\\\"\\/>\\n<defs>\\n  <clipPath id=\\\"clip171\\\">\\n    <rect x=\\\"480\\\" y=\\\"0\\\" width=\\\"1681\\\" height=\\\"1600\\\"\\/>\\n  <\\/clipPath>\\n<\\/defs>\\n<path clip-path=\\\"url(#clip170)\\\" d=\\\"M178.867 1486.45 L2352.76 1486.45 L2352.76 47.2441 L178.867 47.2441  Z\\\" fill=\\\"#ffffff\\\" fill-rule=\\\"evenodd\\\" fill-opacity=\\\"1\\\"\\/>\\n<defs>\\n  <clipPath id=\\\"clip172\\\">\\n    <rect x=\\\"178\\\" y=\\\"47\\\" width=\\\"2175\\\" height=\\\"1440\\\"\\/>\\n  <\\/clipPath>\\n<\\/defs>\\n<polyline clip-path=\\\"url(#clip172)\\\" style=\\\"stroke:#000000; stroke-linecap:round; stroke-linejoin:round; stroke-width:2; stroke-opacity:0.1; fill:none\\\" points=\\\"312.592,1486.45 312.592,47.2441 \\\"\\/>\\n<polyline clip-path=\\\"url(#clip172)\\\" style=\\\"stroke:#000000; stroke-linecap:round; stroke-linejoin:round; stroke-width:2; stroke-opacity:0.1; fill:none\\\" points=\\\"648.666,1486.45 648.666,47.2441 \\\"\\/>\\n<polyline clip-path=\\\"url(#clip172)\\\" style=\\\"stroke:#000000; stroke-linecap:round; stroke-linejoin:round; stroke-width:2; stroke-opacity:0.1; fill:none\\\" points=\\\"984.74,1486.45 984.74,47.2441 \\\"\\/>\\n<polyline clip-path=\\\"url(#clip172)\\\" style=\\\"stroke:#000000; stroke-linecap:round; stroke-linejoin:round; stroke-width:2; stroke-opacity:0.1; fill:none\\\" points=\\\"1320.81,1486.45 1320.81,47.2441 \\\"\\/>\\n<polyline clip-path=\\\"url(#clip172)\\\" style=\\\"stroke:#000000; stroke-linecap:round; stroke-linejoin:round; stroke-width:2; stroke-opacity:0.1; fill:none\\\" points=\\\"1656.89,1486.45 1656.89,47.2441 \\\"\\/>\\n<polyline clip-path=\\\"url(#clip172)\\\" style=\\\"stroke:#000000; stroke-linecap:round; stroke-linejoin:round; stroke-width:2; stroke-opacity:0.1; fill:none\\\" points=\\\"1992.96,1486.45 1992.96,47.2441 \\\"\\/>\\n<polyline clip-path=\\\"url(#clip172)\\\" style=\\\"stroke:#000000; stroke-linecap:round; stroke-linejoin:round; stroke-width:2; stroke-opacity:0.1; fill:none\\\" points=\\\"2329.04,1486.45 2329.04,47.2441 \\\"\\/>\\n<polyline clip-path=\\\"url(#clip170)\\\" style=\\\"stroke:#000000; stroke-linecap:round; stroke-linejoin:round; stroke-width:4; stroke-opacity:1; fill:none\\\" points=\\\"178.867,1486.45 2352.76,1486.45 \\\"\\/>\\n<polyline clip-path=\\\"url(#clip170)\\\" style=\\\"stroke:#000000; stroke-linecap:round; stroke-linejoin:round; stroke-width:4; stroke-opacity:1; fill:none\\\" points=\\\"312.592,1486.45 312.592,1467.55 \\\"\\/>\\n<polyline clip-path=\\\"url(#clip170)\\\" style=\\\"stroke:#000000; stroke-linecap:round; stroke-linejoin:round; stroke-width:4; stroke-opacity:1; fill:none\\\" points=\\\"648.666,1486.45 648.666,1467.55 \\\"\\/>\\n<polyline clip-path=\\\"url(#clip170)\\\" style=\\\"stroke:#000000; stroke-linecap:round; stroke-linejoin:round; stroke-width:4; stroke-opacity:1; fill:none\\\" points=\\\"984.74,1486.45 984.74,1467.55 \\\"\\/>\\n<polyline clip-path=\\\"url(#clip170)\\\" style=\\\"stroke:#000000; stroke-linecap:round; stroke-linejoin:round; stroke-width:4; stroke-opacity:1; fill:none\\\" points=\\\"1320.81,1486.45 1320.81,1467.55 \\\"\\/>\\n<polyline clip-path=\\\"url(#clip170)\\\" style=\\\"stroke:#000000; stroke-linecap:round; stroke-linejoin:round; stroke-width:4; stroke-opacity:1; fill:none\\\" points=\\\"1656.89,1486.45 1656.89,1467.55 \\\"\\/>\\n<polyline clip-path=\\\"url(#clip170)\\\" style=\\\"stroke:#000000; stroke-linecap:round; stroke-linejoin:round; stroke-width:4; stroke-opacity:1; fill:none\\\" points=\\\"1992.96,1486.45 1992.96,1467.55 \\\"\\/>\\n<polyline clip-path=\\\"url(#clip170)\\\" style=\\\"stroke:#000000; stroke-linecap:round; stroke-linejoin:round; stroke-width:4; stroke-opacity:1; fill:none\\\" points=\\\"2329.04,1486.45 2329.04,1467.55 \\\"\\/>\\n<path clip-path=\\\"url(#clip170)\\\" d=\\\"M282.233 1532.02 L311.909 1532.02 L311.909 1535.95 L282.233 1535.95 L282.233 1532.02 Z\\\" fill=\\\"#000000\\\" fill-rule=\\\"nonzero\\\" fill-opacity=\\\"1\\\" \\/><path clip-path=\\\"url(#clip170)\\\" d=\\\"M322.048 1514.29 L340.404 1514.29 L340.404 1518.22 L326.33 1518.22 L326.33 1526.7 Q327.348 1526.35 328.367 1526.19 Q329.385 1526 330.404 1526 Q336.191 1526 339.571 1529.17 Q342.95 1532.34 342.95 1537.76 Q342.95 1543.34 339.478 1546.44 Q336.006 1549.52 329.686 1549.52 Q327.51 1549.52 325.242 1549.15 Q322.997 1548.78 320.589 1548.04 L320.589 1543.34 Q322.673 1544.47 324.895 1545.03 Q327.117 1545.58 329.594 1545.58 Q333.598 1545.58 335.936 1543.48 Q338.274 1541.37 338.274 1537.76 Q338.274 1534.15 335.936 1532.04 Q333.598 1529.94 329.594 1529.94 Q327.719 1529.94 325.844 1530.35 Q323.992 1530.77 322.048 1531.65 L322.048 1514.29 Z\\\" fill=\\\"#000000\\\" fill-rule=\\\"nonzero\\\" fill-opacity=\\\"1\\\" \\/><path clip-path=\\\"url(#clip170)\\\" d=\\\"M648.666 1517.37 Q645.054 1517.37 643.226 1520.93 Q641.42 1524.47 641.42 1531.6 Q641.42 1538.71 643.226 1542.27 Q645.054 1545.82 648.666 1545.82 Q652.3 1545.82 654.105 1542.27 Q655.934 1538.71 655.934 1531.6 Q655.934 1524.47 654.105 1520.93 Q652.3 1517.37 648.666 1517.37 M648.666 1513.66 Q654.476 1513.66 657.531 1518.27 Q660.61 1522.85 660.61 1531.6 Q660.61 1540.33 657.531 1544.94 Q654.476 1549.52 648.666 1549.52 Q642.855 1549.52 639.777 1544.94 Q636.721 1540.33 636.721 1531.6 Q636.721 1522.85 639.777 1518.27 Q642.855 1513.66 648.666 1513.66 Z\\\" fill=\\\"#000000\\\" fill-rule=\\\"nonzero\\\" fill-opacity=\\\"1\\\" \\/><path clip-path=\\\"url(#clip170)\\\" d=\\\"M975.017 1514.29 L993.374 1514.29 L993.374 1518.22 L979.3 1518.22 L979.3 1526.7 Q980.318 1526.35 981.337 1526.19 Q982.355 1526 983.374 1526 Q989.161 1526 992.54 1529.17 Q995.92 1532.34 995.92 1537.76 Q995.92 1543.34 992.448 1546.44 Q988.976 1549.52 982.656 1549.52 Q980.48 1549.52 978.212 1549.15 Q975.966 1548.78 973.559 1548.04 L973.559 1543.34 Q975.642 1544.47 977.865 1545.03 Q980.087 1545.58 982.564 1545.58 Q986.568 1545.58 988.906 1543.48 Q991.244 1541.37 991.244 1537.76 Q991.244 1534.15 988.906 1532.04 Q986.568 1529.94 982.564 1529.94 Q980.689 1529.94 978.814 1530.35 Q976.962 1530.77 975.017 1531.65 L975.017 1514.29 Z\\\" fill=\\\"#000000\\\" fill-rule=\\\"nonzero\\\" fill-opacity=\\\"1\\\" \\/><path clip-path=\\\"url(#clip170)\\\" d=\\\"M1295.5 1544.91 L1303.14 1544.91 L1303.14 1518.55 L1294.83 1520.21 L1294.83 1515.95 L1303.09 1514.29 L1307.77 1514.29 L1307.77 1544.91 L1315.41 1544.91 L1315.41 1548.85 L1295.5 1548.85 L1295.5 1544.91 Z\\\" fill=\\\"#000000\\\" fill-rule=\\\"nonzero\\\" fill-opacity=\\\"1\\\" \\/><path clip-path=\\\"url(#clip170)\\\" d=\\\"M1334.85 1517.37 Q1331.24 1517.37 1329.41 1520.93 Q1327.61 1524.47 1327.61 1531.6 Q1327.61 1538.71 1329.41 1542.27 Q1331.24 1545.82 1334.85 1545.82 Q1338.49 1545.82 1340.29 1542.27 Q1342.12 1538.71 1342.12 1531.6 Q1342.12 1524.47 1340.29 1520.93 Q1338.49 1517.37 1334.85 1517.37 M1334.85 1513.66 Q1340.66 1513.66 1343.72 1518.27 Q1346.8 1522.85 1346.8 1531.6 Q1346.8 1540.33 1343.72 1544.94 Q1340.66 1549.52 1334.85 1549.52 Q1329.04 1549.52 1325.96 1544.94 Q1322.91 1540.33 1322.91 1531.6 Q1322.91 1522.85 1325.96 1518.27 Q1329.04 1513.66 1334.85 1513.66 Z\\\" fill=\\\"#000000\\\" fill-rule=\\\"nonzero\\\" fill-opacity=\\\"1\\\" \\/><path clip-path=\\\"url(#clip170)\\\" d=\\\"M1632.07 1544.91 L1639.71 1544.91 L1639.71 1518.55 L1631.4 1520.21 L1631.4 1515.95 L1639.67 1514.29 L1644.34 1514.29 L1644.34 1544.91 L1651.98 1544.91 L1651.98 1548.85 L1632.07 1548.85 L1632.07 1544.91 Z\\\" fill=\\\"#000000\\\" fill-rule=\\\"nonzero\\\" fill-opacity=\\\"1\\\" \\/><path clip-path=\\\"url(#clip170)\\\" d=\\\"M1661.47 1514.29 L1679.83 1514.29 L1679.83 1518.22 L1665.75 1518.22 L1665.75 1526.7 Q1666.77 1526.35 1667.79 1526.19 Q1668.81 1526 1669.83 1526 Q1675.61 1526 1678.99 1529.17 Q1682.37 1532.34 1682.37 1537.76 Q1682.37 1543.34 1678.9 1546.44 Q1675.43 1549.52 1669.11 1549.52 Q1666.93 1549.52 1664.67 1549.15 Q1662.42 1548.78 1660.01 1548.04 L1660.01 1543.34 Q1662.1 1544.47 1664.32 1545.03 Q1666.54 1545.58 1669.02 1545.58 Q1673.02 1545.58 1675.36 1543.48 Q1677.7 1541.37 1677.7 1537.76 Q1677.7 1534.15 1675.36 1532.04 Q1673.02 1529.94 1669.02 1529.94 Q1667.14 1529.94 1665.27 1530.35 Q1663.42 1530.77 1661.47 1531.65 L1661.47 1514.29 Z\\\" fill=\\\"#000000\\\" fill-rule=\\\"nonzero\\\" fill-opacity=\\\"1\\\" \\/><path clip-path=\\\"url(#clip170)\\\" d=\\\"M1971.73 1544.91 L1988.05 1544.91 L1988.05 1548.85 L1966.11 1548.85 L1966.11 1544.91 Q1968.77 1542.16 1973.36 1537.53 Q1977.96 1532.88 1979.14 1531.53 Q1981.39 1529.01 1982.27 1527.27 Q1983.17 1525.51 1983.17 1523.82 Q1983.17 1521.07 1981.23 1519.33 Q1979.3 1517.6 1976.2 1517.6 Q1974 1517.6 1971.55 1518.36 Q1969.12 1519.13 1966.34 1520.68 L1966.34 1515.95 Q1969.17 1514.82 1971.62 1514.24 Q1974.07 1513.66 1976.11 1513.66 Q1981.48 1513.66 1984.67 1516.35 Q1987.87 1519.03 1987.87 1523.52 Q1987.87 1525.65 1987.06 1527.57 Q1986.27 1529.47 1984.17 1532.07 Q1983.59 1532.74 1980.48 1535.95 Q1977.38 1539.15 1971.73 1544.91 Z\\\" fill=\\\"#000000\\\" fill-rule=\\\"nonzero\\\" fill-opacity=\\\"1\\\" \\/><path clip-path=\\\"url(#clip170)\\\" d=\\\"M2007.87 1517.37 Q2004.26 1517.37 2002.43 1520.93 Q2000.62 1524.47 2000.62 1531.6 Q2000.62 1538.71 2002.43 1542.27 Q2004.26 1545.82 2007.87 1545.82 Q2011.5 1545.82 2013.31 1542.27 Q2015.14 1538.71 2015.14 1531.6 Q2015.14 1524.47 2013.31 1520.93 Q2011.5 1517.37 2007.87 1517.37 M2007.87 1513.66 Q2013.68 1513.66 2016.73 1518.27 Q2019.81 1522.85 2019.81 1531.6 Q2019.81 1540.33 2016.73 1544.94 Q2013.68 1549.52 2007.87 1549.52 Q2002.06 1549.52 1998.98 1544.94 Q1995.92 1540.33 1995.92 1531.6 Q1995.92 1522.85 1998.98 1518.27 Q2002.06 1513.66 2007.87 1513.66 Z\\\" fill=\\\"#000000\\\" fill-rule=\\\"nonzero\\\" fill-opacity=\\\"1\\\" \\/><path clip-path=\\\"url(#clip170)\\\" d=\\\"M2308.31 1544.91 L2324.63 1544.91 L2324.63 1548.85 L2302.68 1548.85 L2302.68 1544.91 Q2305.34 1542.16 2309.93 1537.53 Q2314.53 1532.88 2315.71 1531.53 Q2317.96 1529.01 2318.84 1527.27 Q2319.74 1525.51 2319.74 1523.82 Q2319.74 1521.07 2317.8 1519.33 Q2315.88 1517.6 2312.77 1517.6 Q2310.57 1517.6 2308.12 1518.36 Q2305.69 1519.13 2302.91 1520.68 L2302.91 1515.95 Q2305.74 1514.82 2308.19 1514.24 Q2310.64 1513.66 2312.68 1513.66 Q2318.05 1513.66 2321.25 1516.35 Q2324.44 1519.03 2324.44 1523.52 Q2324.44 1525.65 2323.63 1527.57 Q2322.84 1529.47 2320.74 1532.07 Q2320.16 1532.74 2317.06 1535.95 Q2313.95 1539.15 2308.31 1544.91 Z\\\" fill=\\\"#000000\\\" fill-rule=\\\"nonzero\\\" fill-opacity=\\\"1\\\" \\/><path clip-path=\\\"url(#clip170)\\\" d=\\\"M2334.49 1514.29 L2352.84 1514.29 L2352.84 1518.22 L2338.77 1518.22 L2338.77 1526.7 Q2339.79 1526.35 2340.81 1526.19 Q2341.82 1526 2342.84 1526 Q2348.63 1526 2352.01 1529.17 Q2355.39 1532.34 2355.39 1537.76 Q2355.39 1543.34 2351.92 1546.44 Q2348.45 1549.52 2342.13 1549.52 Q2339.95 1549.52 2337.68 1549.15 Q2335.44 1548.78 2333.03 1548.04 L2333.03 1543.34 Q2335.11 1544.47 2337.33 1545.03 Q2339.56 1545.58 2342.03 1545.58 Q2346.04 1545.58 2348.38 1543.48 Q2350.71 1541.37 2350.71 1537.76 Q2350.71 1534.15 2348.38 1532.04 Q2346.04 1529.94 2342.03 1529.94 Q2340.16 1529.94 2338.28 1530.35 Q2336.43 1530.77 2334.49 1531.65 L2334.49 1514.29 Z\\\" fill=\\\"#000000\\\" fill-rule=\\\"nonzero\\\" fill-opacity=\\\"1\\\" \\/><polyline clip-path=\\\"url(#clip172)\\\" style=\\\"stroke:#000000; stroke-linecap:round; stroke-linejoin:round; stroke-width:2; stroke-opacity:0.1; fill:none\\\" points=\\\"178.867,1438.99 2352.76,1438.99 \\\"\\/>\\n<polyline clip-path=\\\"url(#clip172)\\\" style=\\\"stroke:#000000; stroke-linecap:round; stroke-linejoin:round; stroke-width:2; stroke-opacity:0.1; fill:none\\\" points=\\\"178.867,1102.92 2352.76,1102.92 \\\"\\/>\\n<polyline clip-path=\\\"url(#clip172)\\\" style=\\\"stroke:#000000; stroke-linecap:round; stroke-linejoin:round; stroke-width:2; stroke-opacity:0.1; fill:none\\\" points=\\\"178.867,766.846 2352.76,766.846 \\\"\\/>\\n<polyline clip-path=\\\"url(#clip172)\\\" style=\\\"stroke:#000000; stroke-linecap:round; stroke-linejoin:round; stroke-width:2; stroke-opacity:0.1; fill:none\\\" points=\\\"178.867,430.772 2352.76,430.772 \\\"\\/>\\n<polyline clip-path=\\\"url(#clip172)\\\" style=\\\"stroke:#000000; stroke-linecap:round; stroke-linejoin:round; stroke-width:2; stroke-opacity:0.1; fill:none\\\" points=\\\"178.867,94.6978 2352.76,94.6978 \\\"\\/>\\n<polyline clip-path=\\\"url(#clip170)\\\" style=\\\"stroke:#000000; stroke-linecap:round; stroke-linejoin:round; stroke-width:4; stroke-opacity:1; fill:none\\\" points=\\\"178.867,1486.45 178.867,47.2441 \\\"\\/>\\n<polyline clip-path=\\\"url(#clip170)\\\" style=\\\"stroke:#000000; stroke-linecap:round; stroke-linejoin:round; stroke-width:4; stroke-opacity:1; fill:none\\\" points=\\\"178.867,1438.99 197.764,1438.99 \\\"\\/>\\n<polyline clip-path=\\\"url(#clip170)\\\" style=\\\"stroke:#000000; stroke-linecap:round; stroke-linejoin:round; stroke-width:4; stroke-opacity:1; fill:none\\\" points=\\\"178.867,1102.92 197.764,1102.92 \\\"\\/>\\n<polyline clip-path=\\\"url(#clip170)\\\" style=\\\"stroke:#000000; stroke-linecap:round; stroke-linejoin:round; stroke-width:4; stroke-opacity:1; fill:none\\\" points=\\\"178.867,766.846 197.764,766.846 \\\"\\/>\\n<polyline clip-path=\\\"url(#clip170)\\\" style=\\\"stroke:#000000; stroke-linecap:round; stroke-linejoin:round; stroke-width:4; stroke-opacity:1; fill:none\\\" points=\\\"178.867,430.772 197.764,430.772 \\\"\\/>\\n<polyline clip-path=\\\"url(#clip170)\\\" style=\\\"stroke:#000000; stroke-linecap:round; stroke-linejoin:round; stroke-width:4; stroke-opacity:1; fill:none\\\" points=\\\"178.867,94.6978 197.764,94.6978 \\\"\\/>\\n<path clip-path=\\\"url(#clip170)\\\" d=\\\"M50.9921 1439.45 L80.6679 1439.45 L80.6679 1443.38 L50.9921 1443.38 L50.9921 1439.45 Z\\\" fill=\\\"#000000\\\" fill-rule=\\\"nonzero\\\" fill-opacity=\\\"1\\\" \\/><path clip-path=\\\"url(#clip170)\\\" d=\\\"M91.5706 1452.34 L99.2095 1452.34 L99.2095 1425.97 L90.8993 1427.64 L90.8993 1423.38 L99.1632 1421.71 L103.839 1421.71 L103.839 1452.34 L111.478 1452.34 L111.478 1456.27 L91.5706 1456.27 L91.5706 1452.34 Z\\\" fill=\\\"#000000\\\" fill-rule=\\\"nonzero\\\" fill-opacity=\\\"1\\\" \\/><path clip-path=\\\"url(#clip170)\\\" d=\\\"M130.922 1424.79 Q127.311 1424.79 125.482 1428.36 Q123.677 1431.9 123.677 1439.03 Q123.677 1446.13 125.482 1449.7 Q127.311 1453.24 130.922 1453.24 Q134.556 1453.24 136.362 1449.7 Q138.191 1446.13 138.191 1439.03 Q138.191 1431.9 136.362 1428.36 Q134.556 1424.79 130.922 1424.79 M130.922 1421.09 Q136.732 1421.09 139.788 1425.7 Q142.867 1430.28 142.867 1439.03 Q142.867 1447.76 139.788 1452.36 Q136.732 1456.94 130.922 1456.94 Q125.112 1456.94 122.033 1452.36 Q118.978 1447.76 118.978 1439.03 Q118.978 1430.28 122.033 1425.7 Q125.112 1421.09 130.922 1421.09 Z\\\" fill=\\\"#000000\\\" fill-rule=\\\"nonzero\\\" fill-opacity=\\\"1\\\" \\/><path clip-path=\\\"url(#clip170)\\\" d=\\\"M82.1494 1103.37 L111.825 1103.37 L111.825 1107.31 L82.1494 1107.31 L82.1494 1103.37 Z\\\" fill=\\\"#000000\\\" fill-rule=\\\"nonzero\\\" fill-opacity=\\\"1\\\" \\/><path clip-path=\\\"url(#clip170)\\\" d=\\\"M121.964 1085.64 L140.32 1085.64 L140.32 1089.57 L126.246 1089.57 L126.246 1098.05 Q127.265 1097.7 128.283 1097.54 Q129.302 1097.35 130.32 1097.35 Q136.107 1097.35 139.487 1100.52 Q142.867 1103.7 142.867 1109.11 Q142.867 1114.69 139.394 1117.79 Q135.922 1120.87 129.603 1120.87 Q127.427 1120.87 125.158 1120.5 Q122.913 1120.13 120.506 1119.39 L120.506 1114.69 Q122.589 1115.82 124.811 1116.38 Q127.033 1116.94 129.51 1116.94 Q133.515 1116.94 135.853 1114.83 Q138.191 1112.72 138.191 1109.11 Q138.191 1105.5 135.853 1103.39 Q133.515 1101.29 129.51 1101.29 Q127.635 1101.29 125.76 1101.7 Q123.908 1102.12 121.964 1103 L121.964 1085.64 Z\\\" fill=\\\"#000000\\\" fill-rule=\\\"nonzero\\\" fill-opacity=\\\"1\\\" \\/><path clip-path=\\\"url(#clip170)\\\" d=\\\"M130.922 752.644 Q127.311 752.644 125.482 756.209 Q123.677 759.751 123.677 766.88 Q123.677 773.987 125.482 777.552 Q127.311 781.093 130.922 781.093 Q134.556 781.093 136.362 777.552 Q138.191 773.987 138.191 766.88 Q138.191 759.751 136.362 756.209 Q134.556 752.644 130.922 752.644 M130.922 748.941 Q136.732 748.941 139.788 753.547 Q142.867 758.13 142.867 766.88 Q142.867 775.607 139.788 780.214 Q136.732 784.797 130.922 784.797 Q125.112 784.797 122.033 780.214 Q118.978 775.607 118.978 766.88 Q118.978 758.13 122.033 753.547 Q125.112 748.941 130.922 748.941 Z\\\" fill=\\\"#000000\\\" fill-rule=\\\"nonzero\\\" fill-opacity=\\\"1\\\" \\/><path clip-path=\\\"url(#clip170)\\\" d=\\\"M121.964 413.492 L140.32 413.492 L140.32 417.427 L126.246 417.427 L126.246 425.899 Q127.265 425.552 128.283 425.39 Q129.302 425.205 130.32 425.205 Q136.107 425.205 139.487 428.376 Q142.867 431.547 142.867 436.964 Q142.867 442.543 139.394 445.644 Q135.922 448.723 129.603 448.723 Q127.427 448.723 125.158 448.353 Q122.913 447.982 120.506 447.242 L120.506 442.543 Q122.589 443.677 124.811 444.232 Q127.033 444.788 129.51 444.788 Q133.515 444.788 135.853 442.681 Q138.191 440.575 138.191 436.964 Q138.191 433.353 135.853 431.246 Q133.515 429.14 129.51 429.14 Q127.635 429.14 125.76 429.556 Q123.908 429.973 121.964 430.853 L121.964 413.492 Z\\\" fill=\\\"#000000\\\" fill-rule=\\\"nonzero\\\" fill-opacity=\\\"1\\\" \\/><path clip-path=\\\"url(#clip170)\\\" d=\\\"M91.5706 108.043 L99.2095 108.043 L99.2095 81.677 L90.8993 83.3437 L90.8993 79.0844 L99.1632 77.4178 L103.839 77.4178 L103.839 108.043 L111.478 108.043 L111.478 111.978 L91.5706 111.978 L91.5706 108.043 Z\\\" fill=\\\"#000000\\\" fill-rule=\\\"nonzero\\\" fill-opacity=\\\"1\\\" \\/><path clip-path=\\\"url(#clip170)\\\" d=\\\"M130.922 80.4964 Q127.311 80.4964 125.482 84.0612 Q123.677 87.6029 123.677 94.7325 Q123.677 101.839 125.482 105.404 Q127.311 108.945 130.922 108.945 Q134.556 108.945 136.362 105.404 Q138.191 101.839 138.191 94.7325 Q138.191 87.6029 136.362 84.0612 Q134.556 80.4964 130.922 80.4964 M130.922 76.7928 Q136.732 76.7928 139.788 81.3992 Q142.867 85.9825 142.867 94.7325 Q142.867 103.459 139.788 108.066 Q136.732 112.649 130.922 112.649 Q125.112 112.649 122.033 108.066 Q118.978 103.459 118.978 94.7325 Q118.978 85.9825 122.033 81.3992 Q125.112 76.7928 130.922 76.7928 Z\\\" fill=\\\"#000000\\\" fill-rule=\\\"nonzero\\\" fill-opacity=\\\"1\\\" \\/><polyline clip-path=\\\"url(#clip172)\\\" style=\\\"stroke:#009af9; stroke-linecap:round; stroke-linejoin:round; stroke-width:8; stroke-opacity:1; fill:none\\\" points=\\\"1605.25,766.846 1605.21,790.418 1605.08,808.746 1604.87,825.499 1604.57,841.297 1604.18,856.414 1603.71,871 1603.15,885.153 1602.51,898.937 1601.78,912.399 1600.97,925.574 1600.07,938.49 1599.09,951.167 1598.02,963.621 1596.86,975.867 1595.63,987.915 1594.3,999.775 1592.9,1011.45 1591.41,1022.96 1589.83,1034.3 1588.17,1045.47 1586.43,1056.48 1584.61,1067.33 1582.7,1078.03 1580.71,1088.57 1578.64,1098.97 1576.48,1109.21 1574.25,1119.31 1571.93,1129.25 1569.53,1139.05 1567.05,1148.71 1564.49,1158.22 1561.85,1167.58 1559.13,1176.8 1556.33,1185.87 1553.45,1194.8 1550.5,1203.58 1547.46,1212.22 1544.35,1220.71 1541.16,1229.05 1537.89,1237.25 1534.54,1245.29 1531.12,1253.19 1527.62,1260.94 1524.05,1268.55 1520.4,1276 1516.67,1283.3 1512.87,1290.45 1508.99,1297.45 1505.04,1304.29 1501.02,1310.98 1496.92,1317.52 1492.75,1323.9 1488.51,1330.13 1484.19,1336.2 1479.8,1342.12 1475.33,1347.87 1470.8,1353.47 1466.19,1358.91 1461.51,1364.19 1456.75,1369.31 1451.92,1374.27 1447.02,1379.07 1442.05,1383.7 1437,1388.17 1431.88,1392.48 1426.68,1396.63 1421.41,1400.61 1416.06,1404.42 1410.64,1408.07 1405.13,1411.55 1399.54,1414.87 1393.88,1418.02 1388.12,1421 1382.28,1423.81 1376.35,1426.46 1370.33,1428.93 1364.21,1431.24 1357.98,1433.38 1351.64,1435.35 1345.18,1437.14 1338.6,1438.77 1331.87,1440.23 1324.97,1441.51 1317.9,1442.63 1310.6,1443.57 1303.05,1444.34 1295.15,1444.94 1286.77,1445.37 1265.82,1445.72 1254.03,1445.63 1244.87,1445.37 1236.49,1444.94 1228.59,1444.34 1221.04,1443.57 1213.74,1442.63 1206.67,1441.51 1199.77,1440.23 1193.04,1438.77 1186.46,1437.14 1180,1435.35 1173.66,1433.38 1167.43,1431.24 1161.31,1428.93 1155.28,1426.46 1149.35,1423.81 1143.52,1421 1137.76,1418.02 1132.09,1414.87 1126.51,1411.55 1121,1408.07 1115.58,1404.42 1110.23,1400.61 1104.96,1396.63 1099.76,1392.48 1094.64,1388.17 1089.59,1383.7 1084.62,1379.07 1079.72,1374.27 1074.89,1369.31 1070.13,1364.19 1065.45,1358.91 1060.84,1353.47 1056.31,1347.87 1051.84,1342.12 1047.45,1336.2 1043.13,1330.13 1038.89,1323.9 1034.72,1317.52 1030.62,1310.98 1026.6,1304.29 1022.65,1297.45 1018.77,1290.45 1014.97,1283.3 1011.24,1276 1007.59,1268.55 1004.02,1260.94 1000.52,1253.19 997.097,1245.29 993.751,1237.25 990.482,1229.05 987.291,1220.71 984.177,1212.22 981.141,1203.58 978.184,1194.8 975.306,1185.87 972.507,1176.8 969.787,1167.58 967.147,1158.22 964.587,1148.71 962.108,1139.05 959.709,1129.25 957.392,1119.31 955.156,1109.21 953.001,1098.97 950.929,1088.57 948.939,1078.03 947.032,1067.33 945.207,1056.48 943.466,1045.47 941.808,1034.3 940.233,1022.96 938.743,1011.45 937.336,999.775 936.014,987.915 934.776,975.867 933.622,963.621 932.553,951.167 931.57,938.49 930.671,925.574 929.857,912.399 929.129,898.937 928.486,885.153 927.929,871 927.457,856.414 927.071,841.297 926.771,825.499 926.557,808.746 926.428,743.274 926.557,724.945 926.771,708.192 927.071,692.394 927.457,677.278 927.929,662.691 928.486,648.539 929.129,634.755 929.857,621.293 930.671,608.117 931.57,595.201 932.553,582.525 933.622,570.07 934.776,557.824 936.014,545.776 937.336,533.916 938.743,522.237 940.233,510.732 941.808,499.396 943.466,488.224 945.207,477.214 947.032,466.361 948.939,455.664 950.929,445.119 953.001,434.726 955.156,424.482 957.392,414.386 959.709,404.438 962.108,394.637 964.587,384.982 967.147,375.472 969.787,366.109 972.507,356.89 975.306,347.817 978.184,338.89 981.141,330.108 984.177,321.473 987.291,312.983 990.482,304.641 993.751,296.445 997.097,288.397 1000.52,280.498 1004.02,272.747 1007.59,265.145 1011.24,257.694 1014.97,250.393 1018.77,243.243 1022.65,236.245 1026.6,229.4 1030.62,222.709 1034.72,216.171 1038.89,209.788 1043.13,203.561 1047.45,197.489 1051.84,191.575 1056.31,185.818 1060.84,180.22 1065.45,174.78 1070.13,169.5 1074.89,164.38 1079.72,159.422 1084.62,154.625 1089.59,149.99 1094.64,145.518 1099.76,141.209 1104.96,137.065 1110.23,133.085 1115.58,129.27 1121,125.621 1126.51,122.139 1132.09,118.822 1137.76,115.673 1143.52,112.692 1149.35,109.879 1155.28,107.234 1161.31,104.758 1167.43,102.451 1173.66,100.313 1180,98.3459 1186.46,96.5484 1193.04,94.9213 1199.77,93.4649 1206.67,92.1793 1213.74,91.0647 1221.04,90.1213 1228.59,89.3492 1236.49,88.7486 1244.87,88.3196 1254.03,88.0621 1265.82,87.9763 1277.61,88.0621 1286.77,88.3196 1295.15,88.7486 1303.05,89.3492 1310.6,90.1213 1317.9,91.0647 1324.97,92.1793 1331.87,93.4649 1338.6,94.9213 1345.18,96.5484 1351.64,98.3459 1357.98,100.313 1364.21,102.451 1370.33,104.758 1376.35,107.234 1382.28,109.879 1388.12,112.692 1393.88,115.673 1399.54,118.822 1405.13,122.139 1410.64,125.621 1416.06,129.27 1421.41,133.085 1426.68,137.065 1431.88,141.209 1437,145.518 1442.05,149.99 1447.02,154.625 1451.92,159.422 1456.75,164.38 1461.51,169.5 1466.19,174.78 1470.8,180.22 1475.33,185.818 1479.8,191.575 1484.19,197.489 1488.51,203.561 1492.75,209.788 1496.92,216.171 1501.02,222.709 1505.04,229.4 1508.99,236.245 1512.87,243.243 1516.67,250.393 1520.4,257.694 1524.05,265.145 1527.62,272.747 1531.12,280.498 1534.54,288.397 1537.89,296.445 1541.16,304.641 1544.35,312.983 1547.46,321.473 1550.5,330.108 1553.45,338.89 1556.33,347.817 1559.13,356.89 1561.85,366.109 1564.49,375.472 1567.05,384.982 1569.53,394.637 1571.93,404.438 1574.25,414.386 1576.48,424.482 1578.64,434.726 1580.71,445.119 1582.7,455.664 1584.61,466.361 1586.43,477.214 1588.17,488.224 1589.83,499.396 1591.41,510.732 1592.9,522.237 1594.3,533.916 1595.63,545.776 1596.86,557.824 1598.02,570.07 1599.09,582.525 1600.07,595.201 1600.97,608.117 1601.78,621.293 1602.51,634.755 1603.15,648.539 1603.71,662.691 1604.18,677.278 1604.57,692.394 1604.87,708.192 1605.08,724.945 1605.21,743.274 1605.25,766.846 \\\"\\/>\\n<polyline clip-path=\\\"url(#clip172)\\\" style=\\\"stroke:#e26f46; stroke-linecap:round; stroke-linejoin:round; stroke-width:4; stroke-opacity:1; fill:none\\\" points=\\\"1605.25,766.846 1605.25,771.061 1605.24,775.276 1605.22,779.49 1605.19,783.704 1605.16,787.917 1605.12,792.129 1605.07,796.341 1605.01,800.551 1604.95,804.76 1604.88,808.968 1604.8,813.174 1604.72,817.378 1604.63,821.58 1604.53,825.78 1604.42,829.978 1604.3,834.173 1604.18,838.366 1604.05,842.556 1603.92,846.743 1603.77,850.927 1603.62,855.108 1603.46,859.285 1603.29,863.459 1603.12,867.629 1602.94,871.796 1602.75,875.958 1602.55,880.116 1602.35,884.269 1602.13,888.418 1601.91,892.563 1601.69,896.702 1601.45,900.837 1601.21,904.966 1600.96,909.09 1600.7,913.209 1600.43,917.322 1600.16,921.429 1599.88,925.53 1599.59,929.625 1599.29,933.714 1598.98,937.796 1598.67,941.872 1598.35,945.941 1598.02,950.003 1597.68,954.058 1597.33,958.106 1596.98,962.146 1596.61,966.179 1596.24,970.204 1595.86,974.222 1595.47,978.231 1595.08,982.232 1594.67,986.225 1594.26,990.21 1593.84,994.186 1593.41,998.153 1592.97,1002.11 1592.52,1006.06 1592.06,1010 1591.59,1013.93 1591.12,1017.85 1590.64,1021.76 1590.14,1025.66 1589.64,1029.56 1589.13,1033.44 1588.61,1037.31 1588.08,1041.17 1587.54,1045.02 1586.99,1048.86 1586.43,1052.69 1585.87,1056.5 1585.29,1060.31 1584.7,1064.11 1584.1,1067.89 1583.5,1071.66 1582.88,1075.42 1582.25,1079.17 1581.62,1082.91 1580.97,1086.63 1580.31,1090.34 1579.65,1094.04 1578.97,1097.73 1578.28,1101.4 1577.58,1105.06 1576.87,1108.71 1576.15,1112.35 1575.42,1115.97 1574.68,1119.58 1573.93,1123.17 1573.16,1126.75 1572.39,1130.32 1571.6,1133.87 1570.81,1137.41 1570,1140.93 1569.18,1144.44 1568.34,1147.94 1567.5,1151.42 1566.65,1154.89 1565.78,1158.34 1564.9,1161.77 1564.01,1165.19 1563.1,1168.6 1562.19,1171.99 1561.26,1175.36 1560.32,1178.72 1559.37,1182.06 1558.4,1185.39 1557.43,1188.7 1556.43,1191.99 1555.43,1195.27 1554.42,1198.53 1553.39,1201.78 1552.34,1205.01 1551.29,1208.22 1550.22,1211.41 1549.14,1214.59 1548.04,1217.75 1546.93,1220.89 1545.81,1224.01 1544.67,1227.12 1543.52,1230.21 1542.35,1233.28 1541.18,1236.34 1539.98,1239.37 1538.78,1242.39 1537.56,1245.39 1536.32,1248.37 1535.07,1251.33 1533.8,1254.27 1532.53,1257.2 1531.23,1260.1 1529.92,1262.99 1528.6,1265.86 1527.26,1268.7 1525.91,1271.53 1524.54,1274.34 1523.16,1277.13 1521.76,1279.9 1520.34,1282.65 1518.92,1285.38 1517.47,1288.09 1516.01,1290.78 1514.54,1293.45 1513.04,1296.1 1511.54,1298.73 1510.02,1301.34 1508.48,1303.93 1506.93,1306.5 1505.36,1309.04 1503.77,1311.57 1502.17,1314.07 1500.55,1316.56 1498.92,1319.02 1497.27,1321.46 1495.61,1323.88 1493.93,1326.28 1492.23,1328.66 1490.52,1331.01 1488.79,1333.35 1487.04,1335.66 1485.28,1337.95 1483.5,1340.22 1481.71,1342.46 1479.9,1344.68 1478.08,1346.89 1476.23,1349.06 1474.38,1351.22 1472.5,1353.35 1470.61,1355.47 1468.71,1357.55 1466.79,1359.62 1464.85,1361.66 1462.89,1363.68 1460.93,1365.68 1458.94,1367.65 1456.94,1369.6 1454.92,1371.53 1452.89,1373.44 1450.84,1375.32 1448.78,1377.17 1446.7,1379.01 1444.6,1380.82 1442.49,1382.6 1440.37,1384.37 1438.23,1386.11 1436.07,1387.82 1433.9,1389.51 1431.72,1391.18 1429.52,1392.82 1427.3,1394.44 1425.07,1396.04 1422.83,1397.61 1420.57,1399.15 1418.3,1400.68 1416.01,1402.17 1413.71,1403.65 1411.4,1405.09 1409.07,1406.52 1406.73,1407.92 1404.37,1409.29 1402,1410.64 1399.62,1411.97 1397.23,1413.27 1394.82,1414.54 1392.4,1415.79 1389.97,1417.02 1387.53,1418.22 1385.07,1419.39 1382.6,1420.54 1380.12,1421.67 1377.63,1422.77 1375.13,1423.84 1372.62,1424.89 1370.09,1425.91 1367.56,1426.91 1365.01,1427.88 1362.46,1428.83 1359.89,1429.75 1357.32,1430.65 1354.73,1431.52 1352.14,1432.36 1349.54,1433.18 1346.93,1433.97 1344.31,1434.74 1341.68,1435.48 1339.04,1436.2 1336.4,1436.89 1333.75,1437.55 1331.09,1438.19 1328.43,1438.81 1325.75,1439.39 1323.07,1439.95 1320.39,1440.49 1317.7,1441 1315,1441.48 1312.3,1441.94 1309.6,1442.37 1306.88,1442.77 1304.17,1443.15 1301.45,1443.51 1298.72,1443.83 1296,1444.13 1293.27,1444.41 1290.53,1444.66 1287.8,1444.88 1285.06,1445.07 1282.32,1445.24 1279.57,1445.39 1276.83,1445.51 1274.08,1445.6 1271.34,1445.66 1268.59,1445.7 1265.84,1445.72 1263.09,1445.7 1260.35,1445.66 1257.6,1445.6 1254.85,1445.51 1252.11,1445.39 1249.36,1445.24 1246.62,1445.07 1243.88,1444.88 1241.15,1444.66 1238.41,1444.41 1235.68,1444.13 1232.95,1443.83 1230.22,1443.51 1227.5,1443.15 1224.79,1442.77 1222.07,1442.37 1219.37,1441.94 1216.66,1441.48 1213.96,1441 1211.27,1440.49 1208.59,1439.95 1205.91,1439.39 1203.23,1438.81 1200.56,1438.19 1197.9,1437.55 1195.25,1436.89 1192.6,1436.2 1189.96,1435.48 1187.33,1434.74 1184.71,1433.97 1182.1,1433.18 1179.49,1432.36 1176.9,1431.52 1174.31,1430.65 1171.73,1429.75 1169.16,1428.83 1166.61,1427.88 1164.06,1426.91 1161.52,1425.91 1158.99,1424.89 1156.48,1423.84 1153.97,1422.77 1151.48,1421.67 1149,1420.54 1146.53,1419.39 1144.07,1418.22 1141.62,1417.02 1139.18,1415.79 1136.76,1414.54 1134.35,1413.27 1131.95,1411.97 1129.57,1410.64 1127.2,1409.29 1124.84,1407.92 1122.5,1406.52 1120.16,1405.09 1117.85,1403.65 1115.54,1402.17 1113.25,1400.68 1110.98,1399.15 1108.72,1397.61 1106.47,1396.04 1104.24,1394.44 1102.02,1392.82 1099.82,1391.18 1097.63,1389.51 1095.45,1387.82 1093.3,1386.11 1091.15,1384.37 1089.03,1382.6 1086.91,1380.82 1084.82,1379.01 1082.73,1377.17 1080.67,1375.32 1078.62,1373.44 1076.58,1371.53 1074.56,1369.6 1072.56,1367.65 1070.57,1365.68 1068.6,1363.68 1066.65,1361.66 1064.71,1359.62 1062.78,1357.55 1060.88,1355.47 1058.98,1353.35 1057.11,1351.22 1055.25,1349.06 1053.41,1346.89 1051.58,1344.68 1049.77,1342.46 1047.98,1340.22 1046.2,1337.95 1044.44,1335.66 1042.69,1333.35 1040.96,1331.01 1039.25,1328.66 1037.55,1326.28 1035.87,1323.88 1034.21,1321.46 1032.56,1319.02 1030.92,1316.56 1029.31,1314.07 1027.71,1311.57 1026.12,1309.04 1024.55,1306.5 1023,1303.93 1021.46,1301.34 1019.94,1298.73 1018.44,1296.1 1016.95,1293.45 1015.47,1290.78 1014.02,1288.09 1012.57,1285.38 1011.15,1282.65 1009.73,1279.9 1008.34,1277.13 1006.96,1274.34 1005.59,1271.53 1004.24,1268.7 1002.9,1265.86 1001.58,1262.99 1000.28,1260.1 998.984,1257.2 997.708,1254.27 996.446,1251.33 995.199,1248.37 993.966,1245.39 992.748,1242.39 991.544,1239.37 990.355,1236.34 989.18,1233.28 988.018,1230.21 986.871,1227.12 985.738,1224.01 984.618,1220.89 983.512,1217.75 982.42,1214.59 981.342,1211.41 980.277,1208.22 979.225,1205.01 978.186,1201.78 977.161,1198.53 976.149,1195.27 975.149,1191.99 974.163,1188.7 973.19,1185.39 972.229,1182.06 971.28,1178.72 970.345,1175.36 969.421,1171.99 968.51,1168.6 967.612,1165.19 966.725,1161.77 965.85,1158.34 964.988,1154.89 964.137,1151.42 963.298,1147.94 962.47,1144.44 961.654,1140.93 960.85,1137.41 960.057,1133.87 959.275,1130.32 958.505,1126.75 957.745,1123.17 956.997,1119.58 956.259,1115.97 955.533,1112.35 954.817,1108.71 954.112,1105.06 953.417,1101.4 952.733,1097.73 952.059,1094.04 951.396,1090.34 950.742,1086.63 950.099,1082.91 949.467,1079.17 948.844,1075.42 948.231,1071.66 947.627,1067.89 947.034,1064.11 946.45,1060.31 945.876,1056.5 945.311,1052.69 944.756,1048.86 944.211,1045.02 943.674,1041.17 943.147,1037.31 942.629,1033.44 942.12,1029.56 941.62,1025.66 941.13,1021.76 940.648,1017.85 940.175,1013.93 939.711,1010 939.255,1006.06 938.808,1002.11 938.37,998.153 937.941,994.186 937.519,990.21 937.107,986.225 936.703,982.232 936.307,978.231 935.919,974.222 935.54,970.204 935.169,966.179 934.806,962.146 934.451,958.106 934.104,954.058 933.765,950.003 933.435,945.941 933.112,941.872 932.797,937.796 932.49,933.714 932.191,929.625 931.899,925.53 931.616,921.429 931.34,917.322 931.071,913.209 930.811,909.09 930.558,904.966 930.313,900.837 930.075,896.702 929.845,892.563 929.622,888.418 929.407,884.269 929.199,880.116 928.999,875.958 928.806,871.796 928.621,867.629 928.443,863.459 928.273,859.285 928.11,855.108 927.954,850.927 927.805,846.743 927.664,842.556 927.53,838.366 927.404,834.173 927.285,829.978 927.173,825.78 927.068,821.58 926.971,817.378 926.881,813.174 926.798,808.968 926.723,804.76 926.655,800.551 926.594,796.341 926.54,792.129 926.494,787.917 926.455,783.704 926.423,779.49 926.398,775.276 926.381,771.061 926.371,766.846 926.368,762.631 926.373,758.416 926.385,754.202 926.404,749.988 926.431,745.775 926.464,741.563 926.506,737.351 926.554,733.141 926.61,728.932 926.674,724.724 926.745,720.518 926.823,716.314 926.909,712.112 927.002,707.912 927.102,703.714 927.211,699.519 927.326,695.326 927.45,691.136 927.58,686.949 927.719,682.765 927.865,678.584 928.018,674.407 928.18,670.233 928.349,666.063 928.525,661.896 928.71,657.734 928.902,653.576 929.102,649.423 929.31,645.274 929.526,641.129 929.749,636.99 929.981,632.855 930.22,628.726 930.468,624.602 930.723,620.483 930.987,616.37 931.259,612.263 931.538,608.162 931.826,604.067 932.123,599.978 932.427,595.896 932.74,591.82 933.061,587.751 933.39,583.689 933.728,579.634 934.074,575.586 934.429,571.546 934.793,567.513 935.165,563.488 935.545,559.47 935.935,555.461 936.333,551.46 936.739,547.467 937.155,543.482 937.579,539.506 938.013,535.539 938.455,531.581 938.907,527.632 939.367,523.692 939.837,519.761 940.316,515.84 940.804,511.929 941.301,508.028 941.808,504.136 942.324,500.255 942.85,496.384 943.385,492.523 943.93,488.673 944.484,484.833 945.048,481.005 945.622,477.187 946.206,473.381 946.8,469.586 947.403,465.802 948.017,462.03 948.641,458.27 949.275,454.522 949.919,450.785 950.573,447.061 951.238,443.35 951.913,439.65 952.599,435.964 953.295,432.29 954.002,428.629 954.72,424.981 955.448,421.346 956.188,417.724 956.938,414.116 957.699,410.522 958.472,406.941 959.255,403.374 960.05,399.821 960.856,396.283 961.673,392.758 962.502,389.248 963.342,385.753 964.194,382.272 965.058,378.806 965.934,375.355 966.821,371.919 967.72,368.499 968.632,365.093 969.555,361.704 970.491,358.329 971.438,354.971 972.398,351.628 973.371,348.302 974.356,344.991 975.354,341.697 976.364,338.419 977.387,335.158 978.423,331.914 979.472,328.686 980.534,325.475 981.609,322.281 982.697,319.104 983.798,315.945 984.913,312.802 986.041,309.678 987.182,306.571 988.337,303.481 989.506,300.41 990.688,297.356 991.884,294.321 993.095,291.304 994.319,288.305 995.557,285.325 996.809,282.363 998.075,279.42 999.356,276.495 1000.65,273.59 1001.96,270.704 1003.28,267.836 1004.62,264.988 1005.98,262.159 1007.34,259.35 1008.73,256.561 1010.12,253.79 1011.54,251.04 1012.96,248.31 1014.41,245.599 1015.86,242.909 1017.34,240.239 1018.82,237.589 1020.33,234.96 1021.84,232.351 1023.38,229.763 1024.93,227.195 1026.49,224.648 1028.07,222.122 1029.67,219.618 1031.28,217.134 1032.91,214.671 1034.55,212.23 1036.21,209.81 1037.88,207.411 1039.57,205.035 1041.27,202.679 1043,200.346 1044.73,198.034 1046.49,195.744 1048.26,193.477 1050.04,191.231 1051.84,189.008 1053.66,186.807 1055.49,184.628 1057.34,182.471 1059.2,180.338 1061.08,178.226 1062.98,176.138 1064.89,174.072 1066.82,172.029 1068.76,170.009 1070.72,168.012 1072.7,166.038 1074.69,164.088 1076.7,162.16 1078.72,160.256 1080.76,158.375 1082.81,156.518 1084.88,154.684 1086.96,152.874 1089.06,151.087 1091.18,149.324 1093.31,147.585 1095.45,145.87 1097.61,144.179 1099.79,142.512 1101.98,140.869 1104.19,139.25 1106.41,137.655 1108.64,136.084 1110.89,134.538 1113.15,133.016 1115.43,131.519 1117.73,130.046 1120.03,128.597 1122.35,127.174 1124.69,125.774 1127.03,124.4 1129.39,123.05 1131.77,121.726 1134.16,120.426 1136.56,119.15 1138.97,117.9 1141.4,116.675 1143.84,115.475 1146.29,114.3 1148.75,113.151 1151.23,112.026 1153.71,110.927 1156.21,109.853 1158.72,108.804 1161.24,107.781 1163.77,106.783 1166.32,105.81 1168.87,104.863 1171.43,103.942 1174.01,103.046 1176.59,102.175 1179.19,101.331 1181.79,100.512 1184.4,99.7183 1187.02,98.9506 1189.65,98.2087 1192.29,97.4925 1194.93,96.8022 1197.59,96.1376 1200.25,95.499 1202.92,94.8862 1205.59,94.2993 1208.27,93.7383 1210.96,93.2033 1213.66,92.6943 1216.36,92.2112 1219.07,91.7542 1221.78,91.3231 1224.5,90.9181 1227.22,90.5392 1229.94,90.1863 1232.67,89.8596 1235.41,89.5589 1238.15,89.2843 1240.89,89.0358 1243.63,88.8135 1246.38,88.6173 1249.13,88.4473 1251.88,88.3034 1254.63,88.1856 1257.39,88.094 1260.14,88.0286 1262.9,87.9894 1265.66,87.9763 1268.41,87.9894 1271.17,88.0286 1273.93,88.094 1276.68,88.1856 1279.44,88.3034 1282.19,88.4473 1284.94,88.6173 1287.69,88.8135 1290.44,89.0358 1293.18,89.2843 1295.92,89.5589 1298.66,89.8596 1301.4,90.1863 1304.13,90.5392 1306.86,90.9181 1309.58,91.3231 1312.29,91.7542 1315.01,92.2112 1317.71,92.6943 1320.42,93.2033 1323.11,93.7383 1325.8,94.2993 1328.48,94.8862 1331.16,95.499 1333.83,96.1376 1336.49,96.8022 1339.14,97.4925 1341.79,98.2087 1344.43,98.9506 1347.06,99.7183 1349.68,100.512 1352.29,101.331 1354.89,102.175 1357.48,103.046 1360.07,103.942 1362.64,104.863 1365.2,105.81 1367.75,106.783 1370.3,107.781 1372.83,108.804 1375.35,109.853 1377.86,110.927 1380.35,112.026 1382.84,113.151 1385.31,114.3 1387.77,115.475 1390.22,116.675 1392.66,117.9 1395.08,119.15 1397.49,120.426 1399.89,121.726 1402.28,123.05 1404.65,124.4 1407,125.774 1409.35,127.174 1411.68,128.597 1413.99,130.046 1416.3,131.519 1418.58,133.016 1420.86,134.538 1423.11,136.084 1425.36,137.655 1427.59,139.25 1429.8,140.869 1432,142.512 1434.18,144.179 1436.35,145.87 1438.51,147.585 1440.64,149.324 1442.77,151.087 1444.87,152.874 1446.97,154.684 1449.04,156.518 1451.1,158.375 1453.15,160.256 1455.17,162.16 1457.19,164.088 1459.18,166.038 1461.16,168.012 1463.13,170.009 1465.08,172.029 1467.01,174.072 1468.92,176.138 1470.82,178.226 1472.71,180.338 1474.57,182.471 1476.43,184.628 1478.26,186.807 1480.08,189.008 1481.88,191.231 1483.67,193.477 1485.44,195.744 1487.19,198.034 1488.93,200.346 1490.65,202.679 1492.36,205.035 1494.05,207.411 1495.72,209.81 1497.38,212.23 1499.02,214.671 1500.65,217.134 1502.25,219.618 1503.85,222.122 1505.43,224.648 1506.99,227.195 1508.53,229.763 1510.07,232.351 1511.58,234.96 1513.08,237.589 1514.56,240.239 1516.03,242.909 1517.49,245.599 1518.92,248.31 1520.35,251.04 1521.75,253.79 1523.14,256.561 1524.52,259.35 1525.88,262.159 1527.23,264.988 1528.56,267.836 1529.88,270.704 1531.18,273.59 1532.47,276.495 1533.75,279.42 1535.01,282.363 1536.25,285.325 1537.48,288.305 1538.7,291.304 1539.9,294.321 1541.09,297.356 1542.27,300.41 1543.43,303.481 1544.57,306.571 1545.71,309.678 1546.83,312.802 1547.93,315.945 1549.03,319.104 1550.11,322.281 1551.17,325.475 1552.23,328.686 1553.27,331.914 1554.3,335.158 1555.31,338.419 1556.31,341.697 1557.3,344.991 1558.28,348.302 1559.24,351.628 1560.2,354.971 1561.13,358.329 1562.06,361.704 1562.98,365.093 1563.88,368.499 1564.77,371.919 1565.65,375.355 1566.52,378.806 1567.38,382.272 1568.22,385.753 1569.05,389.248 1569.87,392.758 1570.68,396.283 1571.48,399.821 1572.27,403.374 1573.05,406.941 1573.81,410.522 1574.57,414.116 1575.31,417.724 1576.04,421.346 1576.77,424.981 1577.48,428.629 1578.18,432.29 1578.87,435.964 1579.55,439.65 1580.22,443.35 1580.88,447.061 1581.53,450.785 1582.17,454.522 1582.8,458.27 1583.42,462.03 1584.03,465.802 1584.63,469.586 1585.22,473.381 1585.8,477.187 1586.37,481.005 1586.93,484.833 1587.48,488.673 1588.02,492.523 1588.56,496.384 1589.08,500.255 1589.6,504.136 1590.1,508.028 1590.6,511.929 1591.08,515.84 1591.56,519.761 1592.03,523.692 1592.49,527.632 1592.94,531.581 1593.38,535.539 1593.82,539.506 1594.24,543.482 1594.66,547.467 1595.06,551.46 1595.46,555.461 1595.85,559.47 1596.24,563.488 1596.61,567.513 1596.97,571.546 1597.33,575.586 1597.68,579.634 1598.02,583.689 1598.35,587.751 1598.67,591.82 1598.99,595.896 1599.3,599.978 1599.6,604.067 1599.89,608.162 1600.17,612.263 1600.45,616.37 1600.71,620.483 1600.97,624.602 1601.23,628.726 1601.47,632.855 1601.71,636.99 1601.93,641.129 1602.15,645.274 1602.37,649.423 1602.57,653.576 1602.77,657.734 1602.96,661.896 1603.14,666.063 1603.31,670.233 1603.48,674.407 1603.64,678.584 1603.79,682.765 1603.93,686.949 1604.07,691.136 1604.2,695.326 1604.32,699.519 1604.43,703.714 1604.54,707.912 1604.64,712.112 1604.73,716.314 1604.82,720.518 1604.89,724.724 1604.96,728.932 1605.02,733.141 1605.08,737.351 1605.13,741.563 1605.17,745.775 1605.2,749.988 1605.22,754.202 1605.24,758.416 1605.25,762.631 1605.25,766.846 \\\"\\/>\\n<path clip-path=\\\"url(#clip170)\\\" d=\\\"M1875.98 250.738 L2280.29 250.738 L2280.29 95.2176 L1875.98 95.2176  Z\\\" fill=\\\"#ffffff\\\" fill-rule=\\\"evenodd\\\" fill-opacity=\\\"1\\\"\\/>\\n<polyline clip-path=\\\"url(#clip170)\\\" style=\\\"stroke:#000000; stroke-linecap:round; stroke-linejoin:round; stroke-width:4; stroke-opacity:1; fill:none\\\" points=\\\"1875.98,250.738 2280.29,250.738 2280.29,95.2176 1875.98,95.2176 1875.98,250.738 \\\"\\/>\\n<polyline clip-path=\\\"url(#clip170)\\\" style=\\\"stroke:#009af9; stroke-linecap:round; stroke-linejoin:round; stroke-width:8; stroke-opacity:1; fill:none\\\" points=\\\"1900.14,147.058 2045.06,147.058 \\\"\\/>\\n<path clip-path=\\\"url(#clip170)\\\" d=\\\"M2090.93 148.689 L2090.93 164.338 L2086.67 164.338 L2086.67 148.828 Q2086.67 145.148 2085.24 143.319 Q2083.8 141.49 2080.93 141.49 Q2077.48 141.49 2075.49 143.69 Q2073.5 145.889 2073.5 149.685 L2073.5 164.338 L2069.22 164.338 L2069.22 138.412 L2073.5 138.412 L2073.5 142.44 Q2075.03 140.102 2077.09 138.944 Q2079.17 137.787 2081.88 137.787 Q2086.35 137.787 2088.64 140.565 Q2090.93 143.319 2090.93 148.689 Z\\\" fill=\\\"#000000\\\" fill-rule=\\\"nonzero\\\" fill-opacity=\\\"1\\\" \\/><path clip-path=\\\"url(#clip170)\\\" d=\\\"M2098.99 154.106 L2098.99 138.412 L2103.25 138.412 L2103.25 153.944 Q2103.25 157.625 2104.68 159.476 Q2106.12 161.305 2108.99 161.305 Q2112.44 161.305 2114.43 159.106 Q2116.44 156.907 2116.44 153.111 L2116.44 138.412 L2120.7 138.412 L2120.7 164.338 L2116.44 164.338 L2116.44 160.356 Q2114.89 162.717 2112.83 163.875 Q2110.79 165.009 2108.08 165.009 Q2103.62 165.009 2101.3 162.231 Q2098.99 159.453 2098.99 154.106 M2109.7 137.787 L2109.7 137.787 Z\\\" fill=\\\"#000000\\\" fill-rule=\\\"nonzero\\\" fill-opacity=\\\"1\\\" \\/><path clip-path=\\\"url(#clip170)\\\" d=\\\"M2149.66 143.389 Q2151.25 140.518 2153.48 139.153 Q2155.7 137.787 2158.71 137.787 Q2162.76 137.787 2164.96 140.634 Q2167.16 143.458 2167.16 148.689 L2167.16 164.338 L2162.88 164.338 L2162.88 148.828 Q2162.88 145.102 2161.56 143.296 Q2160.24 141.49 2157.53 141.49 Q2154.22 141.49 2152.3 143.69 Q2150.38 145.889 2150.38 149.685 L2150.38 164.338 L2146.09 164.338 L2146.09 148.828 Q2146.09 145.078 2144.77 143.296 Q2143.45 141.49 2140.7 141.49 Q2137.44 141.49 2135.51 143.713 Q2133.59 145.912 2133.59 149.685 L2133.59 164.338 L2129.31 164.338 L2129.31 138.412 L2133.59 138.412 L2133.59 142.44 Q2135.05 140.055 2137.09 138.921 Q2139.13 137.787 2141.93 137.787 Q2144.75 137.787 2146.72 139.222 Q2148.71 140.657 2149.66 143.389 Z\\\" fill=\\\"#000000\\\" fill-rule=\\\"nonzero\\\" fill-opacity=\\\"1\\\" \\/><path clip-path=\\\"url(#clip170)\\\" d=\\\"M2197.83 150.31 L2197.83 152.393 L2178.25 152.393 Q2178.52 156.791 2180.88 159.106 Q2183.27 161.398 2187.5 161.398 Q2189.96 161.398 2192.25 160.796 Q2194.56 160.194 2196.83 158.99 L2196.83 163.018 Q2194.54 163.99 2192.13 164.5 Q2189.73 165.009 2187.25 165.009 Q2181.05 165.009 2177.41 161.398 Q2173.8 157.787 2173.8 151.629 Q2173.8 145.264 2177.23 141.537 Q2180.68 137.787 2186.51 137.787 Q2191.74 137.787 2194.77 141.166 Q2197.83 144.523 2197.83 150.31 M2193.57 149.06 Q2193.52 145.565 2191.6 143.481 Q2189.7 141.398 2186.56 141.398 Q2182.99 141.398 2180.84 143.412 Q2178.71 145.426 2178.38 149.083 L2193.57 149.06 Z\\\" fill=\\\"#000000\\\" fill-rule=\\\"nonzero\\\" fill-opacity=\\\"1\\\" \\/><path clip-path=\\\"url(#clip170)\\\" d=\\\"M2219.84 142.393 Q2219.12 141.977 2218.27 141.791 Q2217.44 141.583 2216.42 141.583 Q2212.81 141.583 2210.86 143.944 Q2208.94 146.282 2208.94 150.68 L2208.94 164.338 L2204.66 164.338 L2204.66 138.412 L2208.94 138.412 L2208.94 142.44 Q2210.28 140.078 2212.44 138.944 Q2214.59 137.787 2217.67 137.787 Q2218.11 137.787 2218.64 137.856 Q2219.17 137.903 2219.82 138.018 L2219.84 142.393 Z\\\" fill=\\\"#000000\\\" fill-rule=\\\"nonzero\\\" fill-opacity=\\\"1\\\" \\/><path clip-path=\\\"url(#clip170)\\\" d=\\\"M2224.31 138.412 L2228.57 138.412 L2228.57 164.338 L2224.31 164.338 L2224.31 138.412 M2224.31 128.319 L2228.57 128.319 L2228.57 133.713 L2224.31 133.713 L2224.31 128.319 Z\\\" fill=\\\"#000000\\\" fill-rule=\\\"nonzero\\\" fill-opacity=\\\"1\\\" \\/><path clip-path=\\\"url(#clip170)\\\" d=\\\"M2256.14 139.407 L2256.14 143.389 Q2254.33 142.393 2252.5 141.907 Q2250.7 141.398 2248.85 141.398 Q2244.7 141.398 2242.41 144.037 Q2240.12 146.652 2240.12 151.398 Q2240.12 156.143 2242.41 158.782 Q2244.7 161.398 2248.85 161.398 Q2250.7 161.398 2252.5 160.912 Q2254.33 160.402 2256.14 159.407 L2256.14 163.342 Q2254.36 164.176 2252.43 164.592 Q2250.54 165.009 2248.38 165.009 Q2242.53 165.009 2239.08 161.328 Q2235.63 157.648 2235.63 151.398 Q2235.63 145.055 2239.1 141.421 Q2242.6 137.787 2248.66 137.787 Q2250.63 137.787 2252.5 138.203 Q2254.38 138.597 2256.14 139.407 Z\\\" fill=\\\"#000000\\\" fill-rule=\\\"nonzero\\\" fill-opacity=\\\"1\\\" \\/><polyline clip-path=\\\"url(#clip170)\\\" style=\\\"stroke:#e26f46; stroke-linecap:round; stroke-linejoin:round; stroke-width:4; stroke-opacity:1; fill:none\\\" points=\\\"1900.14,198.898 2045.06,198.898 \\\"\\/>\\n<path clip-path=\\\"url(#clip170)\\\" d=\\\"M2089.57 195.229 Q2091.16 192.358 2093.38 190.993 Q2095.61 189.627 2098.62 189.627 Q2102.67 189.627 2104.87 192.474 Q2107.07 195.298 2107.07 200.529 L2107.07 216.178 L2102.78 216.178 L2102.78 200.668 Q2102.78 196.942 2101.46 195.136 Q2100.14 193.33 2097.44 193.33 Q2094.13 193.33 2092.2 195.53 Q2090.28 197.729 2090.28 201.525 L2090.28 216.178 L2086 216.178 L2086 200.668 Q2086 196.918 2084.68 195.136 Q2083.36 193.33 2080.61 193.33 Q2077.34 193.33 2075.42 195.553 Q2073.5 197.752 2073.5 201.525 L2073.5 216.178 L2069.22 216.178 L2069.22 190.252 L2073.5 190.252 L2073.5 194.28 Q2074.96 191.895 2077 190.761 Q2079.03 189.627 2081.83 189.627 Q2084.66 189.627 2086.63 191.062 Q2088.62 192.497 2089.57 195.229 Z\\\" fill=\\\"#000000\\\" fill-rule=\\\"nonzero\\\" fill-opacity=\\\"1\\\" \\/><path clip-path=\\\"url(#clip170)\\\" d=\\\"M2137.11 190.252 L2127.74 202.867 L2137.6 216.178 L2132.57 216.178 L2125.03 205.992 L2117.48 216.178 L2112.46 216.178 L2122.53 202.613 L2113.32 190.252 L2118.34 190.252 L2125.21 199.488 L2132.09 190.252 L2137.11 190.252 Z\\\" fill=\\\"#000000\\\" fill-rule=\\\"nonzero\\\" fill-opacity=\\\"1\\\" \\/><path clip-path=\\\"url(#clip170)\\\" d=\\\"M2165.17 200.529 L2165.17 216.178 L2160.91 216.178 L2160.91 200.668 Q2160.91 196.988 2159.47 195.159 Q2158.04 193.33 2155.17 193.33 Q2151.72 193.33 2149.73 195.53 Q2147.74 197.729 2147.74 201.525 L2147.74 216.178 L2143.45 216.178 L2143.45 180.159 L2147.74 180.159 L2147.74 194.28 Q2149.26 191.942 2151.32 190.784 Q2153.41 189.627 2156.12 189.627 Q2160.58 189.627 2162.88 192.405 Q2165.17 195.159 2165.17 200.529 Z\\\" fill=\\\"#000000\\\" fill-rule=\\\"nonzero\\\" fill-opacity=\\\"1\\\" \\/><\\/svg>\\n\"},\"nodeType\":\"DOM\",\"type\":\"node\",\"instanceArgs\":{\"namespace\":\"html\",\"tag\":\"div\"},\"children\":[]}]}}}},\"children\":[{\"props\":{},\"nodeType\":\"ObservableNode\",\"type\":\"node\",\"instanceArgs\":{\"id\":\"112\",\"name\":\"obs-node\"},\"children\":[]}]}]},\n",
       "        window,\n",
       "    );\n",
       "    })()\n",
       "    </script>\n",
       "</div>\n"
      ],
      "text/plain": [
       "WebIO.Node{WebIO.DOM}(WebIO.DOM(:html, :div), Any[WebIO.Node{WebIO.DOM}(WebIO.DOM(:html, :div), Any[WebIO.Scope(WebIO.Node{WebIO.DOM}(WebIO.DOM(:html, :div), Any[WebIO.Node{WebIO.DOM}(WebIO.DOM(:html, :div), Any[WebIO.Node{WebIO.DOM}(WebIO.DOM(:html, :label), Any[\"mhx_order\"], Dict{Symbol, Any}(:className => \"interact \", :style => Dict{Any, Any}(:padding => \"5px 10px 0px 10px\")))], Dict{Symbol, Any}(:className => \"interact-flex-row-left\")), WebIO.Node{WebIO.DOM}(WebIO.DOM(:html, :div), Any[WebIO.Node{WebIO.DOM}(WebIO.DOM(:html, :input), Any[], Dict{Symbol, Any}(:max => 10, :min => 0, :attributes => Dict{Any, Any}(:type => \"range\", Symbol(\"data-bind\") => \"numericValue: index, valueUpdate: 'input', event: {change: function (){this.changes(this.changes()+1)}}\", \"orient\" => \"horizontal\"), :step => 1, :className => \"slider slider is-fullwidth\", :style => Dict{Any, Any}()))], Dict{Symbol, Any}(:className => \"interact-flex-row-center\")), WebIO.Node{WebIO.DOM}(WebIO.DOM(:html, :div), Any[WebIO.Node{WebIO.DOM}(WebIO.DOM(:html, :p), Any[], Dict{Symbol, Any}(:attributes => Dict(\"data-bind\" => \"text: formatted_val\")))], Dict{Symbol, Any}(:className => \"interact-flex-row-right\"))], Dict{Symbol, Any}(:className => \"interact-flex-row interact-widget\")), Dict{String, Tuple{Observables.AbstractObservable, Union{Nothing, Bool}}}(\"changes\" => (Observable(0), nothing), \"index\" => (Observable(5), nothing)), Set{String}(), nothing, WebIO.Asset[WebIO.Asset(\"js\", \"knockout\", \"/Users/meneghini/.julia/packages/Knockout/HReiN/src/../assets/knockout.js\"), WebIO.Asset(\"js\", \"knockout_punches\", \"/Users/meneghini/.julia/packages/Knockout/HReiN/src/../assets/knockout_punches.js\"), WebIO.Asset(\"js\", nothing, \"/Users/meneghini/.julia/packages/InteractBase/LJXv3/src/../assets/all.js\"), WebIO.Asset(\"css\", nothing, \"/Users/meneghini/.julia/packages/InteractBase/LJXv3/src/../assets/style.css\"), WebIO.Asset(\"css\", nothing, \"/Users/meneghini/.julia/packages/Interact/PENUy/src/../assets/bulma_confined.min.css\")], Dict{Any, Any}(\"changes\" => Any[WebIO.JSString(\"(function (val){return (val!=this.model[\\\"changes\\\"]()) ? (this.valueFromJulia[\\\"changes\\\"]=true, this.model[\\\"changes\\\"](val)) : undefined})\")], \"index\" => Any[WebIO.JSString(\"(function (val){return (val!=this.model[\\\"index\\\"]()) ? (this.valueFromJulia[\\\"index\\\"]=true, this.model[\\\"index\\\"](val)) : undefined})\")]), WebIO.ConnectionPool(Channel{Any}(32), Set{WebIO.AbstractConnection}(), Base.GenericCondition{ReentrantLock}(Base.IntrusiveLinkedList{Task}(Task (runnable) @0x00000002a88ae270, Task (runnable) @0x00000002a88ae270), ReentrantLock(nothing, 0x00000000, 0x00, Base.GenericCondition{Base.Threads.SpinLock}(Base.IntrusiveLinkedList{Task}(nothing, nothing), Base.Threads.SpinLock(0)), (8, 4362076160, 0)))), WebIO.JSString[WebIO.JSString(\"function () {\\n    var handler = (function (ko, koPunches) {\\n    ko.punches.enableAll();\\n    ko.bindingHandlers.numericValue = {\\n        init: function(element, valueAccessor, allBindings, data, context) {\\n            var stringified = ko.observable(ko.unwrap(valueAccessor()));\\n            stringified.subscribe(function(value) {\\n                var val = parseFloat(value);\\n                if (!isNaN(val)) {\\n                    valueAccessor()(val);\\n                }\\n            });\\n            valueAccessor().subscribe(function(value) {\\n                var str = JSON.stringify(value);\\n                if ((str == \\\"0\\\") && ([\\\"-0\\\", \\\"-0.\\\"].indexOf(stringified()) >= 0))\\n                     return;\\n                 if ([\\\"null\\\", \\\"\\\"].indexOf(str) >= 0)\\n                     return;\\n                stringified(str);\\n            });\\n            ko.applyBindingsToNode(\\n                element,\\n                {\\n                    value: stringified,\\n                    valueUpdate: allBindings.get('valueUpdate'),\\n                },\\n                context,\\n            );\\n        }\\n    };\\n    var json_data = {\\\"formatted_vals\\\":[\\\"0\\\",\\\"1\\\",\\\"2\\\",\\\"3\\\",\\\"4\\\",\\\"5\\\",\\\"6\\\",\\\"7\\\",\\\"8\\\",\\\"9\\\",\\\"10\\\"],\\\"changes\\\":WebIO.getval({\\\"name\\\":\\\"changes\\\",\\\"scope\\\":\\\"13492934637759783611\\\",\\\"id\\\":\\\"78\\\",\\\"type\\\":\\\"observable\\\"}),\\\"index\\\":WebIO.getval({\\\"name\\\":\\\"index\\\",\\\"scope\\\":\\\"13492934637759783611\\\",\\\"id\\\":\\\"77\\\",\\\"type\\\":\\\"observable\\\"})};\\n    var self = this;\\n    function AppViewModel() {\\n        for (var key in json_data) {\\n            var el = json_data[key];\\n            this[key] = Array.isArray(el) ? ko.observableArray(el) : ko.observable(el);\\n        }\\n        \\n        [this[\\\"formatted_val\\\"]=ko.computed(    function(){\\n        return this.formatted_vals()[parseInt(this.index())-(0)];\\n    }\\n,this)]\\n        [this[\\\"changes\\\"].subscribe((function (val){!(this.valueFromJulia[\\\"changes\\\"]) ? (WebIO.setval({\\\"name\\\":\\\"changes\\\",\\\"scope\\\":\\\"13492934637759783611\\\",\\\"id\\\":\\\"78\\\",\\\"type\\\":\\\"observable\\\"},val)) : undefined; return this.valueFromJulia[\\\"changes\\\"]=false}),self),this[\\\"index\\\"].subscribe((function (val){!(this.valueFromJulia[\\\"index\\\"]) ? (WebIO.setval({\\\"name\\\":\\\"index\\\",\\\"scope\\\":\\\"13492934637759783611\\\",\\\"id\\\":\\\"77\\\",\\\"type\\\":\\\"observable\\\"},val)) : undefined; return this.valueFromJulia[\\\"index\\\"]=false}),self)]\\n        \\n    }\\n    self.model = new AppViewModel();\\n    self.valueFromJulia = {};\\n    for (var key in json_data) {\\n        self.valueFromJulia[key] = false;\\n    }\\n    ko.applyBindings(self.model, self.dom);\\n}\\n);\\n    (WebIO.importBlock({\\\"data\\\":[{\\\"name\\\":\\\"knockout\\\",\\\"type\\\":\\\"js\\\",\\\"url\\\":\\\"/assetserver/46fa30269326aba23141c18b17d8ce39cc329be8-knockout.js\\\"},{\\\"name\\\":\\\"knockout_punches\\\",\\\"type\\\":\\\"js\\\",\\\"url\\\":\\\"/assetserver/785cf23779dbf5e70842ccdb713d3ca9d688333f-knockout_punches.js\\\"}],\\\"type\\\":\\\"async_block\\\"})).then((imports) => handler.apply(this, imports));\\n}\\n\")])], Dict{Symbol, Any}(:className => \"field interact-widget\")), WebIO.Node{WebIO.DOM}(WebIO.DOM(:html, :div), Any[WebIO.Scope(WebIO.Node{WebIO.DOM}(WebIO.DOM(:html, :div), Any[WebIO.Node{WebIO.DOM}(WebIO.DOM(:html, :div), Any[WebIO.Node{WebIO.DOM}(WebIO.DOM(:html, :label), Any[\"a\"], Dict{Symbol, Any}(:className => \"interact \", :style => Dict{Any, Any}(:padding => \"5px 10px 0px 10px\")))], Dict{Symbol, Any}(:className => \"interact-flex-row-left\")), WebIO.Node{WebIO.DOM}(WebIO.DOM(:html, :div), Any[WebIO.Node{WebIO.DOM}(WebIO.DOM(:html, :input), Any[], Dict{Symbol, Any}(:max => 101, :min => 1, :attributes => Dict{Any, Any}(:type => \"range\", Symbol(\"data-bind\") => \"numericValue: index, valueUpdate: 'input', event: {change: function (){this.changes(this.changes()+1)}}\", \"orient\" => \"horizontal\"), :step => 1, :className => \"slider slider is-fullwidth\", :style => Dict{Any, Any}()))], Dict{Symbol, Any}(:className => \"interact-flex-row-center\")), WebIO.Node{WebIO.DOM}(WebIO.DOM(:html, :div), Any[WebIO.Node{WebIO.DOM}(WebIO.DOM(:html, :p), Any[], Dict{Symbol, Any}(:attributes => Dict(\"data-bind\" => \"text: formatted_val\")))], Dict{Symbol, Any}(:className => \"interact-flex-row-right\"))], Dict{Symbol, Any}(:className => \"interact-flex-row interact-widget\")), Dict{String, Tuple{Observables.AbstractObservable, Union{Nothing, Bool}}}(\"changes\" => (Observable(0), nothing), \"index\" => (Observable{Any}(51), nothing)), Set{String}(), nothing, WebIO.Asset[WebIO.Asset(\"js\", \"knockout\", \"/Users/meneghini/.julia/packages/Knockout/HReiN/src/../assets/knockout.js\"), WebIO.Asset(\"js\", \"knockout_punches\", \"/Users/meneghini/.julia/packages/Knockout/HReiN/src/../assets/knockout_punches.js\"), WebIO.Asset(\"js\", nothing, \"/Users/meneghini/.julia/packages/InteractBase/LJXv3/src/../assets/all.js\"), WebIO.Asset(\"css\", nothing, \"/Users/meneghini/.julia/packages/InteractBase/LJXv3/src/../assets/style.css\"), WebIO.Asset(\"css\", nothing, \"/Users/meneghini/.julia/packages/Interact/PENUy/src/../assets/bulma_confined.min.css\")], Dict{Any, Any}(\"changes\" => Any[WebIO.JSString(\"(function (val){return (val!=this.model[\\\"changes\\\"]()) ? (this.valueFromJulia[\\\"changes\\\"]=true, this.model[\\\"changes\\\"](val)) : undefined})\")], \"index\" => Any[WebIO.JSString(\"(function (val){return (val!=this.model[\\\"index\\\"]()) ? (this.valueFromJulia[\\\"index\\\"]=true, this.model[\\\"index\\\"](val)) : undefined})\")]), WebIO.ConnectionPool(Channel{Any}(32), Set{WebIO.AbstractConnection}(), Base.GenericCondition{ReentrantLock}(Base.IntrusiveLinkedList{Task}(Task (runnable) @0x00000002a89bcc90, Task (runnable) @0x00000002a89bcc90), ReentrantLock(nothing, 0x00000000, 0x00, Base.GenericCondition{Base.Threads.SpinLock}(Base.IntrusiveLinkedList{Task}(nothing, nothing), Base.Threads.SpinLock(0)), (11196575584, 5461402240, 5467882192)))), WebIO.JSString[WebIO.JSString(\"function () {\\n    var handler = (function (ko, koPunches) {\\n    ko.punches.enableAll();\\n    ko.bindingHandlers.numericValue = {\\n        init: function(element, valueAccessor, allBindings, data, context) {\\n            var stringified = ko.observable(ko.unwrap(valueAccessor()));\\n            stringified.subscribe(function(value) {\\n                var val = parseFloat(value);\\n                if (!isNaN(val)) {\\n                    valueAccessor()(val);\\n                }\\n            });\\n            valueAccessor().subscribe(function(value) {\\n                var str = JSON.stringify(value);\\n                if ((str == \\\"0\\\") && ([\\\"-0\\\", \\\"-0.\\\"].indexOf(stringified()) >= 0))\\n                     return;\\n                 if ([\\\"null\\\", \\\"\\\"].indexOf(str) >= 0)\\n                     return;\\n                stringified(str);\\n            });\\n            ko.applyBindingsToNode(\\n                element,\\n                {\\n                    value: stringified,\\n                    valueUpdate: allBindings.get('valueUpdate'),\\n                },\\n                context,\\n            );\\n        }\\n    };\\n    var json_data = {\\\"formatted_vals\\\":[\\\"0.1\\\",\\\"0.199\\\",\\\"0.298\\\",\\\"0.397\\\",\\\"0.496\\\",\\\"0.595\\\",\\\"0.694\\\",\\\"0.793\\\",\\\"0.892\\\",\\\"0.991\\\",\\\"1.09\\\",\\\"1.189\\\",\\\"1.288\\\",\\\"1.387\\\",\\\"1.486\\\",\\\"1.585\\\",\\\"1.684\\\",\\\"1.783\\\",\\\"1.882\\\",\\\"1.981\\\",\\\"2.08\\\",\\\"2.179\\\",\\\"2.278\\\",\\\"2.377\\\",\\\"2.476\\\",\\\"2.575\\\",\\\"2.674\\\",\\\"2.773\\\",\\\"2.872\\\",\\\"2.971\\\",\\\"3.07\\\",\\\"3.169\\\",\\\"3.268\\\",\\\"3.367\\\",\\\"3.466\\\",\\\"3.565\\\",\\\"3.664\\\",\\\"3.763\\\",\\\"3.862\\\",\\\"3.961\\\",\\\"4.06\\\",\\\"4.159\\\",\\\"4.258\\\",\\\"4.357\\\",\\\"4.456\\\",\\\"4.555\\\",\\\"4.654\\\",\\\"4.753\\\",\\\"4.852\\\",\\\"4.951\\\",\\\"5.05\\\",\\\"5.149\\\",\\\"5.248\\\",\\\"5.347\\\",\\\"5.446\\\",\\\"5.545\\\",\\\"5.644\\\",\\\"5.743\\\",\\\"5.842\\\",\\\"5.941\\\",\\\"6.04\\\",\\\"6.139\\\",\\\"6.238\\\",\\\"6.337\\\",\\\"6.436\\\",\\\"6.535\\\",\\\"6.634\\\",\\\"6.733\\\",\\\"6.832\\\",\\\"6.931\\\",\\\"7.03\\\",\\\"7.129\\\",\\\"7.228\\\",\\\"7.327\\\",\\\"7.426\\\",\\\"7.525\\\",\\\"7.624\\\",\\\"7.723\\\",\\\"7.822\\\",\\\"7.921\\\",\\\"8.02\\\",\\\"8.119\\\",\\\"8.218\\\",\\\"8.317\\\",\\\"8.416\\\",\\\"8.515\\\",\\\"8.614\\\",\\\"8.713\\\",\\\"8.812\\\",\\\"8.911\\\",\\\"9.01\\\",\\\"9.109\\\",\\\"9.208\\\",\\\"9.307\\\",\\\"9.406\\\",\\\"9.505\\\",\\\"9.604\\\",\\\"9.703\\\",\\\"9.802\\\",\\\"9.901\\\",\\\"10.0\\\"],\\\"changes\\\":WebIO.getval({\\\"name\\\":\\\"changes\\\",\\\"scope\\\":\\\"8706665360527482571\\\",\\\"id\\\":\\\"81\\\",\\\"type\\\":\\\"observable\\\"}),\\\"index\\\":WebIO.getval({\\\"name\\\":\\\"index\\\",\\\"scope\\\":\\\"8706665360527482571\\\",\\\"id\\\":\\\"80\\\",\\\"type\\\":\\\"observable\\\"})};\\n    var self = this;\\n    function AppViewModel() {\\n        for (var key in json_data) {\\n            var el = json_data[key];\\n            this[key] = Array.isArray(el) ? ko.observableArray(el) : ko.observable(el);\\n        }\\n        \\n        [this[\\\"formatted_val\\\"]=ko.computed(    function(){\\n        return this.formatted_vals()[parseInt(this.index())-(1)];\\n    }\\n,this)]\\n        [this[\\\"changes\\\"].subscribe((function (val){!(this.valueFromJulia[\\\"changes\\\"]) ? (WebIO.setval({\\\"name\\\":\\\"changes\\\",\\\"scope\\\":\\\"8706665360527482571\\\",\\\"id\\\":\\\"81\\\",\\\"type\\\":\\\"observable\\\"},val)) : undefined; return this.valueFromJulia[\\\"changes\\\"]=false}),self),this[\\\"index\\\"].subscribe((function (val){!(this.valueFromJulia[\\\"index\\\"]) ? (WebIO.setval({\\\"name\\\":\\\"index\\\",\\\"scope\\\":\\\"8706665360527482571\\\",\\\"id\\\":\\\"80\\\",\\\"type\\\":\\\"observable\\\"},val)) : undefined; return this.valueFromJulia[\\\"index\\\"]=false}),self)]\\n        \\n    }\\n    self.model = new AppViewModel();\\n    self.valueFromJulia = {};\\n    for (var key in json_data) {\\n        self.valueFromJulia[key] = false;\\n    }\\n    ko.applyBindings(self.model, self.dom);\\n}\\n);\\n    (WebIO.importBlock({\\\"data\\\":[{\\\"name\\\":\\\"knockout\\\",\\\"type\\\":\\\"js\\\",\\\"url\\\":\\\"/assetserver/46fa30269326aba23141c18b17d8ce39cc329be8-knockout.js\\\"},{\\\"name\\\":\\\"knockout_punches\\\",\\\"type\\\":\\\"js\\\",\\\"url\\\":\\\"/assetserver/785cf23779dbf5e70842ccdb713d3ca9d688333f-knockout_punches.js\\\"}],\\\"type\\\":\\\"async_block\\\"})).then((imports) => handler.apply(this, imports));\\n}\\n\")])], Dict{Symbol, Any}(:className => \"field interact-widget\")), WebIO.Node{WebIO.DOM}(WebIO.DOM(:html, :div), Any[WebIO.Scope(WebIO.Node{WebIO.DOM}(WebIO.DOM(:html, :div), Any[WebIO.Node{WebIO.DOM}(WebIO.DOM(:html, :div), Any[WebIO.Node{WebIO.DOM}(WebIO.DOM(:html, :label), Any[\"eps\"], Dict{Symbol, Any}(:className => \"interact \", :style => Dict{Any, Any}(:padding => \"5px 10px 0px 10px\")))], Dict{Symbol, Any}(:className => \"interact-flex-row-left\")), WebIO.Node{WebIO.DOM}(WebIO.DOM(:html, :div), Any[WebIO.Node{WebIO.DOM}(WebIO.DOM(:html, :input), Any[], Dict{Symbol, Any}(:max => 101, :min => 1, :attributes => Dict{Any, Any}(:type => \"range\", Symbol(\"data-bind\") => \"numericValue: index, valueUpdate: 'input', event: {change: function (){this.changes(this.changes()+1)}}\", \"orient\" => \"horizontal\"), :step => 1, :className => \"slider slider is-fullwidth\", :style => Dict{Any, Any}()))], Dict{Symbol, Any}(:className => \"interact-flex-row-center\")), WebIO.Node{WebIO.DOM}(WebIO.DOM(:html, :div), Any[WebIO.Node{WebIO.DOM}(WebIO.DOM(:html, :p), Any[], Dict{Symbol, Any}(:attributes => Dict(\"data-bind\" => \"text: formatted_val\")))], Dict{Symbol, Any}(:className => \"interact-flex-row-right\"))], Dict{Symbol, Any}(:className => \"interact-flex-row interact-widget\")), Dict{String, Tuple{Observables.AbstractObservable, Union{Nothing, Bool}}}(\"changes\" => (Observable(0), nothing), \"index\" => (Observable{Any}(51), nothing)), Set{String}(), nothing, WebIO.Asset[WebIO.Asset(\"js\", \"knockout\", \"/Users/meneghini/.julia/packages/Knockout/HReiN/src/../assets/knockout.js\"), WebIO.Asset(\"js\", \"knockout_punches\", \"/Users/meneghini/.julia/packages/Knockout/HReiN/src/../assets/knockout_punches.js\"), WebIO.Asset(\"js\", nothing, \"/Users/meneghini/.julia/packages/InteractBase/LJXv3/src/../assets/all.js\"), WebIO.Asset(\"css\", nothing, \"/Users/meneghini/.julia/packages/InteractBase/LJXv3/src/../assets/style.css\"), WebIO.Asset(\"css\", nothing, \"/Users/meneghini/.julia/packages/Interact/PENUy/src/../assets/bulma_confined.min.css\")], Dict{Any, Any}(\"changes\" => Any[WebIO.JSString(\"(function (val){return (val!=this.model[\\\"changes\\\"]()) ? (this.valueFromJulia[\\\"changes\\\"]=true, this.model[\\\"changes\\\"](val)) : undefined})\")], \"index\" => Any[WebIO.JSString(\"(function (val){return (val!=this.model[\\\"index\\\"]()) ? (this.valueFromJulia[\\\"index\\\"]=true, this.model[\\\"index\\\"](val)) : undefined})\")]), WebIO.ConnectionPool(Channel{Any}(32), Set{WebIO.AbstractConnection}(), Base.GenericCondition{ReentrantLock}(Base.IntrusiveLinkedList{Task}(Task (runnable) @0x00000002a89bf6c0, Task (runnable) @0x00000002a89bf6c0), ReentrantLock(nothing, 0x00000000, 0x00, Base.GenericCondition{Base.Threads.SpinLock}(Base.IntrusiveLinkedList{Task}(nothing, nothing), Base.Threads.SpinLock(0)), (8, 11468085008, -4743607531501415645)))), WebIO.JSString[WebIO.JSString(\"function () {\\n    var handler = (function (ko, koPunches) {\\n    ko.punches.enableAll();\\n    ko.bindingHandlers.numericValue = {\\n        init: function(element, valueAccessor, allBindings, data, context) {\\n            var stringified = ko.observable(ko.unwrap(valueAccessor()));\\n            stringified.subscribe(function(value) {\\n                var val = parseFloat(value);\\n                if (!isNaN(val)) {\\n                    valueAccessor()(val);\\n                }\\n            });\\n            valueAccessor().subscribe(function(value) {\\n                var str = JSON.stringify(value);\\n                if ((str == \\\"0\\\") && ([\\\"-0\\\", \\\"-0.\\\"].indexOf(stringified()) >= 0))\\n                     return;\\n                 if ([\\\"null\\\", \\\"\\\"].indexOf(str) >= 0)\\n                     return;\\n                stringified(str);\\n            });\\n            ko.applyBindingsToNode(\\n                element,\\n                {\\n                    value: stringified,\\n                    valueUpdate: allBindings.get('valueUpdate'),\\n                },\\n                context,\\n            );\\n        }\\n    };\\n    var json_data = {\\\"formatted_vals\\\":[\\\"0.1\\\",\\\"0.109\\\",\\\"0.118\\\",\\\"0.127\\\",\\\"0.136\\\",\\\"0.145\\\",\\\"0.154\\\",\\\"0.163\\\",\\\"0.172\\\",\\\"0.181\\\",\\\"0.19\\\",\\\"0.199\\\",\\\"0.208\\\",\\\"0.217\\\",\\\"0.226\\\",\\\"0.235\\\",\\\"0.244\\\",\\\"0.253\\\",\\\"0.262\\\",\\\"0.271\\\",\\\"0.28\\\",\\\"0.289\\\",\\\"0.298\\\",\\\"0.307\\\",\\\"0.316\\\",\\\"0.325\\\",\\\"0.334\\\",\\\"0.343\\\",\\\"0.352\\\",\\\"0.361\\\",\\\"0.37\\\",\\\"0.379\\\",\\\"0.388\\\",\\\"0.397\\\",\\\"0.406\\\",\\\"0.415\\\",\\\"0.424\\\",\\\"0.433\\\",\\\"0.442\\\",\\\"0.451\\\",\\\"0.46\\\",\\\"0.469\\\",\\\"0.478\\\",\\\"0.487\\\",\\\"0.496\\\",\\\"0.505\\\",\\\"0.514\\\",\\\"0.523\\\",\\\"0.532\\\",\\\"0.541\\\",\\\"0.55\\\",\\\"0.559\\\",\\\"0.568\\\",\\\"0.577\\\",\\\"0.586\\\",\\\"0.595\\\",\\\"0.604\\\",\\\"0.613\\\",\\\"0.622\\\",\\\"0.631\\\",\\\"0.64\\\",\\\"0.649\\\",\\\"0.658\\\",\\\"0.667\\\",\\\"0.676\\\",\\\"0.685\\\",\\\"0.694\\\",\\\"0.703\\\",\\\"0.712\\\",\\\"0.721\\\",\\\"0.73\\\",\\\"0.739\\\",\\\"0.748\\\",\\\"0.757\\\",\\\"0.766\\\",\\\"0.775\\\",\\\"0.784\\\",\\\"0.793\\\",\\\"0.802\\\",\\\"0.811\\\",\\\"0.82\\\",\\\"0.829\\\",\\\"0.838\\\",\\\"0.847\\\",\\\"0.856\\\",\\\"0.865\\\",\\\"0.874\\\",\\\"0.883\\\",\\\"0.892\\\",\\\"0.901\\\",\\\"0.91\\\",\\\"0.919\\\",\\\"0.928\\\",\\\"0.937\\\",\\\"0.946\\\",\\\"0.955\\\",\\\"0.964\\\",\\\"0.973\\\",\\\"0.982\\\",\\\"0.991\\\",\\\"1.0\\\"],\\\"changes\\\":WebIO.getval({\\\"name\\\":\\\"changes\\\",\\\"scope\\\":\\\"7279357118624457334\\\",\\\"id\\\":\\\"84\\\",\\\"type\\\":\\\"observable\\\"}),\\\"index\\\":WebIO.getval({\\\"name\\\":\\\"index\\\",\\\"scope\\\":\\\"7279357118624457334\\\",\\\"id\\\":\\\"83\\\",\\\"type\\\":\\\"observable\\\"})};\\n    var self = this;\\n    function AppViewModel() {\\n        for (var key in json_data) {\\n            var el = json_data[key];\\n            this[key] = Array.isArray(el) ? ko.observableArray(el) : ko.observable(el);\\n        }\\n        \\n        [this[\\\"formatted_val\\\"]=ko.computed(    function(){\\n        return this.formatted_vals()[parseInt(this.index())-(1)];\\n    }\\n,this)]\\n        [this[\\\"changes\\\"].subscribe((function (val){!(this.valueFromJulia[\\\"changes\\\"]) ? (WebIO.setval({\\\"name\\\":\\\"changes\\\",\\\"scope\\\":\\\"7279357118624457334\\\",\\\"id\\\":\\\"84\\\",\\\"type\\\":\\\"observable\\\"},val)) : undefined; return this.valueFromJulia[\\\"changes\\\"]=false}),self),this[\\\"index\\\"].subscribe((function (val){!(this.valueFromJulia[\\\"index\\\"]) ? (WebIO.setval({\\\"name\\\":\\\"index\\\",\\\"scope\\\":\\\"7279357118624457334\\\",\\\"id\\\":\\\"83\\\",\\\"type\\\":\\\"observable\\\"},val)) : undefined; return this.valueFromJulia[\\\"index\\\"]=false}),self)]\\n        \\n    }\\n    self.model = new AppViewModel();\\n    self.valueFromJulia = {};\\n    for (var key in json_data) {\\n        self.valueFromJulia[key] = false;\\n    }\\n    ko.applyBindings(self.model, self.dom);\\n}\\n);\\n    (WebIO.importBlock({\\\"data\\\":[{\\\"name\\\":\\\"knockout\\\",\\\"type\\\":\\\"js\\\",\\\"url\\\":\\\"/assetserver/46fa30269326aba23141c18b17d8ce39cc329be8-knockout.js\\\"},{\\\"name\\\":\\\"knockout_punches\\\",\\\"type\\\":\\\"js\\\",\\\"url\\\":\\\"/assetserver/785cf23779dbf5e70842ccdb713d3ca9d688333f-knockout_punches.js\\\"}],\\\"type\\\":\\\"async_block\\\"})).then((imports) => handler.apply(this, imports));\\n}\\n\")])], Dict{Symbol, Any}(:className => \"field interact-widget\")), WebIO.Node{WebIO.DOM}(WebIO.DOM(:html, :div), Any[WebIO.Scope(WebIO.Node{WebIO.DOM}(WebIO.DOM(:html, :div), Any[WebIO.Node{WebIO.DOM}(WebIO.DOM(:html, :div), Any[WebIO.Node{WebIO.DOM}(WebIO.DOM(:html, :label), Any[\"kapu\"], Dict{Symbol, Any}(:className => \"interact \", :style => Dict{Any, Any}(:padding => \"5px 10px 0px 10px\")))], Dict{Symbol, Any}(:className => \"interact-flex-row-left\")), WebIO.Node{WebIO.DOM}(WebIO.DOM(:html, :div), Any[WebIO.Node{WebIO.DOM}(WebIO.DOM(:html, :input), Any[], Dict{Symbol, Any}(:max => 101, :min => 1, :attributes => Dict{Any, Any}(:type => \"range\", Symbol(\"data-bind\") => \"numericValue: index, valueUpdate: 'input', event: {change: function (){this.changes(this.changes()+1)}}\", \"orient\" => \"horizontal\"), :step => 1, :className => \"slider slider is-fullwidth\", :style => Dict{Any, Any}()))], Dict{Symbol, Any}(:className => \"interact-flex-row-center\")), WebIO.Node{WebIO.DOM}(WebIO.DOM(:html, :div), Any[WebIO.Node{WebIO.DOM}(WebIO.DOM(:html, :p), Any[], Dict{Symbol, Any}(:attributes => Dict(\"data-bind\" => \"text: formatted_val\")))], Dict{Symbol, Any}(:className => \"interact-flex-row-right\"))], Dict{Symbol, Any}(:className => \"interact-flex-row interact-widget\")), Dict{String, Tuple{Observables.AbstractObservable, Union{Nothing, Bool}}}(\"changes\" => (Observable(0), nothing), \"index\" => (Observable{Any}(51), nothing)), Set{String}(), nothing, WebIO.Asset[WebIO.Asset(\"js\", \"knockout\", \"/Users/meneghini/.julia/packages/Knockout/HReiN/src/../assets/knockout.js\"), WebIO.Asset(\"js\", \"knockout_punches\", \"/Users/meneghini/.julia/packages/Knockout/HReiN/src/../assets/knockout_punches.js\"), WebIO.Asset(\"js\", nothing, \"/Users/meneghini/.julia/packages/InteractBase/LJXv3/src/../assets/all.js\"), WebIO.Asset(\"css\", nothing, \"/Users/meneghini/.julia/packages/InteractBase/LJXv3/src/../assets/style.css\"), WebIO.Asset(\"css\", nothing, \"/Users/meneghini/.julia/packages/Interact/PENUy/src/../assets/bulma_confined.min.css\")], Dict{Any, Any}(\"changes\" => Any[WebIO.JSString(\"(function (val){return (val!=this.model[\\\"changes\\\"]()) ? (this.valueFromJulia[\\\"changes\\\"]=true, this.model[\\\"changes\\\"](val)) : undefined})\")], \"index\" => Any[WebIO.JSString(\"(function (val){return (val!=this.model[\\\"index\\\"]()) ? (this.valueFromJulia[\\\"index\\\"]=true, this.model[\\\"index\\\"](val)) : undefined})\")]), WebIO.ConnectionPool(Channel{Any}(32), Set{WebIO.AbstractConnection}(), Base.GenericCondition{ReentrantLock}(Base.IntrusiveLinkedList{Task}(Task (runnable) @0x00000002a92a60e0, Task (runnable) @0x00000002a92a60e0), ReentrantLock(nothing, 0x00000000, 0x00, Base.GenericCondition{Base.Threads.SpinLock}(Base.IntrusiveLinkedList{Task}(nothing, nothing), Base.Threads.SpinLock(0)), (8, 11653977136, -4584336455491112410)))), WebIO.JSString[WebIO.JSString(\"function () {\\n    var handler = (function (ko, koPunches) {\\n    ko.punches.enableAll();\\n    ko.bindingHandlers.numericValue = {\\n        init: function(element, valueAccessor, allBindings, data, context) {\\n            var stringified = ko.observable(ko.unwrap(valueAccessor()));\\n            stringified.subscribe(function(value) {\\n                var val = parseFloat(value);\\n                if (!isNaN(val)) {\\n                    valueAccessor()(val);\\n                }\\n            });\\n            valueAccessor().subscribe(function(value) {\\n                var str = JSON.stringify(value);\\n                if ((str == \\\"0\\\") && ([\\\"-0\\\", \\\"-0.\\\"].indexOf(stringified()) >= 0))\\n                     return;\\n                 if ([\\\"null\\\", \\\"\\\"].indexOf(str) >= 0)\\n                     return;\\n                stringified(str);\\n            });\\n            ko.applyBindingsToNode(\\n                element,\\n                {\\n                    value: stringified,\\n                    valueUpdate: allBindings.get('valueUpdate'),\\n                },\\n                context,\\n            );\\n        }\\n    };\\n    var json_data = {\\\"formatted_vals\\\":[\\\"1.0\\\",\\\"1.02\\\",\\\"1.04\\\",\\\"1.06\\\",\\\"1.08\\\",\\\"1.1\\\",\\\"1.12\\\",\\\"1.14\\\",\\\"1.16\\\",\\\"1.18\\\",\\\"1.2\\\",\\\"1.22\\\",\\\"1.24\\\",\\\"1.26\\\",\\\"1.28\\\",\\\"1.3\\\",\\\"1.32\\\",\\\"1.34\\\",\\\"1.36\\\",\\\"1.38\\\",\\\"1.4\\\",\\\"1.42\\\",\\\"1.44\\\",\\\"1.46\\\",\\\"1.48\\\",\\\"1.5\\\",\\\"1.52\\\",\\\"1.54\\\",\\\"1.56\\\",\\\"1.58\\\",\\\"1.6\\\",\\\"1.62\\\",\\\"1.64\\\",\\\"1.66\\\",\\\"1.68\\\",\\\"1.7\\\",\\\"1.72\\\",\\\"1.74\\\",\\\"1.76\\\",\\\"1.78\\\",\\\"1.8\\\",\\\"1.82\\\",\\\"1.84\\\",\\\"1.86\\\",\\\"1.88\\\",\\\"1.9\\\",\\\"1.92\\\",\\\"1.94\\\",\\\"1.96\\\",\\\"1.98\\\",\\\"2.0\\\",\\\"2.02\\\",\\\"2.04\\\",\\\"2.06\\\",\\\"2.08\\\",\\\"2.1\\\",\\\"2.12\\\",\\\"2.14\\\",\\\"2.16\\\",\\\"2.18\\\",\\\"2.2\\\",\\\"2.22\\\",\\\"2.24\\\",\\\"2.26\\\",\\\"2.28\\\",\\\"2.3\\\",\\\"2.32\\\",\\\"2.34\\\",\\\"2.36\\\",\\\"2.38\\\",\\\"2.4\\\",\\\"2.42\\\",\\\"2.44\\\",\\\"2.46\\\",\\\"2.48\\\",\\\"2.5\\\",\\\"2.52\\\",\\\"2.54\\\",\\\"2.56\\\",\\\"2.58\\\",\\\"2.6\\\",\\\"2.62\\\",\\\"2.64\\\",\\\"2.66\\\",\\\"2.68\\\",\\\"2.7\\\",\\\"2.72\\\",\\\"2.74\\\",\\\"2.76\\\",\\\"2.78\\\",\\\"2.8\\\",\\\"2.82\\\",\\\"2.84\\\",\\\"2.86\\\",\\\"2.88\\\",\\\"2.9\\\",\\\"2.92\\\",\\\"2.94\\\",\\\"2.96\\\",\\\"2.98\\\",\\\"3.0\\\"],\\\"changes\\\":WebIO.getval({\\\"name\\\":\\\"changes\\\",\\\"scope\\\":\\\"18191359397671757004\\\",\\\"id\\\":\\\"87\\\",\\\"type\\\":\\\"observable\\\"}),\\\"index\\\":WebIO.getval({\\\"name\\\":\\\"index\\\",\\\"scope\\\":\\\"18191359397671757004\\\",\\\"id\\\":\\\"86\\\",\\\"type\\\":\\\"observable\\\"})};\\n    var self = this;\\n    function AppViewModel() {\\n        for (var key in json_data) {\\n            var el = json_data[key];\\n            this[key] = Array.isArray(el) ? ko.observableArray(el) : ko.observable(el);\\n        }\\n        \\n        [this[\\\"formatted_val\\\"]=ko.computed(    function(){\\n        return this.formatted_vals()[parseInt(this.index())-(1)];\\n    }\\n,this)]\\n        [this[\\\"changes\\\"].subscribe((function (val){!(this.valueFromJulia[\\\"changes\\\"]) ? (WebIO.setval({\\\"name\\\":\\\"changes\\\",\\\"scope\\\":\\\"18191359397671757004\\\",\\\"id\\\":\\\"87\\\",\\\"type\\\":\\\"observable\\\"},val)) : undefined; return this.valueFromJulia[\\\"changes\\\"]=false}),self),this[\\\"index\\\"].subscribe((function (val){!(this.valueFromJulia[\\\"index\\\"]) ? (WebIO.setval({\\\"name\\\":\\\"index\\\",\\\"scope\\\":\\\"18191359397671757004\\\",\\\"id\\\":\\\"86\\\",\\\"type\\\":\\\"observable\\\"},val)) : undefined; return this.valueFromJulia[\\\"index\\\"]=false}),self)]\\n        \\n    }\\n    self.model = new AppViewModel();\\n    self.valueFromJulia = {};\\n    for (var key in json_data) {\\n        self.valueFromJulia[key] = false;\\n    }\\n    ko.applyBindings(self.model, self.dom);\\n}\\n);\\n    (WebIO.importBlock({\\\"data\\\":[{\\\"name\\\":\\\"knockout\\\",\\\"type\\\":\\\"js\\\",\\\"url\\\":\\\"/assetserver/46fa30269326aba23141c18b17d8ce39cc329be8-knockout.js\\\"},{\\\"name\\\":\\\"knockout_punches\\\",\\\"type\\\":\\\"js\\\",\\\"url\\\":\\\"/assetserver/785cf23779dbf5e70842ccdb713d3ca9d688333f-knockout_punches.js\\\"}],\\\"type\\\":\\\"async_block\\\"})).then((imports) => handler.apply(this, imports));\\n}\\n\")])], Dict{Symbol, Any}(:className => \"field interact-widget\")), WebIO.Node{WebIO.DOM}(WebIO.DOM(:html, :div), Any[WebIO.Scope(WebIO.Node{WebIO.DOM}(WebIO.DOM(:html, :div), Any[WebIO.Node{WebIO.DOM}(WebIO.DOM(:html, :div), Any[WebIO.Node{WebIO.DOM}(WebIO.DOM(:html, :label), Any[\"kapl\"], Dict{Symbol, Any}(:className => \"interact \", :style => Dict{Any, Any}(:padding => \"5px 10px 0px 10px\")))], Dict{Symbol, Any}(:className => \"interact-flex-row-left\")), WebIO.Node{WebIO.DOM}(WebIO.DOM(:html, :div), Any[WebIO.Node{WebIO.DOM}(WebIO.DOM(:html, :input), Any[], Dict{Symbol, Any}(:max => 101, :min => 1, :attributes => Dict{Any, Any}(:type => \"range\", Symbol(\"data-bind\") => \"numericValue: index, valueUpdate: 'input', event: {change: function (){this.changes(this.changes()+1)}}\", \"orient\" => \"horizontal\"), :step => 1, :className => \"slider slider is-fullwidth\", :style => Dict{Any, Any}()))], Dict{Symbol, Any}(:className => \"interact-flex-row-center\")), WebIO.Node{WebIO.DOM}(WebIO.DOM(:html, :div), Any[WebIO.Node{WebIO.DOM}(WebIO.DOM(:html, :p), Any[], Dict{Symbol, Any}(:attributes => Dict(\"data-bind\" => \"text: formatted_val\")))], Dict{Symbol, Any}(:className => \"interact-flex-row-right\"))], Dict{Symbol, Any}(:className => \"interact-flex-row interact-widget\")), Dict{String, Tuple{Observables.AbstractObservable, Union{Nothing, Bool}}}(\"changes\" => (Observable(0), nothing), \"index\" => (Observable{Any}(51), nothing)), Set{String}(), nothing, WebIO.Asset[WebIO.Asset(\"js\", \"knockout\", \"/Users/meneghini/.julia/packages/Knockout/HReiN/src/../assets/knockout.js\"), WebIO.Asset(\"js\", \"knockout_punches\", \"/Users/meneghini/.julia/packages/Knockout/HReiN/src/../assets/knockout_punches.js\"), WebIO.Asset(\"js\", nothing, \"/Users/meneghini/.julia/packages/InteractBase/LJXv3/src/../assets/all.js\"), WebIO.Asset(\"css\", nothing, \"/Users/meneghini/.julia/packages/InteractBase/LJXv3/src/../assets/style.css\"), WebIO.Asset(\"css\", nothing, \"/Users/meneghini/.julia/packages/Interact/PENUy/src/../assets/bulma_confined.min.css\")], Dict{Any, Any}(\"changes\" => Any[WebIO.JSString(\"(function (val){return (val!=this.model[\\\"changes\\\"]()) ? (this.valueFromJulia[\\\"changes\\\"]=true, this.model[\\\"changes\\\"](val)) : undefined})\")], \"index\" => Any[WebIO.JSString(\"(function (val){return (val!=this.model[\\\"index\\\"]()) ? (this.valueFromJulia[\\\"index\\\"]=true, this.model[\\\"index\\\"](val)) : undefined})\")]), WebIO.ConnectionPool(Channel{Any}(32), Set{WebIO.AbstractConnection}(), Base.GenericCondition{ReentrantLock}(Base.IntrusiveLinkedList{Task}(Task (runnable) @0x00000002a8f10c90, Task (runnable) @0x00000002a8f10c90), ReentrantLock(nothing, 0x00000000, 0x00, Base.GenericCondition{Base.Threads.SpinLock}(Base.IntrusiveLinkedList{Task}(nothing, nothing), Base.Threads.SpinLock(0)), (1, 1, 4622583621211776488)))), WebIO.JSString[WebIO.JSString(\"function () {\\n    var handler = (function (ko, koPunches) {\\n    ko.punches.enableAll();\\n    ko.bindingHandlers.numericValue = {\\n        init: function(element, valueAccessor, allBindings, data, context) {\\n            var stringified = ko.observable(ko.unwrap(valueAccessor()));\\n            stringified.subscribe(function(value) {\\n                var val = parseFloat(value);\\n                if (!isNaN(val)) {\\n                    valueAccessor()(val);\\n                }\\n            });\\n            valueAccessor().subscribe(function(value) {\\n                var str = JSON.stringify(value);\\n                if ((str == \\\"0\\\") && ([\\\"-0\\\", \\\"-0.\\\"].indexOf(stringified()) >= 0))\\n                     return;\\n                 if ([\\\"null\\\", \\\"\\\"].indexOf(str) >= 0)\\n                     return;\\n                stringified(str);\\n            });\\n            ko.applyBindingsToNode(\\n                element,\\n                {\\n                    value: stringified,\\n                    valueUpdate: allBindings.get('valueUpdate'),\\n                },\\n                context,\\n            );\\n        }\\n    };\\n    var json_data = {\\\"formatted_vals\\\":[\\\"1.0\\\",\\\"1.02\\\",\\\"1.04\\\",\\\"1.06\\\",\\\"1.08\\\",\\\"1.1\\\",\\\"1.12\\\",\\\"1.14\\\",\\\"1.16\\\",\\\"1.18\\\",\\\"1.2\\\",\\\"1.22\\\",\\\"1.24\\\",\\\"1.26\\\",\\\"1.28\\\",\\\"1.3\\\",\\\"1.32\\\",\\\"1.34\\\",\\\"1.36\\\",\\\"1.38\\\",\\\"1.4\\\",\\\"1.42\\\",\\\"1.44\\\",\\\"1.46\\\",\\\"1.48\\\",\\\"1.5\\\",\\\"1.52\\\",\\\"1.54\\\",\\\"1.56\\\",\\\"1.58\\\",\\\"1.6\\\",\\\"1.62\\\",\\\"1.64\\\",\\\"1.66\\\",\\\"1.68\\\",\\\"1.7\\\",\\\"1.72\\\",\\\"1.74\\\",\\\"1.76\\\",\\\"1.78\\\",\\\"1.8\\\",\\\"1.82\\\",\\\"1.84\\\",\\\"1.86\\\",\\\"1.88\\\",\\\"1.9\\\",\\\"1.92\\\",\\\"1.94\\\",\\\"1.96\\\",\\\"1.98\\\",\\\"2.0\\\",\\\"2.02\\\",\\\"2.04\\\",\\\"2.06\\\",\\\"2.08\\\",\\\"2.1\\\",\\\"2.12\\\",\\\"2.14\\\",\\\"2.16\\\",\\\"2.18\\\",\\\"2.2\\\",\\\"2.22\\\",\\\"2.24\\\",\\\"2.26\\\",\\\"2.28\\\",\\\"2.3\\\",\\\"2.32\\\",\\\"2.34\\\",\\\"2.36\\\",\\\"2.38\\\",\\\"2.4\\\",\\\"2.42\\\",\\\"2.44\\\",\\\"2.46\\\",\\\"2.48\\\",\\\"2.5\\\",\\\"2.52\\\",\\\"2.54\\\",\\\"2.56\\\",\\\"2.58\\\",\\\"2.6\\\",\\\"2.62\\\",\\\"2.64\\\",\\\"2.66\\\",\\\"2.68\\\",\\\"2.7\\\",\\\"2.72\\\",\\\"2.74\\\",\\\"2.76\\\",\\\"2.78\\\",\\\"2.8\\\",\\\"2.82\\\",\\\"2.84\\\",\\\"2.86\\\",\\\"2.88\\\",\\\"2.9\\\",\\\"2.92\\\",\\\"2.94\\\",\\\"2.96\\\",\\\"2.98\\\",\\\"3.0\\\"],\\\"changes\\\":WebIO.getval({\\\"name\\\":\\\"changes\\\",\\\"scope\\\":\\\"17688043797905672074\\\",\\\"id\\\":\\\"90\\\",\\\"type\\\":\\\"observable\\\"}),\\\"index\\\":WebIO.getval({\\\"name\\\":\\\"index\\\",\\\"scope\\\":\\\"17688043797905672074\\\",\\\"id\\\":\\\"89\\\",\\\"type\\\":\\\"observable\\\"})};\\n    var self = this;\\n    function AppViewModel() {\\n        for (var key in json_data) {\\n            var el = json_data[key];\\n            this[key] = Array.isArray(el) ? ko.observableArray(el) : ko.observable(el);\\n        }\\n        \\n        [this[\\\"formatted_val\\\"]=ko.computed(    function(){\\n        return this.formatted_vals()[parseInt(this.index())-(1)];\\n    }\\n,this)]\\n        [this[\\\"changes\\\"].subscribe((function (val){!(this.valueFromJulia[\\\"changes\\\"]) ? (WebIO.setval({\\\"name\\\":\\\"changes\\\",\\\"scope\\\":\\\"17688043797905672074\\\",\\\"id\\\":\\\"90\\\",\\\"type\\\":\\\"observable\\\"},val)) : undefined; return this.valueFromJulia[\\\"changes\\\"]=false}),self),this[\\\"index\\\"].subscribe((function (val){!(this.valueFromJulia[\\\"index\\\"]) ? (WebIO.setval({\\\"name\\\":\\\"index\\\",\\\"scope\\\":\\\"17688043797905672074\\\",\\\"id\\\":\\\"89\\\",\\\"type\\\":\\\"observable\\\"},val)) : undefined; return this.valueFromJulia[\\\"index\\\"]=false}),self)]\\n        \\n    }\\n    self.model = new AppViewModel();\\n    self.valueFromJulia = {};\\n    for (var key in json_data) {\\n        self.valueFromJulia[key] = false;\\n    }\\n    ko.applyBindings(self.model, self.dom);\\n}\\n);\\n    (WebIO.importBlock({\\\"data\\\":[{\\\"name\\\":\\\"knockout\\\",\\\"type\\\":\\\"js\\\",\\\"url\\\":\\\"/assetserver/46fa30269326aba23141c18b17d8ce39cc329be8-knockout.js\\\"},{\\\"name\\\":\\\"knockout_punches\\\",\\\"type\\\":\\\"js\\\",\\\"url\\\":\\\"/assetserver/785cf23779dbf5e70842ccdb713d3ca9d688333f-knockout_punches.js\\\"}],\\\"type\\\":\\\"async_block\\\"})).then((imports) => handler.apply(this, imports));\\n}\\n\")])], Dict{Symbol, Any}(:className => \"field interact-widget\")), WebIO.Node{WebIO.DOM}(WebIO.DOM(:html, :div), Any[WebIO.Scope(WebIO.Node{WebIO.DOM}(WebIO.DOM(:html, :div), Any[WebIO.Node{WebIO.DOM}(WebIO.DOM(:html, :div), Any[WebIO.Node{WebIO.DOM}(WebIO.DOM(:html, :label), Any[\"delu\"], Dict{Symbol, Any}(:className => \"interact \", :style => Dict{Any, Any}(:padding => \"5px 10px 0px 10px\")))], Dict{Symbol, Any}(:className => \"interact-flex-row-left\")), WebIO.Node{WebIO.DOM}(WebIO.DOM(:html, :div), Any[WebIO.Node{WebIO.DOM}(WebIO.DOM(:html, :input), Any[], Dict{Symbol, Any}(:max => 99, :min => 1, :attributes => Dict{Any, Any}(:type => \"range\", Symbol(\"data-bind\") => \"numericValue: index, valueUpdate: 'input', event: {change: function (){this.changes(this.changes()+1)}}\", \"orient\" => \"horizontal\"), :step => 1, :className => \"slider slider is-fullwidth\", :style => Dict{Any, Any}()))], Dict{Symbol, Any}(:className => \"interact-flex-row-center\")), WebIO.Node{WebIO.DOM}(WebIO.DOM(:html, :div), Any[WebIO.Node{WebIO.DOM}(WebIO.DOM(:html, :p), Any[], Dict{Symbol, Any}(:attributes => Dict(\"data-bind\" => \"text: formatted_val\")))], Dict{Symbol, Any}(:className => \"interact-flex-row-right\"))], Dict{Symbol, Any}(:className => \"interact-flex-row interact-widget\")), Dict{String, Tuple{Observables.AbstractObservable, Union{Nothing, Bool}}}(\"changes\" => (Observable(0), nothing), \"index\" => (Observable{Any}(50), nothing)), Set{String}(), nothing, WebIO.Asset[WebIO.Asset(\"js\", \"knockout\", \"/Users/meneghini/.julia/packages/Knockout/HReiN/src/../assets/knockout.js\"), WebIO.Asset(\"js\", \"knockout_punches\", \"/Users/meneghini/.julia/packages/Knockout/HReiN/src/../assets/knockout_punches.js\"), WebIO.Asset(\"js\", nothing, \"/Users/meneghini/.julia/packages/InteractBase/LJXv3/src/../assets/all.js\"), WebIO.Asset(\"css\", nothing, \"/Users/meneghini/.julia/packages/InteractBase/LJXv3/src/../assets/style.css\"), WebIO.Asset(\"css\", nothing, \"/Users/meneghini/.julia/packages/Interact/PENUy/src/../assets/bulma_confined.min.css\")], Dict{Any, Any}(\"changes\" => Any[WebIO.JSString(\"(function (val){return (val!=this.model[\\\"changes\\\"]()) ? (this.valueFromJulia[\\\"changes\\\"]=true, this.model[\\\"changes\\\"](val)) : undefined})\")], \"index\" => Any[WebIO.JSString(\"(function (val){return (val!=this.model[\\\"index\\\"]()) ? (this.valueFromJulia[\\\"index\\\"]=true, this.model[\\\"index\\\"](val)) : undefined})\")]), WebIO.ConnectionPool(Channel{Any}(32), Set{WebIO.AbstractConnection}(), Base.GenericCondition{ReentrantLock}(Base.IntrusiveLinkedList{Task}(Task (runnable) @0x00000002a8f13850, Task (runnable) @0x00000002a8f13850), ReentrantLock(nothing, 0x00000000, 0x00, Base.GenericCondition{Base.Threads.SpinLock}(Base.IntrusiveLinkedList{Task}(nothing, nothing), Base.Threads.SpinLock(0)), (8, 11431152304, 0)))), WebIO.JSString[WebIO.JSString(\"function () {\\n    var handler = (function (ko, koPunches) {\\n    ko.punches.enableAll();\\n    ko.bindingHandlers.numericValue = {\\n        init: function(element, valueAccessor, allBindings, data, context) {\\n            var stringified = ko.observable(ko.unwrap(valueAccessor()));\\n            stringified.subscribe(function(value) {\\n                var val = parseFloat(value);\\n                if (!isNaN(val)) {\\n                    valueAccessor()(val);\\n                }\\n            });\\n            valueAccessor().subscribe(function(value) {\\n                var str = JSON.stringify(value);\\n                if ((str == \\\"0\\\") && ([\\\"-0\\\", \\\"-0.\\\"].indexOf(stringified()) >= 0))\\n                     return;\\n                 if ([\\\"null\\\", \\\"\\\"].indexOf(str) >= 0)\\n                     return;\\n                stringified(str);\\n            });\\n            ko.applyBindingsToNode(\\n                element,\\n                {\\n                    value: stringified,\\n                    valueUpdate: allBindings.get('valueUpdate'),\\n                },\\n                context,\\n            );\\n        }\\n    };\\n    var json_data = {\\\"formatted_vals\\\":[\\\"-0.98\\\",\\\"-0.96\\\",\\\"-0.94\\\",\\\"-0.92\\\",\\\"-0.9\\\",\\\"-0.88\\\",\\\"-0.86\\\",\\\"-0.84\\\",\\\"-0.82\\\",\\\"-0.8\\\",\\\"-0.78\\\",\\\"-0.76\\\",\\\"-0.74\\\",\\\"-0.72\\\",\\\"-0.7\\\",\\\"-0.68\\\",\\\"-0.66\\\",\\\"-0.64\\\",\\\"-0.62\\\",\\\"-0.6\\\",\\\"-0.58\\\",\\\"-0.56\\\",\\\"-0.54\\\",\\\"-0.52\\\",\\\"-0.5\\\",\\\"-0.48\\\",\\\"-0.46\\\",\\\"-0.44\\\",\\\"-0.42\\\",\\\"-0.4\\\",\\\"-0.38\\\",\\\"-0.36\\\",\\\"-0.34\\\",\\\"-0.32\\\",\\\"-0.3\\\",\\\"-0.28\\\",\\\"-0.26\\\",\\\"-0.24\\\",\\\"-0.22\\\",\\\"-0.2\\\",\\\"-0.18\\\",\\\"-0.16\\\",\\\"-0.14\\\",\\\"-0.12\\\",\\\"-0.1\\\",\\\"-0.08\\\",\\\"-0.06\\\",\\\"-0.04\\\",\\\"-0.02\\\",\\\"0.0\\\",\\\"0.02\\\",\\\"0.04\\\",\\\"0.06\\\",\\\"0.08\\\",\\\"0.1\\\",\\\"0.12\\\",\\\"0.14\\\",\\\"0.16\\\",\\\"0.18\\\",\\\"0.2\\\",\\\"0.22\\\",\\\"0.24\\\",\\\"0.26\\\",\\\"0.28\\\",\\\"0.3\\\",\\\"0.32\\\",\\\"0.34\\\",\\\"0.36\\\",\\\"0.38\\\",\\\"0.4\\\",\\\"0.42\\\",\\\"0.44\\\",\\\"0.46\\\",\\\"0.48\\\",\\\"0.5\\\",\\\"0.52\\\",\\\"0.54\\\",\\\"0.56\\\",\\\"0.58\\\",\\\"0.6\\\",\\\"0.62\\\",\\\"0.64\\\",\\\"0.66\\\",\\\"0.68\\\",\\\"0.7\\\",\\\"0.72\\\",\\\"0.74\\\",\\\"0.76\\\",\\\"0.78\\\",\\\"0.8\\\",\\\"0.82\\\",\\\"0.84\\\",\\\"0.86\\\",\\\"0.88\\\",\\\"0.9\\\",\\\"0.92\\\",\\\"0.94\\\",\\\"0.96\\\",\\\"0.98\\\"],\\\"changes\\\":WebIO.getval({\\\"name\\\":\\\"changes\\\",\\\"scope\\\":\\\"9654812353287428768\\\",\\\"id\\\":\\\"93\\\",\\\"type\\\":\\\"observable\\\"}),\\\"index\\\":WebIO.getval({\\\"name\\\":\\\"index\\\",\\\"scope\\\":\\\"9654812353287428768\\\",\\\"id\\\":\\\"92\\\",\\\"type\\\":\\\"observable\\\"})};\\n    var self = this;\\n    function AppViewModel() {\\n        for (var key in json_data) {\\n            var el = json_data[key];\\n            this[key] = Array.isArray(el) ? ko.observableArray(el) : ko.observable(el);\\n        }\\n        \\n        [this[\\\"formatted_val\\\"]=ko.computed(    function(){\\n        return this.formatted_vals()[parseInt(this.index())-(1)];\\n    }\\n,this)]\\n        [this[\\\"changes\\\"].subscribe((function (val){!(this.valueFromJulia[\\\"changes\\\"]) ? (WebIO.setval({\\\"name\\\":\\\"changes\\\",\\\"scope\\\":\\\"9654812353287428768\\\",\\\"id\\\":\\\"93\\\",\\\"type\\\":\\\"observable\\\"},val)) : undefined; return this.valueFromJulia[\\\"changes\\\"]=false}),self),this[\\\"index\\\"].subscribe((function (val){!(this.valueFromJulia[\\\"index\\\"]) ? (WebIO.setval({\\\"name\\\":\\\"index\\\",\\\"scope\\\":\\\"9654812353287428768\\\",\\\"id\\\":\\\"92\\\",\\\"type\\\":\\\"observable\\\"},val)) : undefined; return this.valueFromJulia[\\\"index\\\"]=false}),self)]\\n        \\n    }\\n    self.model = new AppViewModel();\\n    self.valueFromJulia = {};\\n    for (var key in json_data) {\\n        self.valueFromJulia[key] = false;\\n    }\\n    ko.applyBindings(self.model, self.dom);\\n}\\n);\\n    (WebIO.importBlock({\\\"data\\\":[{\\\"name\\\":\\\"knockout\\\",\\\"type\\\":\\\"js\\\",\\\"url\\\":\\\"/assetserver/46fa30269326aba23141c18b17d8ce39cc329be8-knockout.js\\\"},{\\\"name\\\":\\\"knockout_punches\\\",\\\"type\\\":\\\"js\\\",\\\"url\\\":\\\"/assetserver/785cf23779dbf5e70842ccdb713d3ca9d688333f-knockout_punches.js\\\"}],\\\"type\\\":\\\"async_block\\\"})).then((imports) => handler.apply(this, imports));\\n}\\n\")])], Dict{Symbol, Any}(:className => \"field interact-widget\")), WebIO.Node{WebIO.DOM}(WebIO.DOM(:html, :div), Any[WebIO.Scope(WebIO.Node{WebIO.DOM}(WebIO.DOM(:html, :div), Any[WebIO.Node{WebIO.DOM}(WebIO.DOM(:html, :div), Any[WebIO.Node{WebIO.DOM}(WebIO.DOM(:html, :label), Any[\"dell\"], Dict{Symbol, Any}(:className => \"interact \", :style => Dict{Any, Any}(:padding => \"5px 10px 0px 10px\")))], Dict{Symbol, Any}(:className => \"interact-flex-row-left\")), WebIO.Node{WebIO.DOM}(WebIO.DOM(:html, :div), Any[WebIO.Node{WebIO.DOM}(WebIO.DOM(:html, :input), Any[], Dict{Symbol, Any}(:max => 99, :min => 1, :attributes => Dict{Any, Any}(:type => \"range\", Symbol(\"data-bind\") => \"numericValue: index, valueUpdate: 'input', event: {change: function (){this.changes(this.changes()+1)}}\", \"orient\" => \"horizontal\"), :step => 1, :className => \"slider slider is-fullwidth\", :style => Dict{Any, Any}()))], Dict{Symbol, Any}(:className => \"interact-flex-row-center\")), WebIO.Node{WebIO.DOM}(WebIO.DOM(:html, :div), Any[WebIO.Node{WebIO.DOM}(WebIO.DOM(:html, :p), Any[], Dict{Symbol, Any}(:attributes => Dict(\"data-bind\" => \"text: formatted_val\")))], Dict{Symbol, Any}(:className => \"interact-flex-row-right\"))], Dict{Symbol, Any}(:className => \"interact-flex-row interact-widget\")), Dict{String, Tuple{Observables.AbstractObservable, Union{Nothing, Bool}}}(\"changes\" => (Observable(0), nothing), \"index\" => (Observable{Any}(50), nothing)), Set{String}(), nothing, WebIO.Asset[WebIO.Asset(\"js\", \"knockout\", \"/Users/meneghini/.julia/packages/Knockout/HReiN/src/../assets/knockout.js\"), WebIO.Asset(\"js\", \"knockout_punches\", \"/Users/meneghini/.julia/packages/Knockout/HReiN/src/../assets/knockout_punches.js\"), WebIO.Asset(\"js\", nothing, \"/Users/meneghini/.julia/packages/InteractBase/LJXv3/src/../assets/all.js\"), WebIO.Asset(\"css\", nothing, \"/Users/meneghini/.julia/packages/InteractBase/LJXv3/src/../assets/style.css\"), WebIO.Asset(\"css\", nothing, \"/Users/meneghini/.julia/packages/Interact/PENUy/src/../assets/bulma_confined.min.css\")], Dict{Any, Any}(\"changes\" => Any[WebIO.JSString(\"(function (val){return (val!=this.model[\\\"changes\\\"]()) ? (this.valueFromJulia[\\\"changes\\\"]=true, this.model[\\\"changes\\\"](val)) : undefined})\")], \"index\" => Any[WebIO.JSString(\"(function (val){return (val!=this.model[\\\"index\\\"]()) ? (this.valueFromJulia[\\\"index\\\"]=true, this.model[\\\"index\\\"](val)) : undefined})\")]), WebIO.ConnectionPool(Channel{Any}(32), Set{WebIO.AbstractConnection}(), Base.GenericCondition{ReentrantLock}(Base.IntrusiveLinkedList{Task}(Task (runnable) @0x00000002a9987210, Task (runnable) @0x00000002a9987210), ReentrantLock(nothing, 0x00000000, 0x00, Base.GenericCondition{Base.Threads.SpinLock}(Base.IntrusiveLinkedList{Task}(nothing, nothing), Base.Threads.SpinLock(0)), (0, 11643387904, 5553516496)))), WebIO.JSString[WebIO.JSString(\"function () {\\n    var handler = (function (ko, koPunches) {\\n    ko.punches.enableAll();\\n    ko.bindingHandlers.numericValue = {\\n        init: function(element, valueAccessor, allBindings, data, context) {\\n            var stringified = ko.observable(ko.unwrap(valueAccessor()));\\n            stringified.subscribe(function(value) {\\n                var val = parseFloat(value);\\n                if (!isNaN(val)) {\\n                    valueAccessor()(val);\\n                }\\n            });\\n            valueAccessor().subscribe(function(value) {\\n                var str = JSON.stringify(value);\\n                if ((str == \\\"0\\\") && ([\\\"-0\\\", \\\"-0.\\\"].indexOf(stringified()) >= 0))\\n                     return;\\n                 if ([\\\"null\\\", \\\"\\\"].indexOf(str) >= 0)\\n                     return;\\n                stringified(str);\\n            });\\n            ko.applyBindingsToNode(\\n                element,\\n                {\\n                    value: stringified,\\n                    valueUpdate: allBindings.get('valueUpdate'),\\n                },\\n                context,\\n            );\\n        }\\n    };\\n    var json_data = {\\\"formatted_vals\\\":[\\\"-0.98\\\",\\\"-0.96\\\",\\\"-0.94\\\",\\\"-0.92\\\",\\\"-0.9\\\",\\\"-0.88\\\",\\\"-0.86\\\",\\\"-0.84\\\",\\\"-0.82\\\",\\\"-0.8\\\",\\\"-0.78\\\",\\\"-0.76\\\",\\\"-0.74\\\",\\\"-0.72\\\",\\\"-0.7\\\",\\\"-0.68\\\",\\\"-0.66\\\",\\\"-0.64\\\",\\\"-0.62\\\",\\\"-0.6\\\",\\\"-0.58\\\",\\\"-0.56\\\",\\\"-0.54\\\",\\\"-0.52\\\",\\\"-0.5\\\",\\\"-0.48\\\",\\\"-0.46\\\",\\\"-0.44\\\",\\\"-0.42\\\",\\\"-0.4\\\",\\\"-0.38\\\",\\\"-0.36\\\",\\\"-0.34\\\",\\\"-0.32\\\",\\\"-0.3\\\",\\\"-0.28\\\",\\\"-0.26\\\",\\\"-0.24\\\",\\\"-0.22\\\",\\\"-0.2\\\",\\\"-0.18\\\",\\\"-0.16\\\",\\\"-0.14\\\",\\\"-0.12\\\",\\\"-0.1\\\",\\\"-0.08\\\",\\\"-0.06\\\",\\\"-0.04\\\",\\\"-0.02\\\",\\\"0.0\\\",\\\"0.02\\\",\\\"0.04\\\",\\\"0.06\\\",\\\"0.08\\\",\\\"0.1\\\",\\\"0.12\\\",\\\"0.14\\\",\\\"0.16\\\",\\\"0.18\\\",\\\"0.2\\\",\\\"0.22\\\",\\\"0.24\\\",\\\"0.26\\\",\\\"0.28\\\",\\\"0.3\\\",\\\"0.32\\\",\\\"0.34\\\",\\\"0.36\\\",\\\"0.38\\\",\\\"0.4\\\",\\\"0.42\\\",\\\"0.44\\\",\\\"0.46\\\",\\\"0.48\\\",\\\"0.5\\\",\\\"0.52\\\",\\\"0.54\\\",\\\"0.56\\\",\\\"0.58\\\",\\\"0.6\\\",\\\"0.62\\\",\\\"0.64\\\",\\\"0.66\\\",\\\"0.68\\\",\\\"0.7\\\",\\\"0.72\\\",\\\"0.74\\\",\\\"0.76\\\",\\\"0.78\\\",\\\"0.8\\\",\\\"0.82\\\",\\\"0.84\\\",\\\"0.86\\\",\\\"0.88\\\",\\\"0.9\\\",\\\"0.92\\\",\\\"0.94\\\",\\\"0.96\\\",\\\"0.98\\\"],\\\"changes\\\":WebIO.getval({\\\"name\\\":\\\"changes\\\",\\\"scope\\\":\\\"10941827464084699045\\\",\\\"id\\\":\\\"96\\\",\\\"type\\\":\\\"observable\\\"}),\\\"index\\\":WebIO.getval({\\\"name\\\":\\\"index\\\",\\\"scope\\\":\\\"10941827464084699045\\\",\\\"id\\\":\\\"95\\\",\\\"type\\\":\\\"observable\\\"})};\\n    var self = this;\\n    function AppViewModel() {\\n        for (var key in json_data) {\\n            var el = json_data[key];\\n            this[key] = Array.isArray(el) ? ko.observableArray(el) : ko.observable(el);\\n        }\\n        \\n        [this[\\\"formatted_val\\\"]=ko.computed(    function(){\\n        return this.formatted_vals()[parseInt(this.index())-(1)];\\n    }\\n,this)]\\n        [this[\\\"changes\\\"].subscribe((function (val){!(this.valueFromJulia[\\\"changes\\\"]) ? (WebIO.setval({\\\"name\\\":\\\"changes\\\",\\\"scope\\\":\\\"10941827464084699045\\\",\\\"id\\\":\\\"96\\\",\\\"type\\\":\\\"observable\\\"},val)) : undefined; return this.valueFromJulia[\\\"changes\\\"]=false}),self),this[\\\"index\\\"].subscribe((function (val){!(this.valueFromJulia[\\\"index\\\"]) ? (WebIO.setval({\\\"name\\\":\\\"index\\\",\\\"scope\\\":\\\"10941827464084699045\\\",\\\"id\\\":\\\"95\\\",\\\"type\\\":\\\"observable\\\"},val)) : undefined; return this.valueFromJulia[\\\"index\\\"]=false}),self)]\\n        \\n    }\\n    self.model = new AppViewModel();\\n    self.valueFromJulia = {};\\n    for (var key in json_data) {\\n        self.valueFromJulia[key] = false;\\n    }\\n    ko.applyBindings(self.model, self.dom);\\n}\\n);\\n    (WebIO.importBlock({\\\"data\\\":[{\\\"name\\\":\\\"knockout\\\",\\\"type\\\":\\\"js\\\",\\\"url\\\":\\\"/assetserver/46fa30269326aba23141c18b17d8ce39cc329be8-knockout.js\\\"},{\\\"name\\\":\\\"knockout_punches\\\",\\\"type\\\":\\\"js\\\",\\\"url\\\":\\\"/assetserver/785cf23779dbf5e70842ccdb713d3ca9d688333f-knockout_punches.js\\\"}],\\\"type\\\":\\\"async_block\\\"})).then((imports) => handler.apply(this, imports));\\n}\\n\")])], Dict{Symbol, Any}(:className => \"field interact-widget\")), WebIO.Node{WebIO.DOM}(WebIO.DOM(:html, :div), Any[WebIO.Scope(WebIO.Node{WebIO.DOM}(WebIO.DOM(:html, :div), Any[WebIO.Node{WebIO.DOM}(WebIO.DOM(:html, :div), Any[WebIO.Node{WebIO.DOM}(WebIO.DOM(:html, :label), Any[\"zetaou\"], Dict{Symbol, Any}(:className => \"interact \", :style => Dict{Any, Any}(:padding => \"5px 10px 0px 10px\")))], Dict{Symbol, Any}(:className => \"interact-flex-row-left\")), WebIO.Node{WebIO.DOM}(WebIO.DOM(:html, :div), Any[WebIO.Node{WebIO.DOM}(WebIO.DOM(:html, :input), Any[], Dict{Symbol, Any}(:max => 101, :min => 1, :attributes => Dict{Any, Any}(:type => \"range\", Symbol(\"data-bind\") => \"numericValue: index, valueUpdate: 'input', event: {change: function (){this.changes(this.changes()+1)}}\", \"orient\" => \"horizontal\"), :step => 1, :className => \"slider slider is-fullwidth\", :style => Dict{Any, Any}()))], Dict{Symbol, Any}(:className => \"interact-flex-row-center\")), WebIO.Node{WebIO.DOM}(WebIO.DOM(:html, :div), Any[WebIO.Node{WebIO.DOM}(WebIO.DOM(:html, :p), Any[], Dict{Symbol, Any}(:attributes => Dict(\"data-bind\" => \"text: formatted_val\")))], Dict{Symbol, Any}(:className => \"interact-flex-row-right\"))], Dict{Symbol, Any}(:className => \"interact-flex-row interact-widget\")), Dict{String, Tuple{Observables.AbstractObservable, Union{Nothing, Bool}}}(\"changes\" => (Observable(0), nothing), \"index\" => (Observable{Any}(51), nothing)), Set{String}(), nothing, WebIO.Asset[WebIO.Asset(\"js\", \"knockout\", \"/Users/meneghini/.julia/packages/Knockout/HReiN/src/../assets/knockout.js\"), WebIO.Asset(\"js\", \"knockout_punches\", \"/Users/meneghini/.julia/packages/Knockout/HReiN/src/../assets/knockout_punches.js\"), WebIO.Asset(\"js\", nothing, \"/Users/meneghini/.julia/packages/InteractBase/LJXv3/src/../assets/all.js\"), WebIO.Asset(\"css\", nothing, \"/Users/meneghini/.julia/packages/InteractBase/LJXv3/src/../assets/style.css\"), WebIO.Asset(\"css\", nothing, \"/Users/meneghini/.julia/packages/Interact/PENUy/src/../assets/bulma_confined.min.css\")], Dict{Any, Any}(\"changes\" => Any[WebIO.JSString(\"(function (val){return (val!=this.model[\\\"changes\\\"]()) ? (this.valueFromJulia[\\\"changes\\\"]=true, this.model[\\\"changes\\\"](val)) : undefined})\")], \"index\" => Any[WebIO.JSString(\"(function (val){return (val!=this.model[\\\"index\\\"]()) ? (this.valueFromJulia[\\\"index\\\"]=true, this.model[\\\"index\\\"](val)) : undefined})\")]), WebIO.ConnectionPool(Channel{Any}(32), Set{WebIO.AbstractConnection}(), Base.GenericCondition{ReentrantLock}(Base.IntrusiveLinkedList{Task}(Task (runnable) @0x00000002a9aaebd0, Task (runnable) @0x00000002a9aaebd0), ReentrantLock(nothing, 0x00000000, 0x00, Base.GenericCondition{Base.Threads.SpinLock}(Base.IntrusiveLinkedList{Task}(nothing, nothing), Base.Threads.SpinLock(0)), (0, 0, 430670543294)))), WebIO.JSString[WebIO.JSString(\"function () {\\n    var handler = (function (ko, koPunches) {\\n    ko.punches.enableAll();\\n    ko.bindingHandlers.numericValue = {\\n        init: function(element, valueAccessor, allBindings, data, context) {\\n            var stringified = ko.observable(ko.unwrap(valueAccessor()));\\n            stringified.subscribe(function(value) {\\n                var val = parseFloat(value);\\n                if (!isNaN(val)) {\\n                    valueAccessor()(val);\\n                }\\n            });\\n            valueAccessor().subscribe(function(value) {\\n                var str = JSON.stringify(value);\\n                if ((str == \\\"0\\\") && ([\\\"-0\\\", \\\"-0.\\\"].indexOf(stringified()) >= 0))\\n                     return;\\n                 if ([\\\"null\\\", \\\"\\\"].indexOf(str) >= 0)\\n                     return;\\n                stringified(str);\\n            });\\n            ko.applyBindingsToNode(\\n                element,\\n                {\\n                    value: stringified,\\n                    valueUpdate: allBindings.get('valueUpdate'),\\n                },\\n                context,\\n            );\\n        }\\n    };\\n    var json_data = {\\\"formatted_vals\\\":[\\\"-0.707107\\\",\\\"-0.690036\\\",\\\"-0.672965\\\",\\\"-0.655894\\\",\\\"-0.638823\\\",\\\"-0.621751\\\",\\\"-0.60468\\\",\\\"-0.587609\\\",\\\"-0.570538\\\",\\\"-0.553467\\\",\\\"-0.536396\\\",\\\"-0.519325\\\",\\\"-0.502254\\\",\\\"-0.485183\\\",\\\"-0.468112\\\",\\\"-0.451041\\\",\\\"-0.43397\\\",\\\"-0.416899\\\",\\\"-0.399828\\\",\\\"-0.382756\\\",\\\"-0.365685\\\",\\\"-0.348614\\\",\\\"-0.331543\\\",\\\"-0.314472\\\",\\\"-0.297401\\\",\\\"-0.28033\\\",\\\"-0.263259\\\",\\\"-0.246188\\\",\\\"-0.229117\\\",\\\"-0.212046\\\",\\\"-0.194975\\\",\\\"-0.177904\\\",\\\"-0.160833\\\",\\\"-0.143762\\\",\\\"-0.12669\\\",\\\"-0.109619\\\",\\\"-0.0925483\\\",\\\"-0.0754773\\\",\\\"-0.0584062\\\",\\\"-0.0413351\\\",\\\"-0.0242641\\\",\\\"-0.007193\\\",\\\"0.00987807\\\",\\\"0.0269491\\\",\\\"0.0440202\\\",\\\"0.0610913\\\",\\\"0.0781623\\\",\\\"0.0952334\\\",\\\"0.112304\\\",\\\"0.129376\\\",\\\"0.146447\\\",\\\"0.163518\\\",\\\"0.180589\\\",\\\"0.19766\\\",\\\"0.214731\\\",\\\"0.231802\\\",\\\"0.248873\\\",\\\"0.265944\\\",\\\"0.283015\\\",\\\"0.300086\\\",\\\"0.317157\\\",\\\"0.334228\\\",\\\"0.351299\\\",\\\"0.36837\\\",\\\"0.385442\\\",\\\"0.402513\\\",\\\"0.419584\\\",\\\"0.436655\\\",\\\"0.453726\\\",\\\"0.470797\\\",\\\"0.487868\\\",\\\"0.504939\\\",\\\"0.52201\\\",\\\"0.539081\\\",\\\"0.556152\\\",\\\"0.573223\\\",\\\"0.590294\\\",\\\"0.607365\\\",\\\"0.624437\\\",\\\"0.641508\\\",\\\"0.658579\\\",\\\"0.67565\\\",\\\"0.692721\\\",\\\"0.709792\\\",\\\"0.726863\\\",\\\"0.743934\\\",\\\"0.761005\\\",\\\"0.778076\\\",\\\"0.795147\\\",\\\"0.812218\\\",\\\"0.829289\\\",\\\"0.84636\\\",\\\"0.863431\\\",\\\"0.880503\\\",\\\"0.897574\\\",\\\"0.914645\\\",\\\"0.931716\\\",\\\"0.948787\\\",\\\"0.965858\\\",\\\"0.982929\\\",\\\"1.0\\\"],\\\"changes\\\":WebIO.getval({\\\"name\\\":\\\"changes\\\",\\\"scope\\\":\\\"8934279776708376573\\\",\\\"id\\\":\\\"99\\\",\\\"type\\\":\\\"observable\\\"}),\\\"index\\\":WebIO.getval({\\\"name\\\":\\\"index\\\",\\\"scope\\\":\\\"8934279776708376573\\\",\\\"id\\\":\\\"98\\\",\\\"type\\\":\\\"observable\\\"})};\\n    var self = this;\\n    function AppViewModel() {\\n        for (var key in json_data) {\\n            var el = json_data[key];\\n            this[key] = Array.isArray(el) ? ko.observableArray(el) : ko.observable(el);\\n        }\\n        \\n        [this[\\\"formatted_val\\\"]=ko.computed(    function(){\\n        return this.formatted_vals()[parseInt(this.index())-(1)];\\n    }\\n,this)]\\n        [this[\\\"changes\\\"].subscribe((function (val){!(this.valueFromJulia[\\\"changes\\\"]) ? (WebIO.setval({\\\"name\\\":\\\"changes\\\",\\\"scope\\\":\\\"8934279776708376573\\\",\\\"id\\\":\\\"99\\\",\\\"type\\\":\\\"observable\\\"},val)) : undefined; return this.valueFromJulia[\\\"changes\\\"]=false}),self),this[\\\"index\\\"].subscribe((function (val){!(this.valueFromJulia[\\\"index\\\"]) ? (WebIO.setval({\\\"name\\\":\\\"index\\\",\\\"scope\\\":\\\"8934279776708376573\\\",\\\"id\\\":\\\"98\\\",\\\"type\\\":\\\"observable\\\"},val)) : undefined; return this.valueFromJulia[\\\"index\\\"]=false}),self)]\\n        \\n    }\\n    self.model = new AppViewModel();\\n    self.valueFromJulia = {};\\n    for (var key in json_data) {\\n        self.valueFromJulia[key] = false;\\n    }\\n    ko.applyBindings(self.model, self.dom);\\n}\\n);\\n    (WebIO.importBlock({\\\"data\\\":[{\\\"name\\\":\\\"knockout\\\",\\\"type\\\":\\\"js\\\",\\\"url\\\":\\\"/assetserver/46fa30269326aba23141c18b17d8ce39cc329be8-knockout.js\\\"},{\\\"name\\\":\\\"knockout_punches\\\",\\\"type\\\":\\\"js\\\",\\\"url\\\":\\\"/assetserver/785cf23779dbf5e70842ccdb713d3ca9d688333f-knockout_punches.js\\\"}],\\\"type\\\":\\\"async_block\\\"})).then((imports) => handler.apply(this, imports));\\n}\\n\")])], Dict{Symbol, Any}(:className => \"field interact-widget\")), WebIO.Node{WebIO.DOM}(WebIO.DOM(:html, :div), Any[WebIO.Scope(WebIO.Node{WebIO.DOM}(WebIO.DOM(:html, :div), Any[WebIO.Node{WebIO.DOM}(WebIO.DOM(:html, :div), Any[WebIO.Node{WebIO.DOM}(WebIO.DOM(:html, :label), Any[\"zetaiu\"], Dict{Symbol, Any}(:className => \"interact \", :style => Dict{Any, Any}(:padding => \"5px 10px 0px 10px\")))], Dict{Symbol, Any}(:className => \"interact-flex-row-left\")), WebIO.Node{WebIO.DOM}(WebIO.DOM(:html, :div), Any[WebIO.Node{WebIO.DOM}(WebIO.DOM(:html, :input), Any[], Dict{Symbol, Any}(:max => 101, :min => 1, :attributes => Dict{Any, Any}(:type => \"range\", Symbol(\"data-bind\") => \"numericValue: index, valueUpdate: 'input', event: {change: function (){this.changes(this.changes()+1)}}\", \"orient\" => \"horizontal\"), :step => 1, :className => \"slider slider is-fullwidth\", :style => Dict{Any, Any}()))], Dict{Symbol, Any}(:className => \"interact-flex-row-center\")), WebIO.Node{WebIO.DOM}(WebIO.DOM(:html, :div), Any[WebIO.Node{WebIO.DOM}(WebIO.DOM(:html, :p), Any[], Dict{Symbol, Any}(:attributes => Dict(\"data-bind\" => \"text: formatted_val\")))], Dict{Symbol, Any}(:className => \"interact-flex-row-right\"))], Dict{Symbol, Any}(:className => \"interact-flex-row interact-widget\")), Dict{String, Tuple{Observables.AbstractObservable, Union{Nothing, Bool}}}(\"changes\" => (Observable(0), nothing), \"index\" => (Observable{Any}(51), nothing)), Set{String}(), nothing, WebIO.Asset[WebIO.Asset(\"js\", \"knockout\", \"/Users/meneghini/.julia/packages/Knockout/HReiN/src/../assets/knockout.js\"), WebIO.Asset(\"js\", \"knockout_punches\", \"/Users/meneghini/.julia/packages/Knockout/HReiN/src/../assets/knockout_punches.js\"), WebIO.Asset(\"js\", nothing, \"/Users/meneghini/.julia/packages/InteractBase/LJXv3/src/../assets/all.js\"), WebIO.Asset(\"css\", nothing, \"/Users/meneghini/.julia/packages/InteractBase/LJXv3/src/../assets/style.css\"), WebIO.Asset(\"css\", nothing, \"/Users/meneghini/.julia/packages/Interact/PENUy/src/../assets/bulma_confined.min.css\")], Dict{Any, Any}(\"changes\" => Any[WebIO.JSString(\"(function (val){return (val!=this.model[\\\"changes\\\"]()) ? (this.valueFromJulia[\\\"changes\\\"]=true, this.model[\\\"changes\\\"](val)) : undefined})\")], \"index\" => Any[WebIO.JSString(\"(function (val){return (val!=this.model[\\\"index\\\"]()) ? (this.valueFromJulia[\\\"index\\\"]=true, this.model[\\\"index\\\"](val)) : undefined})\")]), WebIO.ConnectionPool(Channel{Any}(32), Set{WebIO.AbstractConnection}(), Base.GenericCondition{ReentrantLock}(Base.IntrusiveLinkedList{Task}(Task (runnable) @0x00000002a9db5f50, Task (runnable) @0x00000002a9db5f50), ReentrantLock(nothing, 0x00000000, 0x00, Base.GenericCondition{Base.Threads.SpinLock}(Base.IntrusiveLinkedList{Task}(nothing, nothing), Base.Threads.SpinLock(0)), (8, 10950812416, 4612395558300537385)))), WebIO.JSString[WebIO.JSString(\"function () {\\n    var handler = (function (ko, koPunches) {\\n    ko.punches.enableAll();\\n    ko.bindingHandlers.numericValue = {\\n        init: function(element, valueAccessor, allBindings, data, context) {\\n            var stringified = ko.observable(ko.unwrap(valueAccessor()));\\n            stringified.subscribe(function(value) {\\n                var val = parseFloat(value);\\n                if (!isNaN(val)) {\\n                    valueAccessor()(val);\\n                }\\n            });\\n            valueAccessor().subscribe(function(value) {\\n                var str = JSON.stringify(value);\\n                if ((str == \\\"0\\\") && ([\\\"-0\\\", \\\"-0.\\\"].indexOf(stringified()) >= 0))\\n                     return;\\n                 if ([\\\"null\\\", \\\"\\\"].indexOf(str) >= 0)\\n                     return;\\n                stringified(str);\\n            });\\n            ko.applyBindingsToNode(\\n                element,\\n                {\\n                    value: stringified,\\n                    valueUpdate: allBindings.get('valueUpdate'),\\n                },\\n                context,\\n            );\\n        }\\n    };\\n    var json_data = {\\\"formatted_vals\\\":[\\\"-0.707107\\\",\\\"-0.690036\\\",\\\"-0.672965\\\",\\\"-0.655894\\\",\\\"-0.638823\\\",\\\"-0.621751\\\",\\\"-0.60468\\\",\\\"-0.587609\\\",\\\"-0.570538\\\",\\\"-0.553467\\\",\\\"-0.536396\\\",\\\"-0.519325\\\",\\\"-0.502254\\\",\\\"-0.485183\\\",\\\"-0.468112\\\",\\\"-0.451041\\\",\\\"-0.43397\\\",\\\"-0.416899\\\",\\\"-0.399828\\\",\\\"-0.382756\\\",\\\"-0.365685\\\",\\\"-0.348614\\\",\\\"-0.331543\\\",\\\"-0.314472\\\",\\\"-0.297401\\\",\\\"-0.28033\\\",\\\"-0.263259\\\",\\\"-0.246188\\\",\\\"-0.229117\\\",\\\"-0.212046\\\",\\\"-0.194975\\\",\\\"-0.177904\\\",\\\"-0.160833\\\",\\\"-0.143762\\\",\\\"-0.12669\\\",\\\"-0.109619\\\",\\\"-0.0925483\\\",\\\"-0.0754773\\\",\\\"-0.0584062\\\",\\\"-0.0413351\\\",\\\"-0.0242641\\\",\\\"-0.007193\\\",\\\"0.00987807\\\",\\\"0.0269491\\\",\\\"0.0440202\\\",\\\"0.0610913\\\",\\\"0.0781623\\\",\\\"0.0952334\\\",\\\"0.112304\\\",\\\"0.129376\\\",\\\"0.146447\\\",\\\"0.163518\\\",\\\"0.180589\\\",\\\"0.19766\\\",\\\"0.214731\\\",\\\"0.231802\\\",\\\"0.248873\\\",\\\"0.265944\\\",\\\"0.283015\\\",\\\"0.300086\\\",\\\"0.317157\\\",\\\"0.334228\\\",\\\"0.351299\\\",\\\"0.36837\\\",\\\"0.385442\\\",\\\"0.402513\\\",\\\"0.419584\\\",\\\"0.436655\\\",\\\"0.453726\\\",\\\"0.470797\\\",\\\"0.487868\\\",\\\"0.504939\\\",\\\"0.52201\\\",\\\"0.539081\\\",\\\"0.556152\\\",\\\"0.573223\\\",\\\"0.590294\\\",\\\"0.607365\\\",\\\"0.624437\\\",\\\"0.641508\\\",\\\"0.658579\\\",\\\"0.67565\\\",\\\"0.692721\\\",\\\"0.709792\\\",\\\"0.726863\\\",\\\"0.743934\\\",\\\"0.761005\\\",\\\"0.778076\\\",\\\"0.795147\\\",\\\"0.812218\\\",\\\"0.829289\\\",\\\"0.84636\\\",\\\"0.863431\\\",\\\"0.880503\\\",\\\"0.897574\\\",\\\"0.914645\\\",\\\"0.931716\\\",\\\"0.948787\\\",\\\"0.965858\\\",\\\"0.982929\\\",\\\"1.0\\\"],\\\"changes\\\":WebIO.getval({\\\"name\\\":\\\"changes\\\",\\\"scope\\\":\\\"18376781133146718276\\\",\\\"id\\\":\\\"102\\\",\\\"type\\\":\\\"observable\\\"}),\\\"index\\\":WebIO.getval({\\\"name\\\":\\\"index\\\",\\\"scope\\\":\\\"18376781133146718276\\\",\\\"id\\\":\\\"101\\\",\\\"type\\\":\\\"observable\\\"})};\\n    var self = this;\\n    function AppViewModel() {\\n        for (var key in json_data) {\\n            var el = json_data[key];\\n            this[key] = Array.isArray(el) ? ko.observableArray(el) : ko.observable(el);\\n        }\\n        \\n        [this[\\\"formatted_val\\\"]=ko.computed(    function(){\\n        return this.formatted_vals()[parseInt(this.index())-(1)];\\n    }\\n,this)]\\n        [this[\\\"changes\\\"].subscribe((function (val){!(this.valueFromJulia[\\\"changes\\\"]) ? (WebIO.setval({\\\"name\\\":\\\"changes\\\",\\\"scope\\\":\\\"18376781133146718276\\\",\\\"id\\\":\\\"102\\\",\\\"type\\\":\\\"observable\\\"},val)) : undefined; return this.valueFromJulia[\\\"changes\\\"]=false}),self),this[\\\"index\\\"].subscribe((function (val){!(this.valueFromJulia[\\\"index\\\"]) ? (WebIO.setval({\\\"name\\\":\\\"index\\\",\\\"scope\\\":\\\"18376781133146718276\\\",\\\"id\\\":\\\"101\\\",\\\"type\\\":\\\"observable\\\"},val)) : undefined; return this.valueFromJulia[\\\"index\\\"]=false}),self)]\\n        \\n    }\\n    self.model = new AppViewModel();\\n    self.valueFromJulia = {};\\n    for (var key in json_data) {\\n        self.valueFromJulia[key] = false;\\n    }\\n    ko.applyBindings(self.model, self.dom);\\n}\\n);\\n    (WebIO.importBlock({\\\"data\\\":[{\\\"name\\\":\\\"knockout\\\",\\\"type\\\":\\\"js\\\",\\\"url\\\":\\\"/assetserver/46fa30269326aba23141c18b17d8ce39cc329be8-knockout.js\\\"},{\\\"name\\\":\\\"knockout_punches\\\",\\\"type\\\":\\\"js\\\",\\\"url\\\":\\\"/assetserver/785cf23779dbf5e70842ccdb713d3ca9d688333f-knockout_punches.js\\\"}],\\\"type\\\":\\\"async_block\\\"})).then((imports) => handler.apply(this, imports));\\n}\\n\")])], Dict{Symbol, Any}(:className => \"field interact-widget\")), WebIO.Node{WebIO.DOM}(WebIO.DOM(:html, :div), Any[WebIO.Scope(WebIO.Node{WebIO.DOM}(WebIO.DOM(:html, :div), Any[WebIO.Node{WebIO.DOM}(WebIO.DOM(:html, :div), Any[WebIO.Node{WebIO.DOM}(WebIO.DOM(:html, :label), Any[\"zetaol\"], Dict{Symbol, Any}(:className => \"interact \", :style => Dict{Any, Any}(:padding => \"5px 10px 0px 10px\")))], Dict{Symbol, Any}(:className => \"interact-flex-row-left\")), WebIO.Node{WebIO.DOM}(WebIO.DOM(:html, :div), Any[WebIO.Node{WebIO.DOM}(WebIO.DOM(:html, :input), Any[], Dict{Symbol, Any}(:max => 101, :min => 1, :attributes => Dict{Any, Any}(:type => \"range\", Symbol(\"data-bind\") => \"numericValue: index, valueUpdate: 'input', event: {change: function (){this.changes(this.changes()+1)}}\", \"orient\" => \"horizontal\"), :step => 1, :className => \"slider slider is-fullwidth\", :style => Dict{Any, Any}()))], Dict{Symbol, Any}(:className => \"interact-flex-row-center\")), WebIO.Node{WebIO.DOM}(WebIO.DOM(:html, :div), Any[WebIO.Node{WebIO.DOM}(WebIO.DOM(:html, :p), Any[], Dict{Symbol, Any}(:attributes => Dict(\"data-bind\" => \"text: formatted_val\")))], Dict{Symbol, Any}(:className => \"interact-flex-row-right\"))], Dict{Symbol, Any}(:className => \"interact-flex-row interact-widget\")), Dict{String, Tuple{Observables.AbstractObservable, Union{Nothing, Bool}}}(\"changes\" => (Observable(0), nothing), \"index\" => (Observable{Any}(51), nothing)), Set{String}(), nothing, WebIO.Asset[WebIO.Asset(\"js\", \"knockout\", \"/Users/meneghini/.julia/packages/Knockout/HReiN/src/../assets/knockout.js\"), WebIO.Asset(\"js\", \"knockout_punches\", \"/Users/meneghini/.julia/packages/Knockout/HReiN/src/../assets/knockout_punches.js\"), WebIO.Asset(\"js\", nothing, \"/Users/meneghini/.julia/packages/InteractBase/LJXv3/src/../assets/all.js\"), WebIO.Asset(\"css\", nothing, \"/Users/meneghini/.julia/packages/InteractBase/LJXv3/src/../assets/style.css\"), WebIO.Asset(\"css\", nothing, \"/Users/meneghini/.julia/packages/Interact/PENUy/src/../assets/bulma_confined.min.css\")], Dict{Any, Any}(\"changes\" => Any[WebIO.JSString(\"(function (val){return (val!=this.model[\\\"changes\\\"]()) ? (this.valueFromJulia[\\\"changes\\\"]=true, this.model[\\\"changes\\\"](val)) : undefined})\")], \"index\" => Any[WebIO.JSString(\"(function (val){return (val!=this.model[\\\"index\\\"]()) ? (this.valueFromJulia[\\\"index\\\"]=true, this.model[\\\"index\\\"](val)) : undefined})\")]), WebIO.ConnectionPool(Channel{Any}(32), Set{WebIO.AbstractConnection}(), Base.GenericCondition{ReentrantLock}(Base.IntrusiveLinkedList{Task}(Task (runnable) @0x00000002ac335460, Task (runnable) @0x00000002ac335460), ReentrantLock(nothing, 0x00000000, 0x00, Base.GenericCondition{Base.Threads.SpinLock}(Base.IntrusiveLinkedList{Task}(nothing, nothing), Base.Threads.SpinLock(0)), (0, 11459364304, 429773125527)))), WebIO.JSString[WebIO.JSString(\"function () {\\n    var handler = (function (ko, koPunches) {\\n    ko.punches.enableAll();\\n    ko.bindingHandlers.numericValue = {\\n        init: function(element, valueAccessor, allBindings, data, context) {\\n            var stringified = ko.observable(ko.unwrap(valueAccessor()));\\n            stringified.subscribe(function(value) {\\n                var val = parseFloat(value);\\n                if (!isNaN(val)) {\\n                    valueAccessor()(val);\\n                }\\n            });\\n            valueAccessor().subscribe(function(value) {\\n                var str = JSON.stringify(value);\\n                if ((str == \\\"0\\\") && ([\\\"-0\\\", \\\"-0.\\\"].indexOf(stringified()) >= 0))\\n                     return;\\n                 if ([\\\"null\\\", \\\"\\\"].indexOf(str) >= 0)\\n                     return;\\n                stringified(str);\\n            });\\n            ko.applyBindingsToNode(\\n                element,\\n                {\\n                    value: stringified,\\n                    valueUpdate: allBindings.get('valueUpdate'),\\n                },\\n                context,\\n            );\\n        }\\n    };\\n    var json_data = {\\\"formatted_vals\\\":[\\\"-0.707107\\\",\\\"-0.690036\\\",\\\"-0.672965\\\",\\\"-0.655894\\\",\\\"-0.638823\\\",\\\"-0.621751\\\",\\\"-0.60468\\\",\\\"-0.587609\\\",\\\"-0.570538\\\",\\\"-0.553467\\\",\\\"-0.536396\\\",\\\"-0.519325\\\",\\\"-0.502254\\\",\\\"-0.485183\\\",\\\"-0.468112\\\",\\\"-0.451041\\\",\\\"-0.43397\\\",\\\"-0.416899\\\",\\\"-0.399828\\\",\\\"-0.382756\\\",\\\"-0.365685\\\",\\\"-0.348614\\\",\\\"-0.331543\\\",\\\"-0.314472\\\",\\\"-0.297401\\\",\\\"-0.28033\\\",\\\"-0.263259\\\",\\\"-0.246188\\\",\\\"-0.229117\\\",\\\"-0.212046\\\",\\\"-0.194975\\\",\\\"-0.177904\\\",\\\"-0.160833\\\",\\\"-0.143762\\\",\\\"-0.12669\\\",\\\"-0.109619\\\",\\\"-0.0925483\\\",\\\"-0.0754773\\\",\\\"-0.0584062\\\",\\\"-0.0413351\\\",\\\"-0.0242641\\\",\\\"-0.007193\\\",\\\"0.00987807\\\",\\\"0.0269491\\\",\\\"0.0440202\\\",\\\"0.0610913\\\",\\\"0.0781623\\\",\\\"0.0952334\\\",\\\"0.112304\\\",\\\"0.129376\\\",\\\"0.146447\\\",\\\"0.163518\\\",\\\"0.180589\\\",\\\"0.19766\\\",\\\"0.214731\\\",\\\"0.231802\\\",\\\"0.248873\\\",\\\"0.265944\\\",\\\"0.283015\\\",\\\"0.300086\\\",\\\"0.317157\\\",\\\"0.334228\\\",\\\"0.351299\\\",\\\"0.36837\\\",\\\"0.385442\\\",\\\"0.402513\\\",\\\"0.419584\\\",\\\"0.436655\\\",\\\"0.453726\\\",\\\"0.470797\\\",\\\"0.487868\\\",\\\"0.504939\\\",\\\"0.52201\\\",\\\"0.539081\\\",\\\"0.556152\\\",\\\"0.573223\\\",\\\"0.590294\\\",\\\"0.607365\\\",\\\"0.624437\\\",\\\"0.641508\\\",\\\"0.658579\\\",\\\"0.67565\\\",\\\"0.692721\\\",\\\"0.709792\\\",\\\"0.726863\\\",\\\"0.743934\\\",\\\"0.761005\\\",\\\"0.778076\\\",\\\"0.795147\\\",\\\"0.812218\\\",\\\"0.829289\\\",\\\"0.84636\\\",\\\"0.863431\\\",\\\"0.880503\\\",\\\"0.897574\\\",\\\"0.914645\\\",\\\"0.931716\\\",\\\"0.948787\\\",\\\"0.965858\\\",\\\"0.982929\\\",\\\"1.0\\\"],\\\"changes\\\":WebIO.getval({\\\"name\\\":\\\"changes\\\",\\\"scope\\\":\\\"6581550070857795974\\\",\\\"id\\\":\\\"105\\\",\\\"type\\\":\\\"observable\\\"}),\\\"index\\\":WebIO.getval({\\\"name\\\":\\\"index\\\",\\\"scope\\\":\\\"6581550070857795974\\\",\\\"id\\\":\\\"104\\\",\\\"type\\\":\\\"observable\\\"})};\\n    var self = this;\\n    function AppViewModel() {\\n        for (var key in json_data) {\\n            var el = json_data[key];\\n            this[key] = Array.isArray(el) ? ko.observableArray(el) : ko.observable(el);\\n        }\\n        \\n        [this[\\\"formatted_val\\\"]=ko.computed(    function(){\\n        return this.formatted_vals()[parseInt(this.index())-(1)];\\n    }\\n,this)]\\n        [this[\\\"changes\\\"].subscribe((function (val){!(this.valueFromJulia[\\\"changes\\\"]) ? (WebIO.setval({\\\"name\\\":\\\"changes\\\",\\\"scope\\\":\\\"6581550070857795974\\\",\\\"id\\\":\\\"105\\\",\\\"type\\\":\\\"observable\\\"},val)) : undefined; return this.valueFromJulia[\\\"changes\\\"]=false}),self),this[\\\"index\\\"].subscribe((function (val){!(this.valueFromJulia[\\\"index\\\"]) ? (WebIO.setval({\\\"name\\\":\\\"index\\\",\\\"scope\\\":\\\"6581550070857795974\\\",\\\"id\\\":\\\"104\\\",\\\"type\\\":\\\"observable\\\"},val)) : undefined; return this.valueFromJulia[\\\"index\\\"]=false}),self)]\\n        \\n    }\\n    self.model = new AppViewModel();\\n    self.valueFromJulia = {};\\n    for (var key in json_data) {\\n        self.valueFromJulia[key] = false;\\n    }\\n    ko.applyBindings(self.model, self.dom);\\n}\\n);\\n    (WebIO.importBlock({\\\"data\\\":[{\\\"name\\\":\\\"knockout\\\",\\\"type\\\":\\\"js\\\",\\\"url\\\":\\\"/assetserver/46fa30269326aba23141c18b17d8ce39cc329be8-knockout.js\\\"},{\\\"name\\\":\\\"knockout_punches\\\",\\\"type\\\":\\\"js\\\",\\\"url\\\":\\\"/assetserver/785cf23779dbf5e70842ccdb713d3ca9d688333f-knockout_punches.js\\\"}],\\\"type\\\":\\\"async_block\\\"})).then((imports) => handler.apply(this, imports));\\n}\\n\")])], Dict{Symbol, Any}(:className => \"field interact-widget\")), WebIO.Node{WebIO.DOM}(WebIO.DOM(:html, :div), Any[WebIO.Scope(WebIO.Node{WebIO.DOM}(WebIO.DOM(:html, :div), Any[WebIO.Node{WebIO.DOM}(WebIO.DOM(:html, :div), Any[WebIO.Node{WebIO.DOM}(WebIO.DOM(:html, :label), Any[\"zetail\"], Dict{Symbol, Any}(:className => \"interact \", :style => Dict{Any, Any}(:padding => \"5px 10px 0px 10px\")))], Dict{Symbol, Any}(:className => \"interact-flex-row-left\")), WebIO.Node{WebIO.DOM}(WebIO.DOM(:html, :div), Any[WebIO.Node{WebIO.DOM}(WebIO.DOM(:html, :input), Any[], Dict{Symbol, Any}(:max => 101, :min => 1, :attributes => Dict{Any, Any}(:type => \"range\", Symbol(\"data-bind\") => \"numericValue: index, valueUpdate: 'input', event: {change: function (){this.changes(this.changes()+1)}}\", \"orient\" => \"horizontal\"), :step => 1, :className => \"slider slider is-fullwidth\", :style => Dict{Any, Any}()))], Dict{Symbol, Any}(:className => \"interact-flex-row-center\")), WebIO.Node{WebIO.DOM}(WebIO.DOM(:html, :div), Any[WebIO.Node{WebIO.DOM}(WebIO.DOM(:html, :p), Any[], Dict{Symbol, Any}(:attributes => Dict(\"data-bind\" => \"text: formatted_val\")))], Dict{Symbol, Any}(:className => \"interact-flex-row-right\"))], Dict{Symbol, Any}(:className => \"interact-flex-row interact-widget\")), Dict{String, Tuple{Observables.AbstractObservable, Union{Nothing, Bool}}}(\"changes\" => (Observable(0), nothing), \"index\" => (Observable{Any}(51), nothing)), Set{String}(), nothing, WebIO.Asset[WebIO.Asset(\"js\", \"knockout\", \"/Users/meneghini/.julia/packages/Knockout/HReiN/src/../assets/knockout.js\"), WebIO.Asset(\"js\", \"knockout_punches\", \"/Users/meneghini/.julia/packages/Knockout/HReiN/src/../assets/knockout_punches.js\"), WebIO.Asset(\"js\", nothing, \"/Users/meneghini/.julia/packages/InteractBase/LJXv3/src/../assets/all.js\"), WebIO.Asset(\"css\", nothing, \"/Users/meneghini/.julia/packages/InteractBase/LJXv3/src/../assets/style.css\"), WebIO.Asset(\"css\", nothing, \"/Users/meneghini/.julia/packages/Interact/PENUy/src/../assets/bulma_confined.min.css\")], Dict{Any, Any}(\"changes\" => Any[WebIO.JSString(\"(function (val){return (val!=this.model[\\\"changes\\\"]()) ? (this.valueFromJulia[\\\"changes\\\"]=true, this.model[\\\"changes\\\"](val)) : undefined})\")], \"index\" => Any[WebIO.JSString(\"(function (val){return (val!=this.model[\\\"index\\\"]()) ? (this.valueFromJulia[\\\"index\\\"]=true, this.model[\\\"index\\\"](val)) : undefined})\")]), WebIO.ConnectionPool(Channel{Any}(32), Set{WebIO.AbstractConnection}(), Base.GenericCondition{ReentrantLock}(Base.IntrusiveLinkedList{Task}(Task (runnable) @0x00000002ac5b4650, Task (runnable) @0x00000002ac5b4650), ReentrantLock(nothing, 0x00000000, 0x00, Base.GenericCondition{Base.Threads.SpinLock}(Base.IntrusiveLinkedList{Task}(nothing, nothing), Base.Threads.SpinLock(0)), (8, 11475038416, 0)))), WebIO.JSString[WebIO.JSString(\"function () {\\n    var handler = (function (ko, koPunches) {\\n    ko.punches.enableAll();\\n    ko.bindingHandlers.numericValue = {\\n        init: function(element, valueAccessor, allBindings, data, context) {\\n            var stringified = ko.observable(ko.unwrap(valueAccessor()));\\n            stringified.subscribe(function(value) {\\n                var val = parseFloat(value);\\n                if (!isNaN(val)) {\\n                    valueAccessor()(val);\\n                }\\n            });\\n            valueAccessor().subscribe(function(value) {\\n                var str = JSON.stringify(value);\\n                if ((str == \\\"0\\\") && ([\\\"-0\\\", \\\"-0.\\\"].indexOf(stringified()) >= 0))\\n                     return;\\n                 if ([\\\"null\\\", \\\"\\\"].indexOf(str) >= 0)\\n                     return;\\n                stringified(str);\\n            });\\n            ko.applyBindingsToNode(\\n                element,\\n                {\\n                    value: stringified,\\n                    valueUpdate: allBindings.get('valueUpdate'),\\n                },\\n                context,\\n            );\\n        }\\n    };\\n    var json_data = {\\\"formatted_vals\\\":[\\\"-0.707107\\\",\\\"-0.690036\\\",\\\"-0.672965\\\",\\\"-0.655894\\\",\\\"-0.638823\\\",\\\"-0.621751\\\",\\\"-0.60468\\\",\\\"-0.587609\\\",\\\"-0.570538\\\",\\\"-0.553467\\\",\\\"-0.536396\\\",\\\"-0.519325\\\",\\\"-0.502254\\\",\\\"-0.485183\\\",\\\"-0.468112\\\",\\\"-0.451041\\\",\\\"-0.43397\\\",\\\"-0.416899\\\",\\\"-0.399828\\\",\\\"-0.382756\\\",\\\"-0.365685\\\",\\\"-0.348614\\\",\\\"-0.331543\\\",\\\"-0.314472\\\",\\\"-0.297401\\\",\\\"-0.28033\\\",\\\"-0.263259\\\",\\\"-0.246188\\\",\\\"-0.229117\\\",\\\"-0.212046\\\",\\\"-0.194975\\\",\\\"-0.177904\\\",\\\"-0.160833\\\",\\\"-0.143762\\\",\\\"-0.12669\\\",\\\"-0.109619\\\",\\\"-0.0925483\\\",\\\"-0.0754773\\\",\\\"-0.0584062\\\",\\\"-0.0413351\\\",\\\"-0.0242641\\\",\\\"-0.007193\\\",\\\"0.00987807\\\",\\\"0.0269491\\\",\\\"0.0440202\\\",\\\"0.0610913\\\",\\\"0.0781623\\\",\\\"0.0952334\\\",\\\"0.112304\\\",\\\"0.129376\\\",\\\"0.146447\\\",\\\"0.163518\\\",\\\"0.180589\\\",\\\"0.19766\\\",\\\"0.214731\\\",\\\"0.231802\\\",\\\"0.248873\\\",\\\"0.265944\\\",\\\"0.283015\\\",\\\"0.300086\\\",\\\"0.317157\\\",\\\"0.334228\\\",\\\"0.351299\\\",\\\"0.36837\\\",\\\"0.385442\\\",\\\"0.402513\\\",\\\"0.419584\\\",\\\"0.436655\\\",\\\"0.453726\\\",\\\"0.470797\\\",\\\"0.487868\\\",\\\"0.504939\\\",\\\"0.52201\\\",\\\"0.539081\\\",\\\"0.556152\\\",\\\"0.573223\\\",\\\"0.590294\\\",\\\"0.607365\\\",\\\"0.624437\\\",\\\"0.641508\\\",\\\"0.658579\\\",\\\"0.67565\\\",\\\"0.692721\\\",\\\"0.709792\\\",\\\"0.726863\\\",\\\"0.743934\\\",\\\"0.761005\\\",\\\"0.778076\\\",\\\"0.795147\\\",\\\"0.812218\\\",\\\"0.829289\\\",\\\"0.84636\\\",\\\"0.863431\\\",\\\"0.880503\\\",\\\"0.897574\\\",\\\"0.914645\\\",\\\"0.931716\\\",\\\"0.948787\\\",\\\"0.965858\\\",\\\"0.982929\\\",\\\"1.0\\\"],\\\"changes\\\":WebIO.getval({\\\"name\\\":\\\"changes\\\",\\\"scope\\\":\\\"1444260074206144014\\\",\\\"id\\\":\\\"108\\\",\\\"type\\\":\\\"observable\\\"}),\\\"index\\\":WebIO.getval({\\\"name\\\":\\\"index\\\",\\\"scope\\\":\\\"1444260074206144014\\\",\\\"id\\\":\\\"107\\\",\\\"type\\\":\\\"observable\\\"})};\\n    var self = this;\\n    function AppViewModel() {\\n        for (var key in json_data) {\\n            var el = json_data[key];\\n            this[key] = Array.isArray(el) ? ko.observableArray(el) : ko.observable(el);\\n        }\\n        \\n        [this[\\\"formatted_val\\\"]=ko.computed(    function(){\\n        return this.formatted_vals()[parseInt(this.index())-(1)];\\n    }\\n,this)]\\n        [this[\\\"changes\\\"].subscribe((function (val){!(this.valueFromJulia[\\\"changes\\\"]) ? (WebIO.setval({\\\"name\\\":\\\"changes\\\",\\\"scope\\\":\\\"1444260074206144014\\\",\\\"id\\\":\\\"108\\\",\\\"type\\\":\\\"observable\\\"},val)) : undefined; return this.valueFromJulia[\\\"changes\\\"]=false}),self),this[\\\"index\\\"].subscribe((function (val){!(this.valueFromJulia[\\\"index\\\"]) ? (WebIO.setval({\\\"name\\\":\\\"index\\\",\\\"scope\\\":\\\"1444260074206144014\\\",\\\"id\\\":\\\"107\\\",\\\"type\\\":\\\"observable\\\"},val)) : undefined; return this.valueFromJulia[\\\"index\\\"]=false}),self)]\\n        \\n    }\\n    self.model = new AppViewModel();\\n    self.valueFromJulia = {};\\n    for (var key in json_data) {\\n        self.valueFromJulia[key] = false;\\n    }\\n    ko.applyBindings(self.model, self.dom);\\n}\\n);\\n    (WebIO.importBlock({\\\"data\\\":[{\\\"name\\\":\\\"knockout\\\",\\\"type\\\":\\\"js\\\",\\\"url\\\":\\\"/assetserver/46fa30269326aba23141c18b17d8ce39cc329be8-knockout.js\\\"},{\\\"name\\\":\\\"knockout_punches\\\",\\\"type\\\":\\\"js\\\",\\\"url\\\":\\\"/assetserver/785cf23779dbf5e70842ccdb713d3ca9d688333f-knockout_punches.js\\\"}],\\\"type\\\":\\\"async_block\\\"})).then((imports) => handler.apply(this, imports));\\n}\\n\")])], Dict{Symbol, Any}(:className => \"field interact-widget\")), Observable(WebIO.Node{WebIO.DOM}(WebIO.DOM(:html, :div), Any[Plot{Plots.GRBackend() n=2}], Dict{Symbol, Any}(:className => \"interact-flex-row interact-widget\")))], Dict{Symbol, Any}())"
      ]
     },
     "execution_count": 4,
     "metadata": {
      "@webio": {
       "kernelId": "98627809-f8e4-4a7e-b02c-6ddfa6be7ac0"
      }
     },
     "output_type": "execute_result"
    },
    {
     "ename": "InexactError",
     "evalue": "InexactError: Int64(NaN)",
     "output_type": "error",
     "traceback": [
      "KERNEL EXCEPTION",
      "InexactError: Int64(NaN)",
      "",
      "Stacktrace:",
      "  [1] Int64",
      "    @ ./float.jl:912 [inlined]",
      "  [2] (::MillerExtendedHarmonic.MXH{Float64, Vector{Float64}})(n_points::Int64; adaptive::Bool)",
      "    @ MillerExtendedHarmonic ~/.julia/dev/MillerExtendedHarmonic/src/MXH.jl:680",
      "  [3] (::MillerExtendedHarmonic.MXH{Float64, Vector{Float64}})(n_points::Int64)",
      "    @ MillerExtendedHarmonic ~/.julia/dev/MillerExtendedHarmonic/src/MXH.jl:676",
      "  [4] macro expansion",
      "    @ ~/.julia/dev/MillerExtendedHarmonic/src/MXH.jl:655 [inlined]",
      "  [5] macro expansion",
      "    @ ~/.julia/packages/RecipesBase/BRe07/src/RecipesBase.jl:340 [inlined]",
      "  [6] macro expansion",
      "    @ ~/.julia/dev/MillerExtendedHarmonic/src/MXH.jl:652 [inlined]",
      "  [7] apply_recipe(plotattributes::AbstractDict{Symbol, Any}, mxh::MillerExtendedHarmonic.MXH)",
      "    @ MillerExtendedHarmonic ~/.julia/packages/RecipesBase/BRe07/src/RecipesBase.jl:300",
      "  [8] _process_userrecipes!(plt::Any, plotattributes::Any, args::Any)",
      "    @ RecipesPipeline ~/.julia/packages/RecipesPipeline/BGM3l/src/user_recipe.jl:38",
      "  [9] recipe_pipeline!(plt::Any, plotattributes::Any, args::Any)",
      "    @ RecipesPipeline ~/.julia/packages/RecipesPipeline/BGM3l/src/RecipesPipeline.jl:72",
      " [10] _plot!(plt::Plots.Plot, plotattributes::Any, args::Any)",
      "    @ Plots ~/.julia/packages/Plots/du2dt/src/plot.jl:223",
      " [11] plot!(plt::Plots.Plot, args::Any; kw...)",
      "    @ Plots ~/.julia/packages/Plots/du2dt/src/plot.jl:213",
      " [12] plot!(args::Any; kw...)",
      "    @ Plots ~/.julia/packages/Plots/du2dt/src/plot.jl:202",
      " [13] plot!",
      "    @ ~/.julia/packages/Plots/du2dt/src/plot.jl:194 [inlined]",
      " [14] (::var\"#5#6\")(mhx_order::Int64, a::Float64, eps::Float64, kapu::Float64, kapl::Float64, delu::Float64, dell::Float64, zetaou::Float64, zetaiu::Float64, zetaol::Float64, zetail::Float64)",
      "    @ Main ./In[4]:38",
      " [15] invokelatest(::Any, ::Any, ::Vararg{Any}; kwargs::@Kwargs{})",
      "    @ Base ./essentials.jl:892",
      " [16] invokelatest(::Any, ::Any, ::Vararg{Any})",
      "    @ Base ./essentials.jl:889",
      " [17] (::Observables.MapCallback)(value::Any)",
      "    @ Observables ~/.julia/packages/Observables/YdEbO/src/Observables.jl:436",
      " [18] #invokelatest#2",
      "    @ ./essentials.jl:892 [inlined]",
      " [19] invokelatest",
      "    @ ./essentials.jl:889 [inlined]",
      " [20] notify",
      "    @ ~/.julia/packages/Observables/YdEbO/src/Observables.jl:206 [inlined]",
      " [21] setindex!",
      "    @ ~/.julia/packages/Observables/YdEbO/src/Observables.jl:123 [inlined]",
      " [22] (::Observables.var\"#20#23\"{InteractBase.var\"#77#80\"{LinRange{Float64, Int64}}, Observables.Observable{Float64}, Base.RefValue{Bool}})(val::Int64)",
      "    @ Observables ~/.julia/packages/Observables/YdEbO/src/observablepair.jl:29",
      " [23] #invokelatest#2",
      "    @ ./essentials.jl:892 [inlined]",
      " [24] invokelatest",
      "    @ ./essentials.jl:889 [inlined]",
      " [25] set_nosync(ob::Observables.Observable{Any}, val::Int64)",
      "    @ WebIO ~/.julia/packages/WebIO/8Xm9p/src/scope.jl:346",
      " [26] dispatch(ctx::WebIO.Scope, key::String, data::Int64)",
      "    @ WebIO ~/.julia/packages/WebIO/8Xm9p/src/scope.jl:358",
      " [27] dispatch_command(conn::WebIO.IJuliaConnection, data::Dict{String, Any})",
      "    @ WebIO ~/.julia/packages/WebIO/8Xm9p/src/messaging.jl:104",
      " [28] dispatch(conn::WebIO.IJuliaConnection, data::Dict{String, Any})",
      "    @ WebIO ~/.julia/packages/WebIO/8Xm9p/src/messaging.jl:81",
      " [29] (::WebIO.var\"#98#99\"{WebIO.IJuliaConnection})(msg::IJulia.Msg)",
      "    @ WebIO ~/.julia/packages/WebIO/8Xm9p/src/providers/ijulia.jl:21",
      " [30] comm_msg(sock::ZMQ.Socket, msg::IJulia.Msg)",
      "    @ IJulia.CommManager ~/.julia/packages/IJulia/bHdNn/src/comm_manager.jl:134",
      " [31] #invokelatest#2",
      "    @ ./essentials.jl:892 [inlined]",
      " [32] invokelatest",
      "    @ ./essentials.jl:889 [inlined]",
      " [33] eventloop(socket::ZMQ.Socket)",
      "    @ IJulia ~/.julia/packages/IJulia/bHdNn/src/eventloop.jl:8",
      " [34] (::IJulia.var\"#15#18\")()",
      "    @ IJulia ~/.julia/packages/IJulia/bHdNn/src/eventloop.jl:38"
     ]
    }
   ],
   "source": [
    "import Interact\n",
    "\n",
    "N = 101\n",
    "\n",
    "state = Dict()\n",
    "\n",
    "upnull = false\n",
    "lonull = false\n",
    "zoffset = 0.0\n",
    "Interact.@manipulate for mhx_order in 0:10,\n",
    "    a in LinRange(0.1, 10, N),\n",
    "    eps in LinRange(0.1, 1, N),\n",
    "    kapu in LinRange(1.0, 3.0, N),\n",
    "    kapl in LinRange(1.0, 3.0, N),\n",
    "    delu in LinRange(-1.0, 1.0, N)[2:end-1],\n",
    "    dell in LinRange(-1.0, 1.0, N)[2:end-1],\n",
    "    zetaou in LinRange(-sqrt(2) / 2, 1.0, N),\n",
    "    zetaiu in LinRange(-sqrt(2) / 2, 1.0, N),\n",
    "    zetaol in LinRange(-sqrt(2) / 2, 1.0, N),\n",
    "    zetail in LinRange(-sqrt(2) / 2, 1.0, N)#,\n",
    "    #    upnull in [false,true],\n",
    "    #    lonull in [false,true],\n",
    "\n",
    "    shape = Dict(:a => a, :eps => eps, :kapu => kapu, :kapl => kapl, :delu => delu, :dell => dell, :zetaou => zetaou, :zetaiu => zetaiu, :zetail => zetail, :zetaol => zetaol, :zoffset => zoffset, :upnull => upnull, :lonull => lonull)\n",
    "    state[\"shape\"] = shape\n",
    "    \n",
    "    r, z, zref = try\n",
    "        IMAS.boundary_shape(; shape...)\n",
    "    catch e\n",
    "        [NaN], [NaN], [NaN]\n",
    "    end\n",
    "    state[\"numeric\"] = (r,z)\n",
    "    \n",
    "    mxh = IMAS.MXH(r, z, mhx_order, optimize_fit=true)\n",
    "    state[\"mxh\"] = mxh\n",
    "\n",
    "    plot(r, z; aspect_ratio=:equal, lw=2, label=\"numeric\")\n",
    "    plot!(mxh,label=\"mxh\")\n",
    "end"
   ]
  },
  {
   "cell_type": "code",
   "execution_count": null,
   "id": "1a75e035-4b4a-420a-8a55-2abd3f92ec78",
   "metadata": {
    "tags": []
   },
   "outputs": [],
   "source": [
    "state[\"shape\"]"
   ]
  },
  {
   "cell_type": "code",
   "execution_count": null,
   "id": "d68caa84-13b7-4bab-b82c-ded2d24e628e",
   "metadata": {
    "tags": []
   },
   "outputs": [],
   "source": [
    "state[\"mxh\"]"
   ]
  },
  {
   "cell_type": "code",
   "execution_count": null,
   "id": "911aa4b3-b817-4986-97fd-f415f9b11369",
   "metadata": {
    "tags": []
   },
   "outputs": [],
   "source": [
    "IMAS.flat_coeffs(state[\"mxh\"])"
   ]
  }
 ],
 "metadata": {
  "@webio": {
   "lastCommId": "84c05d0f-7055-43ca-8263-2671ba9d1682",
   "lastKernelId": "98627809-f8e4-4a7e-b02c-6ddfa6be7ac0"
  },
  "kernelspec": {
   "display_name": "Julia (8 threads) 1.10.4",
   "language": "julia",
   "name": "julia-_8-threads_-1.10"
  },
  "language_info": {
   "file_extension": ".jl",
   "mimetype": "application/julia",
   "name": "julia",
   "version": "1.10.4"
  }
 },
 "nbformat": 4,
 "nbformat_minor": 5
}
