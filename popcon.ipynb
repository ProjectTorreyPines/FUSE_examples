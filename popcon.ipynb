{
 "cells": [
  {
   "cell_type": "markdown",
   "id": "b3ed67e4-fd1c-42a9-99a3-91c7a2b9e056",
   "metadata": {},
   "source": [
    "# POPCON study"
   ]
  },
  {
   "cell_type": "code",
   "execution_count": null,
   "id": "8fbd53c2-52b6-4405-94ef-a3a9b6f4cb2d",
   "metadata": {
    "tags": []
   },
   "outputs": [],
   "source": [
    "using Plots\n",
    "using FUSE\n",
    "FUSE.ProgressMeter.ijulia_behavior(:clear);"
   ]
  },
  {
   "cell_type": "markdown",
   "id": "bc59fd89-2daf-43eb-850b-4a547427ef58",
   "metadata": {
    "execution": {
     "iopub.execute_input": "2023-03-11T21:57:41.735000-08:00",
     "iopub.status.busy": "2023-03-11T21:57:41.190000-08:00",
     "iopub.status.idle": "2023-03-11T21:57:42.754000-08:00",
     "shell.execute_reply": "2023-03-11T21:57:42.752000-08:00"
    }
   },
   "source": [
    "### Setup distributed computing environment"
   ]
  },
  {
   "cell_type": "code",
   "execution_count": null,
   "id": "0b29afb5-d48e-45e6-b13e-7895b6676cfe",
   "metadata": {
    "tags": []
   },
   "outputs": [],
   "source": [
    "using Distributed\n",
    "FUSE.parallel_environment(\"localhost\", 8)\n",
    "@everywhere using FUSE"
   ]
  },
  {
   "cell_type": "markdown",
   "id": "8c84cd28-78a7-43d7-8c7d-0d0cb864a54d",
   "metadata": {
    "execution": {
     "iopub.execute_input": "2023-03-12T00:55:07.825000-08:00",
     "iopub.status.busy": "2023-03-12T00:55:07.825000-08:00",
     "iopub.status.idle": "2023-03-12T00:55:07.839000-08:00",
     "shell.execute_reply": "2023-03-12T00:55:07.838000-08:00"
    }
   },
   "source": [
    "### Define workflow"
   ]
  },
  {
   "cell_type": "code",
   "execution_count": null,
   "id": "7833ccbc-a343-4026-9e3a-477fee6ff2b1",
   "metadata": {
    "tags": []
   },
   "outputs": [],
   "source": [
    "@everywhere function workflow(T_scale::Float64, n_scale::Float64)\n",
    "    dd = IMAS.dd()\n",
    "\n",
    "    ini, act = FUSE.case_parameters(:ITER; init_from=:scalars)\n",
    "    \n",
    "    ini.core_profiles.ne_setting = :greenwald_fraction\n",
    "    ini.core_profiles.ne_value = 0.8\n",
    "    \n",
    "    ini.core_profiles.ne_value *= n_scale\n",
    "    ini.equilibrium.pressure_core *= T_scale * n_scale\n",
    "    \n",
    "    ini.hcd.power_scaling_cost_function = dd -> abs(1.0 - IMAS.tau_e_thermal(dd) / IMAS.tau_e_h98(dd))\n",
    "\n",
    "    try\n",
    "        FUSE.init(dd, ini, act)\n",
    "    catch e\n",
    "        println(e)\n",
    "    finally\n",
    "        return dd\n",
    "    end\n",
    "end"
   ]
  },
  {
   "cell_type": "markdown",
   "id": "7548b6ed-1e11-4866-a593-2cced3069a5e",
   "metadata": {
    "execution": {
     "iopub.execute_input": "2024-09-19T14:52:12.919000-07:00",
     "iopub.status.busy": "2024-09-19T14:52:12.913000-07:00"
    },
    "tags": []
   },
   "source": [
    "## Run nominal conditions"
   ]
  },
  {
   "cell_type": "code",
   "execution_count": null,
   "id": "da7988a2-7e83-4b88-94ed-a1193fcdffa1",
   "metadata": {
    "tags": []
   },
   "outputs": [],
   "source": [
    "FUSE.logging(Logging.Info; actors=Logging.Info)\n",
    "dd = workflow(1.0, 1.0)\n",
    "nominal = IMAS.extract(dd)\n",
    "#FUSE.digest(dd)"
   ]
  },
  {
   "cell_type": "markdown",
   "id": "40dd105a-cd7e-4d08-892f-b9558f88cb87",
   "metadata": {
    "execution": {
     "iopub.execute_input": "2024-09-19T14:20:41.279000-07:00",
     "iopub.status.busy": "2024-09-19T14:20:41.278000-07:00",
     "iopub.status.idle": "2024-09-19T14:20:41.357000-07:00",
     "shell.execute_reply": "2024-09-19T14:20:41.356000-07:00"
    },
    "tags": []
   },
   "source": [
    "## Extent of the scan"
   ]
  },
  {
   "cell_type": "code",
   "execution_count": null,
   "id": "2be4ec39-8ca4-41fd-b043-506691d2d05e",
   "metadata": {
    "tags": []
   },
   "outputs": [],
   "source": [
    "T_scale_ = LinRange(10, 25, 5) ./ nominal[:Te0].value # [keV]\n",
    "n_scale_ = LinRange(0.2, 1.2, 5) ./ nominal[:fGW].value # [fGW]\n",
    "cases = [[T_scale, n_scale] for T_scale in T_scale_, n_scale in n_scale_]"
   ]
  },
  {
   "cell_type": "markdown",
   "id": "96436255-571c-4145-82cb-055324e9cd5c",
   "metadata": {
    "execution": {
     "iopub.execute_input": "2023-03-12T00:55:37.873000-08:00",
     "iopub.status.busy": "2023-03-12T00:55:37.871000-08:00",
     "iopub.status.idle": "2023-03-12T00:55:37.887000-08:00",
     "shell.execute_reply": "2023-03-12T00:55:37.887000-08:00"
    }
   },
   "source": [
    "### Run simulations"
   ]
  },
  {
   "cell_type": "code",
   "execution_count": null,
   "id": "8b59deb5-4914-47fe-937f-9e0f875f0279",
   "metadata": {
    "tags": []
   },
   "outputs": [],
   "source": [
    "@everywhere FUSE.logging(Logging.Info; actors=Logging.Error)\n",
    "DD = FUSE.ProgressMeter.@showprogress pmap(case -> workflow(case...), cases);"
   ]
  },
  {
   "cell_type": "markdown",
   "id": "3267832a-bb46-4835-845f-a36bd1b9937e",
   "metadata": {
    "execution": {
     "iopub.execute_input": "2023-03-12T00:56:17.393000-08:00",
     "iopub.status.busy": "2023-03-12T00:56:17.393000-08:00",
     "iopub.status.idle": "2023-03-12T00:56:17.406000-08:00",
     "shell.execute_reply": "2023-03-12T00:56:17.405000-08:00"
    }
   },
   "source": [
    "### Extract quantities of interest from series of `dd`'s"
   ]
  },
  {
   "cell_type": "code",
   "execution_count": null,
   "id": "0f5061cf-3406-456e-860d-13df739ba143",
   "metadata": {
    "tags": []
   },
   "outputs": [],
   "source": [
    "results = FUSE.extract(reshape(DD, length(DD)); filter_invalid=:none);"
   ]
  },
  {
   "cell_type": "markdown",
   "id": "48bd86da-cea5-4541-9df2-34ea1fab240a",
   "metadata": {},
   "source": [
    "### POPCON plots"
   ]
  },
  {
   "cell_type": "code",
   "execution_count": null,
   "id": "9011f2fa-bf29-4041-9d8f-40b2ae5082cb",
   "metadata": {
    "tags": []
   },
   "outputs": [],
   "source": [
    "all_plots = []\n",
    "for key in [:τe, :Pfusion, :Qfusion, :Paux_tot, :Prad_tot, :Psol]\n",
    "    results_ = reshape(getproperty(results, key), (length(T_scale_), length(n_scale_)))\n",
    "    p = contourf(T_scale_.*nominal[:Te0].value, n_scale_.*nominal[:fGW].value, abs.(results_'), levels=11, alpha=0.5)\n",
    "    plot!(p, grid=true, xlabel=\"T [kev]\", ylabel=\"fGW\", title=\"$(key) [$(nominal[key].units)]\")\n",
    "    push!(all_plots,p)\n",
    "end\n",
    "plot(all_plots..., size=(1200,550), bottom_margin=5 * Plots.Measures.mm, left_margin=5 * Plots.Measures.mm,)"
   ]
  },
  {
   "cell_type": "markdown",
   "id": "1670030c-75a4-4676-b4c5-00c8901d2cf6",
   "metadata": {},
   "source": [
    "## In depth view of one of the solutions"
   ]
  },
  {
   "cell_type": "code",
   "execution_count": null,
   "id": "d451833b-e7f2-44bf-96fc-9f46eabed566",
   "metadata": {},
   "outputs": [],
   "source": [
    "FUSE.digest(DD[4,2])"
   ]
  }
 ],
 "metadata": {
  "@webio": {
   "lastCommId": "e30e4ebc-4274-4503-a587-e4cb4b068c40",
   "lastKernelId": "ea8fc238-7816-4afa-8b55-c6a2673b8716"
  },
  "kernelspec": {
   "display_name": "Julia (8 threads) 1.10.5",
   "language": "julia",
   "name": "julia-_8-threads_-1.10"
  },
  "language_info": {
   "file_extension": ".jl",
   "mimetype": "application/julia",
   "name": "julia",
   "version": "1.10.5"
  }
 },
 "nbformat": 4,
 "nbformat_minor": 5
}
