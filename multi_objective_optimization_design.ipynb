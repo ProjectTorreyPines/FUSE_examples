{
 "cells": [
  {
   "cell_type": "code",
   "execution_count": null,
   "id": "8e6298c0-5bc5-4f47-a79a-e22189161136",
   "metadata": {
    "tags": []
   },
   "outputs": [],
   "source": [
    "using Revise\n",
    "@time using FUSE\n",
    "using Plots;"
   ]
  },
  {
   "cell_type": "markdown",
   "id": "994e8a7d-19c1-4f9d-9b5e-5b781950f984",
   "metadata": {},
   "source": [
    "## Setting up your workers on your cluster or local machine"
   ]
  },
  {
   "cell_type": "code",
   "execution_count": null,
   "id": "f52ff10b-2a16-4855-bce4-8edc35174396",
   "metadata": {
    "tags": []
   },
   "outputs": [],
   "source": [
    "workers = 2\n",
    "FUSE.parallel_environment(\"localhost\", workers) "
   ]
  },
  {
   "cell_type": "markdown",
   "id": "57a016ce-45b2-41fb-98ac-bb0d654cf11e",
   "metadata": {
    "execution": {
     "iopub.execute_input": "2024-08-22T11:34:11.121000-07:00",
     "iopub.status.busy": "2024-08-22T11:34:10.822000-07:00",
     "iopub.status.idle": "2024-08-22T11:34:12.162000-07:00",
     "shell.execute_reply": "2024-08-22T11:34:12.162000-07:00"
    },
    "tags": []
   },
   "source": [
    "#### The @everywhere command imports the packages on the workers"
   ]
  },
  {
   "cell_type": "code",
   "execution_count": null,
   "id": "43464e12-3354-46e7-886d-10a6d8c9ef03",
   "metadata": {
    "tags": []
   },
   "outputs": [],
   "source": [
    "using Distributed\n",
    "@everywhere using FUSE\n",
    "@everywhere using IMAS\n",
    "@everywhere import IJulia"
   ]
  },
  {
   "cell_type": "markdown",
   "id": "267ae3fa-7a91-464a-a94d-38abc925fad5",
   "metadata": {},
   "source": [
    "## Setting up your design space using ini"
   ]
  },
  {
   "cell_type": "code",
   "execution_count": null,
   "id": "b17e0771-9bd4-41e7-926e-1b7a69aafd49",
   "metadata": {
    "tags": []
   },
   "outputs": [],
   "source": [
    "ini,act = FUSE.case_parameters(:KDEMO);\n",
    "\n",
    "### Act settings\n",
    "act.ActorEquilibrium.model = :TEQUILA\n",
    "act.ActorCoreTransport.model = :FluxMatcher\n",
    "\n",
    "act.ActorPFdesign.model=:uniform\n",
    "act.ActorFluxSwing.operate_oh_at_j_crit = true # this maximizes flattop inside the fluxswing actor\n",
    "\n",
    "act.ActorWholeFacility.update_plasma = true\n",
    "act.ActorFluxMatcher.rho_transport = 0.2:0.05:0.8\n",
    "act.ActorFluxMatcher.evolve_densities = :flux_match\n",
    "act.ActorFluxMatcher.optimizer_algorithm = :anderson\n",
    "\n",
    "act.ActorPedestal.model = :EPED\n",
    "\n",
    "# This is handeled by the constraint funcitons\n",
    "act.ActorHFSsizing.error_on_performance = false\n",
    "act.ActorHFSsizing.error_on_technology = false\n",
    "act.ActorStabilityLimits.raise_on_breach = false\n",
    "### Ini settings\n",
    "\n",
    "ini.ec_launcher = FUSE.ParametersInits(;n_ec=1).ec_launcher\n",
    "\n",
    "ini.ec_launcher[1].power_launched = 1e7 ↔ [1e4,1e8]\n",
    "ini.ec_launcher[1].efficiency_conversion = 0.45\n",
    "ini.ec_launcher[1].efficiency_transmission = 0.8\n",
    "ini.ec_launcher[1].rho_0 = 0.5 \n",
    "\n",
    "ini.equilibrium.δ = 0.4 ↔ [0.0, 0.7]\n",
    "ini.equilibrium.ζ = 0.0 \n",
    "ini.equilibrium.κ =  1.65 ↔ [1.5,2.2]\n",
    "ini.equilibrium.B0 = ini.equilibrium.B0 ↔ [3.0, 15.0]\n",
    "ini.equilibrium.ip = ini.equilibrium.ip ↔ [4.0e6, 22e6]\n",
    "ini.equilibrium.R0 = ini.equilibrium.R0 ↔ [4.0, 10.0]\n",
    "ini.equilibrium.pressure_core = missing\n",
    "\n",
    "ini.tf.technology = :rebco   ↔ (:nb3sn_iter, :rebco)\n",
    "ini.oh.technology = :rebco  ↔ (:nb3sn_iter, :rebco)\n",
    "ini.pf_active.technology = :rebco  ↔ (:nb3sn_iter, :rebco)\n",
    "\n",
    "# Requirements\n",
    "ini.requirements.log10_flattop_duration = log10(3600.0)\n",
    "ini.requirements.power_electric_net = 250e6 # 250 +/- 50 MWe\n",
    "ini.requirements.tritium_breeding_ratio = 1.1\n",
    "ini.requirements.q95 = 4.0\n",
    "ini.requirements.beta_normal = 2.5\n",
    "ini.requirements.Psol_R = 15.\n",
    "\n",
    "ini.requirements.lh_power_threshold_fraction = 1.\n",
    "ini.requirements.coil_j_margin = 0.1\n",
    "ini.requirements.coil_stress_margin = 0.1"
   ]
  },
  {
   "cell_type": "markdown",
   "id": "4709d51f-2c63-46b3-ba15-453182ef5383",
   "metadata": {},
   "source": [
    "## Setting up the constraints and objectives"
   ]
  },
  {
   "cell_type": "code",
   "execution_count": null,
   "id": "64b0a0b7-3217-4d3e-8861-afd983fd81e7",
   "metadata": {
    "tags": []
   },
   "outputs": [],
   "source": [
    "IMAS.update_ObjectiveFunctionsLibrary!()\n",
    "IMAS.update_ConstraintFunctionsLibrary!()\n",
    "\n",
    "OFL = deepcopy(IMAS.ObjectiveFunctionsLibrary)\n",
    "CFL = deepcopy(IMAS.ConstraintFunctionsLibrary)\n",
    "objective_functions = [OFL[:min_capital_cost], OFL[:max_log10_flattop]]#, OFL[:max_q95]]\n",
    "\n",
    "constraint_functions = [\n",
    "    CFL[:required_power_electric_net],\n",
    "    CFL[:min_q95],\n",
    "    CFL[:max_βn],\n",
    "    CFL[:min_lh_power_threshold],\n",
    "    CFL[:max_Psol_R],\n",
    "    CFL[:max_tf_j],CFL[:max_oh_j],\n",
    "    CFL[:max_pl_stress],CFL[:max_tf_stress],CFL[:max_oh_stress]]\n",
    "\n",
    "println(\"== OBJECTIVE FUNCTIONS ==\")\n",
    "display(objective_functions)\n",
    "println()\n",
    "println(\"== CONSTRAINT FUNCTIONS ==\")\n",
    "display(constraint_functions)"
   ]
  },
  {
   "cell_type": "markdown",
   "id": "52ca6052-1291-474f-84ba-4f674d4daa0f",
   "metadata": {},
   "source": [
    "## Running the genetic constrainted multi objective optimization"
   ]
  },
  {
   "cell_type": "code",
   "execution_count": null,
   "id": "8b07009e-79e8-4603-825f-baa734f0f9e2",
   "metadata": {
    "tags": []
   },
   "outputs": [],
   "source": [
    "# define optimization genetic algorithm parameters\\\n",
    "\n",
    "# For real optimization studies the population size (N) and number of iterations should be bigger\n",
    "# eg. N=200, iterations=50\n",
    "population_size = 30\n",
    "number_of_generations = 10\n",
    "\n",
    "save_folder = nothing\n",
    "\n",
    "@assert save_folder !== nothing \"must add your folder to then analyze the results\"\n",
    "\n",
    "optimization_parameters = Dict(\n",
    "    :N => population_size, # even number\n",
    "    :iterations => number_of_generations,\n",
    "    :continue_state => nothing,\n",
    "    :save_folder => save_folder)\n",
    "\n",
    "state = FUSE.workflow_multiobjective_optimization(ini, act, FUSE.ActorWholeFacility, objective_functions, constraint_functions; optimization_parameters...);\n",
    "\n",
    "FUSE.save_optimization(\n",
    "    joinpath(save_folder, \"optimization_state.bson\"),\n",
    "    state,\n",
    "    ini,\n",
    "    act,\n",
    "    objective_functions,\n",
    "    constraint_functions)"
   ]
  },
  {
   "cell_type": "code",
   "execution_count": null,
   "id": "a47900f2-17ce-4d1a-b61d-d60903269a67",
   "metadata": {
    "tags": []
   },
   "outputs": [],
   "source": [
    "# Release your workers when you are done by running this\n",
    "Distributed.rmprocs(Distributed.workers())"
   ]
  }
 ],
 "metadata": {
  "kernelspec": {
   "display_name": "Julia 1.10.4",
   "language": "julia",
   "name": "julia-1.10"
  },
  "language_info": {
   "file_extension": ".jl",
   "mimetype": "application/julia",
   "name": "julia",
   "version": "1.10.4"
  }
 },
 "nbformat": 4,
 "nbformat_minor": 5
}
