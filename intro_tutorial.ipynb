{
 "cells": [
  {
   "cell_type": "markdown",
   "id": "535de3df-85b2-4105-8b18-d95e215b2adf",
   "metadata": {},
   "source": [
    "# Introductory tutorial"
   ]
  },
  {
   "cell_type": "markdown",
   "id": "4e6f9ef7-d75a-4926-ba7b-e50b25019bc3",
   "metadata": {
    "execution": {
     "iopub.execute_input": "2024-09-16T10:40:10.170000-07:00",
     "iopub.status.busy": "2024-09-16T10:40:09.662000-07:00",
     "iopub.status.idle": "2024-09-16T10:40:11.371000-07:00",
     "shell.execute_reply": "2024-09-16T10:40:11.370000-07:00"
    },
    "tags": []
   },
   "source": [
    "## To keep things consistent, tested, and accessible to a broader audience we maintain the introductory tutorial available as part of the [FUSE online documentation](https://fuse.help/dev/tutorial.html).\n",
    "\n",
    "## The Julia source of the tutorial can be [accessed here](https://github.com/ProjectTorreyPines/FUSE.jl/blob/master/docs/src/tutorial.jl)"
   ]
  }
 ],
 "metadata": {
  "@webio": {
   "lastCommId": "a782a072-97f2-4a29-be57-b636bd4af2f9",
   "lastKernelId": "786df1b8-4648-4980-b093-ff9853c6ef8b"
  },
  "kernelspec": {
   "display_name": "Julia (8 threads) 1.10.5",
   "language": "julia",
   "name": "julia-_8-threads_-1.10"
  },
  "language_info": {
   "file_extension": ".jl",
   "mimetype": "application/julia",
   "name": "julia",
   "version": "1.10.5"
  }
 },
 "nbformat": 4,
 "nbformat_minor": 5
}
