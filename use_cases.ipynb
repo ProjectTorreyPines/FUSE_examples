{
 "cells": [
  {
   "cell_type": "markdown",
   "id": "3b67e4fb-a8ed-47aa-bb9e-56f24a5cd4a4",
   "metadata": {},
   "source": [
    "# Use cases\n",
    "\n",
    "FUSE comes with a series of prebuilt [use-cases](https://fuse.help/dev/cases.html) that can be used as starting point to define new machines and run analyses.\n",
    "\n",
    "* Each use-case returns `ini` and `act` parameters.\n",
    "\n",
    "* Some use-cases accept keyword arguments that modify how the `ini` and `act` parameters are setup.\n",
    "\n",
    "* Refer to the online documentation and [source](https://github.com/ProjectTorreyPines/FUSE.jl/tree/master/src/cases) to see how each case is setup.\n",
    "\n",
    "* Some use-cases are used for regression testing. Below is a list of those:"
   ]
  },
  {
   "cell_type": "code",
   "execution_count": null,
   "id": "c5153e58-8e04-4b60-9104-5b4eaddddd6b",
   "metadata": {
    "tags": []
   },
   "outputs": [],
   "source": [
    "using FUSE\n",
    "using Plots\n",
    "\n",
    "println(\"FUSE use-cases and settings used for regression testing:\\n\")\n",
    "for (testname, (args, kw)) in FUSE.test_cases\n",
    "    kw_str = join([\"$k=$(repr(v))\" for (k, v) in kw], \", \")\n",
    "    println(\"ini, act = FUSE.case_parameters($(join(repr.(args), \", \")); $kw_str)\")\n",
    "end"
   ]
  },
  {
   "cell_type": "markdown",
   "id": "3c1729fd-8d4c-4cc3-b997-23ef0c836164",
   "metadata": {},
   "source": [
    "## Get ini and act  and initialize dd\n",
    "\n",
    "Feel free to copy-paste the `ini, act = FUSE.case_parameters(...)` lines above to see how FUSE behaves for different use-cases "
   ]
  },
  {
   "cell_type": "code",
   "execution_count": null,
   "id": "2c366e5e-035a-41aa-8a85-a922cf387a76",
   "metadata": {
    "tags": []
   },
   "outputs": [],
   "source": [
    "ini, act = FUSE.case_parameters(:ITER; init_from=:scalars)\n",
    "\n",
    "# Here one coul modify `ini` and `act` parameters\n",
    "#\n",
    "#act.ActorXYZ.some_parameter = new_value\n",
    "#ini.something.some_parameter = new_value\n",
    "\n",
    "chk = FUSE.Checkpoint()\n",
    "\n",
    "dd = IMAS.dd()\n",
    "FUSE.init(dd, ini, act);\n",
    "\n",
    "chk[:init] = dd, ini, act;"
   ]
  },
  {
   "cell_type": "markdown",
   "id": "0aa151ef-dfb3-45ef-ad3d-b22e6453996e",
   "metadata": {},
   "source": [
    "## Run actors\n",
    "\n",
    "Once `dd` has been initialized, `ini` does not have a role anymore.\n",
    "\n",
    "All actors always operate on `dd` alone and take parameters from `act`."
   ]
  },
  {
   "cell_type": "code",
   "execution_count": null,
   "id": "bd9913e0-8953-4a69-96b2-e5a3b8a92f06",
   "metadata": {
    "tags": []
   },
   "outputs": [],
   "source": [
    "dd, ini, act = chk[:init];\n",
    "\n",
    "act.ActorCoreTransport.model = :FluxMatcher;\n",
    "act.ActorFluxMatcher.evolve_densities = :flux_match;\n",
    "\n",
    "FUSE.ActorWholeFacility(dd,act);"
   ]
  },
  {
   "cell_type": "markdown",
   "id": "b0a59399-a048-470f-9cac-c32bbe2ef19d",
   "metadata": {},
   "source": [
    "## Visualize results"
   ]
  },
  {
   "cell_type": "code",
   "execution_count": null,
   "id": "a85576a2-aa4c-412d-a15d-59bea2e78c7e",
   "metadata": {
    "tags": []
   },
   "outputs": [],
   "source": [
    "FUSE.extract(dd)"
   ]
  },
  {
   "cell_type": "code",
   "execution_count": null,
   "id": "9e7bb895-df24-4236-97b2-a437c6b8b451",
   "metadata": {
    "tags": []
   },
   "outputs": [],
   "source": [
    "FUSE.plot_plasma_overview(dd)"
   ]
  },
  {
   "cell_type": "code",
   "execution_count": null,
   "id": "d74628b9-7475-4abe-8da9-985eb32ed738",
   "metadata": {
    "tags": []
   },
   "outputs": [],
   "source": [
    "FUSE.digest(dd)"
   ]
  }
 ],
 "metadata": {
  "kernelspec": {
   "display_name": "Julia (8 threads) 1.10.4",
   "language": "julia",
   "name": "julia-_8-threads_-1.10"
  },
  "language_info": {
   "file_extension": ".jl",
   "mimetype": "application/julia",
   "name": "julia",
   "version": "1.10.4"
  }
 },
 "nbformat": 4,
 "nbformat_minor": 5
}
